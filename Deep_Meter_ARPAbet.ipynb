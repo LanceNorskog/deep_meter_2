{
  "nbformat": 4,
  "nbformat_minor": 0,
  "metadata": {
    "colab": {
      "name": "Deep_Meter_ARPAbet.ipynb",
      "version": "0.3.2",
      "provenance": [],
      "collapsed_sections": []
    },
    "kernelspec": {
      "name": "python3",
      "display_name": "Python 3"
    },
    "accelerator": "GPU"
  },
  "cells": [
    {
      "metadata": {
        "colab_type": "text",
        "id": "co7MV6sX7Xto"
      },
      "cell_type": "markdown",
      "source": [
        "# [Keras + Universal Sentence Encoder = Deep Meter] (https://www.dlology.com/blog/keras-meets-universal-sentence-encoder-transfer-learning-for-text-data/) "
      ]
    },
    {
      "metadata": {
        "colab_type": "text",
        "id": "eAVQGidpL8v5"
      },
      "cell_type": "markdown",
      "source": [
        "This notebook creates an autoencoder using the Universal Sentence Encoder. The autoencoder output is CMUdict syllables. The dataset is that subset of Allison Parrish's Project Gutenberg poetry archive which happens to scan in iambic pentameter.\n",
        "\n",
        "The notebook is based on Chengwei Zhang's example of wrapping the USE inside a larger tensorflow model saves to a Keras model (without save the USE itself in the TF model).\n",
        "\n",
        "The Universal Sentence Encoder makes getting sentence level embeddings as easy as it has historically been to lookup the embeddings for individual words. The sentence embeddings can then be trivially used to compute sentence level meaning similarity as well as to enable better performance on downstream classification tasks using less supervised training data.\n",
        "\n",
        "Since there are 10 one-hot values for 10 sets of 6k syllables, this is \"multi-label classification\"\n",
        "Changes for multi-label classification:\n",
        "sigmoid activation instead of softmax\n",
        "binary_crossentropy\n",
        "\n",
        "Text format is tab-separated, 2 columns: first text, second multi-level\n",
        "array of syllables:\n",
        "\n",
        "Multi-output version\n",
        "\n",
        "Use ARPAbet directly instead of syllables"
      ]
    },
    {
      "metadata": {
        "colab_type": "text",
        "id": "pOTzp8O36CyQ"
      },
      "cell_type": "markdown",
      "source": [
        "# Getting Started\n",
        "\n",
        "This section sets up the environment for access to the Universal Sentence Encoder on TF Hub and provides examples of applying the encoder to words, sentences, and paragraphs."
      ]
    },
    {
      "metadata": {
        "colab_type": "code",
        "id": "lVjNK8shFKOC",
        "outputId": "10a05d08-e103-4a76-f169-4e1de1c347d0",
        "colab": {
          "base_uri": "https://localhost:8080/",
          "height": 102
        }
      },
      "cell_type": "code",
      "source": [
        "# Install the latest Tensorflow version.\n",
        "#!pip3 install --quiet \"tensorflow>=1.7\"\n",
        "# Install TF-Hub.\n",
        "#!pip3 install --quiet tensorflow-hub\n",
        "#%cd /content\n",
        "!git clone https://github.com/LanceNorskog/deep_meter || true\n",
        "%cd /content/deep_meter\n",
        "!git pull\n",
        "# could not figure out how to read gzipped files as text!\n",
        "!gunzip -qf blobs/*.gz || true\n",
        "!gunzip -qf prepped_data/*.gz || true"
      ],
      "execution_count": 1,
      "outputs": [
        {
          "output_type": "stream",
          "text": [
            "fatal: destination path 'deep_meter' already exists and is not an empty directory.\n",
            "/content/deep_meter\n",
            "Already up to date.\n",
            "gzip: blobs/*.gz: No such file or directory\n",
            "gzip: prepped_data/*.gz: No such file or directory\n"
          ],
          "name": "stdout"
        }
      ]
    },
    {
      "metadata": {
        "colab_type": "code",
        "id": "MSeY-MUQo2Ha",
        "outputId": "7d0b5e37-aeb5-4fb1-8a91-91154908188b",
        "colab": {
          "base_uri": "https://localhost:8080/",
          "height": 34
        }
      },
      "cell_type": "code",
      "source": [
        "# boilerplate from base notebook\n",
        "import tensorflow as tf\n",
        "import tensorflow_hub as hub\n",
        "import matplotlib.pyplot as plt\n",
        "import numpy as np\n",
        "import os\n",
        "import pandas as pd\n",
        "import re\n",
        "import seaborn as sns\n",
        "import keras.layers as layers\n",
        "from keras.models import Model\n",
        "from keras import backend as K\n",
        "from keras.callbacks import EarlyStopping, ModelCheckpoint\n",
        "from tensorflow.keras.optimizers import Nadam, Adam\n",
        "import gc\n",
        "from google.colab import files\n",
        "from google.colab import drive\n",
        "\n",
        "import pickle\n",
        "np.random.seed(10)"
      ],
      "execution_count": 2,
      "outputs": [
        {
          "output_type": "stream",
          "text": [
            "Using TensorFlow backend.\n"
          ],
          "name": "stderr"
        }
      ]
    },
    {
      "metadata": {
        "colab_type": "code",
        "id": "feBc_8Y-pt6F",
        "colab": {}
      },
      "cell_type": "code",
      "source": [
        "# github deep_meter code\n",
        "import utils\n",
        "# should not need this to use utils.flatten but is true anyway?\n",
        "from itertools import chain, product\n",
        "import subprocess\n",
        "import arpabets\n",
        "import decodewords\n",
        "import cmudict\n",
        "import readprepped\n",
        "# misc for this notebook\n",
        "from ast import literal_eval\n",
        "\n",
        "import scipy\n"
      ],
      "execution_count": 0,
      "outputs": []
    },
    {
      "metadata": {
        "colab_type": "code",
        "id": "zwty8Z6mAkdV",
        "colab": {}
      },
      "cell_type": "code",
      "source": [
        "module_url = \"https://tfhub.dev/google/universal-sentence-encoder-large/3\" #@param [\"https://tfhub.dev/google/universal-sentence-encoder/2\", \"https://tfhub.dev/google/universal-sentence-encoder-large/3\"]"
      ],
      "execution_count": 0,
      "outputs": []
    },
    {
      "metadata": {
        "colab_type": "code",
        "id": "FwAQNy1eMDkQ",
        "colab": {}
      },
      "cell_type": "code",
      "source": [
        "# read classified poetry lines: text tab [['syll', 'la', 'ble'], ...]\n",
        "# clip to only most common syllables with syllable manager\n",
        "# ['words', ...], [[[0,0,1,0], ...]]\n",
        "def get_data(filename, arpabet_mgr, num_symbols, max_lines=1000000):\n",
        "    stop_arpabet = 0\n",
        "    num_arpabets = arpabet_mgr.get_size()      \n",
        "    lines = open(filename, 'r').read().splitlines()\n",
        "    num_lines = min(max_lines, len(lines))\n",
        "    text_lines = []\n",
        "    text_arpabets = []\n",
        "    for i in range(0, len(lines)):\n",
        "      if i == num_lines:\n",
        "        break\n",
        "      parts = lines[i].split(\"\\t\")\n",
        "      syllables = literal_eval(parts[1])\n",
        "      #print(syllables)\n",
        "      arpas = []\n",
        "      for s in syllables:\n",
        "        for p in s:\n",
        "          for x in p.split(' '):\n",
        "            arpas.append(x)\n",
        "      #print(arpas)\n",
        "      if len(arpas) < num_symbols:\n",
        "        text_lines.append(str(parts[0]))\n",
        "        text_arpabets.append(arpas)\n",
        "    num_lines = len(text_lines)\n",
        "    label_array = np.zeros((num_symbols, num_lines, num_arpabets), dtype=np.int8)\n",
        "    for i in range(0, num_lines):\n",
        "      for j in range(num_symbols):\n",
        "        label_array[j][i][stop_arpabet] = 1\n",
        "        # variable-length list of syllables\n",
        "        if j < len(text_arpabets[i]):\n",
        "          enc = arpabet_mgr.get_encoding(text_arpabets[i][j])\n",
        "          if enc >= 0 and enc < num_arpabets:\n",
        "            label_array[j][i][enc] = 1\n",
        "            label_array[j][i][stop_arpabet] = 0\n",
        "\n",
        "    return (text_lines, label_array)\n"
      ],
      "execution_count": 0,
      "outputs": []
    },
    {
      "metadata": {
        "colab_type": "code",
        "id": "3HAtd4X5DayF",
        "colab": {
          "base_uri": "https://localhost:8080/",
          "height": 54
        },
        "outputId": "68586718-1181-4228-f45a-9787435d81f8"
      },
      "cell_type": "code",
      "source": [
        "# arpabets in descending order of occurrence - \n",
        "# ARPAbet phonemes + stop + pause\n",
        "# iambic pentameter\n",
        "meter_syllables = 10\n",
        "num_symbols = 4 * meter_syllables\n",
        "arpabets_mgr = arpabets.arpabets()\n",
        "num_arpabets = arpabets_mgr.get_size() \n",
        "arpabets_weights = {}\n",
        "counts = arpabets_mgr.get_counts()\n",
        "maxim = np.max(counts)\n",
        "for i in range(len(counts)):\n",
        "  if counts[i] > 0:\n",
        "    arpabets_weights[i] = 1/(counts[i]/maxim)\n",
        "  else:\n",
        "    arpabets_weights[i] = 0\n",
        "\n",
        "print(arpabets_weights)"
      ],
      "execution_count": 6,
      "outputs": [
        {
          "output_type": "stream",
          "text": [
            "{0: 0, 1: 0, 2: 1.0, 3: 1.2445861272947125, 4: 1.5197315436241612, 5: 1.5209564750134337, 6: 1.5881610324028617, 7: 1.7561656584457885, 8: 1.8720238095238095, 9: 2.0694571376348017, 10: 2.2044392523364484, 11: 2.43745963401507, 12: 2.8447236180904523, 13: 3.42571860816944, 14: 3.814690026954178, 15: 3.8510204081632655, 16: 3.9810126582278484, 17: 4.132116788321168, 18: 4.1701657458563535, 19: 4.319725295688668, 20: 4.45748031496063, 21: 4.933333333333333, 22: 4.95059029296021, 23: 4.959264126149803, 24: 5.501457725947522, 25: 5.588351431391906, 26: 5.788343558282208, 27: 5.827071538857437, 28: 5.918452692106639, 29: 7.409685863874346, 30: 7.797520661157026, 31: 9.819601040763226, 32: 15.055851063829786, 33: 15.197315436241611, 34: 16.923766816143498, 35: 19.42024013722127, 36: 20.003533568904594, 37: 25.328859060402685, 38: 34.94444444444444, 39: 59.904761904761905, 40: 205.85454545454544}\n"
          ],
          "name": "stdout"
        }
      ]
    },
    {
      "metadata": {
        "colab_type": "code",
        "id": "eN9aqig-QpDZ",
        "outputId": "b86e5519-5a95-43e9-f61c-818b3e53f6cd",
        "colab": {
          "base_uri": "https://localhost:8080/",
          "height": 85
        }
      },
      "cell_type": "code",
      "source": [
        "(train_text, train_label) = get_data('prepped_data/gutenberg.iambic_pentameter.train', arpabets_mgr, num_symbols, max_lines=45000)\n",
        "print(len(train_text))\n",
        "print(train_label.shape)\n",
        "\n",
        "(test_text, test_label) = get_data('prepped_data/gutenberg.iambic_pentameter.test', arpabets_mgr, num_symbols)\n",
        "print(len(test_text))\n",
        "print(test_label.shape)"
      ],
      "execution_count": 7,
      "outputs": [
        {
          "output_type": "stream",
          "text": [
            "45000\n",
            "(40, 45000, 41)\n",
            "4474\n",
            "(40, 4474, 41)\n"
          ],
          "name": "stdout"
        }
      ]
    },
    {
      "metadata": {
        "colab_type": "text",
        "id": "Sf9A4Xl6J7c6"
      },
      "cell_type": "markdown",
      "source": [
        "## Embed training & test text"
      ]
    },
    {
      "metadata": {
        "id": "mbJCx9vzwrF9",
        "colab_type": "code",
        "outputId": "8cbe68ed-5126-49d4-cd05-e91b23bf6f34",
        "colab": {
          "base_uri": "https://localhost:8080/",
          "height": 102
        }
      },
      "cell_type": "code",
      "source": [
        "# Import the Universal Sentence Encoder's TF Hub module\n",
        "embed = hub.Module(module_url)\n",
        "# important?\n",
        "embed_size = embed.get_output_info_dict()['default'].get_shape()[1].value\n",
        "\n",
        "# Reduce logging output.\n",
        "tf.logging.set_verbosity(tf.logging.ERROR)\n",
        "print(type(train_text))\n",
        "#train_text_t = tf.convert_to_tensor(train_text, dtype='string', name='training_text')\n",
        "with tf.Session() as session:\n",
        "  session.run([tf.global_variables_initializer(), tf.tables_initializer()])\n",
        "  train_embeddings = session.run(embed(train_text))\n",
        "  test_embeddings = session.run(embed(test_text))\n",
        "train_text_d = np.array(train_embeddings)\n",
        "test_text_d = np.array(test_embeddings)\n",
        "print(train_text_d.shape)\n",
        "print(test_text_d.shape)\n",
        "# conserve space\n",
        "embed = None\n",
        "train_text = None\n",
        "train_embeddings = None\n",
        "K.clear_session()\n",
        "gc.collect()\n"
      ],
      "execution_count": 8,
      "outputs": [
        {
          "output_type": "stream",
          "text": [
            "INFO:tensorflow:Using /tmp/tfhub_modules to cache modules.\n",
            "<class 'list'>\n",
            "(45000, 512)\n",
            "(4474, 512)\n"
          ],
          "name": "stdout"
        },
        {
          "output_type": "execute_result",
          "data": {
            "text/plain": [
              "0"
            ]
          },
          "metadata": {
            "tags": []
          },
          "execution_count": 8
        }
      ]
    },
    {
      "metadata": {
        "colab_type": "code",
        "id": "-mQUV_7dIm-9",
        "outputId": "0cb44b67-a5f2-4078-b31b-dd77555d82a9",
        "colab": {
          "base_uri": "https://localhost:8080/",
          "height": 34
        }
      },
      "cell_type": "code",
      "source": [
        "print(test_text_d.shape)\n",
        "# slow\n",
        "num_epochs = 50\n",
        "adam_0001 = Adam(0.001)\n",
        "adam_0001 = tf.contrib.opt.NadamOptimizer(0.005)"
      ],
      "execution_count": 9,
      "outputs": [
        {
          "output_type": "stream",
          "text": [
            "(4474, 512)\n"
          ],
          "name": "stdout"
        }
      ]
    },
    {
      "metadata": {
        "colab_type": "text",
        "id": "qX2rBOuxDP1m"
      },
      "cell_type": "markdown",
      "source": [
        "## Assemble model"
      ]
    },
    {
      "metadata": {
        "colab_type": "code",
        "id": "t3fllZkVjXKV",
        "outputId": "e32b4a60-0fa4-4e0d-9e2e-52c3dbf81001",
        "colab": {
          "base_uri": "https://localhost:8080/",
          "height": 1598
        }
      },
      "cell_type": "code",
      "source": [
        "dropout=0.5\n",
        "input_embeddings = layers.Input(shape=(512,), dtype=tf.float32, name='Input')\n",
        "dropout_input = layers.Dropout(dropout)(input_embeddings)\n",
        "dense = layers.Dense(1024, activation='relu', name='Convoluted')(dropout_input)\n",
        "dense = layers.Dropout(dropout)(input_embeddings)\n",
        "dense = layers.Dense(2048, activation='relu', name='Midway')(dense)\n",
        "dense = layers.Dropout(dropout)(input_embeddings)\n",
        "dense = layers.Dense(4096, activation='relu', name='Smooth')(dense)\n",
        "pred_array = []\n",
        "loss_array = []\n",
        "names_array = []\n",
        "for i in range(num_symbols):\n",
        "  name = 'Flatout'+\"{:0>2d}\".format(i)\n",
        "  pred_array.append(layers.Dense(num_arpabets, activation='softmax', name=name)(dense))\n",
        "  loss_array.append('categorical_crossentropy')\n",
        "  names_array.append(name)\n",
        "model = Model(inputs=input_embeddings, outputs=pred_array)\n",
        "model.compile(loss=loss_array, \n",
        "              optimizer=adam_0001, \n",
        "              metrics=['categorical_accuracy'])\n",
        "model.summary()"
      ],
      "execution_count": 10,
      "outputs": [
        {
          "output_type": "stream",
          "text": [
            "__________________________________________________________________________________________________\n",
            "Layer (type)                    Output Shape         Param #     Connected to                     \n",
            "==================================================================================================\n",
            "Input (InputLayer)              (None, 512)          0                                            \n",
            "__________________________________________________________________________________________________\n",
            "dropout_3 (Dropout)             (None, 512)          0           Input[0][0]                      \n",
            "__________________________________________________________________________________________________\n",
            "Smooth (Dense)                  (None, 4096)         2101248     dropout_3[0][0]                  \n",
            "__________________________________________________________________________________________________\n",
            "Flatout00 (Dense)               (None, 41)           167977      Smooth[0][0]                     \n",
            "__________________________________________________________________________________________________\n",
            "Flatout01 (Dense)               (None, 41)           167977      Smooth[0][0]                     \n",
            "__________________________________________________________________________________________________\n",
            "Flatout02 (Dense)               (None, 41)           167977      Smooth[0][0]                     \n",
            "__________________________________________________________________________________________________\n",
            "Flatout03 (Dense)               (None, 41)           167977      Smooth[0][0]                     \n",
            "__________________________________________________________________________________________________\n",
            "Flatout04 (Dense)               (None, 41)           167977      Smooth[0][0]                     \n",
            "__________________________________________________________________________________________________\n",
            "Flatout05 (Dense)               (None, 41)           167977      Smooth[0][0]                     \n",
            "__________________________________________________________________________________________________\n",
            "Flatout06 (Dense)               (None, 41)           167977      Smooth[0][0]                     \n",
            "__________________________________________________________________________________________________\n",
            "Flatout07 (Dense)               (None, 41)           167977      Smooth[0][0]                     \n",
            "__________________________________________________________________________________________________\n",
            "Flatout08 (Dense)               (None, 41)           167977      Smooth[0][0]                     \n",
            "__________________________________________________________________________________________________\n",
            "Flatout09 (Dense)               (None, 41)           167977      Smooth[0][0]                     \n",
            "__________________________________________________________________________________________________\n",
            "Flatout10 (Dense)               (None, 41)           167977      Smooth[0][0]                     \n",
            "__________________________________________________________________________________________________\n",
            "Flatout11 (Dense)               (None, 41)           167977      Smooth[0][0]                     \n",
            "__________________________________________________________________________________________________\n",
            "Flatout12 (Dense)               (None, 41)           167977      Smooth[0][0]                     \n",
            "__________________________________________________________________________________________________\n",
            "Flatout13 (Dense)               (None, 41)           167977      Smooth[0][0]                     \n",
            "__________________________________________________________________________________________________\n",
            "Flatout14 (Dense)               (None, 41)           167977      Smooth[0][0]                     \n",
            "__________________________________________________________________________________________________\n",
            "Flatout15 (Dense)               (None, 41)           167977      Smooth[0][0]                     \n",
            "__________________________________________________________________________________________________\n",
            "Flatout16 (Dense)               (None, 41)           167977      Smooth[0][0]                     \n",
            "__________________________________________________________________________________________________\n",
            "Flatout17 (Dense)               (None, 41)           167977      Smooth[0][0]                     \n",
            "__________________________________________________________________________________________________\n",
            "Flatout18 (Dense)               (None, 41)           167977      Smooth[0][0]                     \n",
            "__________________________________________________________________________________________________\n",
            "Flatout19 (Dense)               (None, 41)           167977      Smooth[0][0]                     \n",
            "__________________________________________________________________________________________________\n",
            "Flatout20 (Dense)               (None, 41)           167977      Smooth[0][0]                     \n",
            "__________________________________________________________________________________________________\n",
            "Flatout21 (Dense)               (None, 41)           167977      Smooth[0][0]                     \n",
            "__________________________________________________________________________________________________\n",
            "Flatout22 (Dense)               (None, 41)           167977      Smooth[0][0]                     \n",
            "__________________________________________________________________________________________________\n",
            "Flatout23 (Dense)               (None, 41)           167977      Smooth[0][0]                     \n",
            "__________________________________________________________________________________________________\n",
            "Flatout24 (Dense)               (None, 41)           167977      Smooth[0][0]                     \n",
            "__________________________________________________________________________________________________\n",
            "Flatout25 (Dense)               (None, 41)           167977      Smooth[0][0]                     \n",
            "__________________________________________________________________________________________________\n",
            "Flatout26 (Dense)               (None, 41)           167977      Smooth[0][0]                     \n",
            "__________________________________________________________________________________________________\n",
            "Flatout27 (Dense)               (None, 41)           167977      Smooth[0][0]                     \n",
            "__________________________________________________________________________________________________\n",
            "Flatout28 (Dense)               (None, 41)           167977      Smooth[0][0]                     \n",
            "__________________________________________________________________________________________________\n",
            "Flatout29 (Dense)               (None, 41)           167977      Smooth[0][0]                     \n",
            "__________________________________________________________________________________________________\n",
            "Flatout30 (Dense)               (None, 41)           167977      Smooth[0][0]                     \n",
            "__________________________________________________________________________________________________\n",
            "Flatout31 (Dense)               (None, 41)           167977      Smooth[0][0]                     \n",
            "__________________________________________________________________________________________________\n",
            "Flatout32 (Dense)               (None, 41)           167977      Smooth[0][0]                     \n",
            "__________________________________________________________________________________________________\n",
            "Flatout33 (Dense)               (None, 41)           167977      Smooth[0][0]                     \n",
            "__________________________________________________________________________________________________\n",
            "Flatout34 (Dense)               (None, 41)           167977      Smooth[0][0]                     \n",
            "__________________________________________________________________________________________________\n",
            "Flatout35 (Dense)               (None, 41)           167977      Smooth[0][0]                     \n",
            "__________________________________________________________________________________________________\n",
            "Flatout36 (Dense)               (None, 41)           167977      Smooth[0][0]                     \n",
            "__________________________________________________________________________________________________\n",
            "Flatout37 (Dense)               (None, 41)           167977      Smooth[0][0]                     \n",
            "__________________________________________________________________________________________________\n",
            "Flatout38 (Dense)               (None, 41)           167977      Smooth[0][0]                     \n",
            "__________________________________________________________________________________________________\n",
            "Flatout39 (Dense)               (None, 41)           167977      Smooth[0][0]                     \n",
            "==================================================================================================\n",
            "Total params: 8,820,328\n",
            "Trainable params: 8,820,328\n",
            "Non-trainable params: 0\n",
            "__________________________________________________________________________________________________\n"
          ],
          "name": "stdout"
        }
      ]
    },
    {
      "metadata": {
        "colab_type": "text",
        "id": "bqcRy_JWXe0u"
      },
      "cell_type": "markdown",
      "source": [
        "## Train Keras model and save weights\n",
        "This only trains and save our Keras layers not the embed module' weights."
      ]
    },
    {
      "metadata": {
        "colab_type": "code",
        "id": "_stfC_7VFhS8",
        "outputId": "1fb60077-737b-4c7a-bd79-40365210a6eb",
        "colab": {
          "base_uri": "https://localhost:8080/",
          "height": 122
        }
      },
      "cell_type": "code",
      "source": [
        "use_saved_model=True\n",
        "\n",
        "print(train_label.shape)\n",
        "if not use_saved_model or not os.path.exists('./model.h5'):\n",
        "  with tf.Session() as session:\n",
        "    K.set_session(session)\n",
        "    session.run(tf.global_variables_initializer())\n",
        "    session.run(tf.tables_initializer())\n",
        "    train_labels = []\n",
        "    test_labels = []\n",
        "    for i in range(num_symbols):\n",
        "        train_labels.append(np.array(train_label[i]))\n",
        "        test_labels.append(np.array(test_label[i]))\n",
        "    history = model.fit(train_text_d, \n",
        "            train_labels,\n",
        "            validation_data=(test_text_d, test_labels),\n",
        "            epochs=num_epochs,\n",
        "            #callbacks = [EarlyStopping(patience=2)],\n",
        "            batch_size=32,\n",
        "            class_weight=arpabets_weights,\n",
        "            verbose=2\n",
        "            )\n",
        "    model.save_weights('./model.h5')\n"
      ],
      "execution_count": 0,
      "outputs": [
        {
          "output_type": "stream",
          "text": [
            "(40, 45000, 41)\n",
            "Train on 45000 samples, validate on 4474 samples\n",
            "Epoch 1/50\n",
            " - 125s - loss: 90.3715 - Flatout00_loss: 1.4319 - Flatout01_loss: 1.6888 - Flatout02_loss: 2.4626 - Flatout03_loss: 3.3143 - Flatout04_loss: 3.2718 - Flatout05_loss: 3.1429 - Flatout06_loss: 3.0981 - Flatout07_loss: 3.2801 - Flatout08_loss: 3.4039 - Flatout09_loss: 3.4119 - Flatout10_loss: 3.3521 - Flatout11_loss: 3.2810 - Flatout12_loss: 3.2900 - Flatout13_loss: 3.3365 - Flatout14_loss: 3.3616 - Flatout15_loss: 3.3431 - Flatout16_loss: 3.3098 - Flatout17_loss: 3.3070 - Flatout18_loss: 3.3319 - Flatout19_loss: 3.3534 - Flatout20_loss: 3.3655 - Flatout21_loss: 3.3664 - Flatout22_loss: 3.3783 - Flatout23_loss: 3.3652 - Flatout24_loss: 3.2918 - Flatout25_loss: 3.0709 - Flatout26_loss: 2.6747 - Flatout27_loss: 2.1436 - Flatout28_loss: 1.5673 - Flatout29_loss: 1.0442 - Flatout30_loss: 0.6287 - Flatout31_loss: 0.3538 - Flatout32_loss: 0.1799 - Flatout33_loss: 0.0847 - Flatout34_loss: 0.0399 - Flatout35_loss: 0.0169 - Flatout36_loss: 0.0094 - Flatout37_loss: 0.0068 - Flatout38_loss: 0.0057 - Flatout39_loss: 0.0053 - Flatout00_categorical_accuracy: 0.5660 - Flatout01_categorical_accuracy: 0.5323 - Flatout02_categorical_accuracy: 0.3522 - Flatout03_categorical_accuracy: 0.0892 - Flatout04_categorical_accuracy: 0.0966 - Flatout05_categorical_accuracy: 0.1402 - Flatout06_categorical_accuracy: 0.1649 - Flatout07_categorical_accuracy: 0.1121 - Flatout08_categorical_accuracy: 0.0728 - Flatout09_categorical_accuracy: 0.0718 - Flatout10_categorical_accuracy: 0.0935 - Flatout11_categorical_accuracy: 0.1197 - Flatout12_categorical_accuracy: 0.1100 - Flatout13_categorical_accuracy: 0.0969 - Flatout14_categorical_accuracy: 0.0857 - Flatout15_categorical_accuracy: 0.0927 - Flatout16_categorical_accuracy: 0.1089 - Flatout17_categorical_accuracy: 0.1133 - Flatout18_categorical_accuracy: 0.1038 - Flatout19_categorical_accuracy: 0.0959 - Flatout20_categorical_accuracy: 0.0904 - Flatout21_categorical_accuracy: 0.0919 - Flatout22_categorical_accuracy: 0.0899 - Flatout23_categorical_accuracy: 0.0944 - Flatout24_categorical_accuracy: 0.1365 - Flatout25_categorical_accuracy: 0.2404 - Flatout26_categorical_accuracy: 0.3879 - Flatout27_categorical_accuracy: 0.5473 - Flatout28_categorical_accuracy: 0.6977 - Flatout29_categorical_accuracy: 0.8175 - Flatout30_categorical_accuracy: 0.9004 - Flatout31_categorical_accuracy: 0.9492 - Flatout32_categorical_accuracy: 0.9767 - Flatout33_categorical_accuracy: 0.9902 - Flatout34_categorical_accuracy: 0.9957 - Flatout35_categorical_accuracy: 0.9983 - Flatout36_categorical_accuracy: 0.9989 - Flatout37_categorical_accuracy: 0.9991 - Flatout38_categorical_accuracy: 0.9993 - Flatout39_categorical_accuracy: 0.9993 - val_loss: 88.7042 - val_Flatout00_loss: 1.1670 - val_Flatout01_loss: 1.4261 - val_Flatout02_loss: 2.2559 - val_Flatout03_loss: 3.2225 - val_Flatout04_loss: 3.1928 - val_Flatout05_loss: 3.0845 - val_Flatout06_loss: 3.0421 - val_Flatout07_loss: 3.2371 - val_Flatout08_loss: 3.3682 - val_Flatout09_loss: 3.3743 - val_Flatout10_loss: 3.3335 - val_Flatout11_loss: 3.2445 - val_Flatout12_loss: 3.2846 - val_Flatout13_loss: 3.3213 - val_Flatout14_loss: 3.3338 - val_Flatout15_loss: 3.2990 - val_Flatout16_loss: 3.2877 - val_Flatout17_loss: 3.2985 - val_Flatout18_loss: 3.3246 - val_Flatout19_loss: 3.3423 - val_Flatout20_loss: 3.3402 - val_Flatout21_loss: 3.3394 - val_Flatout22_loss: 3.3318 - val_Flatout23_loss: 3.3354 - val_Flatout24_loss: 3.2619 - val_Flatout25_loss: 3.0464 - val_Flatout26_loss: 2.6256 - val_Flatout27_loss: 2.1096 - val_Flatout28_loss: 1.5380 - val_Flatout29_loss: 1.0033 - val_Flatout30_loss: 0.6210 - val_Flatout31_loss: 0.3438 - val_Flatout32_loss: 0.1780 - val_Flatout33_loss: 0.0998 - val_Flatout34_loss: 0.0451 - val_Flatout35_loss: 0.0172 - val_Flatout36_loss: 0.0122 - val_Flatout37_loss: 0.0115 - val_Flatout38_loss: 0.0033 - val_Flatout39_loss: 1.4780e-04 - val_Flatout00_categorical_accuracy: 0.6582 - val_Flatout01_categorical_accuracy: 0.6229 - val_Flatout02_categorical_accuracy: 0.4086 - val_Flatout03_categorical_accuracy: 0.1120 - val_Flatout04_categorical_accuracy: 0.1106 - val_Flatout05_categorical_accuracy: 0.1547 - val_Flatout06_categorical_accuracy: 0.1748 - val_Flatout07_categorical_accuracy: 0.1189 - val_Flatout08_categorical_accuracy: 0.0861 - val_Flatout09_categorical_accuracy: 0.0740 - val_Flatout10_categorical_accuracy: 0.0979 - val_Flatout11_categorical_accuracy: 0.1236 - val_Flatout12_categorical_accuracy: 0.1135 - val_Flatout13_categorical_accuracy: 0.1037 - val_Flatout14_categorical_accuracy: 0.0903 - val_Flatout15_categorical_accuracy: 0.0914 - val_Flatout16_categorical_accuracy: 0.1211 - val_Flatout17_categorical_accuracy: 0.1129 - val_Flatout18_categorical_accuracy: 0.1021 - val_Flatout19_categorical_accuracy: 0.0894 - val_Flatout20_categorical_accuracy: 0.1042 - val_Flatout21_categorical_accuracy: 0.0847 - val_Flatout22_categorical_accuracy: 0.0943 - val_Flatout23_categorical_accuracy: 0.1077 - val_Flatout24_categorical_accuracy: 0.1424 - val_Flatout25_categorical_accuracy: 0.2383 - val_Flatout26_categorical_accuracy: 0.3945 - val_Flatout27_categorical_accuracy: 0.5514 - val_Flatout28_categorical_accuracy: 0.7041 - val_Flatout29_categorical_accuracy: 0.8214 - val_Flatout30_categorical_accuracy: 0.8999 - val_Flatout31_categorical_accuracy: 0.9513 - val_Flatout32_categorical_accuracy: 0.9765 - val_Flatout33_categorical_accuracy: 0.9873 - val_Flatout34_categorical_accuracy: 0.9953 - val_Flatout35_categorical_accuracy: 0.9984 - val_Flatout36_categorical_accuracy: 0.9991 - val_Flatout37_categorical_accuracy: 0.9991 - val_Flatout38_categorical_accuracy: 0.9998 - val_Flatout39_categorical_accuracy: 1.0000\n",
            "Epoch 2/50\n"
          ],
          "name": "stdout"
        }
      ]
    },
    {
      "metadata": {
        "colab_type": "code",
        "id": "UW1CiBhnXnxa",
        "outputId": "5b1a0804-a027-4b11-eec7-3a6f36dfc535",
        "colab": {
          "base_uri": "https://localhost:8080/",
          "height": 306
        }
      },
      "cell_type": "code",
      "source": [
        "!ls -l | grep model.h5\n",
        "\n",
        "drive.mount('/content/gdrive')\n",
        "!ls /content/gdrive/'My Drive'/'Colab Notebooks'\n",
        "\n",
        "!cp model.h5 /content/gdrive/My\\ Drive/Colab\\ Notebooks/model.h5\n"
      ],
      "execution_count": 12,
      "outputs": [
        {
          "output_type": "stream",
          "text": [
            "-rw-r--r-- 1 root root 35407584 Nov  7 06:39 model.h5\n",
            "Drive already mounted at /content/gdrive; to attempt to forcibly remount, call drive.mount(\"/content/gdrive\", force_remount=True).\n",
            "'Copy of Interactive textgenrnn Demo w  GPU'\n",
            "'Copy of Semantic Similarity with TF-Hub Universal Encoder'\n",
            "'Copy of Semantic Similarity with TF-Hub Universal Encoder Lite'\n",
            "'Copy of The Annotated \"Attention is All You Need\".ipynb'\n",
            "'Copy of Transfer Learning - Semantic Similarity with TF-Hub Universal Encoder'\n",
            "'Copy of Transfer Learning - Semantic Similarity with TF-Hub Universal Encoder (1)'\n",
            " data\n",
            " Deep_Meter_ARPAbet.ipynb\n",
            "'Deep Meter: Keras + Universal Sentence Encoder + CMUdict + Project Gutenberg poetry archives'\n",
            " Deep_Meter_Multi.ipynb\n",
            "'Example: Keras with TF-Hub Universal Encoder'\n",
            " model.h5\n",
            " predictions.pkl\n",
            "'Sloan 1'\n",
            " Untitled0.ipynb\n"
          ],
          "name": "stdout"
        }
      ]
    },
    {
      "metadata": {
        "id": "4wNlk688_P-V",
        "colab_type": "code",
        "colab": {}
      },
      "cell_type": "code",
      "source": [
        "# summarize history for accuracy\n",
        "plt.plot(history.history['acc'])\n",
        "plt.plot(history.history['val_acc'])\n",
        "plt.title('model accuracy')\n",
        "plt.ylabel('accuracy')\n",
        "plt.xlabel('epoch')\n",
        "plt.legend(['train', 'test'], loc='upper left')\n",
        "plt.show()\n"
      ],
      "execution_count": 0,
      "outputs": []
    },
    {
      "metadata": {
        "id": "7E_g_Tnd_QVw",
        "colab_type": "code",
        "colab": {}
      },
      "cell_type": "code",
      "source": [
        "# summarize history for loss\n",
        "plt.plot(history.history['loss'])\n",
        "plt.plot(history.history['val_loss'])\n",
        "plt.title('model loss')\n",
        "plt.ylabel('loss')\n",
        "plt.xlabel('epoch')\n",
        "plt.legend(['train', 'test'], loc='upper left')\n",
        "plt.show()"
      ],
      "execution_count": 0,
      "outputs": []
    },
    {
      "metadata": {
        "colab_type": "text",
        "id": "nQux6qLdXabG"
      },
      "cell_type": "markdown",
      "source": [
        "## Make predictions"
      ]
    },
    {
      "metadata": {
        "colab_type": "code",
        "id": "fSDxetlfUEiD",
        "outputId": "7caca0a3-d630-48c4-a4a8-37479f7f7ec3",
        "colab": {
          "base_uri": "https://localhost:8080/",
          "height": 68
        }
      },
      "cell_type": "code",
      "source": [
        "\n",
        "#new_text = np.array(new_text, dtype=object)[:, np.newaxis]\n",
        "with tf.Session() as session:\n",
        "  K.set_session(session)\n",
        "  session.run(tf.global_variables_initializer())\n",
        "  session.run(tf.tables_initializer())\n",
        "  model.load_weights('./model.h5')  \n",
        "  predicts = model.predict(test_text_d, batch_size=32)\n",
        "\n",
        "train_text = None\n",
        "train_text_d = None\n",
        "train_label = None\n",
        "train_labels = None\n",
        "print(len(predicts))\n",
        "print(predicts[0].shape)\n",
        "K.clear_session()\n",
        "gc.collect()\n",
        "model = None\n",
        "with open(\"./predictions.pkl\", \"wb\") as f:\n",
        "    pickle.dump(predicts, f, pickle.HIGHEST_PROTOCOL)\n",
        "!cp ./predictions.pkl /content/gdrive/My\\ Drive/Colab\\ Notebooks/./predictions.pkl\n",
        "!ls -l /content/gdrive/My\\ Drive/Colab\\ Notebooks/*.pkl"
      ],
      "execution_count": 13,
      "outputs": [
        {
          "output_type": "stream",
          "text": [
            "40\n",
            "(4474, 41)\n",
            "-rw------- 1 root root 29351354 Nov  7 07:00 '/content/gdrive/My Drive/Colab Notebooks/predictions.pkl'\n"
          ],
          "name": "stdout"
        }
      ]
    },
    {
      "metadata": {
        "id": "tjHxAIHG6Is-",
        "colab_type": "code",
        "colab": {}
      },
      "cell_type": "code",
      "source": [
        ""
      ],
      "execution_count": 0,
      "outputs": []
    },
    {
      "metadata": {
        "id": "afh7IcHATglZ",
        "colab_type": "code",
        "colab": {
          "base_uri": "https://localhost:8080/",
          "height": 34
        },
        "outputId": "77119741-2f70-402e-9c83-13ac93e7e3b7"
      },
      "cell_type": "code",
      "source": [
        "# Collect possible phonemes from each output model\n",
        "# [num_lines][num_symbols][N > 0.8]\n",
        "num_tests = 2\n",
        "arpabet_arrays = [[]] * num_tests\n",
        "score_arrays = [[]] * num_tests\n",
        "for j in range(num_tests):\n",
        "    arpabet_arrays[j] = [[]] * num_symbols\n",
        "    score_arrays[j] = [[]] * num_symbols\n",
        "    for i in range(num_symbols):\n",
        "      arpabet_arrays[j][i] = []\n",
        "      score_arrays[j][i] = []\n",
        "\n",
        "sum = 0\n",
        "count = 0\n",
        "for i in range(num_symbols):\n",
        "  for j in range(num_tests):\n",
        "    for k in range(num_arpabets):\n",
        "      if predicts[i][j][k] > 0.05:\n",
        "        #print(\"i, j {0},{1}\".format(i,j))\n",
        "        arpabet_arrays[j][i].append(arpabets_mgr.get_arpabet(k))\n",
        "        score_arrays[j][i].append(predicts[i][j][k])\n",
        "    sum += len(score_arrays[j][i])\n",
        "    count += 1\n",
        "print(\"Mean length = {0}\".format(sum/count))\n",
        "\n",
        "predicts = None\n",
        "    "
      ],
      "execution_count": 14,
      "outputs": [
        {
          "output_type": "stream",
          "text": [
            "Mean length = 4.05\n"
          ],
          "name": "stdout"
        }
      ]
    },
    {
      "metadata": {
        "id": "x8cHyrYFzTfP",
        "colab_type": "code",
        "colab": {
          "base_uri": "https://localhost:8080/",
          "height": 1118
        },
        "outputId": "6e532426-a82b-452f-f04b-5b1d19fdd6fb"
      },
      "cell_type": "code",
      "source": [
        "\n",
        "#for i in range(num_symbols):\n",
        "#  print(len(arpabets[i][0]))\n",
        "        \n",
        "  \n",
        "print(\"Arpabets[0]: {0}\".format(arpabet_arrays[1]))\n",
        "print(\"Scores[0]: {0}\".format(score_arrays[1]))\n",
        "\n",
        "#sample =  [['AE'], ['N'], ['D'], ['W'], ['AH', 'EH'], ['N', 'T', 'DH']]\n",
        "##for x in product(*sample):\n",
        "#  print(x)\n",
        "\n",
        "decoder = decodewords.Decoder(cmudict.CMUDict().get_reverse_dict(), arpabets_mgr)\n",
        "for i in range(0,num_tests):\n",
        "  alist = []\n",
        "  slist = []\n",
        "  print(score_arrays[i])\n",
        "  for a in product(*arpabet_arrays[i]):\n",
        "    alist.append(a)\n",
        "  for s in product(*score_arrays[i]):\n",
        "    slist.append(s)\n",
        "  stotals = [1.0] * len(slist)\n",
        "  for i in range(len(slist)):\n",
        "    stotals[i] = decodewords.sum_scores(alist[i], slist[i])\n",
        "  topindex = np.argsort(stotals)[0]\n",
        "  print(\"Top score = {0}\".format(stotals[topindex]))\n",
        "  atest = alist[topindex]\n",
        "  stest = slist[topindex]\n",
        "  alist = None\n",
        "  slist = None\n",
        "  print(arpabet_arrays[i])\n",
        "  trylist = []\n",
        "  print(len(slist))\n",
        "  for s in decoder.decode_sentence(atest, 12):\n",
        "    print(s)\n"
      ],
      "execution_count": 15,
      "outputs": [
        {
          "output_type": "stream",
          "text": [
            "Arpabets[0]: [['AH', 'T', 'DH', 'AE', 'F'], ['AH', 'N', 'IH', 'AE', 'AO', 'UW'], ['T', 'D', 'R', 'S', 'W', 'HH'], ['IH', 'DH', 'W', 'HH', 'AO', 'AY'], ['AH', 'N', 'R', 'L', 'M', 'EH', 'IY', 'UW'], ['AH', 'N', 'IH', 'T', 'DH'], ['AH', 'N', 'IH', 'T', 'DH', 'Z'], ['AH', 'N', 'IH', 'T', 'S', 'Z'], ['N', 'IH', 'R', 'S', 'M'], ['AH', 'N', 'IH', 'T', 'R', 'AE'], ['AH', 'N', 'IH', 'T', 'D', 'R', 'IY'], ['AH', 'N', 'IH', 'T', 'D', 'DH', 'Z'], ['AH', 'N', 'IH', 'T', 'D', 'Z', 'M'], ['AH', 'N', 'L', 'EH'], ['AH', 'N', 'IH', 'T', 'R'], ['AH', 'N', 'IH', 'T', 'R'], ['AH', 'N', 'IH', 'T', 'DH'], ['AH', 'N', 'IH', 'D', 'Z'], ['AH', 'N', 'IH', 'T', 'D', 'R'], ['AH', 'N', 'IH', 'T', 'D', 'Z'], ['AH', 'N', 'IH', 'T', 'D', 'R', 'M'], ['AH', 'N', 'IH', 'T', 'R'], ['AH', 'N', 'IH', 'T', 'D', 'R', 'L', 'Z'], ['.', 'AH', 'IH', 'R', 'Z'], ['.', 'N', 'IH', 'D', 'S'], ['.', 'D', 'Z'], ['.', 'N'], ['.'], ['.'], ['.'], ['.'], ['.'], ['.'], ['.'], ['.'], ['.'], ['.'], ['.'], ['.'], ['.']]\n",
            "Scores[0]: [[0.054922525, 0.23817134, 0.38132176, 0.09248388, 0.12777378], [0.15707025, 0.15069406, 0.05333677, 0.10331197, 0.12606321, 0.286598], [0.12661888, 0.14015235, 0.09789084, 0.06457809, 0.075153954, 0.09758607], [0.078559935, 0.05417859, 0.10338857, 0.07771152, 0.06736048, 0.06316572], [0.06718571, 0.06149676, 0.05994895, 0.07015235, 0.09561212, 0.08276462, 0.07010383, 0.06973198], [0.08460047, 0.06278885, 0.105480276, 0.068631254, 0.11908066], [0.12460476, 0.06837499, 0.12906285, 0.058740895, 0.068848364, 0.070151776], [0.083229765, 0.050829493, 0.06964552, 0.06921335, 0.05748265, 0.101001784], [0.058380783, 0.08568341, 0.06324027, 0.051071145, 0.051735412], [0.060579386, 0.06301134, 0.051811583, 0.07587996, 0.073611505, 0.052105557], [0.059936177, 0.06365966, 0.055398297, 0.0863429, 0.05244013, 0.06261361, 0.060520705], [0.14210884, 0.062386904, 0.099238515, 0.051596243, 0.058737572, 0.05331572, 0.06962284], [0.100765996, 0.076563045, 0.08475721, 0.060840573, 0.050546743, 0.061622676, 0.051636204], [0.08018803, 0.059521336, 0.051941622, 0.05267862], [0.07088968, 0.06588377, 0.050523486, 0.06280487, 0.07273696], [0.07615732, 0.080702804, 0.07394369, 0.0927433, 0.053319257], [0.11532153, 0.07583223, 0.09106884, 0.055674512, 0.052680977], [0.10759107, 0.07940601, 0.058294166, 0.06776939, 0.05160278], [0.082848676, 0.09731582, 0.06887533, 0.055560753, 0.057848502, 0.05052503], [0.07065546, 0.06558747, 0.05482684, 0.05259727, 0.066309184, 0.06483134], [0.072038, 0.05749212, 0.07250773, 0.07611855, 0.056272916, 0.06014118, 0.052856147], [0.07071631, 0.067948304, 0.06538536, 0.0647633, 0.055799272], [0.056261443, 0.0865241, 0.062115565, 0.056827713, 0.05746493, 0.054428123, 0.0523277, 0.051484443], [0.07049834, 0.062428262, 0.068208866, 0.059204407, 0.056208808], [0.15228818, 0.068680555, 0.058415953, 0.0512191, 0.055454068], [0.26544437, 0.050772596, 0.060733482], [0.4175688, 0.050682824], [0.6291405], [0.8047299], [0.9177674], [0.9710961], [0.9918064], [0.9978854], [0.9994962], [0.9998035], [0.99992704], [0.99997795], [0.99998605], [0.99998796], [0.9999883]]\n"
          ],
          "name": "stdout"
        },
        {
          "output_type": "stream",
          "text": [
            "Exception ignored in: <bound method BaseSession._Callable.__del__ of <tensorflow.python.client.session.BaseSession._Callable object at 0x7fc5e48c34e0>>\n",
            "Traceback (most recent call last):\n",
            "  File \"/usr/local/lib/python3.6/dist-packages/tensorflow/python/client/session.py\", line 1455, in __del__\n",
            "    self._session._session, self._handle, status)\n",
            "  File \"/usr/local/lib/python3.6/dist-packages/tensorflow/python/framework/errors_impl.py\", line 528, in __exit__\n",
            "    c_api.TF_GetCode(self.status.status))\n",
            "tensorflow.python.framework.errors_impl.CancelledError: Session has been closed.\n"
          ],
          "name": "stderr"
        },
        {
          "output_type": "error",
          "ename": "KeyboardInterrupt",
          "evalue": "ignored",
          "traceback": [
            "\u001b[0;31m---------------------------------------------------------------------------\u001b[0m",
            "\u001b[0;31mKeyboardInterrupt\u001b[0m                         Traceback (most recent call last)",
            "\u001b[0;32m<ipython-input-15-4ab01d5462c9>\u001b[0m in \u001b[0;36m<module>\u001b[0;34m()\u001b[0m\n\u001b[1;32m      8\u001b[0m \u001b[0;31m#  print(x)\u001b[0m\u001b[0;34m\u001b[0m\u001b[0;34m\u001b[0m\u001b[0m\n\u001b[1;32m      9\u001b[0m \u001b[0;34m\u001b[0m\u001b[0m\n\u001b[0;32m---> 10\u001b[0;31m \u001b[0mdecoder\u001b[0m \u001b[0;34m=\u001b[0m \u001b[0mdecodewords\u001b[0m\u001b[0;34m.\u001b[0m\u001b[0mDecoder\u001b[0m\u001b[0;34m(\u001b[0m\u001b[0mcmudict\u001b[0m\u001b[0;34m.\u001b[0m\u001b[0mCMUDict\u001b[0m\u001b[0;34m(\u001b[0m\u001b[0;34m)\u001b[0m\u001b[0;34m.\u001b[0m\u001b[0mget_reverse_dict\u001b[0m\u001b[0;34m(\u001b[0m\u001b[0;34m)\u001b[0m\u001b[0;34m,\u001b[0m \u001b[0marpabets_mgr\u001b[0m\u001b[0;34m)\u001b[0m\u001b[0;34m\u001b[0m\u001b[0m\n\u001b[0m\u001b[1;32m     11\u001b[0m \u001b[0;32mfor\u001b[0m \u001b[0mi\u001b[0m \u001b[0;32min\u001b[0m \u001b[0mrange\u001b[0m\u001b[0;34m(\u001b[0m\u001b[0;36m0\u001b[0m\u001b[0;34m,\u001b[0m\u001b[0mnum_tests\u001b[0m\u001b[0;34m)\u001b[0m\u001b[0;34m:\u001b[0m\u001b[0;34m\u001b[0m\u001b[0m\n\u001b[1;32m     12\u001b[0m   \u001b[0malist\u001b[0m \u001b[0;34m=\u001b[0m \u001b[0;34m[\u001b[0m\u001b[0;34m]\u001b[0m\u001b[0;34m\u001b[0m\u001b[0m\n",
            "\u001b[0;32m/content/deep_meter/cmudict.py\u001b[0m in \u001b[0;36m__init__\u001b[0;34m(self)\u001b[0m\n\u001b[1;32m    113\u001b[0m     \u001b[0mself\u001b[0m\u001b[0;34m.\u001b[0m\u001b[0mstress_dict\u001b[0m \u001b[0;34m=\u001b[0m \u001b[0;34m{\u001b[0m\u001b[0;34m}\u001b[0m\u001b[0;34m\u001b[0m\u001b[0m\n\u001b[1;32m    114\u001b[0m     \u001b[0mself\u001b[0m\u001b[0;34m.\u001b[0m\u001b[0mreverse_dict\u001b[0m \u001b[0;34m=\u001b[0m \u001b[0;34m{\u001b[0m\u001b[0;34m}\u001b[0m\u001b[0;34m\u001b[0m\u001b[0m\n\u001b[0;32m--> 115\u001b[0;31m     \u001b[0;34m(\u001b[0m\u001b[0mself\u001b[0m\u001b[0;34m.\u001b[0m\u001b[0msyll_dict\u001b[0m\u001b[0;34m,\u001b[0m \u001b[0mself\u001b[0m\u001b[0;34m.\u001b[0m\u001b[0mstress_dict\u001b[0m\u001b[0;34m)\u001b[0m \u001b[0;34m=\u001b[0m \u001b[0mload_blobs\u001b[0m\u001b[0;34m(\u001b[0m\u001b[0;34m)\u001b[0m\u001b[0;34m\u001b[0m\u001b[0m\n\u001b[0m\u001b[1;32m    116\u001b[0m     \u001b[0;31m# faster to make this than read it!\u001b[0m\u001b[0;34m\u001b[0m\u001b[0;34m\u001b[0m\u001b[0m\n\u001b[1;32m    117\u001b[0m     \u001b[0mself\u001b[0m\u001b[0;34m.\u001b[0m\u001b[0msinglemap\u001b[0m \u001b[0;34m=\u001b[0m \u001b[0;34m{\u001b[0m\u001b[0;34m}\u001b[0m\u001b[0;34m\u001b[0m\u001b[0m\n",
            "\u001b[0;32m/content/deep_meter/cmudict.py\u001b[0m in \u001b[0;36mload_blobs\u001b[0;34m()\u001b[0m\n\u001b[1;32m     95\u001b[0m   \u001b[0mf_stress\u001b[0m \u001b[0;34m=\u001b[0m \u001b[0mopen\u001b[0m\u001b[0;34m(\u001b[0m\u001b[0;34m\"blobs/stresses.dict\"\u001b[0m\u001b[0;34m,\u001b[0m \u001b[0;34m\"r\"\u001b[0m\u001b[0;34m)\u001b[0m\u001b[0;34m\u001b[0m\u001b[0m\n\u001b[1;32m     96\u001b[0m   \u001b[0mline\u001b[0m \u001b[0;34m=\u001b[0m \u001b[0mf_stress\u001b[0m\u001b[0;34m.\u001b[0m\u001b[0mread\u001b[0m\u001b[0;34m(\u001b[0m\u001b[0;34m)\u001b[0m\u001b[0;34m\u001b[0m\u001b[0m\n\u001b[0;32m---> 97\u001b[0;31m   \u001b[0mstress_dict\u001b[0m \u001b[0;34m=\u001b[0m \u001b[0mast\u001b[0m\u001b[0;34m.\u001b[0m\u001b[0mliteral_eval\u001b[0m\u001b[0;34m(\u001b[0m\u001b[0mline\u001b[0m\u001b[0;34m)\u001b[0m\u001b[0;34m\u001b[0m\u001b[0m\n\u001b[0m\u001b[1;32m     98\u001b[0m   \u001b[0mf_stress\u001b[0m\u001b[0;34m.\u001b[0m\u001b[0mclose\u001b[0m\u001b[0;34m(\u001b[0m\u001b[0;34m)\u001b[0m\u001b[0;34m\u001b[0m\u001b[0m\n\u001b[1;32m     99\u001b[0m   \u001b[0;32mreturn\u001b[0m \u001b[0;34m(\u001b[0m\u001b[0msyll_dict\u001b[0m\u001b[0;34m,\u001b[0m \u001b[0mstress_dict\u001b[0m\u001b[0;34m)\u001b[0m\u001b[0;34m\u001b[0m\u001b[0m\n",
            "\u001b[0;32m/usr/lib/python3.6/ast.py\u001b[0m in \u001b[0;36mliteral_eval\u001b[0;34m(node_or_string)\u001b[0m\n\u001b[1;32m     83\u001b[0m                     \u001b[0;32mreturn\u001b[0m \u001b[0mleft\u001b[0m \u001b[0;34m-\u001b[0m \u001b[0mright\u001b[0m\u001b[0;34m\u001b[0m\u001b[0m\n\u001b[1;32m     84\u001b[0m         \u001b[0;32mraise\u001b[0m \u001b[0mValueError\u001b[0m\u001b[0;34m(\u001b[0m\u001b[0;34m'malformed node or string: '\u001b[0m \u001b[0;34m+\u001b[0m \u001b[0mrepr\u001b[0m\u001b[0;34m(\u001b[0m\u001b[0mnode\u001b[0m\u001b[0;34m)\u001b[0m\u001b[0;34m)\u001b[0m\u001b[0;34m\u001b[0m\u001b[0m\n\u001b[0;32m---> 85\u001b[0;31m     \u001b[0;32mreturn\u001b[0m \u001b[0m_convert\u001b[0m\u001b[0;34m(\u001b[0m\u001b[0mnode_or_string\u001b[0m\u001b[0;34m)\u001b[0m\u001b[0;34m\u001b[0m\u001b[0m\n\u001b[0m\u001b[1;32m     86\u001b[0m \u001b[0;34m\u001b[0m\u001b[0m\n\u001b[1;32m     87\u001b[0m \u001b[0;34m\u001b[0m\u001b[0m\n",
            "\u001b[0;32m/usr/lib/python3.6/ast.py\u001b[0m in \u001b[0;36m_convert\u001b[0;34m(node)\u001b[0m\n\u001b[1;32m     64\u001b[0m         \u001b[0;32melif\u001b[0m \u001b[0misinstance\u001b[0m\u001b[0;34m(\u001b[0m\u001b[0mnode\u001b[0m\u001b[0;34m,\u001b[0m \u001b[0mDict\u001b[0m\u001b[0;34m)\u001b[0m\u001b[0;34m:\u001b[0m\u001b[0;34m\u001b[0m\u001b[0m\n\u001b[1;32m     65\u001b[0m             return dict((_convert(k), _convert(v)) for k, v\n\u001b[0;32m---> 66\u001b[0;31m                         in zip(node.keys, node.values))\n\u001b[0m\u001b[1;32m     67\u001b[0m         \u001b[0;32melif\u001b[0m \u001b[0misinstance\u001b[0m\u001b[0;34m(\u001b[0m\u001b[0mnode\u001b[0m\u001b[0;34m,\u001b[0m \u001b[0mNameConstant\u001b[0m\u001b[0;34m)\u001b[0m\u001b[0;34m:\u001b[0m\u001b[0;34m\u001b[0m\u001b[0m\n\u001b[1;32m     68\u001b[0m             \u001b[0;32mreturn\u001b[0m \u001b[0mnode\u001b[0m\u001b[0;34m.\u001b[0m\u001b[0mvalue\u001b[0m\u001b[0;34m\u001b[0m\u001b[0m\n",
            "\u001b[0;32m/usr/lib/python3.6/ast.py\u001b[0m in \u001b[0;36m<genexpr>\u001b[0;34m(.0)\u001b[0m\n\u001b[1;32m     63\u001b[0m             \u001b[0;32mreturn\u001b[0m \u001b[0mset\u001b[0m\u001b[0;34m(\u001b[0m\u001b[0mmap\u001b[0m\u001b[0;34m(\u001b[0m\u001b[0m_convert\u001b[0m\u001b[0;34m,\u001b[0m \u001b[0mnode\u001b[0m\u001b[0;34m.\u001b[0m\u001b[0melts\u001b[0m\u001b[0;34m)\u001b[0m\u001b[0;34m)\u001b[0m\u001b[0;34m\u001b[0m\u001b[0m\n\u001b[1;32m     64\u001b[0m         \u001b[0;32melif\u001b[0m \u001b[0misinstance\u001b[0m\u001b[0;34m(\u001b[0m\u001b[0mnode\u001b[0m\u001b[0;34m,\u001b[0m \u001b[0mDict\u001b[0m\u001b[0;34m)\u001b[0m\u001b[0;34m:\u001b[0m\u001b[0;34m\u001b[0m\u001b[0m\n\u001b[0;32m---> 65\u001b[0;31m             return dict((_convert(k), _convert(v)) for k, v\n\u001b[0m\u001b[1;32m     66\u001b[0m                         in zip(node.keys, node.values))\n\u001b[1;32m     67\u001b[0m         \u001b[0;32melif\u001b[0m \u001b[0misinstance\u001b[0m\u001b[0;34m(\u001b[0m\u001b[0mnode\u001b[0m\u001b[0;34m,\u001b[0m \u001b[0mNameConstant\u001b[0m\u001b[0;34m)\u001b[0m\u001b[0;34m:\u001b[0m\u001b[0;34m\u001b[0m\u001b[0m\n",
            "\u001b[0;32m/usr/lib/python3.6/ast.py\u001b[0m in \u001b[0;36m_convert\u001b[0;34m(node)\u001b[0m\n\u001b[1;32m     50\u001b[0m         \u001b[0mnode_or_string\u001b[0m \u001b[0;34m=\u001b[0m \u001b[0mnode_or_string\u001b[0m\u001b[0;34m.\u001b[0m\u001b[0mbody\u001b[0m\u001b[0;34m\u001b[0m\u001b[0m\n\u001b[1;32m     51\u001b[0m     \u001b[0;32mdef\u001b[0m \u001b[0m_convert\u001b[0m\u001b[0;34m(\u001b[0m\u001b[0mnode\u001b[0m\u001b[0;34m)\u001b[0m\u001b[0;34m:\u001b[0m\u001b[0;34m\u001b[0m\u001b[0m\n\u001b[0;32m---> 52\u001b[0;31m         \u001b[0;32mif\u001b[0m \u001b[0misinstance\u001b[0m\u001b[0;34m(\u001b[0m\u001b[0mnode\u001b[0m\u001b[0;34m,\u001b[0m \u001b[0mConstant\u001b[0m\u001b[0;34m)\u001b[0m\u001b[0;34m:\u001b[0m\u001b[0;34m\u001b[0m\u001b[0m\n\u001b[0m\u001b[1;32m     53\u001b[0m             \u001b[0;32mreturn\u001b[0m \u001b[0mnode\u001b[0m\u001b[0;34m.\u001b[0m\u001b[0mvalue\u001b[0m\u001b[0;34m\u001b[0m\u001b[0m\n\u001b[1;32m     54\u001b[0m         \u001b[0;32melif\u001b[0m \u001b[0misinstance\u001b[0m\u001b[0;34m(\u001b[0m\u001b[0mnode\u001b[0m\u001b[0;34m,\u001b[0m \u001b[0;34m(\u001b[0m\u001b[0mStr\u001b[0m\u001b[0;34m,\u001b[0m \u001b[0mBytes\u001b[0m\u001b[0;34m)\u001b[0m\u001b[0;34m)\u001b[0m\u001b[0;34m:\u001b[0m\u001b[0;34m\u001b[0m\u001b[0m\n",
            "\u001b[0;31mKeyboardInterrupt\u001b[0m: "
          ]
        }
      ]
    },
    {
      "metadata": {
        "colab_type": "code",
        "id": "yyDGVtigW57f",
        "outputId": "d385b06a-42df-4607-8811-b31fd1c50229",
        "colab": {
          "base_uri": "https://localhost:8080/",
          "height": 231
        }
      },
      "cell_type": "code",
      "source": [
        "categories = df_train.label.cat.categories.tolist()\n",
        "predict_logits = predicts.argmax(axis=1)\n",
        "print(\"Categorie: {0}\".format(categories))\n",
        "predict_labels = [categories[logit] for logit in predict_logits]\n",
        "predict_labels"
      ],
      "execution_count": 18,
      "outputs": [
        {
          "output_type": "error",
          "ename": "NameError",
          "evalue": "ignored",
          "traceback": [
            "\u001b[0;31m---------------------------------------------------------------------------\u001b[0m",
            "\u001b[0;31mNameError\u001b[0m                                 Traceback (most recent call last)",
            "\u001b[0;32m<ipython-input-18-7f6e6bf5580f>\u001b[0m in \u001b[0;36m<module>\u001b[0;34m()\u001b[0m\n\u001b[0;32m----> 1\u001b[0;31m \u001b[0mcategories\u001b[0m \u001b[0;34m=\u001b[0m \u001b[0mdf_train\u001b[0m\u001b[0;34m.\u001b[0m\u001b[0mlabel\u001b[0m\u001b[0;34m.\u001b[0m\u001b[0mcat\u001b[0m\u001b[0;34m.\u001b[0m\u001b[0mcategories\u001b[0m\u001b[0;34m.\u001b[0m\u001b[0mtolist\u001b[0m\u001b[0;34m(\u001b[0m\u001b[0;34m)\u001b[0m\u001b[0;34m\u001b[0m\u001b[0m\n\u001b[0m\u001b[1;32m      2\u001b[0m \u001b[0mpredict_logits\u001b[0m \u001b[0;34m=\u001b[0m \u001b[0mpredicts\u001b[0m\u001b[0;34m.\u001b[0m\u001b[0margmax\u001b[0m\u001b[0;34m(\u001b[0m\u001b[0maxis\u001b[0m\u001b[0;34m=\u001b[0m\u001b[0;36m1\u001b[0m\u001b[0;34m)\u001b[0m\u001b[0;34m\u001b[0m\u001b[0m\n\u001b[1;32m      3\u001b[0m \u001b[0mprint\u001b[0m\u001b[0;34m(\u001b[0m\u001b[0;34m\"Categorie: {0}\"\u001b[0m\u001b[0;34m.\u001b[0m\u001b[0mformat\u001b[0m\u001b[0;34m(\u001b[0m\u001b[0mcategories\u001b[0m\u001b[0;34m)\u001b[0m\u001b[0;34m)\u001b[0m\u001b[0;34m\u001b[0m\u001b[0m\n\u001b[1;32m      4\u001b[0m \u001b[0mpredict_labels\u001b[0m \u001b[0;34m=\u001b[0m \u001b[0;34m[\u001b[0m\u001b[0mcategories\u001b[0m\u001b[0;34m[\u001b[0m\u001b[0mlogit\u001b[0m\u001b[0;34m]\u001b[0m \u001b[0;32mfor\u001b[0m \u001b[0mlogit\u001b[0m \u001b[0;32min\u001b[0m \u001b[0mpredict_logits\u001b[0m\u001b[0;34m]\u001b[0m\u001b[0;34m\u001b[0m\u001b[0m\n\u001b[1;32m      5\u001b[0m \u001b[0mpredict_labels\u001b[0m\u001b[0;34m\u001b[0m\u001b[0m\n",
            "\u001b[0;31mNameError\u001b[0m: name 'df_train' is not defined"
          ]
        }
      ]
    },
    {
      "metadata": {
        "colab_type": "code",
        "id": "hYhmukbSKpnp",
        "colab": {}
      },
      "cell_type": "code",
      "source": [
        "\n",
        "os.remove('./model.h5')"
      ],
      "execution_count": 0,
      "outputs": []
    }
  ]
}