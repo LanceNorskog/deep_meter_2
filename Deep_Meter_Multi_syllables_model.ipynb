{
  "nbformat": 4,
  "nbformat_minor": 0,
  "metadata": {
    "colab": {
      "name": "Deep_Meter_Multi_syllables_model.ipynb",
      "version": "0.3.2",
      "provenance": [],
      "collapsed_sections": []
    },
    "kernelspec": {
      "display_name": "Python 3",
      "language": "python",
      "name": "python3"
    },
    "accelerator": "GPU"
  },
  "cells": [
    {
      "metadata": {
        "colab_type": "text",
        "id": "co7MV6sX7Xto"
      },
      "cell_type": "markdown",
      "source": [
        "# [Keras + Universal Sentence Encoder = Deep Meter] (https://www.dlology.com/blog/keras-meets-universal-sentence-encoder-transfer-learning-for-text-data/) "
      ]
    },
    {
      "metadata": {
        "colab_type": "text",
        "id": "eAVQGidpL8v5"
      },
      "cell_type": "markdown",
      "source": [
        "This notebook creates an autoencoder using the Universal Sentence Encoder. The autoencoder output is CMUdict syllables. The dataset is that subset of Allison Parrish's Project Gutenberg poetry archive which happens to scan in iambic pentameter.\n",
        "\n",
        "The notebook is based on Chengwei Zhang's example of wrapping the USE inside a larger tensorflow model saves to a Keras model (without save the USE itself in the TF model).\n",
        "\n",
        "The Universal Sentence Encoder makes getting sentence level embeddings as easy as it has historically been to lookup the embeddings for individual words. The sentence embeddings can then be trivially used to compute sentence level meaning similarity as well as to enable better performance on downstream classification tasks using less supervised training data.\n",
        "\n",
        "Since there are 10 one-hot values for 10 sets of 6k syllables, this is \"multi-label classification\"\n",
        "Changes for multi-label classification:\n",
        "sigmoid activation instead of softmax\n",
        "binary_crossentropy\n",
        "\n",
        "Text format is tab-separated, 2 columns: first text, second multi-level\n",
        "array of syllables:\n",
        "\n",
        "Multi-output version"
      ]
    },
    {
      "metadata": {
        "colab_type": "text",
        "id": "pOTzp8O36CyQ"
      },
      "cell_type": "markdown",
      "source": [
        "# Getting Started\n",
        "\n",
        "This section sets up the environment for access to the Universal Sentence Encoder on TF Hub and provides examples of applying the encoder to words, sentences, and paragraphs."
      ]
    },
    {
      "metadata": {
        "colab_type": "code",
        "id": "lVjNK8shFKOC",
        "colab": {
          "base_uri": "https://localhost:8080/",
          "height": 121
        },
        "outputId": "82c46c27-0089-41b2-813c-4ab8fff5cf62"
      },
      "cell_type": "code",
      "source": [
        "# Install the latest Tensorflow version.\n",
        "!pip3 install --quiet \"tensorflow>=1.7\"\n",
        "# Install TF-Hub.\n",
        "!pip3 install --quiet tensorflow-hub\n",
        "!pip3 install pygtrie\n",
        "#%cd /content\n",
        "!git clone https://github.com/LanceNorskog/deep_meter || true\n",
        "%cd /content/deep_meter\n",
        "!git pull\n",
        "# could not figure out how to read gzipped files as text!\n",
        "!gunzip -qf blobs/*.gz || true\n",
        "!gunzip -qf prepped_data/*.gz || true"
      ],
      "execution_count": 1,
      "outputs": [
        {
          "output_type": "stream",
          "text": [
            "Requirement already satisfied: pygtrie in /usr/local/lib/python3.6/dist-packages (2.3)\n",
            "fatal: destination path 'deep_meter' already exists and is not an empty directory.\n",
            "/content/deep_meter\n",
            "Already up to date.\n",
            "gzip: blobs/*.gz: No such file or directory\n",
            "gzip: prepped_data/*.gz: No such file or directory\n"
          ],
          "name": "stdout"
        }
      ]
    },
    {
      "metadata": {
        "colab_type": "code",
        "id": "MSeY-MUQo2Ha",
        "colab": {
          "base_uri": "https://localhost:8080/",
          "height": 34
        },
        "outputId": "6dcb277a-9e64-4aa2-b0ad-2221003607a8"
      },
      "cell_type": "code",
      "source": [
        "# boilerplate from base notebook\n",
        "import tensorflow as tf\n",
        "import tensorflow_hub as hub\n",
        "import matplotlib.pyplot as plt\n",
        "import numpy as np\n",
        "import os\n",
        "import pandas as pd\n",
        "import re\n",
        "import seaborn as sns\n",
        "import keras.layers as layers\n",
        "from keras.models import Model\n",
        "from keras import backend as K\n",
        "from keras.callbacks import EarlyStopping, ModelCheckpoint\n",
        "from tensorflow.keras.optimizers import Nadam, Adam\n",
        "import gc\n",
        "from google.colab import files\n",
        "from google.colab import drive\n",
        "\n",
        "import pickle\n",
        "np.random.seed(10)"
      ],
      "execution_count": 2,
      "outputs": [
        {
          "output_type": "stream",
          "text": [
            "Using TensorFlow backend.\n"
          ],
          "name": "stderr"
        }
      ]
    },
    {
      "metadata": {
        "colab_type": "code",
        "id": "feBc_8Y-pt6F",
        "colab": {}
      },
      "cell_type": "code",
      "source": [
        "# github deep_meter code\n",
        "import utils\n",
        "# should not need this to use utils.flatten but is true anyway?\n",
        "from itertools import chain, product\n",
        "import subprocess\n",
        "import syllables\n",
        "import decodesyllables\n",
        "import cmudict\n",
        "# misc for this notebook\n",
        "from ast import literal_eval\n",
        "\n",
        "import scipy\n",
        "\n"
      ],
      "execution_count": 0,
      "outputs": []
    },
    {
      "metadata": {
        "id": "WorjIDTCtWuR",
        "colab_type": "code",
        "colab": {
          "base_uri": "https://localhost:8080/",
          "height": 34
        },
        "outputId": "103f2b0c-fb32-4589-ec95-0673dfab1613"
      },
      "cell_type": "code",
      "source": [
        "drive.mount('/content/gdrive')\n"
      ],
      "execution_count": 4,
      "outputs": [
        {
          "output_type": "stream",
          "text": [
            "Drive already mounted at /content/gdrive; to attempt to forcibly remount, call drive.mount(\"/content/gdrive\", force_remount=True).\n"
          ],
          "name": "stdout"
        }
      ]
    },
    {
      "metadata": {
        "colab_type": "code",
        "id": "zwty8Z6mAkdV",
        "colab": {}
      },
      "cell_type": "code",
      "source": [
        "module_url = \"https://tfhub.dev/google/universal-sentence-encoder-large/3\" #@param [\"https://tfhub.dev/google/universal-sentence-encoder/2\", \"https://tfhub.dev/google/universal-sentence-encoder-large/3\"]"
      ],
      "execution_count": 0,
      "outputs": []
    },
    {
      "metadata": {
        "colab_type": "code",
        "id": "FwAQNy1eMDkQ",
        "colab": {}
      },
      "cell_type": "code",
      "source": [
        "# read classified poetry lines: text tab [['syll', 'la', 'ble'], ...]\n",
        "# clip to only most common syllables with syllable manager\n",
        "# ['words', ...], [[[0,0,1,0], ...]]\n",
        "def get_data(filename, syll_mgr, num_symbols, max_lines=45000):\n",
        "    num_syllables = syll_mgr.get_size()      \n",
        "    lines = open(filename, 'r').read().splitlines()\n",
        "    num_lines = min(max_lines, len(lines))\n",
        "    text_lines = []\n",
        "    text_sylls = []\n",
        "    for i in range(0, len(lines)):\n",
        "      if i == num_lines:\n",
        "        break\n",
        "      parts = lines[i].split(\"\\t\")\n",
        "      label = utils.flatten(literal_eval(parts[1]))\n",
        "      if len(label) == num_symbols:\n",
        "        text_lines.append(str(parts[0]))\n",
        "        text_sylls.append(label)\n",
        "    num_lines = len(text_lines)\n",
        "    label_array = np.zeros((num_symbols, num_lines, num_syllables), dtype=np.int8)\n",
        "    for i in range(0, num_lines):\n",
        "      for j in range(num_symbols):\n",
        "        label_array[j][i][syll_mgr.get_encoding(text_sylls[i][j])] = 1\n",
        "\n",
        "    return (text_lines, label_array)\n"
      ],
      "execution_count": 0,
      "outputs": []
    },
    {
      "metadata": {
        "colab_type": "code",
        "id": "3HAtd4X5DayF",
        "colab": {}
      },
      "cell_type": "code",
      "source": [
        "# syllables in descending order of occurrence - 6k in gutenberg.iambic_pentameter, 15k total\n",
        "# clamp to most common 100 syllables while debugging- use NCE to get all syllables or interesting number\n",
        "# 98 + pause + wildcard\n",
        "# iambic pentameter\n",
        "num_symbols = 10\n",
        "#syll_mgr = syllables.syllables(num_syllables)\n",
        "syll_mgr = syllables.syllables()\n",
        "num_syllables = syll_mgr.get_size() \n",
        "syll_weights = {}\n",
        "counts = syll_mgr.get_counts()\n",
        "maxim = np.max(counts)\n",
        "for i in range(len(counts)):\n",
        "  if counts[i] > 0:\n",
        "    syll_weights[i] = 1/(counts[i]/maxim)\n",
        "  else:\n",
        "    syll_weights[i] = 0\n",
        "\n"
      ],
      "execution_count": 0,
      "outputs": []
    },
    {
      "metadata": {
        "colab_type": "code",
        "id": "eN9aqig-QpDZ",
        "colab": {
          "base_uri": "https://localhost:8080/",
          "height": 86
        },
        "outputId": "c4b27380-d9b2-47f0-d419-263341407cab"
      },
      "cell_type": "code",
      "source": [
        "(train_text, train_label) = get_data('prepped_data/gutenberg.iambic_pentameter.train', syll_mgr, num_symbols)\n",
        "num_training = len(train_text)\n",
        "#train_text = train_text[0:100]\n",
        "#train_label = train_label[0:100]\n",
        "\n",
        "(test_text, test_label) = get_data('prepped_data/gutenberg.iambic_pentameter.test', syll_mgr, num_symbols)\n",
        "#test_text = test_text[0:100]\n",
        "#test_label = test_label[0:100]\n",
        "\n",
        "num_testing = len(test_text)\n",
        "print(len(train_text))\n",
        "print(len(test_text))\n",
        "print(train_label.shape)\n",
        "print(test_label.shape)"
      ],
      "execution_count": 8,
      "outputs": [
        {
          "output_type": "stream",
          "text": [
            "42234\n",
            "4200\n",
            "(10, 42234, 6635)\n",
            "(10, 4200, 6635)\n"
          ],
          "name": "stdout"
        }
      ]
    },
    {
      "metadata": {
        "colab_type": "text",
        "id": "Sf9A4Xl6J7c6"
      },
      "cell_type": "markdown",
      "source": [
        "## Embed training & test text"
      ]
    },
    {
      "metadata": {
        "id": "mbJCx9vzwrF9",
        "colab_type": "code",
        "colab": {
          "base_uri": "https://localhost:8080/",
          "height": 86
        },
        "outputId": "9fa04be2-2af7-450e-d11d-ca539706bbbb"
      },
      "cell_type": "code",
      "source": [
        "# Import the Universal Sentence Encoder's TF Hub module\n",
        "embed = hub.Module(module_url)\n",
        "# important?\n",
        "embed_size = embed.get_output_info_dict()['default'].get_shape()[1].value\n",
        "\n",
        "# Reduce logging output.\n",
        "tf.logging.set_verbosity(tf.logging.ERROR)\n",
        "print(type(train_text))\n",
        "#train_text_t = tf.convert_to_tensor(train_text, dtype='string', name='training_text')\n",
        "with tf.Session() as session:\n",
        "  session.run([tf.global_variables_initializer(), tf.tables_initializer()])\n",
        "  train_embeddings = session.run(embed(train_text))\n",
        "  test_embeddings = session.run(embed(test_text))\n",
        "train_text_d = np.array(train_embeddings)\n",
        "test_text_d = np.array(test_embeddings)\n",
        "print(train_text_d.shape)\n",
        "print(test_text_d.shape)\n",
        "# conserve space\n",
        "embed = None\n",
        "train_text = None\n",
        "train_embeddings = None"
      ],
      "execution_count": 9,
      "outputs": [
        {
          "output_type": "stream",
          "text": [
            "INFO:tensorflow:Using /tmp/tfhub_modules to cache modules.\n",
            "<class 'list'>\n",
            "(42234, 512)\n",
            "(4200, 512)\n"
          ],
          "name": "stdout"
        }
      ]
    },
    {
      "metadata": {
        "colab_type": "code",
        "id": "-mQUV_7dIm-9",
        "colab": {
          "base_uri": "https://localhost:8080/",
          "height": 34
        },
        "outputId": "5367429c-2320-4c68-d235-10dd644bf829"
      },
      "cell_type": "code",
      "source": [
        "print(test_text_d.shape)\n",
        "# slow\n",
        "num_epochs = 40\n",
        "adam_0001 = Adam(0.0007)\n",
        "adam_0001 = tf.contrib.opt.AdamWOptimizer(0.0007)\n",
        "adam_0001 = Adam(0.0005)\n",
        "adam_0001 = tf.contrib.opt.NadamOptimizer(0.0005)\n",
        "\n"
      ],
      "execution_count": 12,
      "outputs": [
        {
          "output_type": "stream",
          "text": [
            "(4200, 512)\n"
          ],
          "name": "stdout"
        }
      ]
    },
    {
      "metadata": {
        "colab_type": "text",
        "id": "qX2rBOuxDP1m"
      },
      "cell_type": "markdown",
      "source": [
        "## Assemble model"
      ]
    },
    {
      "metadata": {
        "colab_type": "code",
        "id": "t3fllZkVjXKV",
        "colab": {
          "base_uri": "https://localhost:8080/",
          "height": 590
        },
        "outputId": "0db4b619-2055-4e24-fa50-307b0ac2fb24"
      },
      "cell_type": "code",
      "source": [
        "input_embeddings = layers.Input(shape=(512,), dtype=tf.float32, name='Input')\n",
        "dropout_input = layers.Dropout(0.4)(input_embeddings)\n",
        "dense = layers.Dense(1024, activation='relu', name='Convoluted')(dropout_input)\n",
        "dense = layers.Dropout(0.4)(input_embeddings)\n",
        "dense = layers.Dense(1536, activation='relu', name='Midway')(dense)\n",
        "dense = layers.Dropout(0.4)(input_embeddings)\n",
        "dense = layers.Dense(2048, activation='relu', name='Smooth')(dense)\n",
        "pred_array = []\n",
        "loss_array = []\n",
        "names_array = []\n",
        "for i in range(num_symbols):\n",
        "  name = 'Flatout'+str(i)\n",
        "  pred_array.append(layers.Dense(num_syllables, activation='softmax', name=name)(dense))\n",
        "  loss_array.append('categorical_crossentropy')\n",
        "  names_array.append(name)\n",
        "model = Model(inputs=input_embeddings, outputs=pred_array)\n",
        "model.compile(loss=loss_array, \n",
        "              optimizer=adam_0001, \n",
        "              metrics=['categorical_accuracy'])\n",
        "model.summary()"
      ],
      "execution_count": 13,
      "outputs": [
        {
          "output_type": "stream",
          "text": [
            "__________________________________________________________________________________________________\n",
            "Layer (type)                    Output Shape         Param #     Connected to                     \n",
            "==================================================================================================\n",
            "Input (InputLayer)              (None, 512)          0                                            \n",
            "__________________________________________________________________________________________________\n",
            "dropout_6 (Dropout)             (None, 512)          0           Input[0][0]                      \n",
            "__________________________________________________________________________________________________\n",
            "Smooth (Dense)                  (None, 2048)         1050624     dropout_6[0][0]                  \n",
            "__________________________________________________________________________________________________\n",
            "Flatout0 (Dense)                (None, 6635)         13595115    Smooth[0][0]                     \n",
            "__________________________________________________________________________________________________\n",
            "Flatout1 (Dense)                (None, 6635)         13595115    Smooth[0][0]                     \n",
            "__________________________________________________________________________________________________\n",
            "Flatout2 (Dense)                (None, 6635)         13595115    Smooth[0][0]                     \n",
            "__________________________________________________________________________________________________\n",
            "Flatout3 (Dense)                (None, 6635)         13595115    Smooth[0][0]                     \n",
            "__________________________________________________________________________________________________\n",
            "Flatout4 (Dense)                (None, 6635)         13595115    Smooth[0][0]                     \n",
            "__________________________________________________________________________________________________\n",
            "Flatout5 (Dense)                (None, 6635)         13595115    Smooth[0][0]                     \n",
            "__________________________________________________________________________________________________\n",
            "Flatout6 (Dense)                (None, 6635)         13595115    Smooth[0][0]                     \n",
            "__________________________________________________________________________________________________\n",
            "Flatout7 (Dense)                (None, 6635)         13595115    Smooth[0][0]                     \n",
            "__________________________________________________________________________________________________\n",
            "Flatout8 (Dense)                (None, 6635)         13595115    Smooth[0][0]                     \n",
            "__________________________________________________________________________________________________\n",
            "Flatout9 (Dense)                (None, 6635)         13595115    Smooth[0][0]                     \n",
            "==================================================================================================\n",
            "Total params: 137,001,774\n",
            "Trainable params: 137,001,774\n",
            "Non-trainable params: 0\n",
            "__________________________________________________________________________________________________\n"
          ],
          "name": "stdout"
        }
      ]
    },
    {
      "metadata": {
        "colab_type": "text",
        "id": "bqcRy_JWXe0u"
      },
      "cell_type": "markdown",
      "source": [
        "## Train Keras model and save weights\n",
        "This only trains and save our Keras layers not the embed module' weights."
      ]
    },
    {
      "metadata": {
        "colab_type": "code",
        "id": "_stfC_7VFhS8",
        "colab": {
          "base_uri": "https://localhost:8080/",
          "height": 402
        },
        "outputId": "4b3182dc-67f0-4ac8-ac16-060937e5b58b"
      },
      "cell_type": "code",
      "source": [
        "use_saved_model=False\n",
        "history = None\n",
        "print(train_label.shape)\n",
        "if not use_saved_model or not os.path.exists('./model_syllables.h5'):\n",
        "  with tf.Session() as session:\n",
        "    K.set_session(session)\n",
        "    session.run(tf.global_variables_initializer())\n",
        "    session.run(tf.tables_initializer())\n",
        "    train_labels = []\n",
        "    test_labels = []\n",
        "    for i in range(num_symbols):\n",
        "        train_labels.append(np.array(train_label[i]))\n",
        "        test_labels.append(np.array(test_label[i]))\n",
        "    history = model.fit(train_text_d, \n",
        "            train_labels,\n",
        "            validation_data=(test_text_d, test_labels),\n",
        "            epochs=num_epochs,\n",
        "            #callbacks = [EarlyStopping(patience=2)],\n",
        "            batch_size=64,\n",
        "            class_weight=syll_weights,\n",
        "            verbose=2\n",
        "            )\n",
        "    model.save_weights('./model_syllables.h5')\n"
      ],
      "execution_count": 0,
      "outputs": [
        {
          "output_type": "stream",
          "text": [
            "(10, 42234, 6635)\n",
            "Train on 42234 samples, validate on 4200 samples\n",
            "Epoch 1/40\n",
            " - 93s - loss: 57.9946 - Flatout0_loss: 2.5754 - Flatout1_loss: 7.2093 - Flatout2_loss: 4.9106 - Flatout3_loss: 7.2455 - Flatout4_loss: 5.1078 - Flatout5_loss: 6.9686 - Flatout6_loss: 4.8319 - Flatout7_loss: 7.0609 - Flatout8_loss: 4.8935 - Flatout9_loss: 7.1910 - Flatout0_categorical_accuracy: 0.4230 - Flatout1_categorical_accuracy: 0.0236 - Flatout2_categorical_accuracy: 0.1553 - Flatout3_categorical_accuracy: 0.0211 - Flatout4_categorical_accuracy: 0.1268 - Flatout5_categorical_accuracy: 0.0475 - Flatout6_categorical_accuracy: 0.1750 - Flatout7_categorical_accuracy: 0.0366 - Flatout8_categorical_accuracy: 0.1388 - Flatout9_categorical_accuracy: 0.0238 - val_loss: 54.1041 - val_Flatout0_loss: 1.9605 - val_Flatout1_loss: 6.7318 - val_Flatout2_loss: 4.5675 - val_Flatout3_loss: 6.8630 - val_Flatout4_loss: 4.7929 - val_Flatout5_loss: 6.6584 - val_Flatout6_loss: 4.5403 - val_Flatout7_loss: 6.7785 - val_Flatout8_loss: 4.5241 - val_Flatout9_loss: 6.6870 - val_Flatout0_categorical_accuracy: 0.5455 - val_Flatout1_categorical_accuracy: 0.0357 - val_Flatout2_categorical_accuracy: 0.1776 - val_Flatout3_categorical_accuracy: 0.0276 - val_Flatout4_categorical_accuracy: 0.1364 - val_Flatout5_categorical_accuracy: 0.0576 - val_Flatout6_categorical_accuracy: 0.1833 - val_Flatout7_categorical_accuracy: 0.0419 - val_Flatout8_categorical_accuracy: 0.1507 - val_Flatout9_categorical_accuracy: 0.0548\n",
            "Epoch 2/40\n",
            " - 87s - loss: 50.6523 - Flatout0_loss: 1.7809 - Flatout1_loss: 6.2429 - Flatout2_loss: 4.3388 - Flatout3_loss: 6.3999 - Flatout4_loss: 4.5917 - Flatout5_loss: 6.2018 - Flatout6_loss: 4.3393 - Flatout7_loss: 6.2875 - Flatout8_loss: 4.3943 - Flatout9_loss: 6.0750 - Flatout0_categorical_accuracy: 0.5564 - Flatout1_categorical_accuracy: 0.0534 - Flatout2_categorical_accuracy: 0.1859 - Flatout3_categorical_accuracy: 0.0385 - Flatout4_categorical_accuracy: 0.1452 - Flatout5_categorical_accuracy: 0.0619 - Flatout6_categorical_accuracy: 0.1950 - Flatout7_categorical_accuracy: 0.0493 - Flatout8_categorical_accuracy: 0.1601 - Flatout9_categorical_accuracy: 0.0783 - val_loss: 50.7434 - val_Flatout0_loss: 1.6251 - val_Flatout1_loss: 6.2034 - val_Flatout2_loss: 4.3282 - val_Flatout3_loss: 6.4863 - val_Flatout4_loss: 4.5643 - val_Flatout5_loss: 6.4001 - val_Flatout6_loss: 4.3593 - val_Flatout7_loss: 6.4962 - val_Flatout8_loss: 4.3334 - val_Flatout9_loss: 5.9471 - val_Flatout0_categorical_accuracy: 0.6102 - val_Flatout1_categorical_accuracy: 0.0788 - val_Flatout2_categorical_accuracy: 0.1990 - val_Flatout3_categorical_accuracy: 0.0531 - val_Flatout4_categorical_accuracy: 0.1474 - val_Flatout5_categorical_accuracy: 0.0731 - val_Flatout6_categorical_accuracy: 0.1933 - val_Flatout7_categorical_accuracy: 0.0571 - val_Flatout8_categorical_accuracy: 0.1614 - val_Flatout9_categorical_accuracy: 0.1183\n",
            "Epoch 3/40\n",
            " - 87s - loss: 45.2518 - Flatout0_loss: 1.5443 - Flatout1_loss: 5.3723 - Flatout2_loss: 4.0183 - Flatout3_loss: 5.6306 - Flatout4_loss: 4.2920 - Flatout5_loss: 5.5530 - Flatout6_loss: 4.0898 - Flatout7_loss: 5.6140 - Flatout8_loss: 4.1298 - Flatout9_loss: 5.0076 - Flatout0_categorical_accuracy: 0.6012 - Flatout1_categorical_accuracy: 0.1017 - Flatout2_categorical_accuracy: 0.2021 - Flatout3_categorical_accuracy: 0.0739 - Flatout4_categorical_accuracy: 0.1534 - Flatout5_categorical_accuracy: 0.0796 - Flatout6_categorical_accuracy: 0.2026 - Flatout7_categorical_accuracy: 0.0687 - Flatout8_categorical_accuracy: 0.1702 - Flatout9_categorical_accuracy: 0.1516 - val_loss: 48.1944 - val_Flatout0_loss: 1.4550 - val_Flatout1_loss: 5.7469 - val_Flatout2_loss: 4.1557 - val_Flatout3_loss: 6.1686 - val_Flatout4_loss: 4.4093 - val_Flatout5_loss: 6.1915 - val_Flatout6_loss: 4.2365 - val_Flatout7_loss: 6.2893 - val_Flatout8_loss: 4.2317 - val_Flatout9_loss: 5.3099 - val_Flatout0_categorical_accuracy: 0.6402 - val_Flatout1_categorical_accuracy: 0.1202 - val_Flatout2_categorical_accuracy: 0.2076 - val_Flatout3_categorical_accuracy: 0.0838 - val_Flatout4_categorical_accuracy: 0.1593 - val_Flatout5_categorical_accuracy: 0.0852 - val_Flatout6_categorical_accuracy: 0.1986 - val_Flatout7_categorical_accuracy: 0.0683 - val_Flatout8_categorical_accuracy: 0.1667 - val_Flatout9_categorical_accuracy: 0.1748\n",
            "Epoch 4/40\n",
            " - 87s - loss: 40.0412 - Flatout0_loss: 1.4039 - Flatout1_loss: 4.5051 - Flatout2_loss: 3.7375 - Flatout3_loss: 4.8537 - Flatout4_loss: 4.0050 - Flatout5_loss: 4.8720 - Flatout6_loss: 3.8481 - Flatout7_loss: 4.9099 - Flatout8_loss: 3.8791 - Flatout9_loss: 4.0268 - Flatout0_categorical_accuracy: 0.6264 - Flatout1_categorical_accuracy: 0.1759 - Flatout2_categorical_accuracy: 0.2170 - Flatout3_categorical_accuracy: 0.1299 - Flatout4_categorical_accuracy: 0.1672 - Flatout5_categorical_accuracy: 0.1114 - Flatout6_categorical_accuracy: 0.2091 - Flatout7_categorical_accuracy: 0.1070 - Flatout8_categorical_accuracy: 0.1784 - Flatout9_categorical_accuracy: 0.2385 - val_loss: 46.8406 - val_Flatout0_loss: 1.3531 - val_Flatout1_loss: 5.4788 - val_Flatout2_loss: 4.0474 - val_Flatout3_loss: 6.0269 - val_Flatout4_loss: 4.3221 - val_Flatout5_loss: 6.1405 - val_Flatout6_loss: 4.1879 - val_Flatout7_loss: 6.1898 - val_Flatout8_loss: 4.1607 - val_Flatout9_loss: 4.9333 - val_Flatout0_categorical_accuracy: 0.6636 - val_Flatout1_categorical_accuracy: 0.1538 - val_Flatout2_categorical_accuracy: 0.2221 - val_Flatout3_categorical_accuracy: 0.0979 - val_Flatout4_categorical_accuracy: 0.1669 - val_Flatout5_categorical_accuracy: 0.0921 - val_Flatout6_categorical_accuracy: 0.1976 - val_Flatout7_categorical_accuracy: 0.0762 - val_Flatout8_categorical_accuracy: 0.1781 - val_Flatout9_categorical_accuracy: 0.2086\n",
            "Epoch 5/40\n",
            " - 87s - loss: 35.8300 - Flatout0_loss: 1.3096 - Flatout1_loss: 3.8292 - Flatout2_loss: 3.4979 - Flatout3_loss: 4.2218 - Flatout4_loss: 3.7690 - Flatout5_loss: 4.2929 - Flatout6_loss: 3.6360 - Flatout7_loss: 4.3176 - Flatout8_loss: 3.6602 - Flatout9_loss: 3.2959 - Flatout0_categorical_accuracy: 0.6423 - Flatout1_categorical_accuracy: 0.2719 - Flatout2_categorical_accuracy: 0.2391 - Flatout3_categorical_accuracy: 0.2093 - Flatout4_categorical_accuracy: 0.1836 - Flatout5_categorical_accuracy: 0.1797 - Flatout6_categorical_accuracy: 0.2218 - Flatout7_categorical_accuracy: 0.1773 - Flatout8_categorical_accuracy: 0.1954 - Flatout9_categorical_accuracy: 0.3341 - val_loss: 46.4137 - val_Flatout0_loss: 1.2979 - val_Flatout1_loss: 5.3672 - val_Flatout2_loss: 3.9954 - val_Flatout3_loss: 5.9915 - val_Flatout4_loss: 4.3051 - val_Flatout5_loss: 6.1756 - val_Flatout6_loss: 4.1932 - val_Flatout7_loss: 6.1976 - val_Flatout8_loss: 4.1403 - val_Flatout9_loss: 4.7498 - val_Flatout0_categorical_accuracy: 0.6762 - val_Flatout1_categorical_accuracy: 0.1645 - val_Flatout2_categorical_accuracy: 0.2293 - val_Flatout3_categorical_accuracy: 0.1057 - val_Flatout4_categorical_accuracy: 0.1664 - val_Flatout5_categorical_accuracy: 0.0979 - val_Flatout6_categorical_accuracy: 0.2000 - val_Flatout7_categorical_accuracy: 0.0800 - val_Flatout8_categorical_accuracy: 0.1843 - val_Flatout9_categorical_accuracy: 0.2298\n",
            "Epoch 6/40\n",
            " - 87s - loss: 32.8043 - Flatout0_loss: 1.2363 - Flatout1_loss: 3.3689 - Flatout2_loss: 3.3064 - Flatout3_loss: 3.7839 - Flatout4_loss: 3.5753 - Flatout5_loss: 3.8818 - Flatout6_loss: 3.4644 - Flatout7_loss: 3.8908 - Flatout8_loss: 3.4894 - Flatout9_loss: 2.8071 - Flatout0_categorical_accuracy: 0.6564 - Flatout1_categorical_accuracy: 0.3446 - Flatout2_categorical_accuracy: 0.2629 - Flatout3_categorical_accuracy: 0.2785 - Flatout4_categorical_accuracy: 0.2041 - Flatout5_categorical_accuracy: 0.2423 - Flatout6_categorical_accuracy: 0.2391 - Flatout7_categorical_accuracy: 0.2432 - Flatout8_categorical_accuracy: 0.2146 - Flatout9_categorical_accuracy: 0.4172 - val_loss: 46.2504 - val_Flatout0_loss: 1.2649 - val_Flatout1_loss: 5.3195 - val_Flatout2_loss: 3.9786 - val_Flatout3_loss: 6.0098 - val_Flatout4_loss: 4.2777 - val_Flatout5_loss: 6.2046 - val_Flatout6_loss: 4.1650 - val_Flatout7_loss: 6.2245 - val_Flatout8_loss: 4.1170 - val_Flatout9_loss: 4.6888 - val_Flatout0_categorical_accuracy: 0.6821 - val_Flatout1_categorical_accuracy: 0.1762 - val_Flatout2_categorical_accuracy: 0.2302 - val_Flatout3_categorical_accuracy: 0.1086 - val_Flatout4_categorical_accuracy: 0.1693 - val_Flatout5_categorical_accuracy: 0.0960 - val_Flatout6_categorical_accuracy: 0.1964 - val_Flatout7_categorical_accuracy: 0.0840 - val_Flatout8_categorical_accuracy: 0.1862 - val_Flatout9_categorical_accuracy: 0.2386\n",
            "Epoch 7/40\n",
            " - 87s - loss: 30.7408 - Flatout0_loss: 1.1811 - Flatout1_loss: 3.0682 - Flatout2_loss: 3.1586 - Flatout3_loss: 3.4919 - Flatout4_loss: 3.4342 - Flatout5_loss: 3.6074 - Flatout6_loss: 3.3273 - Flatout7_loss: 3.6130 - Flatout8_loss: 3.3527 - Flatout9_loss: 2.5065 - Flatout0_categorical_accuracy: 0.6685 - Flatout1_categorical_accuracy: 0.3937 - Flatout2_categorical_accuracy: 0.2852 - Flatout3_categorical_accuracy: 0.3187 - Flatout4_categorical_accuracy: 0.2268 - Flatout5_categorical_accuracy: 0.2826 - Flatout6_categorical_accuracy: 0.2551 - Flatout7_categorical_accuracy: 0.2823 - Flatout8_categorical_accuracy: 0.2370 - Flatout9_categorical_accuracy: 0.4656 - val_loss: 46.1940 - val_Flatout0_loss: 1.2391 - val_Flatout1_loss: 5.2867 - val_Flatout2_loss: 3.9596 - val_Flatout3_loss: 6.0246 - val_Flatout4_loss: 4.2665 - val_Flatout5_loss: 6.2439 - val_Flatout6_loss: 4.1644 - val_Flatout7_loss: 6.2556 - val_Flatout8_loss: 4.1059 - val_Flatout9_loss: 4.6477 - val_Flatout0_categorical_accuracy: 0.6948 - val_Flatout1_categorical_accuracy: 0.1919 - val_Flatout2_categorical_accuracy: 0.2310 - val_Flatout3_categorical_accuracy: 0.1150 - val_Flatout4_categorical_accuracy: 0.1652 - val_Flatout5_categorical_accuracy: 0.0960 - val_Flatout6_categorical_accuracy: 0.2048 - val_Flatout7_categorical_accuracy: 0.0900 - val_Flatout8_categorical_accuracy: 0.1888 - val_Flatout9_categorical_accuracy: 0.2533\n",
            "Epoch 8/40\n",
            " - 87s - loss: 29.1184 - Flatout0_loss: 1.1333 - Flatout1_loss: 2.8368 - Flatout2_loss: 3.0458 - Flatout3_loss: 3.2681 - Flatout4_loss: 3.3186 - Flatout5_loss: 3.3921 - Flatout6_loss: 3.2244 - Flatout7_loss: 3.3858 - Flatout8_loss: 3.2337 - Flatout9_loss: 2.2801 - Flatout0_categorical_accuracy: 0.6775 - Flatout1_categorical_accuracy: 0.4299 - Flatout2_categorical_accuracy: 0.3026 - Flatout3_categorical_accuracy: 0.3501 - Flatout4_categorical_accuracy: 0.2426 - Flatout5_categorical_accuracy: 0.3119 - Flatout6_categorical_accuracy: 0.2683 - Flatout7_categorical_accuracy: 0.3148 - Flatout8_categorical_accuracy: 0.2547 - Flatout9_categorical_accuracy: 0.5080 - val_loss: 46.2457 - val_Flatout0_loss: 1.2158 - val_Flatout1_loss: 5.2835 - val_Flatout2_loss: 3.9447 - val_Flatout3_loss: 6.0495 - val_Flatout4_loss: 4.2728 - val_Flatout5_loss: 6.2797 - val_Flatout6_loss: 4.1888 - val_Flatout7_loss: 6.2735 - val_Flatout8_loss: 4.1059 - val_Flatout9_loss: 4.6316 - val_Flatout0_categorical_accuracy: 0.6967 - val_Flatout1_categorical_accuracy: 0.1955 - val_Flatout2_categorical_accuracy: 0.2455 - val_Flatout3_categorical_accuracy: 0.1157 - val_Flatout4_categorical_accuracy: 0.1681 - val_Flatout5_categorical_accuracy: 0.0969 - val_Flatout6_categorical_accuracy: 0.2010 - val_Flatout7_categorical_accuracy: 0.0890 - val_Flatout8_categorical_accuracy: 0.1924 - val_Flatout9_categorical_accuracy: 0.2619\n",
            "Epoch 9/40\n",
            " - 87s - loss: 27.7292 - Flatout0_loss: 1.0928 - Flatout1_loss: 2.6415 - Flatout2_loss: 2.9463 - Flatout3_loss: 3.0709 - Flatout4_loss: 3.2238 - Flatout5_loss: 3.2022 - Flatout6_loss: 3.1247 - Flatout7_loss: 3.1941 - Flatout8_loss: 3.1418 - Flatout9_loss: 2.0911 - Flatout0_categorical_accuracy: 0.6883 - Flatout1_categorical_accuracy: 0.4627 - Flatout2_categorical_accuracy: 0.3140 - Flatout3_categorical_accuracy: 0.3820 - Flatout4_categorical_accuracy: 0.2544 - Flatout5_categorical_accuracy: 0.3407 - Flatout6_categorical_accuracy: 0.2818 - Flatout7_categorical_accuracy: 0.3448 - Flatout8_categorical_accuracy: 0.2647 - Flatout9_categorical_accuracy: 0.5383 - val_loss: 46.3001 - val_Flatout0_loss: 1.2061 - val_Flatout1_loss: 5.2809 - val_Flatout2_loss: 3.9398 - val_Flatout3_loss: 6.0615 - val_Flatout4_loss: 4.2655 - val_Flatout5_loss: 6.3131 - val_Flatout6_loss: 4.1959 - val_Flatout7_loss: 6.3075 - val_Flatout8_loss: 4.1030 - val_Flatout9_loss: 4.6268 - val_Flatout0_categorical_accuracy: 0.7010 - val_Flatout1_categorical_accuracy: 0.2007 - val_Flatout2_categorical_accuracy: 0.2402 - val_Flatout3_categorical_accuracy: 0.1152 - val_Flatout4_categorical_accuracy: 0.1748 - val_Flatout5_categorical_accuracy: 0.0990 - val_Flatout6_categorical_accuracy: 0.1981 - val_Flatout7_categorical_accuracy: 0.0919 - val_Flatout8_categorical_accuracy: 0.1926 - val_Flatout9_categorical_accuracy: 0.2586\n",
            "Epoch 10/40\n"
          ],
          "name": "stdout"
        }
      ]
    },
    {
      "metadata": {
        "colab_type": "code",
        "id": "UW1CiBhnXnxa",
        "colab": {
          "base_uri": "https://localhost:8080/",
          "height": 34
        },
        "outputId": "ee81a968-f02b-4b88-94b5-dc2ae9e3bbd9"
      },
      "cell_type": "code",
      "source": [
        "!mv model_syllables2.h5 model_syllables.h5\n",
        "!ls -alh | grep model_syllables.h5\n",
        "#!ls /content/gdrive/'My Drive'/'Colab Notebooks'\n",
        "\n",
        "!cp model_syllables.h5 /content/gdrive/My\\ Drive/Colab\\ Notebooks/model_syllables.h5"
      ],
      "execution_count": 25,
      "outputs": [
        {
          "output_type": "stream",
          "text": [
            "-rw-r--r-- 1 root root 523M Nov  8 20:47 model_syllables.h5\n"
          ],
          "name": "stdout"
        }
      ]
    },
    {
      "metadata": {
        "id": "EAmr2oxhyo1D",
        "colab_type": "code",
        "colab": {
          "base_uri": "https://localhost:8080/",
          "height": 376
        },
        "outputId": "236642c6-de48-4056-cf6b-d768c73b4dfa"
      },
      "cell_type": "code",
      "source": [
        "if history != None:\n",
        "  # summarize history for accuracy\n",
        "  plt.plot(history.history['loss'])\n",
        "  plt.plot(history.history['val_loss'])\n",
        "  plt.title('model loss')\n",
        "  plt.ylabel('loss')\n",
        "  plt.xlabel('epoch')\n",
        "  plt.legend(['train', 'test'], loc='upper left')\n",
        "  plt.show()"
      ],
      "execution_count": 14,
      "outputs": [
        {
          "output_type": "display_data",
          "data": {
            "image/png": "[encoded data removed]",
            "text/plain": [
              "<matplotlib.figure.Figure at 0x7f3d249d2ef0>"
            ]
          },
          "metadata": {
            "tags": []
          }
        }
      ]
    },
    {
      "metadata": {
        "id": "OWoyYNWgyqS5",
        "colab_type": "code",
        "colab": {
          "base_uri": "https://localhost:8080/",
          "height": 445
        },
        "outputId": "ccbd7242-cb91-442f-c0d6-a6ce6bcec8e8"
      },
      "cell_type": "code",
      "source": [
        "num_tests = 10\n",
        "if history != None:\n",
        "  for key in history.history.keys():\n",
        "    print(key)\n",
        "    print(type(history.history[key]))\n",
        "    print(len(history.history[key]))\n",
        "    print(type(history.history[key][0]))\n",
        "    break\n",
        "  acc = [1.0]*num_tests\n",
        "  val_acc = [1.0]*num_tests\n",
        "  for i in range(num_tests):\n",
        "    sum = 0.0\n",
        "    val_sum = 0.0\n",
        "    count = 0\n",
        "    for key in history.history.keys():\n",
        "      vals = history.history[key]\n",
        "      if key.endswith('categorical_accuracy') and not key.startswith('val_'):\n",
        "        sum += vals[i]\n",
        "      if key.endswith('categorical_accuracy') and key.startswith('val_'):\n",
        "        val_sum += vals[i]\n",
        "    acc[i] = sum\n",
        "    val_acc[i] = val_sum\n",
        "    \n",
        "  history.history['val_acc'] = val_acc\n",
        "  history.history['acc'] = acc\n",
        "  # summarize history for accuracy\n",
        "  plt.plot(history.history['acc'])\n",
        "  plt.plot(history.history['val_acc'])\n",
        "  plt.title('model accuracy')\n",
        "  plt.ylabel('accuracy')\n",
        "  plt.xlabel('epoch')\n",
        "  plt.legend(['train', 'test'], loc='upper left')\n",
        "  plt.show()"
      ],
      "execution_count": 24,
      "outputs": [
        {
          "output_type": "stream",
          "text": [
            "val_loss\n",
            "<class 'list'>\n",
            "10\n",
            "<class 'numpy.float64'>\n"
          ],
          "name": "stdout"
        },
        {
          "output_type": "display_data",
          "data": {
            "image/png": "[encoded data removed]",
            "text/plain": [
              "<matplotlib.figure.Figure at 0x7f3d13307358>"
            ]
          },
          "metadata": {
            "tags": []
          }
        }
      ]
    },
    {
      "metadata": {
        "id": "wpVFuz98tLjm",
        "colab_type": "code",
        "colab": {
          "base_uri": "https://localhost:8080/",
          "height": 130
        },
        "outputId": "2cd482f3-1b6a-4ead-dc14-d92cffdd4dfe"
      },
      "cell_type": "code",
      "source": [
        "junk don't run"
      ],
      "execution_count": 16,
      "outputs": [
        {
          "output_type": "error",
          "ename": "SyntaxError",
          "evalue": "ignored",
          "traceback": [
            "\u001b[0;36m  File \u001b[0;32m\"<ipython-input-16-446ca13bd53f>\"\u001b[0;36m, line \u001b[0;32m1\u001b[0m\n\u001b[0;31m    junk don't run\u001b[0m\n\u001b[0m           ^\u001b[0m\n\u001b[0;31mSyntaxError\u001b[0m\u001b[0;31m:\u001b[0m invalid syntax\n"
          ]
        }
      ]
    },
    {
      "metadata": {
        "colab_type": "code",
        "id": "hYhmukbSKpnp",
        "colab": {}
      },
      "cell_type": "code",
      "source": [
        "\n",
        "os.remove('./model_syllables.h5')"
      ],
      "execution_count": 0,
      "outputs": []
    },
    {
      "metadata": {
        "id": "pbH87mEcOKgA",
        "colab_type": "code",
        "colab": {}
      },
      "cell_type": "code",
      "source": [
        "os.remove('./predictions_syllables.pkl')"
      ],
      "execution_count": 0,
      "outputs": []
    }
  ]
}