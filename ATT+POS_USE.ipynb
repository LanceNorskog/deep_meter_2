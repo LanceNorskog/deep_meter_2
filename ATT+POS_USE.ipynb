{
  "nbformat": 4,
  "nbformat_minor": 0,
  "metadata": {
    "colab": {
      "name": "ATT+POS USE.ipynb",
      "version": "0.3.2",
      "provenance": [],
      "collapsed_sections": []
    },
    "kernelspec": {
      "name": "python3",
      "display_name": "Python 3"
    },
    "accelerator": "GPU"
  },
  "cells": [
    {
      "cell_type": "code",
      "metadata": {
        "id": "RYd5dVdmTaK8",
        "colab_type": "code",
        "outputId": "98f51b69-2b4a-4ab3-8afb-d12f8e6015a2",
        "colab": {
          "base_uri": "https://localhost:8080/",
          "height": 214
        }
      },
      "source": [
        "!pip install tensorflow-hub\n",
        "!pip install numpy==1.16.1\n",
        "#!pip install keras==2.1.2\n",
        "!pip install git+https://github.com/LanceNorskog/deep_meter_2#egg=deepmeter\n",
        "#!pip install sortedcontainer\n",
        "\n",
        "from __future__ import print_function\n",
        "import math\n",
        "import pickle\n",
        "import json\n",
        "import os\n",
        "\n",
        "import numpy as np\n",
        "import tensorflow as tf\n",
        "import tensorflow_hub as hub\n",
        "import keras.backend as K\n",
        "import matplotlib.pyplot as plt\n",
        "\n",
        "from keras.preprocessing import sequence\n",
        "from keras.models import Model, Sequential\n",
        "from keras import layers \n",
        "from keras import metrics\n",
        "from keras.datasets import reuters\n",
        "from keras.preprocessing import text\n",
        "\n",
        "from sklearn.model_selection import train_test_split\n",
        "\n",
        "from cmu.syllables_cmu import syllables as word2sylls\n",
        "print(word2sylls['therefore'])\n",
        "\n",
        "# cut texts after this number of words\n",
        "# (among top max_features most common words)\n",
        "max_features = 16000\n",
        "# longest output sentence\n",
        "maxlen = 5\n",
        "batch_size = 32\n",
        "\n",
        "!wget -nc https://raw.githubusercontent.com/LanceNorskog/deep_meter_2/master/haiku_5_same.txt\n",
        "haiku_data = 'haiku_5_same.txt'\n",
        "haiku_text = []\n",
        "with open(haiku_data) as f:\n",
        "    for line in f.readlines():\n",
        "        haiku_text.append(line.split('\\t')[0])\n"
      ],
      "execution_count": 0,
      "outputs": [
        {
          "output_type": "stream",
          "text": [
            "Requirement already satisfied: tensorflow-hub in /usr/local/lib/python3.6/dist-packages (0.4.0)\n",
            "Requirement already satisfied: protobuf>=3.4.0 in /usr/local/lib/python3.6/dist-packages (from tensorflow-hub) (3.7.1)\n",
            "Requirement already satisfied: six>=1.10.0 in /usr/local/lib/python3.6/dist-packages (from tensorflow-hub) (1.12.0)\n",
            "Requirement already satisfied: numpy>=1.12.0 in /usr/local/lib/python3.6/dist-packages (from tensorflow-hub) (1.16.1)\n",
            "Requirement already satisfied: setuptools in /usr/local/lib/python3.6/dist-packages (from protobuf>=3.4.0->tensorflow-hub) (41.0.1)\n",
            "Requirement already satisfied: numpy==1.16.1 in /usr/local/lib/python3.6/dist-packages (1.16.1)\n",
            "Requirement already satisfied: deepmeter from git+https://github.com/LanceNorskog/deep_meter_2#egg=deepmeter in /usr/local/lib/python3.6/dist-packages (0.0.1)\n"
          ],
          "name": "stdout"
        },
        {
          "output_type": "stream",
          "text": [
            "Using TensorFlow backend.\n"
          ],
          "name": "stderr"
        },
        {
          "output_type": "stream",
          "text": [
            "['DH EH R', 'F AO R']\n",
            "File ‘haiku_5_same.txt’ already there; not retrieving.\n",
            "\n"
          ],
          "name": "stdout"
        }
      ]
    },
    {
      "cell_type": "code",
      "metadata": {
        "id": "NPpSGpck_JAv",
        "colab_type": "code",
        "colab": {}
      },
      "source": [
        "def tokenizer_from_json(json_string):\n",
        "    \"\"\"Parses a JSON tokenizer configuration file and returns a\n",
        "    tokenizer instance.\n",
        "    # Arguments\n",
        "        json_string: JSON string encoding a tokenizer configuration.\n",
        "    # Returns\n",
        "        A Keras Tokenizer instance\n",
        "    \"\"\"\n",
        "    tokenizer_config = json.loads(json_string)\n",
        "    config = tokenizer_config.get('config')\n",
        "\n",
        "    word_counts = json.loads(config.pop('word_counts'))\n",
        "    word_docs = json.loads(config.pop('word_docs'))\n",
        "    index_docs = json.loads(config.pop('index_docs'))\n",
        "    # Integer indexing gets converted to strings with json.dumps()\n",
        "    index_docs = {int(k): v for k, v in index_docs.items()}\n",
        "    index_word = json.loads(config.pop('index_word'))\n",
        "    index_word = {int(k): v for k, v in index_word.items()}\n",
        "    word_index = json.loads(config.pop('word_index'))\n",
        "\n",
        "    tokenizer = text.Tokenizer(**config)\n",
        "    tokenizer.word_counts = word_counts\n",
        "    tokenizer.word_docs = word_docs\n",
        "    tokenizer.index_docs = index_docs\n",
        "    tokenizer.word_index = word_index\n",
        "    tokenizer.index_word = index_word\n",
        "\n",
        "    return tokenizer"
      ],
      "execution_count": 0,
      "outputs": []
    },
    {
      "cell_type": "code",
      "metadata": {
        "id": "7JSlaFFPiT5w",
        "colab_type": "code",
        "outputId": "f2aaa9ec-0cb9-47bc-b391-25dfe2d12420",
        "colab": {
          "base_uri": "https://localhost:8080/",
          "height": 340
        }
      },
      "source": [
        "!date\n",
        "!wget -nc https://raw.githubusercontent.com/LanceNorskog/deep_meter_2/master/haiku_5_same.txt\n",
        "!wget -nc https://raw.githubusercontent.com/LanceNorskog/deep_meter_2/master/toki_cmu.json\n",
        "haiku_data = 'haiku_5_same.txt'\n",
        "toki_file = 'toki_cmu.json'\n",
        "haiku_text = []\n",
        "with open(haiku_data) as f:\n",
        "    for line in f.readlines():\n",
        "        haiku_text.append(line.split('\\t')[0])\n",
        "!date\n",
        "big_sylls = set()\n",
        "for index, word in enumerate(word2sylls):\n",
        "    sylls = word2sylls[word]\n",
        "    for syll in sylls:\n",
        "        syll = syll.replace(' ', '').lower()\n",
        "        big_sylls.add(syll)\n",
        "\n",
        "syll2idx = {}\n",
        "for index, syll in enumerate(big_sylls):\n",
        "    syll2idx[syll] = index\n",
        "idx2syll = [0] * len(syll2idx)\n",
        "for index, syll in enumerate(syll2idx):\n",
        "    idx2syll[index] = syll\n",
        "\n",
        "print(syll2idx['dhehr'], idx2syll[1])\n",
        "print('# features: ', len(idx2syll))\n",
        "!date\n",
        "data_all = np.zeros((len(haiku_text), 5), dtype='int32')\n",
        "for i in range(len(haiku_text)):    \n",
        "    seq = text.text_to_word_sequence(haiku_text[i])\n",
        "    sylls = []\n",
        "    for word in seq:\n",
        "        if word in word2sylls:\n",
        "            for syll in word2sylls[word]:\n",
        "                sylls.append(syll.replace(' ', '').lower())\n",
        "    \n",
        "    for j in range(5):\n",
        "        if len(sylls) > j:\n",
        "            data_all[i][j] = syll2idx[sylls[j]]\n",
        "    if i == 0:\n",
        "        print(haiku_text[i])\n",
        "        print(sylls)\n",
        "        print(data_all[i])\n",
        "\n",
        "!date   \n",
        "print(haiku_text[0])\n",
        "print(data_all[0])\n",
        "print(haiku_text[2999])\n",
        "print(data_all[2999])\n",
        "!date\n",
        "#(x_train, x_test, y_train, y_test) = train_test_split(haiku_text, data_all)\n"
      ],
      "execution_count": 0,
      "outputs": [
        {
          "output_type": "stream",
          "text": [
            "Thu Jun 27 21:56:32 UTC 2019\n",
            "File ‘haiku_5_same.txt’ already there; not retrieving.\n",
            "\n",
            "File ‘toki_cmu.json’ already there; not retrieving.\n",
            "\n",
            "Thu Jun 27 21:56:35 UTC 2019\n",
            "12668 aemk\n",
            "# features:  15086\n",
            "Thu Jun 27 21:56:36 UTC 2019\n",
            "a abandon church\n",
            "['ah', 'ah', 'baen', 'dahn', 'cherch']\n",
            "[6763 6763 9255  124 7555]\n",
            "Thu Jun 27 21:56:39 UTC 2019\n",
            "a abandon church\n",
            "[6763 6763 9255  124 7555]\n",
            "a cardboard cutout\n",
            "[ 6763 14984  5325  6329 11795]\n",
            "Thu Jun 27 21:56:40 UTC 2019\n"
          ],
          "name": "stdout"
        }
      ]
    },
    {
      "cell_type": "code",
      "metadata": {
        "id": "UbXnnIliX2td",
        "colab_type": "code",
        "colab": {}
      },
      "source": [
        "module_url = \"https://tfhub.dev/google/universal-sentence-encoder-large/3\" #@param [\"https://tfhub.dev/google/universal-sentence-encoder/2\", \"https://tfhub.dev/google/universal-sentence-encoder-large/3\"]\n",
        "embed = hub.Module(module_url)\n",
        "embed_size = embed.get_output_info_dict()['default'].get_shape()[1].value\n",
        "def UniversalEmbedding(x):\n",
        "    return embed(tf.squeeze(tf.cast(x, tf.string)), signature=\"default\", as_dict=True)[\"default\"]\n",
        "\n"
      ],
      "execution_count": 0,
      "outputs": []
    },
    {
      "cell_type": "code",
      "metadata": {
        "id": "u6ffyQDaP4ot",
        "colab_type": "code",
        "outputId": "4d8ab10a-3f38-406c-c2f6-67031d7e1404",
        "colab": {
          "base_uri": "https://localhost:8080/",
          "height": 196
        }
      },
      "source": [
        "(x_train, x_test, y_train, y_test) = train_test_split(haiku_text, data_all)\n",
        "print(x_train[0], y_train[0])\n",
        "print(x_test[0], y_test[0])\n",
        "print(x_train[-1], y_train[-1])\n",
        "print(x_test[-1], y_test[-1])\n",
        "\n",
        "def get_lstm(size, return_sequences=True):\n",
        "    return layers.CuDNNLSTM(size, return_sequences=return_sequences)\n",
        "\n",
        "def pack(indexes, maxlen):\n",
        "    print(type(indexes))\n",
        "    print(type(indexes[0]))\n",
        "    print(type(indexes[0][0]))\n",
        "    ilen = len(indexes)\n",
        "    out = np.zeros((ilen, maxlen))\n",
        "    for i in range(ilen):\n",
        "        for j in range(len(indexes[i])):\n",
        "            if j >= maxlen:\n",
        "                continue\n",
        "            #print(i,j, len(indexes[i]))  \n",
        "            if len(indexes[i][j]) > 0:\n",
        "                out[i][j] = indexes[i][j][0]\n",
        "    return out\n",
        "    \n",
        "print('Pad sequences (samples x time)')\n",
        "x_train = np.array(x_train)\n",
        "x_test = np.array(x_test)\n",
        "#y_train = np.expand_dims(pack(y_train, maxlen), -1)\n",
        "#y_test = np.expand_dims(pack(y_test, maxlen), -1)\n",
        "y_train = np.expand_dims(y_train, -1)\n",
        "y_test = np.expand_dims(y_test, -1)\n",
        "print('x_train shape:', x_train.shape)\n",
        "print('x_test shape:', x_test.shape)\n",
        "print('y_train shape:', y_train.shape)\n",
        "print('y_test shape:', y_test.shape)\n",
        "print(y_test[0][0])\n",
        "\n"
      ],
      "execution_count": 0,
      "outputs": [
        {
          "output_type": "stream",
          "text": [
            "dressed in a blue gown [ 5305  5219  6763  2284 10067]\n",
            "island counter top [ 5569  4746 13831 13197 11062]\n",
            "toilet paper rolls [ 8802  8122  5662  5108 14488]\n",
            "perform in the race [ 5108 13645  5219 10473  6511]\n",
            "Pad sequences (samples x time)\n",
            "x_train shape: (71716,)\n",
            "x_test shape: (23906,)\n",
            "y_train shape: (71716, 5, 1)\n",
            "y_test shape: (23906, 5, 1)\n",
            "[5569]\n"
          ],
          "name": "stdout"
        }
      ]
    },
    {
      "cell_type": "code",
      "metadata": {
        "id": "3YyrrjKwTDhd",
        "colab_type": "code",
        "colab": {}
      },
      "source": [
        "# https://github.com/philipperemy/keras-snail-attention/blob/master/attention.py\n",
        "class AttentionBlock(layers.Layer):\n",
        "\n",
        "    def __init__(self, dims, k_size, v_size, seq_len=None, **kwargs):\n",
        "        self.k_size = k_size\n",
        "        self.seq_len = seq_len\n",
        "        self.v_size = v_size\n",
        "        self.dims = dims\n",
        "        self.sqrt_k = math.sqrt(k_size)\n",
        "        self.keys_fc = None\n",
        "        self.queries_fc = None\n",
        "        self.values_fc = None\n",
        "        super(AttentionBlock, self).__init__(**kwargs)\n",
        "\n",
        "    def build(self, input_shape):\n",
        "        # https://stackoverflow.com/questions/54194724/how-to-use-keras-layers-in-custom-keras-layer\n",
        "        self.keys_fc = layers.Dense(self.k_size)\n",
        "        self.keys_fc.build((None, self.dims))\n",
        "        self._trainable_weights.extend(self.keys_fc.trainable_weights)\n",
        "\n",
        "        self.queries_fc = layers.Dense(self.k_size)\n",
        "        self.queries_fc.build((None, self.dims))\n",
        "        self._trainable_weights.extend(self.queries_fc.trainable_weights)\n",
        "\n",
        "        self.values_fc = layers.Dense(self.v_size)\n",
        "        self.values_fc.build((None, self.dims))\n",
        "        self._trainable_weights.extend(self.values_fc.trainable_weights)\n",
        "\n",
        "    def call(self, inputs, **kwargs):\n",
        "        # check that the implementation matches exactly py torch.\n",
        "        keys = self.keys_fc(inputs)\n",
        "        queries = self.queries_fc(inputs)\n",
        "        values = self.values_fc(inputs)\n",
        "        logits = K.batch_dot(queries, K.permute_dimensions(keys, (0, 2, 1)))\n",
        "        mask = K.ones_like(logits) * np.triu((-np.inf) * np.ones(logits.shape.as_list()[1:]), k=1)\n",
        "        logits = mask + logits\n",
        "        probs = layers.Softmax(axis=-1)(logits / self.sqrt_k)\n",
        "        read = K.batch_dot(probs, values)\n",
        "        output = K.concatenate([inputs, read], axis=-1)\n",
        "        return output\n",
        "\n",
        "    def compute_output_shape(self, input_shape):\n",
        "        output_shape = list(input_shape)\n",
        "        output_shape[-1] += self.v_size\n",
        "        return tuple(output_shape)\n",
        "\n"
      ],
      "execution_count": 0,
      "outputs": []
    },
    {
      "cell_type": "code",
      "metadata": {
        "id": "OWdU04vHTE61",
        "colab_type": "code",
        "outputId": "89f0809e-3569-4c86-a85d-863ca3a0e06d",
        "colab": {
          "base_uri": "https://localhost:8080/",
          "height": 1000
        }
      },
      "source": [
        "def sparse_categorical_accuracy(y_true, y_pred):\n",
        "    # reshape in case it's in shape (num_samples, 1) instead of (num_samples,)\n",
        "    if K.ndim(y_true) == K.ndim(y_pred):\n",
        "        y_true = K.squeeze(y_true, -1)\n",
        "    # convert dense predictions to labels\n",
        "    y_pred_labels = K.argmax(y_pred, axis=-1)\n",
        "    y_pred_labels = K.cast(y_pred_labels, K.floatx())\n",
        "    return K.cast(K.equal(y_true, y_pred_labels), K.floatx())\n",
        "\n",
        "def sparse_categorical_accuracy_per_sequence(y_true, y_pred):\n",
        "    # reshape in case it's in shape (num_samples, 1) instead of (num_samples,)\n",
        "    if K.ndim(y_true) == K.ndim(y_pred):\n",
        "        y_true = K.squeeze(y_true, -1)\n",
        "    # convert dense predictions to labels\n",
        "    y_pred_labels = K.argmax(y_pred, axis=-1)\n",
        "    y_pred_labels = K.cast(y_pred_labels, K.floatx())\n",
        "    return K.min(K.cast(K.equal(y_true, y_pred_labels), K.floatx()), axis=-1)\n",
        "\n",
        "def sparse_temporal_top_k_categorical_accuracy(y_true, y_pred, k=5):\n",
        "    original_shape = K.shape(y_true)\n",
        "    y_true = K.reshape(y_true, (-1, K.shape(y_true)[-1]))\n",
        "    y_pred = K.reshape(y_pred, (-1, K.shape(y_pred)[-1]))\n",
        "    top_k = K.in_top_k(y_pred, K.cast(K.max(y_true, axis=-1), 'int32'), k)\n",
        "    return K.reshape(top_k, original_shape[:-1])\n",
        "\n",
        "def sparse_temporal_top_k_categorical_accuracy_per_sequence(y_true, y_pred, k=5):\n",
        "    original_shape = K.shape(y_true)\n",
        "    y_true = K.reshape(y_true, (-1, K.shape(y_true)[-1]))\n",
        "    y_pred = K.reshape(y_pred, (-1, K.shape(y_pred)[-1]))\n",
        "    top_k = K.in_top_k(y_pred, K.cast(K.max(y_true, axis=-1), 'int32'), k)\n",
        "    perfect = K.min(K.cast(top_k, 'int32'), axis=-1)\n",
        "    return perfect #K.expand_dims(perfect, axis=-1)\n",
        "\n",
        "def sparse(y_true, y_pred):\n",
        "    return sparse_categorical_accuracy(y_true, y_pred)\n",
        "def sparse1(y_true, y_pred):\n",
        "    return sparse_temporal_top_k_categorical_accuracy(y_true, y_pred, k=1)\n",
        "def perfect(y_true, y_pred):\n",
        "    return sparse_categorical_accuracy_per_sequence(y_true, y_pred)\n",
        "def perfect1(y_true, y_pred):\n",
        "    return sparse_temporal_top_k_categorical_accuracy_per_sequence(y_true, y_pred, k=1)\n",
        "def sparse5(y_true, y_pred):\n",
        "    return sparse_temporal_top_k_categorical_accuracy(y_true, y_pred, k=5)\n",
        "def perfect5(y_true, y_pred):\n",
        "    return sparse_temporal_top_k_categorical_accuracy_per_sequence(y_true, y_pred, k=5)\n",
        "def fscore(y_true, y_pred):\n",
        "    recall = K.mean(sparse_categorical_accuracy(y_true, y_pred))\n",
        "    precision = K.mean(sparse_categorical_accuracy_per_sequence(y_true, y_pred))\n",
        "    return 2 * ((recall * precision)/(recall + precision))\n",
        "\n",
        "\n",
        "units_k=embed_size\n",
        "units_v=embed_size//3\n",
        "units=512\n",
        "\n",
        "metric_list = [sparse, sparse1, perfect, perfect1, sparse5, perfect5]\n",
        "metric_names = ['sparse', 'sparse1', 'perfect', 'perfect1', 'sparse5', 'perfect5']\n",
        "\n",
        "input_text = layers.Input(shape=(1,), dtype=tf.string)\n",
        "x = layers.Lambda(UniversalEmbedding, output_shape=(embed_size,), name='TF-Hub')(input_text)\n",
        "x = layers.RepeatVector(maxlen)(x)\n",
        "if False:\n",
        "    #x = layers.Dropout(0.1)(x)\n",
        "    x = AttentionBlock(embed_size, k_size=units_k, v_size=units_v)(x)\n",
        "x = get_lstm(units, return_sequences=True)(x)\n",
        "x = layers.Dropout(0.5)(x)\n",
        "# with 0.1, perfect peaked at 40 epochs\n",
        "x = layers.Dense(max_features, activation='softmax')(x)\n",
        "#x = layers.Reshape((-1, max_features * maxlen))(x)\n",
        "\n",
        "\n",
        "model = Model(inputs=[input_text], outputs=x)\n",
        "model.compile('adam', 'sparse_categorical_crossentropy', metrics=metric_list)\n",
        "model.summary()\n",
        "\n",
        "# try using different optimizers and different optimizer configs\n",
        "\n",
        "print('Train...')\n",
        "history = None\n",
        "use_saved_model=False\n",
        "if not use_saved_model or not os.path.exists('./model.h5'):\n",
        "  with tf.Session() as session:\n",
        "    K.set_session(session)\n",
        "    session.run(tf.global_variables_initializer())\n",
        "    session.run(tf.tables_initializer())\n",
        "\n",
        "    history = model.fit(x_train, y_train,\n",
        "          batch_size=batch_size,\n",
        "          epochs=50,\n",
        "          verbose=2,\n",
        "          validation_data=[x_test, y_test])\n",
        "    model.save_weights('./model.h5')\n"
      ],
      "execution_count": 0,
      "outputs": [
        {
          "output_type": "stream",
          "text": [
            "WARNING: Logging before flag parsing goes to stderr.\n",
            "W0627 21:56:42.921517 140591835309952 deprecation_wrapper.py:119] From /usr/local/lib/python3.6/dist-packages/keras/backend/tensorflow_backend.py:74: The name tf.get_default_graph is deprecated. Please use tf.compat.v1.get_default_graph instead.\n",
            "\n",
            "W0627 21:56:42.922987 140591835309952 deprecation_wrapper.py:119] From /usr/local/lib/python3.6/dist-packages/keras/backend/tensorflow_backend.py:517: The name tf.placeholder is deprecated. Please use tf.compat.v1.placeholder instead.\n",
            "\n",
            "W0627 21:56:44.332704 140591835309952 deprecation_wrapper.py:119] From /usr/local/lib/python3.6/dist-packages/keras/backend/tensorflow_backend.py:4138: The name tf.random_uniform is deprecated. Please use tf.random.uniform instead.\n",
            "\n",
            "W0627 21:56:44.945052 140591835309952 deprecation_wrapper.py:119] From /usr/local/lib/python3.6/dist-packages/keras/backend/tensorflow_backend.py:133: The name tf.placeholder_with_default is deprecated. Please use tf.compat.v1.placeholder_with_default instead.\n",
            "\n",
            "W0627 21:56:44.955622 140591835309952 deprecation.py:506] From /usr/local/lib/python3.6/dist-packages/keras/backend/tensorflow_backend.py:3445: calling dropout (from tensorflow.python.ops.nn_ops) with keep_prob is deprecated and will be removed in a future version.\n",
            "Instructions for updating:\n",
            "Please use `rate` instead of `keep_prob`. Rate should be set to `rate = 1 - keep_prob`.\n",
            "W0627 21:56:44.996932 140591835309952 deprecation_wrapper.py:119] From /usr/local/lib/python3.6/dist-packages/keras/optimizers.py:790: The name tf.train.Optimizer is deprecated. Please use tf.compat.v1.train.Optimizer instead.\n",
            "\n",
            "W0627 21:56:45.019266 140591835309952 deprecation_wrapper.py:119] From /usr/local/lib/python3.6/dist-packages/keras/backend/tensorflow_backend.py:3341: The name tf.log is deprecated. Please use tf.math.log instead.\n",
            "\n"
          ],
          "name": "stderr"
        },
        {
          "output_type": "stream",
          "text": [
            "_________________________________________________________________\n",
            "Layer (type)                 Output Shape              Param #   \n",
            "=================================================================\n",
            "input_1 (InputLayer)         (None, 1)                 0         \n",
            "_________________________________________________________________\n",
            "TF-Hub (Lambda)              (None, 512)               0         \n",
            "_________________________________________________________________\n",
            "repeat_vector_1 (RepeatVecto (None, 5, 512)            0         \n",
            "_________________________________________________________________\n",
            "cu_dnnlstm_1 (CuDNNLSTM)     (None, 5, 512)            2101248   \n",
            "_________________________________________________________________\n",
            "dropout_1 (Dropout)          (None, 5, 512)            0         \n",
            "_________________________________________________________________\n",
            "dense_1 (Dense)              (None, 5, 16000)          8208000   \n",
            "=================================================================\n",
            "Total params: 10,309,248\n",
            "Trainable params: 10,309,248\n",
            "Non-trainable params: 0\n",
            "_________________________________________________________________\n",
            "Train...\n"
          ],
          "name": "stdout"
        },
        {
          "output_type": "stream",
          "text": [
            "W0627 21:56:48.094377 140591835309952 deprecation.py:323] From /usr/local/lib/python3.6/dist-packages/tensorflow/python/ops/math_grad.py:1250: add_dispatch_support.<locals>.wrapper (from tensorflow.python.ops.array_ops) is deprecated and will be removed in a future version.\n",
            "Instructions for updating:\n",
            "Use tf.where in 2.0, which has the same broadcast rule as np.where\n"
          ],
          "name": "stderr"
        },
        {
          "output_type": "stream",
          "text": [
            "Train on 71716 samples, validate on 23906 samples\n",
            "Epoch 1/50\n",
            " - 91s - loss: 4.6094 - sparse: 0.2368 - sparse1: 0.2368 - perfect: 0.0035 - perfect1: 0.0000e+00 - sparse5: 0.4214 - perfect5: 0.0000e+00 - val_loss: 3.2398 - val_sparse: 0.3952 - val_sparse1: 0.3952 - val_perfect: 0.0220 - val_perfect1: 0.0000e+00 - val_sparse5: 0.6248 - val_perfect5: 0.0000e+00\n",
            "Epoch 2/50\n",
            " - 87s - loss: 2.9758 - sparse: 0.4260 - sparse1: 0.4260 - perfect: 0.0349 - perfect1: 0.0000e+00 - sparse5: 0.6580 - perfect5: 0.0000e+00 - val_loss: 2.5235 - val_sparse: 0.5026 - val_sparse1: 0.5026 - val_perfect: 0.0737 - val_perfect1: 0.0000e+00 - val_sparse5: 0.7261 - val_perfect5: 0.0000e+00\n",
            "Epoch 3/50\n",
            " - 86s - loss: 2.4466 - sparse: 0.5008 - sparse1: 0.5008 - perfect: 0.0741 - perfect1: 0.0000e+00 - sparse5: 0.7314 - perfect5: 0.0000e+00 - val_loss: 2.1979 - val_sparse: 0.5556 - val_sparse1: 0.5556 - val_perfect: 0.1190 - val_perfect1: 0.0000e+00 - val_sparse5: 0.7725 - val_perfect5: 0.0000e+00\n",
            "Epoch 4/50\n",
            " - 85s - loss: 2.1434 - sparse: 0.5469 - sparse1: 0.5469 - perfect: 0.1058 - perfect1: 0.0000e+00 - sparse5: 0.7732 - perfect5: 0.0000e+00 - val_loss: 2.0044 - val_sparse: 0.5882 - val_sparse1: 0.5882 - val_perfect: 0.1560 - val_perfect1: 0.0000e+00 - val_sparse5: 0.7974 - val_perfect5: 0.0000e+00\n",
            "Epoch 5/50\n",
            " - 86s - loss: 1.9322 - sparse: 0.5814 - sparse1: 0.5814 - perfect: 0.1339 - perfect1: 0.0000e+00 - sparse5: 0.8013 - perfect5: 0.0000e+00 - val_loss: 1.8886 - val_sparse: 0.6083 - val_sparse1: 0.6083 - val_perfect: 0.1825 - val_perfect1: 0.0000e+00 - val_sparse5: 0.8120 - val_perfect5: 0.0000e+00\n",
            "Epoch 6/50\n",
            " - 85s - loss: 1.7756 - sparse: 0.6063 - sparse1: 0.6063 - perfect: 0.1553 - perfect1: 0.0000e+00 - sparse5: 0.8221 - perfect5: 5.5776e-05 - val_loss: 1.7892 - val_sparse: 0.6256 - val_sparse1: 0.6256 - val_perfect: 0.2027 - val_perfect1: 0.0000e+00 - val_sparse5: 0.8255 - val_perfect5: 0.0000e+00\n",
            "Epoch 7/50\n",
            " - 85s - loss: 1.6486 - sparse: 0.6287 - sparse1: 0.6287 - perfect: 0.1772 - perfect1: 0.0000e+00 - sparse5: 0.8389 - perfect5: 0.0000e+00 - val_loss: 1.7350 - val_sparse: 0.6379 - val_sparse1: 0.6379 - val_perfect: 0.2204 - val_perfect1: 0.0000e+00 - val_sparse5: 0.8307 - val_perfect5: 0.0000e+00\n",
            "Epoch 8/50\n",
            " - 85s - loss: 1.5428 - sparse: 0.6461 - sparse1: 0.6461 - perfect: 0.1967 - perfect1: 0.0000e+00 - sparse5: 0.8524 - perfect5: 0.0000e+00 - val_loss: 1.6810 - val_sparse: 0.6462 - val_sparse1: 0.6462 - val_perfect: 0.2306 - val_perfect1: 0.0000e+00 - val_sparse5: 0.8373 - val_perfect5: 0.0000e+00\n",
            "Epoch 9/50\n",
            " - 85s - loss: 1.4544 - sparse: 0.6635 - sparse1: 0.6635 - perfect: 0.2155 - perfect1: 0.0000e+00 - sparse5: 0.8632 - perfect5: 0.0000e+00 - val_loss: 1.6483 - val_sparse: 0.6537 - val_sparse1: 0.6537 - val_perfect: 0.2423 - val_perfect1: 0.0000e+00 - val_sparse5: 0.8428 - val_perfect5: 0.0000e+00\n",
            "Epoch 10/50\n",
            " - 85s - loss: 1.3742 - sparse: 0.6784 - sparse1: 0.6784 - perfect: 0.2313 - perfect1: 0.0000e+00 - sparse5: 0.8740 - perfect5: 5.5776e-05 - val_loss: 1.6153 - val_sparse: 0.6608 - val_sparse1: 0.6608 - val_perfect: 0.2538 - val_perfect1: 0.0000e+00 - val_sparse5: 0.8475 - val_perfect5: 0.0000e+00\n",
            "Epoch 11/50\n",
            " - 85s - loss: 1.3065 - sparse: 0.6914 - sparse1: 0.6914 - perfect: 0.2458 - perfect1: 0.0000e+00 - sparse5: 0.8820 - perfect5: 0.0000e+00 - val_loss: 1.6001 - val_sparse: 0.6648 - val_sparse1: 0.6648 - val_perfect: 0.2593 - val_perfect1: 0.0000e+00 - val_sparse5: 0.8495 - val_perfect5: 0.0000e+00\n",
            "Epoch 12/50\n",
            " - 85s - loss: 1.2451 - sparse: 0.7031 - sparse1: 0.7031 - perfect: 0.2582 - perfect1: 0.0000e+00 - sparse5: 0.8901 - perfect5: 0.0000e+00 - val_loss: 1.5774 - val_sparse: 0.6691 - val_sparse1: 0.6691 - val_perfect: 0.2664 - val_perfect1: 0.0000e+00 - val_sparse5: 0.8522 - val_perfect5: 0.0000e+00\n",
            "Epoch 13/50\n",
            " - 85s - loss: 1.1947 - sparse: 0.7129 - sparse1: 0.7129 - perfect: 0.2702 - perfect1: 0.0000e+00 - sparse5: 0.8962 - perfect5: 0.0000e+00 - val_loss: 1.5623 - val_sparse: 0.6738 - val_sparse1: 0.6738 - val_perfect: 0.2741 - val_perfect1: 0.0000e+00 - val_sparse5: 0.8537 - val_perfect5: 0.0000e+00\n",
            "Epoch 14/50\n",
            " - 85s - loss: 1.1456 - sparse: 0.7219 - sparse1: 0.7219 - perfect: 0.2805 - perfect1: 0.0000e+00 - sparse5: 0.9026 - perfect5: 0.0000e+00 - val_loss: 1.5612 - val_sparse: 0.6755 - val_sparse1: 0.6755 - val_perfect: 0.2798 - val_perfect1: 0.0000e+00 - val_sparse5: 0.8550 - val_perfect5: 0.0000e+00\n",
            "Epoch 15/50\n",
            " - 85s - loss: 1.1002 - sparse: 0.7309 - sparse1: 0.7309 - perfect: 0.2919 - perfect1: 0.0000e+00 - sparse5: 0.9080 - perfect5: 0.0000e+00 - val_loss: 1.5475 - val_sparse: 0.6789 - val_sparse1: 0.6789 - val_perfect: 0.2844 - val_perfect1: 0.0000e+00 - val_sparse5: 0.8573 - val_perfect5: 0.0000e+00\n",
            "Epoch 16/50\n",
            " - 85s - loss: 1.0638 - sparse: 0.7383 - sparse1: 0.7383 - perfect: 0.3025 - perfect1: 0.0000e+00 - sparse5: 0.9124 - perfect5: 0.0000e+00 - val_loss: 1.5490 - val_sparse: 0.6796 - val_sparse1: 0.6796 - val_perfect: 0.2841 - val_perfect1: 0.0000e+00 - val_sparse5: 0.8580 - val_perfect5: 0.0000e+00\n",
            "Epoch 17/50\n",
            " - 85s - loss: 1.0296 - sparse: 0.7453 - sparse1: 0.7453 - perfect: 0.3115 - perfect1: 0.0000e+00 - sparse5: 0.9166 - perfect5: 5.5776e-05 - val_loss: 1.5397 - val_sparse: 0.6842 - val_sparse1: 0.6842 - val_perfect: 0.2929 - val_perfect1: 0.0000e+00 - val_sparse5: 0.8590 - val_perfect5: 0.0000e+00\n",
            "Epoch 18/50\n",
            " - 85s - loss: 0.9984 - sparse: 0.7519 - sparse1: 0.7519 - perfect: 0.3207 - perfect1: 0.0000e+00 - sparse5: 0.9201 - perfect5: 5.5776e-05 - val_loss: 1.5363 - val_sparse: 0.6863 - val_sparse1: 0.6863 - val_perfect: 0.2974 - val_perfect1: 0.0000e+00 - val_sparse5: 0.8597 - val_perfect5: 0.0000e+00\n",
            "Epoch 19/50\n",
            " - 85s - loss: 0.9674 - sparse: 0.7582 - sparse1: 0.7582 - perfect: 0.3290 - perfect1: 0.0000e+00 - sparse5: 0.9243 - perfect5: 5.5776e-05 - val_loss: 1.5577 - val_sparse: 0.6840 - val_sparse1: 0.6840 - val_perfect: 0.2952 - val_perfect1: 0.0000e+00 - val_sparse5: 0.8595 - val_perfect5: 0.0000e+00\n",
            "Epoch 20/50\n",
            " - 85s - loss: 0.9376 - sparse: 0.7645 - sparse1: 0.7645 - perfect: 0.3382 - perfect1: 0.0000e+00 - sparse5: 0.9268 - perfect5: 5.5776e-05 - val_loss: 1.5370 - val_sparse: 0.6879 - val_sparse1: 0.6879 - val_perfect: 0.3013 - val_perfect1: 0.0000e+00 - val_sparse5: 0.8614 - val_perfect5: 0.0000e+00\n",
            "Epoch 21/50\n",
            " - 84s - loss: 0.9123 - sparse: 0.7691 - sparse1: 0.7691 - perfect: 0.3445 - perfect1: 0.0000e+00 - sparse5: 0.9302 - perfect5: 5.5776e-05 - val_loss: 1.5353 - val_sparse: 0.6889 - val_sparse1: 0.6889 - val_perfect: 0.3028 - val_perfect1: 0.0000e+00 - val_sparse5: 0.8609 - val_perfect5: 0.0000e+00\n",
            "Epoch 22/50\n",
            " - 85s - loss: 0.8892 - sparse: 0.7740 - sparse1: 0.7740 - perfect: 0.3515 - perfect1: 0.0000e+00 - sparse5: 0.9327 - perfect5: 0.0000e+00 - val_loss: 1.5567 - val_sparse: 0.6886 - val_sparse1: 0.6886 - val_perfect: 0.3036 - val_perfect1: 0.0000e+00 - val_sparse5: 0.8611 - val_perfect5: 0.0000e+00\n",
            "Epoch 23/50\n",
            " - 85s - loss: 0.8663 - sparse: 0.7786 - sparse1: 0.7786 - perfect: 0.3577 - perfect1: 0.0000e+00 - sparse5: 0.9355 - perfect5: 5.5776e-05 - val_loss: 1.5523 - val_sparse: 0.6896 - val_sparse1: 0.6896 - val_perfect: 0.3051 - val_perfect1: 0.0000e+00 - val_sparse5: 0.8615 - val_perfect5: 0.0000e+00\n",
            "Epoch 24/50\n",
            " - 85s - loss: 0.8489 - sparse: 0.7825 - sparse1: 0.7825 - perfect: 0.3639 - perfect1: 0.0000e+00 - sparse5: 0.9374 - perfect5: 0.0000e+00 - val_loss: 1.5491 - val_sparse: 0.6924 - val_sparse1: 0.6924 - val_perfect: 0.3102 - val_perfect1: 0.0000e+00 - val_sparse5: 0.8619 - val_perfect5: 0.0000e+00\n",
            "Epoch 25/50\n",
            " - 85s - loss: 0.8278 - sparse: 0.7869 - sparse1: 0.7869 - perfect: 0.3706 - perfect1: 0.0000e+00 - sparse5: 0.9398 - perfect5: 4.4620e-04 - val_loss: 1.5551 - val_sparse: 0.6922 - val_sparse1: 0.6922 - val_perfect: 0.3067 - val_perfect1: 0.0000e+00 - val_sparse5: 0.8620 - val_perfect5: 0.0000e+00\n",
            "Epoch 26/50\n",
            " - 85s - loss: 0.8115 - sparse: 0.7915 - sparse1: 0.7915 - perfect: 0.3798 - perfect1: 0.0000e+00 - sparse5: 0.9413 - perfect5: 0.0000e+00 - val_loss: 1.5450 - val_sparse: 0.6942 - val_sparse1: 0.6942 - val_perfect: 0.3138 - val_perfect1: 0.0000e+00 - val_sparse5: 0.8624 - val_perfect5: 0.0000e+00\n",
            "Epoch 27/50\n",
            " - 85s - loss: 0.7931 - sparse: 0.7951 - sparse1: 0.7951 - perfect: 0.3827 - perfect1: 0.0000e+00 - sparse5: 0.9436 - perfect5: 5.5776e-05 - val_loss: 1.5566 - val_sparse: 0.6945 - val_sparse1: 0.6945 - val_perfect: 0.3128 - val_perfect1: 0.0000e+00 - val_sparse5: 0.8634 - val_perfect5: 0.0000e+00\n",
            "Epoch 28/50\n",
            " - 85s - loss: 0.7810 - sparse: 0.7970 - sparse1: 0.7970 - perfect: 0.3859 - perfect1: 0.0000e+00 - sparse5: 0.9450 - perfect5: 5.0198e-04 - val_loss: 1.5626 - val_sparse: 0.6945 - val_sparse1: 0.6945 - val_perfect: 0.3131 - val_perfect1: 0.0000e+00 - val_sparse5: 0.8622 - val_perfect5: 0.0000e+00\n",
            "Epoch 29/50\n",
            " - 85s - loss: 0.7621 - sparse: 0.8013 - sparse1: 0.8013 - perfect: 0.3939 - perfect1: 0.0000e+00 - sparse5: 0.9469 - perfect5: 0.0018 - val_loss: 1.5627 - val_sparse: 0.6955 - val_sparse1: 0.6955 - val_perfect: 0.3158 - val_perfect1: 0.0000e+00 - val_sparse5: 0.8632 - val_perfect5: 0.0000e+00\n",
            "Epoch 30/50\n",
            " - 86s - loss: 0.7492 - sparse: 0.8041 - sparse1: 0.8041 - perfect: 0.3977 - perfect1: 0.0000e+00 - sparse5: 0.9482 - perfect5: 0.0018 - val_loss: 1.5682 - val_sparse: 0.6961 - val_sparse1: 0.6961 - val_perfect: 0.3173 - val_perfect1: 0.0000e+00 - val_sparse5: 0.8627 - val_perfect5: 0.0000e+00\n",
            "Epoch 31/50\n",
            " - 85s - loss: 0.7379 - sparse: 0.8067 - sparse1: 0.8067 - perfect: 0.4033 - perfect1: 0.0000e+00 - sparse5: 0.9493 - perfect5: 9.4818e-04 - val_loss: 1.5744 - val_sparse: 0.6961 - val_sparse1: 0.6961 - val_perfect: 0.3210 - val_perfect1: 0.0000e+00 - val_sparse5: 0.8618 - val_perfect5: 0.0000e+00\n",
            "Epoch 32/50\n",
            " - 85s - loss: 0.7254 - sparse: 0.8100 - sparse1: 0.8100 - perfect: 0.4101 - perfect1: 0.0000e+00 - sparse5: 0.9506 - perfect5: 8.9241e-04 - val_loss: 1.5752 - val_sparse: 0.6986 - val_sparse1: 0.6986 - val_perfect: 0.3229 - val_perfect1: 0.0000e+00 - val_sparse5: 0.8632 - val_perfect5: 0.0000e+00\n",
            "Epoch 33/50\n",
            " - 85s - loss: 0.7132 - sparse: 0.8117 - sparse1: 0.8117 - perfect: 0.4116 - perfect1: 0.0000e+00 - sparse5: 0.9519 - perfect5: 9.4818e-04 - val_loss: 1.5779 - val_sparse: 0.6971 - val_sparse1: 0.6971 - val_perfect: 0.3219 - val_perfect1: 0.0000e+00 - val_sparse5: 0.8632 - val_perfect5: 0.0000e+00\n",
            "Epoch 34/50\n",
            " - 85s - loss: 0.7031 - sparse: 0.8142 - sparse1: 0.8142 - perfect: 0.4154 - perfect1: 0.0000e+00 - sparse5: 0.9531 - perfect5: 0.0014 - val_loss: 1.5845 - val_sparse: 0.6978 - val_sparse1: 0.6978 - val_perfect: 0.3216 - val_perfect1: 0.0000e+00 - val_sparse5: 0.8628 - val_perfect5: 0.0000e+00\n",
            "Epoch 35/50\n",
            " - 84s - loss: 0.6918 - sparse: 0.8167 - sparse1: 0.8167 - perfect: 0.4216 - perfect1: 0.0000e+00 - sparse5: 0.9547 - perfect5: 0.0014 - val_loss: 1.5904 - val_sparse: 0.6975 - val_sparse1: 0.6975 - val_perfect: 0.3212 - val_perfect1: 0.0000e+00 - val_sparse5: 0.8629 - val_perfect5: 0.0000e+00\n",
            "Epoch 36/50\n",
            " - 84s - loss: 0.6812 - sparse: 0.8187 - sparse1: 0.8187 - perfect: 0.4246 - perfect1: 0.0000e+00 - sparse5: 0.9555 - perfect5: 8.9241e-04 - val_loss: 1.5936 - val_sparse: 0.6968 - val_sparse1: 0.6968 - val_perfect: 0.3210 - val_perfect1: 0.0000e+00 - val_sparse5: 0.8630 - val_perfect5: 0.0000e+00\n",
            "Epoch 37/50\n",
            " - 84s - loss: 0.6712 - sparse: 0.8217 - sparse1: 0.8217 - perfect: 0.4305 - perfect1: 0.0000e+00 - sparse5: 0.9562 - perfect5: 0.0014 - val_loss: 1.5878 - val_sparse: 0.6990 - val_sparse1: 0.6990 - val_perfect: 0.3254 - val_perfect1: 0.0000e+00 - val_sparse5: 0.8631 - val_perfect5: 0.0000e+00\n",
            "Epoch 38/50\n",
            " - 85s - loss: 0.6633 - sparse: 0.8228 - sparse1: 0.8228 - perfect: 0.4321 - perfect1: 0.0000e+00 - sparse5: 0.9571 - perfect5: 0.0040 - val_loss: 1.5958 - val_sparse: 0.6977 - val_sparse1: 0.6977 - val_perfect: 0.3236 - val_perfect1: 0.0000e+00 - val_sparse5: 0.8629 - val_perfect5: 0.0000e+00\n",
            "Epoch 39/50\n",
            " - 85s - loss: 0.6558 - sparse: 0.8246 - sparse1: 0.8246 - perfect: 0.4364 - perfect1: 0.0000e+00 - sparse5: 0.9584 - perfect5: 0.0022 - val_loss: 1.6106 - val_sparse: 0.6980 - val_sparse1: 0.6980 - val_perfect: 0.3215 - val_perfect1: 0.0000e+00 - val_sparse5: 0.8639 - val_perfect5: 0.0000e+00\n",
            "Epoch 40/50\n",
            " - 85s - loss: 0.6438 - sparse: 0.8276 - sparse1: 0.8276 - perfect: 0.4416 - perfect1: 0.0000e+00 - sparse5: 0.9595 - perfect5: 0.0040 - val_loss: 1.6153 - val_sparse: 0.6983 - val_sparse1: 0.6983 - val_perfect: 0.3232 - val_perfect1: 0.0000e+00 - val_sparse5: 0.8630 - val_perfect5: 0.0000e+00\n",
            "Epoch 41/50\n",
            " - 85s - loss: 0.6376 - sparse: 0.8287 - sparse1: 0.8287 - perfect: 0.4434 - perfect1: 0.0000e+00 - sparse5: 0.9601 - perfect5: 0.0036 - val_loss: 1.6086 - val_sparse: 0.7008 - val_sparse1: 0.7008 - val_perfect: 0.3274 - val_perfect1: 0.0000e+00 - val_sparse5: 0.8625 - val_perfect5: 0.0000e+00\n",
            "Epoch 42/50\n",
            " - 85s - loss: 0.6299 - sparse: 0.8305 - sparse1: 0.8305 - perfect: 0.4472 - perfect1: 0.0000e+00 - sparse5: 0.9605 - perfect5: 0.0036 - val_loss: 1.6164 - val_sparse: 0.6981 - val_sparse1: 0.6981 - val_perfect: 0.3221 - val_perfect1: 0.0000e+00 - val_sparse5: 0.8617 - val_perfect5: 0.0000e+00\n",
            "Epoch 43/50\n",
            " - 85s - loss: 0.6250 - sparse: 0.8322 - sparse1: 0.8322 - perfect: 0.4503 - perfect1: 0.0000e+00 - sparse5: 0.9612 - perfect5: 0.0062 - val_loss: 1.6180 - val_sparse: 0.7004 - val_sparse1: 0.7004 - val_perfect: 0.3293 - val_perfect1: 0.0000e+00 - val_sparse5: 0.8616 - val_perfect5: 0.0000e+00\n",
            "Epoch 44/50\n",
            " - 85s - loss: 0.6165 - sparse: 0.8336 - sparse1: 0.8336 - perfect: 0.4523 - perfect1: 0.0000e+00 - sparse5: 0.9623 - perfect5: 0.0059 - val_loss: 1.6150 - val_sparse: 0.7005 - val_sparse1: 0.7005 - val_perfect: 0.3293 - val_perfect1: 0.0000e+00 - val_sparse5: 0.8622 - val_perfect5: 0.0000e+00\n",
            "Epoch 45/50\n",
            " - 85s - loss: 0.6121 - sparse: 0.8347 - sparse1: 0.8347 - perfect: 0.4565 - perfect1: 0.0000e+00 - sparse5: 0.9623 - perfect5: 0.0059 - val_loss: 1.6169 - val_sparse: 0.6993 - val_sparse1: 0.6993 - val_perfect: 0.3283 - val_perfect1: 0.0000e+00 - val_sparse5: 0.8625 - val_perfect5: 0.0000e+00\n",
            "Epoch 46/50\n",
            " - 84s - loss: 0.6026 - sparse: 0.8369 - sparse1: 0.8369 - perfect: 0.4605 - perfect1: 0.0000e+00 - sparse5: 0.9633 - perfect5: 0.0049 - val_loss: 1.6207 - val_sparse: 0.7004 - val_sparse1: 0.7004 - val_perfect: 0.3320 - val_perfect1: 0.0000e+00 - val_sparse5: 0.8635 - val_perfect5: 0.0000e+00\n",
            "Epoch 47/50\n",
            " - 84s - loss: 0.5975 - sparse: 0.8381 - sparse1: 0.8381 - perfect: 0.4611 - perfect1: 0.0000e+00 - sparse5: 0.9639 - perfect5: 0.0059 - val_loss: 1.6360 - val_sparse: 0.6994 - val_sparse1: 0.6994 - val_perfect: 0.3269 - val_perfect1: 0.0000e+00 - val_sparse5: 0.8628 - val_perfect5: 0.0000e+00\n",
            "Epoch 48/50\n",
            " - 84s - loss: 0.5924 - sparse: 0.8383 - sparse1: 0.8383 - perfect: 0.4626 - perfect1: 0.0000e+00 - sparse5: 0.9647 - perfect5: 0.0040 - val_loss: 1.6375 - val_sparse: 0.7008 - val_sparse1: 0.7008 - val_perfect: 0.3311 - val_perfect1: 0.0000e+00 - val_sparse5: 0.8615 - val_perfect5: 0.0000e+00\n",
            "Epoch 49/50\n",
            " - 85s - loss: 0.5883 - sparse: 0.8396 - sparse1: 0.8396 - perfect: 0.4655 - perfect1: 0.0000e+00 - sparse5: 0.9651 - perfect5: 0.0054 - val_loss: 1.6543 - val_sparse: 0.7006 - val_sparse1: 0.7006 - val_perfect: 0.3316 - val_perfect1: 0.0000e+00 - val_sparse5: 0.8615 - val_perfect5: 0.0000e+00\n",
            "Epoch 50/50\n",
            " - 84s - loss: 0.5809 - sparse: 0.8417 - sparse1: 0.8417 - perfect: 0.4696 - perfect1: 0.0000e+00 - sparse5: 0.9655 - perfect5: 0.0063 - val_loss: 1.6466 - val_sparse: 0.7012 - val_sparse1: 0.7012 - val_perfect: 0.3303 - val_perfect1: 0.0000e+00 - val_sparse5: 0.8616 - val_perfect5: 0.0000e+00\n"
          ],
          "name": "stdout"
        }
      ]
    },
    {
      "cell_type": "code",
      "metadata": {
        "id": "sHy1cTDVP_XZ",
        "colab_type": "code",
        "outputId": "de135465-5e74-46c2-961b-80a271af360c",
        "colab": {
          "base_uri": "https://localhost:8080/",
          "height": 295
        }
      },
      "source": [
        "\n",
        "if history != None:\n",
        "  # summarize history for accuracy\n",
        "  for m in metric_names:\n",
        "      plt.plot(history.history['val_' + m])\n",
        "  plt.title('model accuracy')\n",
        "  plt.xlabel('epoch')\n",
        "  plt.legend(metric_names, loc='upper right')\n",
        "  plt.show()"
      ],
      "execution_count": 0,
      "outputs": [
        {
          "output_type": "display_data",
          "data": {
            "image/png": "[encoded data removed]",
            "text/plain": [
              "<Figure size 432x288 with 1 Axes>"
            ]
          },
          "metadata": {
            "tags": []
          }
        }
      ]
    },
    {
      "cell_type": "code",
      "metadata": {
        "id": "-6ZR0kc7X-tm",
        "colab_type": "code",
        "outputId": "fbf9a2f1-9eca-4d36-955c-9b700d6923eb",
        "colab": {
          "base_uri": "https://localhost:8080/",
          "height": 358
        }
      },
      "source": [
        "x_short = x_test[0:1000]\n",
        "y_short = y_test[0:1000]\n",
        "predicts = None\n",
        "\n",
        "with tf.Session() as session:\n",
        "  K.set_session(session)\n",
        "  session.run(tf.global_variables_initializer())\n",
        "  session.run(tf.tables_initializer())\n",
        "  model.load_weights('./model.h5')  \n",
        "  #eval = model.evaluate(x_test, y_test)\n",
        "  #print('model.evaluate on val holdout: ' ,model.metrics_names, eval)\n",
        "  print('history: ', history)\n",
        "  predicts = model.predict(x_short, batch_size=32)\n",
        "  print('shape: {}'.format(predicts.shape))\n",
        "\n",
        "print(len(predicts[0]))\n",
        "print(len(predicts[0][0]))\n",
        "print(predicts[0])"
      ],
      "execution_count": 0,
      "outputs": [
        {
          "output_type": "stream",
          "text": [
            "history:  <keras.callbacks.History object at 0x7fddb1236dd8>\n"
          ],
          "name": "stdout"
        },
        {
          "output_type": "stream",
          "text": [
            "Exception ignored in: <bound method BaseSession._Callable.__del__ of <tensorflow.python.client.session.BaseSession._Callable object at 0x7fddbb138e10>>\n",
            "Traceback (most recent call last):\n",
            "  File \"/usr/local/lib/python3.6/dist-packages/tensorflow/python/client/session.py\", line 1473, in __del__\n",
            "    self._session._session, self._handle)\n",
            "tensorflow.python.framework.errors_impl.CancelledError: (None, None, 'Session has been closed.')\n"
          ],
          "name": "stderr"
        },
        {
          "output_type": "stream",
          "text": [
            "shape: (1000, 5, 16000)\n",
            "5\n",
            "16000\n",
            "[[7.3998235e-05 3.1968710e-08 7.8295907e-06 ... 3.1912968e-08\n",
            "  3.1109796e-08 3.1769822e-08]\n",
            " [1.9782770e-04 3.4644457e-10 2.2502853e-08 ... 3.2651468e-10\n",
            "  3.3602326e-10 3.3877956e-10]\n",
            " [8.7786204e-04 8.1113383e-09 7.1187264e-05 ... 7.9476870e-09\n",
            "  8.1808516e-09 8.2170706e-09]\n",
            " [4.2917053e-03 6.4278849e-10 8.9306632e-06 ... 6.0054517e-10\n",
            "  6.1138261e-10 6.2123207e-10]\n",
            " [6.7159700e-01 1.6881557e-12 1.4885356e-06 ... 1.7063552e-12\n",
            "  1.7310891e-12 1.6589588e-12]]\n"
          ],
          "name": "stdout"
        }
      ]
    },
    {
      "cell_type": "code",
      "metadata": {
        "id": "kFy2tfyIYOtY",
        "colab_type": "code",
        "outputId": "c76198c7-7b4b-4880-8d2c-e59ce89b26b6",
        "colab": {
          "base_uri": "https://localhost:8080/",
          "height": 35
        }
      },
      "source": [
        "def maxindx(pred):\n",
        "    maxi=-1\n",
        "    maxv=-1.0\n",
        "    for x in range(len(pred)):\n",
        "        if pred[x] > maxv:\n",
        "            maxv = pred[x]\n",
        "            maxi = x\n",
        "    return (maxi, maxv)\n",
        "\n",
        "def match(data, prediction):\n",
        "    good = 0\n",
        "    total = 0\n",
        "    for i in range(len(data)):\n",
        "        #print(data[i], np.argmax(prediction[i]))\n",
        "        if data[i] == np.argmax(prediction[i]):\n",
        "            good += 1\n",
        "        total += 1\n",
        "    #print('{}, {}'.format(good, total))\n",
        "    if (total == 0):\n",
        "        return 0\n",
        "    return good / total\n",
        "\n",
        "parallel = 0.0\n",
        "serial = 0.0\n",
        "total = 0\n",
        "for n in range(len(y_short)):\n",
        "    #print(len(short[n]))\n",
        "    check = match(y_short[n], predicts[n])\n",
        "    parallel += check\n",
        "    if check > 0.9999:\n",
        "        serial += 1\n",
        "    total += 1\n",
        "\n",
        "print('Parallel, serial: ', parallel / total, serial / total)\n"
      ],
      "execution_count": 0,
      "outputs": [
        {
          "output_type": "stream",
          "text": [
            "Parallel, serial:  0.710599999999998 0.34\n"
          ],
          "name": "stdout"
        }
      ]
    },
    {
      "cell_type": "code",
      "metadata": {
        "id": "XNWVxMyKd3P8",
        "colab_type": "code",
        "outputId": "dbd08274-be93-4eee-f4b8-c1859dc85caf",
        "colab": {
          "base_uri": "https://localhost:8080/",
          "height": 394
        }
      },
      "source": [
        "!wget -nc https://raw.githubusercontent.com/LanceNorskog/test_data/master/haiku_5.txt\n",
        "!rm -f toki_cmu.json\n",
        "!wget -nc https://raw.githubusercontent.com/LanceNorskog/deep_meter_2/master/toki_cmu.json\n",
        "import collections \n",
        "\n",
        "big_data_file = 'haiku_5.txt'\n",
        "big_text = []\n",
        "big_haiku = []\n",
        "big_sylls = set()\n",
        "for index, word in enumerate(word2sylls):\n",
        "    sylls = word2sylls[word]\n",
        "    for syll in sylls:\n",
        "        syll = syll.replace(' ', '').lower()\n",
        "        big_sylls.add(syll)\n",
        "\n",
        "    \n",
        "with open(big_data_file) as f:\n",
        "    for line in f.readlines():\n",
        "        big_text.append(line.strip().split('\\t')[0])\n",
        "        big_haiku.append(line.strip().split('\\t')[1])\n",
        "        \n",
        "big_data = np.zeros((len(big_text), maxlen, 1), dtype='int32')\n",
        "for i in range(len(big_text)):    \n",
        "    seq = text.text_to_word_sequence(big_haiku[i])\n",
        "    sylls = []\n",
        "    for word in seq:\n",
        "        if word in word2sylls:\n",
        "            for syll in word2sylls[word]:\n",
        "                sylls.append(syll.replace(' ', '').lower())\n",
        "    for j in range(5):\n",
        "        if len(sylls) > j:\n",
        "            big_data[i][j][0] = syll2idx[sylls[j]]\n",
        "    if i == 0:\n",
        "        print(big_haiku[i])\n",
        "        print(sylls)\n",
        "        print(big_data[i])\n",
        "   \n",
        "print('Full length clauses: ', len(big_text))\n",
        "big_text = np.array(big_text)\n",
        "\n",
        "def printhistory(history):\n",
        "    print(metrics_names.join(','))\n",
        "    out = ''\n",
        "    for m in metrics_names:\n",
        "        out += history[m][0] + ','\n",
        "    print(out[0:-1])"
      ],
      "execution_count": 0,
      "outputs": [
        {
          "output_type": "stream",
          "text": [
            "File ‘haiku_5.txt’ already there; not retrieving.\n",
            "\n",
            "--2019-06-28 01:51:33--  https://raw.githubusercontent.com/LanceNorskog/deep_meter_2/master/toki_cmu.json\n",
            "Resolving raw.githubusercontent.com (raw.githubusercontent.com)... 151.101.0.133, 151.101.64.133, 151.101.128.133, ...\n",
            "Connecting to raw.githubusercontent.com (raw.githubusercontent.com)|151.101.0.133|:443... connected.\n",
            "HTTP request sent, awaiting response... 200 OK\n",
            "Length: 357359 (349K) [text/plain]\n",
            "Saving to: ‘toki_cmu.json’\n",
            "\n",
            "toki_cmu.json       100%[===================>] 348.98K  --.-KB/s    in 0.05s   \n",
            "\n",
            "2019-06-28 01:51:33 (6.83 MB/s) - ‘toki_cmu.json’ saved [357359/357359]\n",
            "\n",
            "backyards to stockyards\n",
            "['baek', 'yaardz', 'tuw', 'staak', 'yaardz']\n",
            "[[ 6862]\n",
            " [14341]\n",
            " [ 4364]\n",
            " [ 7884]\n",
            " [14341]]\n",
            "Full length clauses:  77203\n"
          ],
          "name": "stdout"
        }
      ]
    },
    {
      "cell_type": "code",
      "metadata": {
        "id": "unppo_tZk4fC",
        "colab_type": "code",
        "outputId": "06ff170b-f846-4f41-81d2-f6e44678fc98",
        "colab": {
          "base_uri": "https://localhost:8080/",
          "height": 234
        }
      },
      "source": [
        "with tf.Session() as session:\n",
        "  K.set_session(session)\n",
        "  session.run(tf.global_variables_initializer())\n",
        "  session.run(tf.tables_initializer())\n",
        "  model.load_weights('./model.h5')  \n",
        "  eval_small = model.evaluate(np.array(big_haiku), big_data)\n",
        "  print('model.evaluate on haiku clauses: ' ,model.metrics_names, eval_small)\n",
        "  print('history: ', history)\n",
        "  eval_big = model.evaluate(np.array(big_text), big_data)\n",
        "  print('model.evaluate on long clauses: ' ,model.metrics_names, eval_big)\n",
        "  print('history: ', history)\n",
        "  biglen = len(big_text)\n",
        "  #for i in range(0, len(big_text), batch_size):\n",
        "  #  predicts = model.predict(big_text[i:i + batch_size], batch_size=batch_size)\n",
        "  #  print('shape: {}'.format(predicts.shape))\n"
      ],
      "execution_count": 0,
      "outputs": [
        {
          "output_type": "stream",
          "text": [
            "  160/77203 [..............................] - ETA: 7:17 "
          ],
          "name": "stdout"
        },
        {
          "output_type": "stream",
          "text": [
            "Exception ignored in: <bound method BaseSession._Callable.__del__ of <tensorflow.python.client.session.BaseSession._Callable object at 0x7fdd4fad9ef0>>\n",
            "Traceback (most recent call last):\n",
            "  File \"/usr/local/lib/python3.6/dist-packages/tensorflow/python/client/session.py\", line 1473, in __del__\n",
            "    self._session._session, self._handle)\n",
            "tensorflow.python.framework.errors_impl.CancelledError: (None, None, 'Session has been closed.')\n"
          ],
          "name": "stderr"
        },
        {
          "output_type": "stream",
          "text": [
            "77203/77203 [==============================] - 52s 678us/step\n",
            "model.evaluate on haiku clauses:  ['loss', 'sparse', 'sparse1', 'perfect', 'perfect1', 'sparse5', 'perfect5'] [0.39229551194467754, 0.9185964275849859, 0.9185964275849859, 0.7514992940627069, 0.02984339986788078, 0.9731875691959194, 0.19381371190238722]\n",
            "history:  <keras.callbacks.History object at 0x7fddb1236dd8>\n",
            "77203/77203 [==============================] - 54s 706us/step\n",
            "model.evaluate on long clauses:  ['loss', 'sparse', 'sparse1', 'perfect', 'perfect1', 'sparse5', 'perfect5'] [4.826785261340134, 0.45996917251441005, 0.45996917251441005, 0.27071486859550553, 0.0, 0.6165641231129099, 0.0]\n",
            "history:  <keras.callbacks.History object at 0x7fddb1236dd8>\n"
          ],
          "name": "stdout"
        }
      ]
    },
    {
      "cell_type": "code",
      "metadata": {
        "id": "c30OLFH9kvtE",
        "colab_type": "code",
        "outputId": "d7b958e2-ebb6-4206-a85a-854c84dbfaa3",
        "colab": {
          "base_uri": "https://localhost:8080/",
          "height": 89
        }
      },
      "source": [
        "def printhistory(history):\n",
        "    print(','.join(model.metrics_names))\n",
        "    out = ''\n",
        "    for i in range(len(model.metrics_names)):\n",
        "        out += str(history[i]) + ','\n",
        "    print(out[0:-1])\n",
        "    \n",
        "printhistory(eval_small)\n",
        "printhistory(eval_big)"
      ],
      "execution_count": 0,
      "outputs": [
        {
          "output_type": "stream",
          "text": [
            "loss,sparse,sparse1,perfect,perfect1,sparse5,perfect5\n",
            "0.39229551194467754,0.9185964275849859,0.9185964275849859,0.7514992940627069,0.02984339986788078,0.9731875691959194,0.19381371190238722\n",
            "loss,sparse,sparse1,perfect,perfect1,sparse5,perfect5\n",
            "4.826785261340134,0.45996917251441005,0.45996917251441005,0.27071486859550553,0.0,0.6165641231129099,0.0\n"
          ],
          "name": "stdout"
        }
      ]
    },
    {
      "cell_type": "code",
      "metadata": {
        "id": "ogOac-7KoPYl",
        "colab_type": "code",
        "colab": {}
      },
      "source": [
        "def report(data, prediction):\n",
        "    def match(data, prediction):\n",
        "        good = 0\n",
        "        top5 = 0\n",
        "        count = 0\n",
        "        for i in range(len(data)):\n",
        "            topind = np.argsort(prediction[i])\n",
        "            if data[i][0] == topind[-1]:\n",
        "                good += 1\n",
        "            topind = topind[-5:len(topind)]\n",
        "            for j in range(5):\n",
        "                if data[i][0] == topind[j]:\n",
        "                    top5 += 1\n",
        "                    break\n",
        "            count += 1\n",
        "        return (good, top5, count)\n",
        "\n",
        "    _sparse = 0.0\n",
        "    _perfect = 0.0\n",
        "    _sparse5 = 0.0\n",
        "    _perfect5 = 0.0\n",
        "    _total = 0\n",
        "    for n in range(len(data)):\n",
        "        #print(len(short[n]))\n",
        "        (good, top5, count) = match(data[n], predicts[n])\n",
        "        if count == 0:\n",
        "            continue\n",
        "        _sparse += good/count\n",
        "        _sparse5 += top5/count\n",
        "        if good == count:\n",
        "            _perfect += 1  \n",
        "        if top5 == count:\n",
        "            _perfect5 += 1\n",
        "        _total += 1\n",
        "    return {'sparse':_sparse/_total, 'perfect': _perfect/_total, 'sparse5': _sparse5/_total, 'perfect5': _perfect5/_total}\n"
      ],
      "execution_count": 0,
      "outputs": []
    },
    {
      "cell_type": "code",
      "metadata": {
        "id": "SYiGf2LOtTbJ",
        "colab_type": "code",
        "colab": {}
      },
      "source": [
        "bigbatch = batch_size * 32\n",
        "big_text = np.array(big_text)\n",
        "big_haiku = np.array(big_haiku)\n",
        "with tf.Session() as session:\n",
        "  K.set_session(session)\n",
        "  session.run(tf.global_variables_initializer())\n",
        "  session.run(tf.tables_initializer())\n",
        "  model.load_weights('./model.h5')  \n",
        "  predicts = model.predict(big_haiku[0: bigbatch], batch_size=bigbatch)\n",
        "  rep = report(big_data[0: bigbatch], predicts)\n",
        "  print(\"short {}\".format(rep))\n",
        "  biglen = len(big_text)\n",
        "  for i in range(0, biglen, bigbatch):\n",
        "    predicts = model.predict(big_haiku[i:i + bigbatch], batch_size=bigbatch)\n",
        "    rep = report(big_data[i:i + bigbatch], predicts)\n",
        "    print(\"[{}] {}\".format(i, rep))\n"
      ],
      "execution_count": 0,
      "outputs": []
    },
    {
      "cell_type": "code",
      "metadata": {
        "id": "BftiQv1HsRrz",
        "colab_type": "code",
        "colab": {}
      },
      "source": [
        ""
      ],
      "execution_count": 0,
      "outputs": []
    }
  ]
}