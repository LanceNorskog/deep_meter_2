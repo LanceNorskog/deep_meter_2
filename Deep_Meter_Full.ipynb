{
  "nbformat": 4,
  "nbformat_minor": 0,
  "metadata": {
    "colab": {
      "name": "Deep Meter: Full",
      "version": "0.3.2",
      "provenance": [],
      "collapsed_sections": []
    },
    "kernelspec": {
      "name": "python3",
      "display_name": "Python 3"
    },
    "accelerator": "GPU"
  },
  "cells": [
    {
      "metadata": {
        "id": "co7MV6sX7Xto",
        "colab_type": "text"
      },
      "cell_type": "markdown",
      "source": [
        "# [Keras + Universal Sentence Encoder = Deep Meter](https://www.dlology.com/blog/keras-meets-universal-sentence-encoder-transfer-learning-for-text-data/) "
      ]
    },
    {
      "metadata": {
        "id": "eAVQGidpL8v5",
        "colab_type": "text"
      },
      "cell_type": "markdown",
      "source": [
        "This notebook creates an autoencoder using the Universal Sentence Encoder. The autoencoder output is CMUdict syllables. The dataset is that subset of Allison Parrish's Project Gutenberg poetry archive which happens to scan in iambic pentameter.\n",
        "\n",
        "The notebook is based on Chengwei Zhang's example of wrapping the USE inside a larger tensorflow model saves to a Keras model (without save the USE itself in the TF model).\n",
        "\n",
        "The Universal Sentence Encoder makes getting sentence level embeddings as easy as it has historically been to lookup the embeddings for individual words. The sentence embeddings can then be trivially used to compute sentence level meaning similarity as well as to enable better performance on downstream classification tasks using less supervised training data.\n",
        "\n",
        "Since there are 10 one-hot values for 10 sets of 6k syllables, this is \"multi-label classification\"\n",
        "Changes for multi-label classification:\n",
        "sigmoid activation instead of softmax\n",
        "binary_crossentropy\n",
        "\n",
        "Text format is tab-separated, 2 columns: first text, second multi-level\n",
        "array of syllables:\n"
      ]
    },
    {
      "metadata": {
        "id": "pOTzp8O36CyQ",
        "colab_type": "text"
      },
      "cell_type": "markdown",
      "source": [
        "# Getting Started\n",
        "\n",
        "This section sets up the environment for access to the Universal Sentence Encoder on TF Hub and provides examples of applying the encoder to words, sentences, and paragraphs."
      ]
    },
    {
      "metadata": {
        "id": "lVjNK8shFKOC",
        "colab_type": "code",
        "outputId": "429ff3ed-e09e-4888-858f-37a47a0fb032",
        "colab": {
          "base_uri": "https://localhost:8080/",
          "height": 347
        }
      },
      "cell_type": "code",
      "source": [
        "# Install the latest Tensorflow version.\n",
        "!pip3 install --quiet \"tensorflow>=1.7\"\n",
        "# Install TF-Hub.\n",
        "!pip3 install --quiet tensorflow-hub\n",
        "!pip3 install --quiet pygtrie\n",
        "%cd /content\n",
        "!git clone https://github.com/LanceNorskog/deep_meter || true\n",
        "%cd deep_meter\n",
        "!git pull\n",
        "# could not figure out how to read gzipped files as text!\n",
        "!gunzip -qf blobs/*.gz || true\n",
        "!gunzip -qf prepped_data/*.gz || true"
      ],
      "execution_count": 1,
      "outputs": [
        {
          "output_type": "stream",
          "text": [
            "/content\n",
            "fatal: destination path 'deep_meter' already exists and is not an empty directory.\n",
            "/content/deep_meter\n",
            "remote: Enumerating objects: 10, done.\u001b[K\n",
            "remote: Counting objects: 100% (10/10), done.\u001b[K\n",
            "remote: Compressing objects: 100% (4/4), done.\u001b[K\n",
            "remote: Total 7 (delta 3), reused 7 (delta 3), pack-reused 0\u001b[K\n",
            "Unpacking objects: 100% (7/7), done.\n",
            "From https://github.com/LanceNorskog/deep_meter\n",
            "   8675f56..7700da2  master     -> origin/master\n",
            "Updating 8675f56..7700da2\n",
            "Fast-forward\n",
            " Deep_Meter_Full.ipynb                      | 1238 \u001b[32m++++++++++++++++++++++++++++\u001b[m\n",
            " Deep_Meter_Multi_syllables_interpret.ipynb |  161 \u001b[32m++\u001b[m\u001b[31m--\u001b[m\n",
            " Deep_Meter_Multi_syllables_model.ipynb     |  767 \u001b[32m++++++++++++++++\u001b[m\u001b[31m-\u001b[m\n",
            " 3 files changed, 2101 insertions(+), 65 deletions(-)\n",
            " create mode 100644 Deep_Meter_Full.ipynb\n",
            "gzip: blobs/*.gz: No such file or directory\n",
            "gzip: prepped_data/*.gz: No such file or directory\n"
          ],
          "name": "stdout"
        }
      ]
    },
    {
      "metadata": {
        "id": "MSeY-MUQo2Ha",
        "colab_type": "code",
        "outputId": "fb6a68fd-948e-4e06-bbaf-a4a7f5901968",
        "colab": {
          "base_uri": "https://localhost:8080/",
          "height": 34
        }
      },
      "cell_type": "code",
      "source": [
        "# boilerplate from base notebook\n",
        "import tensorflow as tf\n",
        "import tensorflow_hub as hub\n",
        "import matplotlib.pyplot as plt\n",
        "import numpy as np\n",
        "import os\n",
        "import pandas as pd\n",
        "import re\n",
        "import seaborn as sns\n",
        "import keras.layers as layers\n",
        "from keras.models import Model\n",
        "from keras import backend as K\n",
        "from keras.callbacks import EarlyStopping, ModelCheckpoint\n",
        "from tensorflow.keras.optimizers import Nadam, Adam\n",
        "np.random.seed(10)"
      ],
      "execution_count": 2,
      "outputs": [
        {
          "output_type": "stream",
          "text": [
            "Using TensorFlow backend.\n"
          ],
          "name": "stderr"
        }
      ]
    },
    {
      "metadata": {
        "id": "feBc_8Y-pt6F",
        "colab_type": "code",
        "colab": {}
      },
      "cell_type": "code",
      "source": [
        "# github deep_meter code\n",
        "import utils\n",
        "# should not need this to use utils.flatten but is true anyway?\n",
        "from itertools import chain, product\n",
        "import subprocess\n",
        "import syllables\n",
        "import decodesyllables\n",
        "import cmudict\n",
        "# misc for this notebook\n",
        "from ast import literal_eval\n",
        "\n",
        "import scipy\n",
        "\n"
      ],
      "execution_count": 0,
      "outputs": []
    },
    {
      "metadata": {
        "id": "zwty8Z6mAkdV",
        "colab_type": "code",
        "colab": {}
      },
      "cell_type": "code",
      "source": [
        "module_url = \"https://tfhub.dev/google/universal-sentence-encoder-large/3\" #@param [\"https://tfhub.dev/google/universal-sentence-encoder/2\", \"https://tfhub.dev/google/universal-sentence-encoder-large/3\"]"
      ],
      "execution_count": 0,
      "outputs": []
    },
    {
      "metadata": {
        "id": "Q8F4LNGFqOiq",
        "colab_type": "code",
        "outputId": "d5c71547-b616-4ac7-963e-dbb2d358c27d",
        "colab": {
          "base_uri": "https://localhost:8080/",
          "height": 34
        }
      },
      "cell_type": "code",
      "source": [
        "# Import the Universal Sentence Encoder's TF Hub module\n",
        "embed = hub.Module(module_url)\n",
        "embed_size = embed.get_output_info_dict()['default'].get_shape()[1].value"
      ],
      "execution_count": 5,
      "outputs": [
        {
          "output_type": "stream",
          "text": [
            "INFO:tensorflow:Using /tmp/tfhub_modules to cache modules.\n"
          ],
          "name": "stdout"
        }
      ]
    },
    {
      "metadata": {
        "id": "FwAQNy1eMDkQ",
        "colab_type": "code",
        "colab": {}
      },
      "cell_type": "code",
      "source": [
        "# read classified poetry lines: text tab [['syll', 'la', 'ble'], ...]\n",
        "# clip to only most common syllables with syllable manager\n",
        "def get_data(filename, syll_mgr, num_symbols):\n",
        "    lines = open(filename, 'r').read().splitlines()\n",
        "    text_lines = []\n",
        "    enc_array = []\n",
        "    num_syllables = syll_mgr.get_size()\n",
        "    for i in range(0, len(lines)):\n",
        "      parts = lines[i].split(\"\\t\")\n",
        "      label = utils.flatten(literal_eval(parts[1]))\n",
        "      if len(label) != num_symbols:\n",
        "        continue\n",
        "      enc = np.zeros((num_symbols * syll_mgr.get_size()), dtype=np.int8)\n",
        "      for j in range(num_symbols):\n",
        "        enc[num_syllables * j + syll_mgr.get_encoding(label[j])] = 1\n",
        "      text_lines.append([parts[0]])\n",
        "      enc_array.append(enc)\n",
        "\n",
        "    lines = None\n",
        "    return (np.array(text_lines), np.array(enc_array))\n"
      ],
      "execution_count": 0,
      "outputs": []
    },
    {
      "metadata": {
        "id": "3HAtd4X5DayF",
        "colab_type": "code",
        "colab": {}
      },
      "cell_type": "code",
      "source": [
        "# syllables in descending order of occurrence - 6k in gutenberg.iambic_pentameter, 15k total\n",
        "# clamp to most common 100 syllables while debugging- use NCE to get all syllables or interesting number\n",
        "# 98 + pause + wildcard\n",
        "# iambic pentameter\n",
        "num_symbols = 10\n",
        "#syll_mgr = syllables.syllables(num_syllables)\n",
        "syll_mgr = syllables.syllables()\n",
        "num_syllables = syll_mgr.get_size() \n",
        "syll_weights = {}\n",
        "counts = syll_mgr.get_counts()\n",
        "maxim = np.max(counts)\n",
        "for t in range(10):\n",
        "  for i in range(len(counts)):\n",
        "    if counts[i] > 0:\n",
        "      syll_weights[t * len(counts) + i] = 1/(counts[i]/maxim)\n",
        "    else:\n",
        "      syll_weights[t * len(counts) + i] = 0\n",
        "    "
      ],
      "execution_count": 0,
      "outputs": []
    },
    {
      "metadata": {
        "id": "eN9aqig-QpDZ",
        "colab_type": "code",
        "outputId": "597ff40c-19e6-4e61-924d-1542559d3596",
        "colab": {
          "base_uri": "https://localhost:8080/",
          "height": 52
        }
      },
      "cell_type": "code",
      "source": [
        "print(syll_weights[15])\n",
        "(train_text, train_label) = get_data('prepped_data/gutenberg.iambic_pentameter.train', syll_mgr, num_symbols)\n",
        "num_training = len(train_text)\n",
        "#train_text = train_text[0:10000]\n",
        "#train_label = train_label[0:10000]\n",
        "\n",
        "(test_text, test_label) = get_data('prepped_data/gutenberg.iambic_pentameter.test', syll_mgr, num_symbols)\n",
        "num_testing = len(test_text)\n",
        "train_label.shape\n"
      ],
      "execution_count": 8,
      "outputs": [
        {
          "output_type": "stream",
          "text": [
            "11.88058472308009\n"
          ],
          "name": "stdout"
        },
        {
          "output_type": "execute_result",
          "data": {
            "text/plain": [
              "(58498, 66350)"
            ]
          },
          "metadata": {
            "tags": []
          },
          "execution_count": 8
        }
      ]
    },
    {
      "metadata": {
        "id": "-mQUV_7dIm-9",
        "colab_type": "code",
        "outputId": "6be90e1b-7b92-4304-fb48-231c57d361bb",
        "colab": {
          "base_uri": "https://localhost:8080/",
          "height": 34
        }
      },
      "cell_type": "code",
      "source": [
        "\n",
        "# slow\n",
        "num_epochs = 20\n",
        "adam_lr = 0.001\n",
        "adam_opt = Adam(lr=adam_lr)\n",
        "nadam_opt = tf.contrib.opt.NadamOptimizer(adam_lr)\n",
        "print(type(adam_opt))"
      ],
      "execution_count": 9,
      "outputs": [
        {
          "output_type": "stream",
          "text": [
            "<class 'tensorflow.python.keras.optimizers.Adam'>\n"
          ],
          "name": "stdout"
        }
      ]
    },
    {
      "metadata": {
        "id": "rp5plHeF_3Tq",
        "colab_type": "code",
        "colab": {}
      },
      "cell_type": "code",
      "source": [
        "# weighted binary crossentropy?\n"
      ],
      "execution_count": 0,
      "outputs": []
    },
    {
      "metadata": {
        "id": "Sf9A4Xl6J7c6",
        "colab_type": "text"
      },
      "cell_type": "markdown",
      "source": [
        "## Wrap embed module in a Lambda layer\n",
        "Explicitly cast the input as a string"
      ]
    },
    {
      "metadata": {
        "id": "PRD3fWgJjOrP",
        "colab_type": "code",
        "colab": {}
      },
      "cell_type": "code",
      "source": [
        "def UniversalEmbedding(x):\n",
        "    return embed(tf.squeeze(tf.cast(x, tf.string)), signature=\"default\", as_dict=True)[\"default\"]\n"
      ],
      "execution_count": 0,
      "outputs": []
    },
    {
      "metadata": {
        "id": "qX2rBOuxDP1m",
        "colab_type": "text"
      },
      "cell_type": "markdown",
      "source": [
        "## Assemble model"
      ]
    },
    {
      "metadata": {
        "id": "pAhiR4BlW7wg",
        "colab_type": "code",
        "colab": {}
      },
      "cell_type": "code",
      "source": [
        "def create_weighted_binary_crossentropy(zero_weight, one_weight):\n",
        "\n",
        "    def weighted_binary_crossentropy(y_true, y_pred):\n",
        "\n",
        "        # Original binary crossentropy (see losses.py):\n",
        "        # K.mean(K.binary_crossentropy(y_true, y_pred), axis=-1)\n",
        "\n",
        "        # Calculate the binary crossentropy\n",
        "        b_ce = K.binary_crossentropy(y_true, y_pred)\n",
        "\n",
        "        # Apply the weights\n",
        "        weight_vector = y_true * one_weight + (1. - y_true) * zero_weight\n",
        "        weighted_b_ce = weight_vector * b_ce\n",
        "\n",
        "        # Return the mean error\n",
        "        return K.mean(weighted_b_ce)\n",
        "\n",
        "    return weighted_binary_crossentropy\n",
        "  \n",
        "custom_binary_crossentropy = create_weighted_binary_crossentropy(1/(np.sqrt(num_syllables)), 1 - 1/np.sqrt(num_syllables))"
      ],
      "execution_count": 0,
      "outputs": []
    },
    {
      "metadata": {
        "id": "nlvllPbgzCzT",
        "colab_type": "code",
        "colab": {}
      },
      "cell_type": "code",
      "source": [
        "POS_WEIGHT=10\n",
        "def weighted_binary_crossentropy2(target, output):\n",
        "    \"\"\"\n",
        "    Weighted binary crossentropy between an output tensor \n",
        "    and a target tensor. POS_WEIGHT is used as a multiplier \n",
        "    for the positive targets.\n",
        "\n",
        "    Combination of the following functions:\n",
        "    * keras.losses.binary_crossentropy\n",
        "    * keras.backend.tensorflow_backend.binary_crossentropy\n",
        "    * tf.nn.weighted_cross_entropy_with_logits\n",
        "    \"\"\"\n",
        "    # transform back to logits\n",
        "    _epsilon = tfb._to_tensor(tfb.epsilon(), output.dtype.base_dtype)\n",
        "    output = tf.clip_by_value(output, _epsilon, 1 - _epsilon)\n",
        "    output = tf.log(output / (1 - output))\n",
        "    # compute weighted loss\n",
        "    loss = tf.nn.weighted_cross_entropy_with_logits(targets=target,\n",
        "                                                    logits=output,\n",
        "                                                    pos_weight=POS_WEIGHT)\n",
        "    return tf.reduce_mean(loss, axis=-1)\n"
      ],
      "execution_count": 0,
      "outputs": []
    },
    {
      "metadata": {
        "id": "A7W8yULDzZOZ",
        "colab_type": "code",
        "colab": {}
      },
      "cell_type": "code",
      "source": [
        "def hamming_loss(y_true, y_pred):\n",
        "  return K.mean(y_true*(1-y_pred)+(1-y_true)*y_pred)"
      ],
      "execution_count": 0,
      "outputs": []
    },
    {
      "metadata": {
        "id": "t3fllZkVjXKV",
        "colab_type": "code",
        "outputId": "ae0cec58-41ac-43e6-cf8f-deb14004f29e",
        "colab": {
          "base_uri": "https://localhost:8080/",
          "height": 503
        }
      },
      "cell_type": "code",
      "source": [
        "output_activation='sigmoid'\n",
        "# changed accuracy from 'choose your own accuracy'\n",
        "input_text = layers.Input(shape=(1,), dtype=tf.string)\n",
        "embedding = layers.Lambda(UniversalEmbedding, output_shape=(embed_size,), name='TF-Hub')(input_text)\n",
        "embedding = layers.Dropout(0.5)(embedding)\n",
        "dense = layers.Dense(1024, activation='relu', name='Convoluted')(embedding)\n",
        "dense = layers.Dropout(0.5)(dense)\n",
        "dense = layers.Dense(2048, activation='relu', name='Medium')(dense)\n",
        "dense = layers.Dropout(0.5)(dense)\n",
        "dense = layers.Dense(4096, activation='relu', name='Smooth')(dense)\n",
        "dense = layers.Dropout(0.5)(dense)\n",
        "pred = layers.Dense(num_symbols * num_syllables, activation=output_activation, name='Flatout')(dense)\n",
        "model = Model(inputs=[input_text], outputs=pred)\n",
        "model.compile(loss=custom_binary_crossentropy, \n",
        "              optimizer=nadam_opt, \n",
        "              metrics=['binary_crossentropy']\n",
        "             )\n",
        "model.summary()"
      ],
      "execution_count": 14,
      "outputs": [
        {
          "output_type": "stream",
          "text": [
            "INFO:tensorflow:Saver not created because there are no variables in the graph to restore\n",
            "_________________________________________________________________\n",
            "Layer (type)                 Output Shape              Param #   \n",
            "=================================================================\n",
            "input_1 (InputLayer)         (None, 1)                 0         \n",
            "_________________________________________________________________\n",
            "TF-Hub (Lambda)              (None, 512)               0         \n",
            "_________________________________________________________________\n",
            "dropout_1 (Dropout)          (None, 512)               0         \n",
            "_________________________________________________________________\n",
            "Convoluted (Dense)           (None, 1024)              525312    \n",
            "_________________________________________________________________\n",
            "dropout_2 (Dropout)          (None, 1024)              0         \n",
            "_________________________________________________________________\n",
            "Medium (Dense)               (None, 2048)              2099200   \n",
            "_________________________________________________________________\n",
            "dropout_3 (Dropout)          (None, 2048)              0         \n",
            "_________________________________________________________________\n",
            "Smooth (Dense)               (None, 4096)              8392704   \n",
            "_________________________________________________________________\n",
            "dropout_4 (Dropout)          (None, 4096)              0         \n",
            "_________________________________________________________________\n",
            "Flatout (Dense)              (None, 66350)             271835950 \n",
            "=================================================================\n",
            "Total params: 282,853,166\n",
            "Trainable params: 282,853,166\n",
            "Non-trainable params: 0\n",
            "_________________________________________________________________\n"
          ],
          "name": "stdout"
        }
      ]
    },
    {
      "metadata": {
        "id": "bqcRy_JWXe0u",
        "colab_type": "text"
      },
      "cell_type": "markdown",
      "source": [
        "## Train Keras model and save weights\n",
        "This only trains and save our Keras layers not the embed module' weights."
      ]
    },
    {
      "metadata": {
        "id": "_stfC_7VFhS8",
        "colab_type": "code",
        "outputId": "9771db43-c4be-444b-c646-3967d1791e80",
        "colab": {
          "base_uri": "https://localhost:8080/",
          "height": 714
        }
      },
      "cell_type": "code",
      "source": [
        "history = None\n",
        "use_saved_model=True\n",
        "if not use_saved_model or not os.path.exists('./model.h5'):\n",
        "  with tf.Session() as session:\n",
        "    K.set_session(session)\n",
        "    session.run(tf.global_variables_initializer())\n",
        "    session.run(tf.tables_initializer())\n",
        "    history = model.fit(train_text, \n",
        "            train_label,\n",
        "            validation_data=(test_text, test_label),\n",
        "            epochs=num_epochs,\n",
        "            #callbacks = [EarlyStopping(patience=5)],\n",
        "            batch_size=32,\n",
        "            verbose=2\n",
        "            ,class_weight=syll_weights\n",
        "    )\n",
        "    model.save_weights('./model.h5')\n"
      ],
      "execution_count": 15,
      "outputs": [
        {
          "output_type": "stream",
          "text": [
            "Train on 58498 samples, validate on 4200 samples\n",
            "Epoch 1/20\n",
            " - 408s - loss: 0.0098 - binary_crossentropy: 0.0117 - val_loss: 4.5444e-04 - val_binary_crossentropy: 0.0058\n",
            "Epoch 2/20\n",
            " - 397s - loss: 0.0088 - binary_crossentropy: 0.0094 - val_loss: 4.1694e-04 - val_binary_crossentropy: 0.0107\n",
            "Epoch 3/20\n",
            " - 398s - loss: 0.0086 - binary_crossentropy: 0.0093 - val_loss: 4.0814e-04 - val_binary_crossentropy: 0.0099\n",
            "Epoch 4/20\n",
            " - 397s - loss: 0.0085 - binary_crossentropy: 0.0092 - val_loss: 3.9940e-04 - val_binary_crossentropy: 0.0098\n",
            "Epoch 5/20\n",
            " - 398s - loss: 0.0085 - binary_crossentropy: 0.0092 - val_loss: 4.0132e-04 - val_binary_crossentropy: 0.0092\n",
            "Epoch 6/20\n",
            " - 397s - loss: 0.0084 - binary_crossentropy: 0.0092 - val_loss: 3.9772e-04 - val_binary_crossentropy: 0.0091\n",
            "Epoch 7/20\n",
            " - 395s - loss: 0.0084 - binary_crossentropy: 0.0093 - val_loss: 3.9759e-04 - val_binary_crossentropy: 0.0095\n",
            "Epoch 8/20\n",
            " - 395s - loss: 0.0084 - binary_crossentropy: 0.0092 - val_loss: 3.9750e-04 - val_binary_crossentropy: 0.0083\n",
            "Epoch 9/20\n",
            " - 395s - loss: 0.0084 - binary_crossentropy: 0.0094 - val_loss: 3.9800e-04 - val_binary_crossentropy: 0.0082\n",
            "Epoch 10/20\n",
            " - 395s - loss: 0.0085 - binary_crossentropy: 0.0093 - val_loss: 4.0262e-04 - val_binary_crossentropy: 0.0111\n",
            "Epoch 11/20\n",
            " - 395s - loss: 0.0085 - binary_crossentropy: 0.0094 - val_loss: 4.0253e-04 - val_binary_crossentropy: 0.0076\n",
            "Epoch 12/20\n",
            " - 395s - loss: 0.0085 - binary_crossentropy: 0.0095 - val_loss: 3.9881e-04 - val_binary_crossentropy: 0.0081\n",
            "Epoch 13/20\n",
            " - 396s - loss: 0.0085 - binary_crossentropy: 0.0095 - val_loss: 3.9913e-04 - val_binary_crossentropy: 0.0084\n",
            "Epoch 14/20\n",
            " - 395s - loss: 0.0086 - binary_crossentropy: 0.0097 - val_loss: 4.0087e-04 - val_binary_crossentropy: 0.0085\n",
            "Epoch 15/20\n",
            " - 395s - loss: 0.0085 - binary_crossentropy: 0.0096 - val_loss: 4.0308e-04 - val_binary_crossentropy: 0.0079\n",
            "Epoch 16/20\n",
            " - 395s - loss: 0.0086 - binary_crossentropy: 0.0097 - val_loss: 3.9924e-04 - val_binary_crossentropy: 0.0087\n",
            "Epoch 17/20\n",
            " - 397s - loss: 0.0086 - binary_crossentropy: 0.0098 - val_loss: 4.0143e-04 - val_binary_crossentropy: 0.0086\n",
            "Epoch 18/20\n",
            " - 399s - loss: 0.0086 - binary_crossentropy: 0.0098 - val_loss: 4.0180e-04 - val_binary_crossentropy: 0.0085\n",
            "Epoch 19/20\n",
            " - 400s - loss: 0.0086 - binary_crossentropy: 0.0097 - val_loss: 4.0137e-04 - val_binary_crossentropy: 0.0085\n",
            "Epoch 20/20\n",
            " - 400s - loss: 0.0086 - binary_crossentropy: 0.0099 - val_loss: 4.0179e-04 - val_binary_crossentropy: 0.0085\n"
          ],
          "name": "stdout"
        }
      ]
    },
    {
      "metadata": {
        "id": "UW1CiBhnXnxa",
        "colab_type": "code",
        "outputId": "a2e58b81-9f1e-4d91-8da5-6491e4a26443",
        "colab": {
          "base_uri": "https://localhost:8080/",
          "height": 34
        }
      },
      "cell_type": "code",
      "source": [
        "!ls -alh | grep model.h5"
      ],
      "execution_count": 16,
      "outputs": [
        {
          "output_type": "stream",
          "text": [
            "-rw-r--r-- 1 root root 1.1G Nov 10 05:24 model.h5\n"
          ],
          "name": "stdout"
        }
      ]
    },
    {
      "metadata": {
        "id": "Sxt5ZazEeTMr",
        "colab_type": "code",
        "colab": {
          "base_uri": "https://localhost:8080/",
          "height": 376
        },
        "outputId": "44c6f1d8-e30f-4881-9a75-84d914a673ad"
      },
      "cell_type": "code",
      "source": [
        "if history != None:\n",
        "  # summarize history for accuracy\n",
        "  plt.plot(history.history['loss'])\n",
        "  plt.plot(history.history['val_loss'])\n",
        "  plt.title('model loss')\n",
        "  plt.ylabel('loss')\n",
        "  plt.xlabel('epoch')\n",
        "  plt.legend(['train', 'test'], loc='upper left')\n",
        "  plt.show()"
      ],
      "execution_count": 17,
      "outputs": [
        {
          "output_type": "display_data",
          "data": {
            "image/png": "[encoded data removed]",
            "text/plain": [
              "<matplotlib.figure.Figure at 0x7f12b91774e0>"
            ]
          },
          "metadata": {
            "tags": []
          }
        }
      ]
    },
    {
      "metadata": {
        "id": "RhnF2v_leUYC",
        "colab_type": "code",
        "colab": {
          "base_uri": "https://localhost:8080/",
          "height": 444
        },
        "outputId": "8e8b7785-8b00-442f-9819-3f658e759be5"
      },
      "cell_type": "code",
      "source": [
        "for key in history.history.keys():\n",
        "    print(key)\n",
        "if history != None:\n",
        "  # summarize history for accuracy\n",
        "  plt.plot(history.history['binary_crossentropy'])\n",
        "  plt.plot(history.history['val_binary_crossentropy'])\n",
        "  plt.title('model accuracy')\n",
        "  plt.ylabel('acc')\n",
        "  plt.xlabel('epoch')\n",
        "  plt.legend(['train', 'test'], loc='upper left')\n",
        "  plt.show()"
      ],
      "execution_count": 20,
      "outputs": [
        {
          "output_type": "stream",
          "text": [
            "val_loss\n",
            "val_binary_crossentropy\n",
            "loss\n",
            "binary_crossentropy\n"
          ],
          "name": "stdout"
        },
        {
          "output_type": "display_data",
          "data": {
            "image/png": "[encoded data removed]",
            "text/plain": [
              "<matplotlib.figure.Figure at 0x7f12b0bf29e8>"
            ]
          },
          "metadata": {
            "tags": []
          }
        }
      ]
    },
    {
      "metadata": {
        "id": "nQux6qLdXabG",
        "colab_type": "text"
      },
      "cell_type": "markdown",
      "source": [
        "## Make predictions"
      ]
    },
    {
      "metadata": {
        "id": "fSDxetlfUEiD",
        "colab_type": "code",
        "colab": {}
      },
      "cell_type": "code",
      "source": [
        "\n",
        "#new_text = np.array(new_text, dtype=object)[:, np.newaxis]\n",
        "with tf.Session() as session:\n",
        "  K.set_session(session)\n",
        "  session.run(tf.global_variables_initializer())\n",
        "  session.run(tf.tables_initializer())\n",
        "  #model.load_weights('./model.h5')  \n",
        "  predicts = model.predict(test_text, batch_size=32)"
      ],
      "execution_count": 0,
      "outputs": []
    },
    {
      "metadata": {
        "id": "Wwv39pzAHcec",
        "colab_type": "code",
        "colab": {}
      },
      "cell_type": "code",
      "source": [
        "decoder = decodesyllables.Decoder(cmudict.CMUDict())"
      ],
      "execution_count": 0,
      "outputs": []
    },
    {
      "metadata": {
        "id": "U9V5JOWGq4Cd",
        "colab_type": "code",
        "colab": {}
      },
      "cell_type": "code",
      "source": [
        "num_tests = min(10, len(test_text))\n",
        "max_variants = 4\n",
        "min_factor = 0.1\n",
        "# Collect possible syllables from each output model\n",
        "# [num_lines][num_symbols][N > 0.8]\n",
        "index_arrays = [[]] * num_tests\n",
        "for j in range(num_tests):\n",
        "    index_arrays[j] = [[]] * num_symbols\n",
        "    for i in range(num_symbols):\n",
        "      index_arrays[j][i] = []\n",
        "      \n",
        "# index into each possible syllable and score\n",
        "for i in range(num_symbols):\n",
        "  for j in range(num_tests):\n",
        "    for k in range(num_syllables):\n",
        "      if predicts[j][i * num_syllables + k] > min_factor:\n",
        "        #print(\"i, j {0},{1}, -> {2}\".format(i,j,k))\n",
        "        index_arrays[j][i].append(k)\n",
        "        \n",
        "# sort order of possible syllables at each slot by score\n",
        "for j in range(num_tests):\n",
        "  indexes = index_arrays[j]\n",
        "  for i in range(num_symbols):\n",
        "    score_set = [1.0] * len(indexes[i])\n",
        "    for k in range(len(indexes[i])):\n",
        "      score_set[k] = predicts[j][i * num_syllables + k]\n",
        "    new_indexes = []\n",
        "    sorted_i = list(np.argsort(score_set))\n",
        "    sorted_i.reverse()\n",
        "    for x in sorted_i:\n",
        "      new_indexes.append(indexes[i][x])\n",
        "    index_arrays[j][i] = new_indexes[0:max_variants]\n",
        "#for j in range(min(num_tests,30)):\n",
        "#  print(index_arrays[j])"
      ],
      "execution_count": 0,
      "outputs": []
    },
    {
      "metadata": {
        "id": "qOCZ3pnzPmW7",
        "colab_type": "code",
        "colab": {
          "base_uri": "https://localhost:8080/",
          "height": 323
        },
        "outputId": "b0a48e3b-887c-43a7-8069-3c008be2678b"
      },
      "cell_type": "code",
      "source": [
        "\n",
        "for j in range(0,num_tests):\n",
        "  print(\"Predicting sentence: \" + str(test_text[j]))\n",
        "  n = 0\n",
        "  score_list = []\n",
        "  syll_list = []\n",
        "  for index_list in product(*index_arrays[j]):\n",
        "    score_sum = 0.0\n",
        "    for i in range(num_symbols):\n",
        "      score_sum += predicts[j][i * num_syllables + index_list[i]]\n",
        "    score_list.append(score_sum)\n",
        "    syll_set = [''] * num_symbols\n",
        "    for i in range(num_symbols):\n",
        "      syll_set[i] = syll_mgr.get_syllable(index_list[i])\n",
        "    syll_list.append(syll_set)\n",
        "  if len(score_list) == 0:\n",
        "    print(\"  no syllable sets found\")\n",
        "    continue\n",
        "  #print(score_list)\n",
        "  topindexes = list(np.argsort(score_list))\n",
        "  topindexes.reverse()\n",
        "  #print(topindexes)\n",
        "  for index in topindexes[0:5]:\n",
        "    # print(\"Score: {0}\".format(score_list[index]))\n",
        "    count = 0\n",
        "    for s in decoder.decode_sentence(syll_list[index]):\n",
        "      print(s)\n",
        "      count += 1\n",
        "      if count == 4:\n",
        "        break\n",
        " "
      ],
      "execution_count": 39,
      "outputs": [
        {
          "output_type": "stream",
          "text": [
            "Predicting sentence: ['To life, the creamy onyx and the skins']\n",
            "Predicting sentence: ['And what is Man the while? And what his will?']\n",
            "Predicting sentence: ['Of startled grasses, and the hedge in bloom,--']\n",
            "couch taints whilst scarf pose vorce bows shan gretz munn\n",
            "Predicting sentence: ['The match was offered, the proposals made']\n",
            "Predicting sentence: ['Were landed in the market, one and all,']\n",
            "Predicting sentence: ['The vale of Nature, where it creeps and winds']\n",
            "Predicting sentence: ['And Bacchus city had become enthralled,']\n",
            "Predicting sentence: ['The marks of seasons wild and winters bleak']\n",
            "Predicting sentence: ['That in the sunshine floats, beneath the blue,']\n",
            "smacked coasts(3) chriss slant joist of(2) bows frosts tough munn\n",
            "smacked coasts(3) chriss reels joist of(2) bows frosts tough munn\n",
            "smacked coasts(3) chriss slant joist utz bows frosts tough munn\n",
            "smacked coasts(3) chriss reels joist utz bows frosts tough munn\n",
            "Predicting sentence: ['His burning idol all of blackest hue:']\n",
            "alf dague banks hogs suitt of(2) braves' wont tough munn\n",
            "alf coasts(3) banks hogs suitt of(2) braves' wont tough munn\n",
            "alf dague banks plinth suitt of(2) braves' wont tough munn\n"
          ],
          "name": "stdout"
        }
      ]
    },
    {
      "metadata": {
        "id": "xaR0d5VPU23Z",
        "colab_type": "code",
        "outputId": "0925c940-8c19-4c7a-8ef3-07bcf847c6f2",
        "colab": {
          "base_uri": "https://localhost:8080/",
          "height": 6286
        }
      },
      "cell_type": "code",
      "source": [
        "for i in range(10,100):\n",
        "  print(test_text[i])\n",
        "  syll_mgr.interpret2(predicts[i])\n",
        "  print('')\n",
        "  \n",
        "print(predicts[0])"
      ],
      "execution_count": 20,
      "outputs": [
        {
          "output_type": "stream",
          "text": [
            "['Of humble seeming: and, behind them all,']\n",
            "[5371, 2572, 4997, 3871, 5275, 2572, 1263, 1690, 5364, 74]\n",
            "['L AH NG', 'DH EH R Z', 'JH IH R', 'S T AA R V', 'SH R AH NG', 'DH EH R Z', 'B AW Z', 'W OW N T', 'N EY T', 'M AH N']\n",
            "\n",
            "['Behind his head upon the shoulders lay,']\n",
            "[6489, 3001, 3927, 6355, 369, 2957, 2028, 1718, 5209, 74]\n",
            "['S M AE K T', 'F AE L S', 'AE N T', 'S L AE N T', 'TH IH NG Z', 'P R IH N T S', 'F L IH', 'HH OW S T S', 'HH IH P', 'M AH N']\n",
            "\n",
            "['Discover countries, with a kindred heart']\n",
            "[1018, 2582, 3368, 2935, 1637, 5840, 6451, 2489, 486, 1039]\n",
            "['R AO NG', 'S W IY T S', 'K IH N Z', 'S T IH L D', 'V IH R', 'T AA M P', 'B L OW K', 'JH EH M Z', 'B R EH TH', 'SH EY P']\n",
            "\n",
            "['Was open in his praise, and plaudits rose']\n",
            "[4731, 4217, 2826, 4907, 4738, 6430, 1263, 4355, 3359, 74]\n",
            "['N AE L Z', 'V OW L', 'T AH F', 'HH AA G Z', 'T AO R Z', 'HH OW V', 'B AW Z', 'K AA N Z', 'G R EH T S', 'M AH N']\n",
            "\n",
            "['A spear the hero bore of wondrous strength,']\n",
            "[4731, 2923, 843, 2781, 1209, 5469, 1263, 880, 3017, 74]\n",
            "['N AE L Z', 'P L EH JH', 'CH EY N', 'T IH P', 'HH EH N S', 'M OW L D Z', 'B AW Z', 'K AH L D', 'B L AY T', 'M AH N']\n",
            "\n",
            "['Were things indifferent to the Shepherds thoughts.']\n",
            "[1788, 2332, 1318, 4907, 4411, 2572, 2161, 3345, 2423, 74]\n",
            "['D EH K', 'AY R', 'S EY L', 'HH AA G Z', 'CH IH L Z', 'DH EH R Z', 'F Y UW Z', 'S N IH R', 'B OW N', 'M AH N']\n",
            "\n",
            "['That to the young supplies a guiding light,']\n",
            "[6083, 1656, 5609, 1179, 1209, 4042, 1331, 3747, 1583, 2236]\n",
            "['SH ER D', 'K L AW', 'K L EH N Z D', 'M UW V D', 'HH EH N S', 'V IY Z', 'B AE NG K', 'S L IY K', 'V AY D Z', 'S T IH R']\n",
            "\n",
            "['Of Greeks a mighty army, all in vain;']\n",
            "[4731, 6244, 843, 1179, 3378, 2572, 5170, 4759, 2826, 74]\n",
            "['N AE L Z', 'T EY N T S', 'CH EY N', 'M UW V D', 'B R EY N Z', 'DH EH R Z', 'K R AA M', 'S K R UW', 'T AH F', 'M AH N']\n",
            "\n",
            "['Into the mighty vision passing--there,']\n",
            "[1525, 4164, 5089, 3605, 655, 4042, 3372, 3345, 2826, 74]\n",
            "['EY T', 'S AA L', 'T IH N Z', 'N AH N Z', 'T AW N', 'V IY Z', 'F L AH K S', 'S N IH R', 'T AH F', 'M AH N']\n",
            "\n",
            "['Them in his anger, whom his anger saves']\n",
            "[1546, 3899, 843, 2792, 4738, 4775, 1263, 4759, 3359, 74]\n",
            "['K L AY M', 'F OW K S', 'CH EY N', 'S P AE N S', 'T AO R Z', 'CH EH K T', 'B AW Z', 'S K R UW', 'G R EH T S', 'M AH N']\n",
            "\n",
            "['And in the soul within the sense began']\n",
            "[4731, 5887, 2516, 2981, 4411, 3808, 3694, 5951, 2826, 74]\n",
            "['N AE L Z', 'M AE SH', 'S M OW', 'S ER N D', 'CH IH L Z', 'K L AE S', 'G AH T S', 'SH AE N', 'T AH F', 'M AH N']\n",
            "\n",
            "['For Daphnis reigns above, and deals from thence']\n",
            "[4731, 2335, 3063, 317, 2493, 5527, 1263, 3345, 2826, 74]\n",
            "['N AE L Z', 'D EH N', 'S P ER S T', 'D EH', 'R AH NG', 'T Y UH R D', 'B AW Z', 'S N IH R', 'T AH F', 'M AH N']\n",
            "\n",
            "['For one that looked with such a captains mien:']\n",
            "[4708, 5537, 843, 4155, 4962, 2572, 3228, 4372, 5364, 74]\n",
            "['B IY F', 'L IY T', 'CH EY N', 'B Y UW K T', 'S T R IH K', 'DH EH R Z', 'M AH K', 'D EH N Z', 'N EY T', 'M AH N']\n",
            "\n",
            "['Of thought between her fingers and her brain,']\n",
            "[1546, 5761, 298, 6026, 4490, 3270, 2161, 985, 5392, 74]\n",
            "['K L AY M', 'S L AH G', 'M AA', 'F R AY Z', 'F R AA G Z', 'L EH R', 'F Y UW Z', 'B R EY K', 'B L IH K S', 'M AH N']\n",
            "\n",
            "['And still the red sedan of rank appeals,']\n",
            "[4697, 469, 843, 1179, 2445, 4251, 5279, 4372, 1110, 2482]\n",
            "['N AE P', 'V ER Z', 'CH EY N', 'M UW V D', 'L UW S', 'JH AW S T', 'V OW T S', 'D EH N Z', 'M AA R K', 'K AE S T S']\n",
            "\n",
            "['With this eternal silence;--more a god,']\n",
            "[4731, 6244, 3063, 4907, 3037, 2572, 1520, 1729, 2826, 74]\n",
            "['N AE L Z', 'T EY N T S', 'S P ER S T', 'HH AA G Z', 'TH R IH L D', 'DH EH R Z', 'G ER D', 'HH AO R N', 'T AH F', 'M AH N']\n",
            "\n",
            "['Forgot, nutritious, grateful to the taste,']\n",
            "[500, 1656, 5987, 5405, 376, 5840, 2683, 6533, 2000, 74]\n",
            "['SH IH NG', 'K L AW', 'K IH M', 'AA M', 'S T AH N T', 'T AA M P', 'CH IY V', 'S W IH SH', 'D AO G', 'M AH N']\n",
            "\n",
            "['Of full perfection prompt his daring dream,']\n",
            "[4731, 1604, 661, 6355, 6406, 6312, 1263, 4933, 5364, 74]\n",
            "['N AE L Z', 'N EH S T', 'Z IH Z', 'S L AE N T', 'S P AA R K T', 'S AA K', 'B AW Z', 'R AY S', 'N EY T', 'M AH N']\n",
            "\n",
            "['And all the spaces of the midnight town']\n",
            "[4731, 2146, 3164, 6633, 3378, 5469, 5295, 2769, 2826, 74]\n",
            "['N AE L Z', 'W UW', 'V AY Z', 'P L IH N TH', 'B R EY N Z', 'M OW L D Z', 'Y ER N', 'F AY L', 'T AH F', 'M AH N']\n",
            "\n",
            "['The sandbar sings in moonlit veils of foam.']\n",
            "[3923, 6409, 6163, 2981, 655, 1797, 3694, 3345, 6187, 74]\n",
            "['P EH T', 'K OW S', 'T W IH N JH', 'S ER N D', 'T AW N', 'T R AH N', 'G AH T S', 'S N IH R', 'CH ER N', 'M AH N']\n",
            "\n",
            "['And darkness settled on the outer world.']\n",
            "[2107, 6409, 1753, 6355, 57, 4042, 3371, 6097, 2826, 74]\n",
            "['B IH S', 'K OW S', 'S IY L D', 'S L AE N T', 'S ER', 'V IY Z', 'OW N Z', 'S K R EY P S', 'T AH F', 'M AH N']\n",
            "\n",
            "['Or castle, high embattled on the point']\n",
            "[3170, 1604, 3063, 4155, 655, 2572, 4605, 3345, 3359, 3248]\n",
            "['OW D', 'N EH S T', 'S P ER S T', 'B Y UW K T', 'T AW N', 'DH EH R Z', 'L EY S T', 'S N IH R', 'G R EH T S', 'EY D Z']\n",
            "\n",
            "['The each with All in one, sublime design?']\n",
            "[4731, 3697, 2455, 6114, 4738, 1252, 3267, 3742, 2826, 74]\n",
            "['N AE L Z', 'L IH NG K', 'R AH N JH', 'L ER CH', 'T AO R Z', 'M EY L', 'TH R AA B', 'P L EY N T', 'T AH F', 'M AH N']\n",
            "\n",
            "['The curving prow, the tall and stately mast,']\n",
            "[1317, 2572, 3063, 1506, 17, 5260, 1263, 5932, 2736, 74]\n",
            "['W OW Z', 'DH EH R Z', 'S P ER S T', 'S AH S', 'D IH', 'HH AA R M D', 'B AW Z', 'K L AA T', 'D AH N T S', 'M AH N']\n",
            "\n",
            "['And bids anew the martial thunder rise.']\n",
            "[4731, 5236, 843, 2182, 1637, 5559, 786, 3988, 1703, 74]\n",
            "['N AE L Z', 'T IY R S', 'CH EY N', 'P IH R S T', 'V IH R', 'B AE K T', 'SH OW L', 'G R AE S P S', 'TH IY M', 'M AH N']\n",
            "\n",
            "['And hearing harlot muttered twice or thrice,']\n",
            "[1546, 570, 3927, 679, 6406, 4920, 1263, 2447, 3498, 74]\n",
            "['K L AY M', 'K AH N D', 'AE N T', 'W AY D', 'S P AA R K T', 'B R AA N Z D', 'B AW Z', 'V AY N Z', 'JH OW', 'M AH N']\n",
            "\n",
            "['That evening passed with music, chat, and song,']\n",
            "[4731, 6244, 657, 2981, 4490, 5840, 580, 4759, 3359, 74]\n",
            "['N AE L Z', 'T EY N T S', 'S T AH N S', 'S ER N D', 'F R AA G Z', 'T AA M P', 'L EH T', 'S K R UW', 'G R EH T S', 'M AH N']\n",
            "\n",
            "['With childlike pleasure at the blooming sun;']\n",
            "[4731, 6244, 4484, 4907, 5275, 4042, 1263, 1333, 2433, 74]\n",
            "['N AE L Z', 'T EY N T S', 'N OW S', 'HH AA G Z', 'SH R AH NG', 'V IY Z', 'B AW Z', 'R ER Z', 'P L AW', 'M AH N']\n",
            "\n",
            "['And send her back with gentle words to earth']\n",
            "[3923, 1656, 3854, 2978, 1036, 2736, 5279, 6476, 5547, 74]\n",
            "['P EH T', 'K L AW', 'K R AE K', 'ER TH S', 'K AW N T', 'D AH N T S', 'V OW T S', 'D R OW V Z', 'N AE T', 'M AH N']\n",
            "\n",
            "['With glowing eyes and pale, unsmiling face,']\n",
            "[4731, 5556, 2466, 4907, 5336, 2572, 1263, 2769, 6250, 2822]\n",
            "['N AE L Z', 'G R AY P S', 'D EH R Z', 'HH AA G Z', 'HH EH R D', 'DH EH R Z', 'B AW Z', 'F AY L', 'D AE F T', 'JH IH']\n",
            "\n",
            "['Its beauties first? That she will show to me']\n",
            "[5670, 3697, 3854, 4907, 1036, 4785, 1263, 3011, 5209, 74]\n",
            "['T W ER', 'L IH NG K', 'K R AE K', 'HH AA G Z', 'K AW N T', 'S K R AE CH', 'B AW Z', 'R AH L D Z', 'HH IH P', 'M AH N']\n",
            "\n",
            "['A man is likewise counsel for himself,']\n",
            "[6489, 1473, 3368, 1437, 3854, 2957, 1263, 1690, 1162, 6031]\n",
            "['S M AE K T', 'R EY N Z', 'K IH N Z', 'K R EY', 'K R AE K', 'P R IH N T S', 'B AW Z', 'W OW N T', 'R IH SH', 'D R OW N Z']\n",
            "\n",
            "['And awful, mighty eyes that cowed and held']\n",
            "[665, 5556, 843, 4907, 3378, 2572, 1263, 4759, 6250, 74]\n",
            "['F R EY', 'G R AY P S', 'CH EY N', 'HH AA G Z', 'B R EY N Z', 'DH EH R Z', 'B AW Z', 'S K R UW', 'D AE F T', 'M AH N']\n",
            "\n",
            "['Of thoughts revolved, his final sentence chose']\n",
            "[6489, 2689, 842, 2505, 4676, 5847, 1263, 3011, 6521, 74]\n",
            "['S M AE K T', 'G R UW M', 'K AH T', 'V IH SH', 'F R AO D Z', 'K EH M P T', 'B AW Z', 'R AH L D Z', 'JH EY L', 'M AH N']\n",
            "\n",
            "['His head, his shoulders, and his knees embraced;']\n",
            "[6489, 3001, 1006, 3408, 369, 4042, 3372, 3345, 5209, 74]\n",
            "['S M AE K T', 'F AE L S', 'W IY K', 'K IY L', 'TH IH NG Z', 'V IY Z', 'F L AH K S', 'S N IH R', 'HH IH P', 'M AH N']\n",
            "\n",
            "['And came into the vale in little space,']\n",
            "[4259, 392, 3063, 5550, 4690, 4042, 4476, 4759, 2826, 74]\n",
            "['G R IY T S', 'F IH', 'S P ER S T', 'Z AA R', 'K L AO TH S', 'V IY Z', 'S L AE SH', 'S K R UW', 'T AH F', 'M AH N']\n",
            "\n",
            "['In forest wild, in thicket, brake, or den;']\n",
            "[4500, 5276, 3063, 1506, 4490, 464, 1841, 2132, 2826, 411]\n",
            "['JH AH NG K', 'L AY K T', 'S P ER S T', 'S AH S', 'F R AA G Z', 'K AO R', 'F AY N D Z', 'JH IH K T S', 'T AH F', 'L AH N S']\n",
            "\n",
            "['In spite of changes. Look for me until']\n",
            "[6489, 3293, 493, 3966, 6559, 1566, 580, 6097, 2826, 74]\n",
            "['S M AE K T', 'L IY G', 'V AE', 'D AE M D', 'M AE T', 'B R IH JH', 'L EH T', 'S K R EY P S', 'T AH F', 'M AH N']\n",
            "\n",
            "['The parchment of the future, it were vain--']\n",
            "[4731, 1656, 5276, 2836, 1637, 5481, 3694, 4759, 5320, 74]\n",
            "['N AE L Z', 'K L AW', 'L AY K T', 'M AA R K T', 'V IH R', 'V OW L T S', 'G AH T S', 'S K R UW', 'W IH K', 'M AH N']\n",
            "\n",
            "['The spirits of the Seasons seem to stand.']\n",
            "[5066, 2053, 2789, 4907, 2855, 4920, 580, 5951, 2826, 74]\n",
            "['K W EH N', 'S T R AE N D', 'F EY D Z', 'HH AA G Z', 'G AH L F', 'B R AA N Z D', 'L EH T', 'SH AE N', 'T AH F', 'M AH N']\n",
            "\n",
            "['For lo! his passion, but an art of craft,']\n",
            "[4731, 1473, 843, 3763, 5233, 2572, 3372, 4933, 504, 74]\n",
            "['N AE L Z', 'R EY N Z', 'CH EY N', 'D R EH N CH', 'F Y UW T', 'DH EH R Z', 'F L AH K S', 'R AY S', 'T AO R', 'M AH N']\n",
            "\n",
            "['Is due, and not to war, intrepid still']\n",
            "[3923, 3743, 3063, 679, 4915, 2728, 580, 5033, 2826, 74]\n",
            "['P EH T', 'N AH TH', 'S P ER S T', 'W AY D', 'S K ER Z', 'W AO R M Z', 'L EH T', 'N AE G Z', 'T AH F', 'M AH N']\n",
            "\n",
            "['Or sleeping, walk a restless world of dreams.']\n",
            "[4731, 3144, 5939, 4907, 1637, 3006, 5295, 5951, 426, 3075]\n",
            "['N AE L Z', 'S T R UW', 'B AE G D', 'HH AA G Z', 'V IH R', 'T R AY Z', 'Y ER N', 'SH AE N', 'HH AW', 'G IH SH']\n",
            "\n",
            "['Of teaching school, a school of Czechs and Poles']\n",
            "[6086, 4394, 3063, 1506, 3455, 2572, 1263, 3747, 2143, 5380]\n",
            "['TH IH N D', 'K R IH S P', 'S P ER S T', 'S AH S', 'P AE K', 'DH EH R Z', 'B AW Z', 'S L IY K', 'B R EH S T S', 'S T IH JH']\n",
            "\n",
            "['And drops of blood bedew the conscious lawn;']\n",
            "[2107, 5511, 3063, 5405, 1728, 4711, 1263, 2334, 5131, 74]\n",
            "['B IH S', 'S P AW N D Z', 'S P ER S T', 'AA M', 'K UW', 'V AO R S', 'B AW Z', 'M AY N D Z', 'P AY D', 'M AH N']\n",
            "\n",
            "['From daylight till the evening, wet or fine,']\n",
            "[3923, 464, 3063, 3966, 3331, 2527, 3696, 1217, 504, 74]\n",
            "['P EH T', 'K AO R', 'S P ER S T', 'D AE M D', 'M OY S', 'Z OW N', 'R OW P S', 'L ER D', 'T AO R', 'M AH N']\n",
            "\n",
            "['A doom that ever poised itself to fall,']\n",
            "[6119, 870, 3063, 1506, 1036, 2572, 786, 1718, 2826, 74]\n",
            "['W EH JH D', 'DH EH N S', 'S P ER S T', 'S AH S', 'K AW N T', 'DH EH R Z', 'SH OW L', 'HH OW S T S', 'T AH F', 'M AH N']\n",
            "\n",
            "['Of wailing women pierce the vaulted skies.']\n",
            "[5691, 6409, 1134, 2829, 30, 5840, 2161, 6388, 5547, 74]\n",
            "['G R IH T S', 'K OW S', 'S M AY', 'W IH SH T', 'EH', 'T AA M P', 'F Y UW Z', 'JH AH NG K T', 'N AE T', 'M AH N']\n",
            "\n",
            "['To happy havens under all the sky,']\n",
            "[829, 6244, 142, 5405, 891, 3404, 3694, 3345, 2826, 74]\n",
            "['S T R IY M Z', 'T EY N T S', 'R EH', 'AA M', 'P OW Z', 'B AA K S', 'G AH T S', 'S N IH R', 'T AH F', 'M AH N']\n",
            "\n",
            "['In purple clusters hangs the vines increase,']\n",
            "[5371, 2073, 5222, 1506, 4379, 6567, 1263, 3988, 2826, 1039]\n",
            "['L AH NG', 'M IH T S', 'W AO R N Z', 'S AH S', 'P R AW Z', 'V AW CH T', 'B AW Z', 'G R AE S P S', 'T AH F', 'SH EY P']\n",
            "\n",
            "['A shepherd meeting thee, the oar surveys,']\n",
            "[1254, 570, 334, 2981, 17, 5527, 580, 6533, 5364, 74]\n",
            "['F OW L', 'K AH N D', 'SH AO R', 'S ER N D', 'D IH', 'T Y UH R D', 'L EH T', 'S W IH SH', 'N EY T', 'M AH N']\n",
            "\n",
            "['The printed passion of the dream remains:--']\n",
            "[4731, 5556, 843, 5889, 1637, 5527, 5295, 3988, 504, 74]\n",
            "['N AE L Z', 'G R AY P S', 'CH EY N', 'F L AE M', 'V IH R', 'T Y UH R D', 'Y ER N', 'G R AE S P S', 'T AO R', 'M AH N']\n",
            "\n",
            "['And piecemeal shares and maims the felon round.']\n",
            "[500, 2335, 3063, 2781, 1984, 2572, 3223, 3345, 4120, 2143]\n",
            "['SH IH NG', 'D EH N', 'S P ER S T', 'T IH P', 'S L IY P S', 'DH EH R Z', 'S T R AH K T', 'S N IH R', 'ER B', 'B R EH S T S']\n",
            "\n",
            "['A happy nation, and a happy king.']\n",
            "[1532, 5302, 5276, 618, 655, 2701, 1263, 1526, 2826, 6551]\n",
            "['N AE', 'T R AE N T', 'L AY K T', 'HH EY', 'T AW N', 'G AH T', 'B AW Z', 'S K W AA', 'T AH F', 'K L AE S T']\n",
            "\n",
            "['And Miscreator, makes and helps along']\n",
            "[6165, 1185, 3063, 821, 5275, 975, 3228, 1073, 596, 3815]\n",
            "['R AW', 'R HH EH D', 'S P ER S T', 'F Y UH', 'SH R AH NG', 'S W IY', 'M AH K', 'D IH M', 'F AW N', 'D IH P S']\n",
            "\n",
            "['The dashing waters when the air is still']\n",
            "[6489, 3639, 5972, 2397, 5275, 5527, 3694, 1718, 5474, 74]\n",
            "['S M AE K T', 'JH EH S T S', 'G OW L D Z', 'D IY M', 'SH R AH NG', 'T Y UH R D', 'G AH T S', 'HH OW S T S', 'Y AE NG', 'M AH N']\n",
            "\n",
            "['And still its ice the freezing silence kept:']\n",
            "[5691, 1998, 2826, 4907, 3061, 4711, 1331, 199, 6187, 74]\n",
            "['G R IH T S', 'B L AY N', 'T AH F', 'HH AA G Z', 'HH EY Z', 'V AO R S', 'B AE NG K', 'TH IH NG', 'CH ER N', 'M AH N']\n",
            "\n",
            "['That shrink in misty mournfulness from sight,']\n",
            "[1000, 2308, 1495, 5889, 2392, 924, 4272, 1826, 2826, 4463]\n",
            "['F R AH N T', 'V AO L', 'L AE N S', 'F L AE M', 'P OY N T S', 'AH T S', 'K R EH S T S', 'F R AE N', 'T AH F', 'TH R OW N D']\n",
            "\n",
            "['And secret seeds of envy, lay behind;']\n",
            "[3960, 6364, 3063, 4907, 3378, 5260, 4605, 4759, 3818, 74]\n",
            "['HH IY V D', 'K AO R K S', 'S P ER S T', 'HH AA G Z', 'B R EY N Z', 'HH AA R M D', 'L EY S T', 'S K R UW', 'F AY L Z', 'M AH N']\n",
            "\n",
            "['Of trees and crack of branches, common things,']\n",
            "[4259, 3697, 3850, 3236, 3461, 2572, 5750, 5033, 2826, 4463]\n",
            "['G R IY T S', 'L IH NG K', 'M AW DH Z', 'JH OY D', 'UW Z', 'DH EH R Z', 'T OW N D', 'N AE G Z', 'T AH F', 'TH R OW N D']\n",
            "\n",
            "['And pious tribute at her altars pay:']\n",
            "[3170, 4217, 3063, 4907, 1637, 4920, 2161, 4759, 6187, 74]\n",
            "['OW D', 'V OW L', 'S P ER S T', 'HH AA G Z', 'V IH R', 'B R AA N Z D', 'F Y UW Z', 'S K R UW', 'CH ER N', 'M AH N']\n",
            "\n",
            "['Courageous, and refreshed for future toil,']\n",
            "[4731, 1473, 2466, 1506, 655, 5840, 786, 6097, 2826, 74]\n",
            "['N AE L Z', 'R EY N Z', 'D EH R Z', 'S AH S', 'T AW N', 'T AA M P', 'SH OW L', 'S K R EY P S', 'T AH F', 'M AH N']\n",
            "\n",
            "['Upon the wall and windows blots of gilt.']\n",
            "[4731, 2577, 657, 2781, 3037, 2572, 2161, 4759, 3359, 74]\n",
            "['N AE L Z', 'V AH N S', 'S T AH N S', 'T IH P', 'TH R IH L D', 'DH EH R Z', 'F Y UW Z', 'S K R UW', 'G R EH T S', 'M AH N']\n",
            "\n",
            "['And lay upon the threshold like a log.']\n",
            "[5371, 2864, 1324, 2371, 30, 82, 580, 3747, 2826, 74]\n",
            "['L AH NG', 'AY V', 'S AH M Z', 'K W AO', 'EH', 'IH F', 'L EH T', 'S L IY K', 'T AH F', 'M AH N']\n",
            "\n",
            "['In synod unbenign; and taught the fixed']\n",
            "[4500, 4217, 334, 3767, 1209, 5260, 3267, 1690, 3498, 384]\n",
            "['JH AH NG K', 'V OW L', 'SH AO R', 'R IY L Z', 'HH EH N S', 'HH AA R M D', 'TH R AA B', 'W OW N T', 'JH OW', 'T R OW']\n",
            "\n",
            "['And left him to his rest.  An end of Love.']\n",
            "[2107, 5761, 3854, 4907, 2423, 5559, 4323, 4759, 2454, 74]\n",
            "['B IH S', 'S L AH G', 'K R AE K', 'HH AA G Z', 'B OW N', 'B AE K T', 'P IH N Z', 'S K R UW', 'Y UH R', 'M AH N']\n",
            "\n",
            "['And human hearts and minds to show it by,']\n",
            "[500, 3144, 3063, 2182, 1209, 2572, 5295, 199, 3818, 74]\n",
            "['SH IH NG', 'S T R UW', 'S P ER S T', 'P IH R S T', 'HH EH N S', 'DH EH R Z', 'Y ER N', 'TH IH NG', 'F AY L Z', 'M AH N']\n",
            "\n",
            "['The outward struggle and the inward strife.']\n",
            "[3960, 2923, 12, 1179, 655, 2572, 580, 880, 5364, 74]\n",
            "['HH IY V D', 'P L EH JH', 'HH ER', 'M UW V D', 'T AW N', 'DH EH R Z', 'L EH T', 'K AH L D', 'N EY T', 'M AH N']\n",
            "\n",
            "['His arms and bosom, seem to melt away.']\n",
            "[830, 3519, 298, 4907, 1458, 6551, 4369, 4933, 4294, 74]\n",
            "['S AH L Z', 'Z UW S', 'M AA', 'HH AA G Z', 'B L EY', 'K L AE S T', 'IH NG K', 'R AY S', 'K IH K', 'M AH N']\n",
            "\n",
            "['And noise, and tumult rises from the crowd.']\n",
            "[1852, 6409, 334, 679, 17, 4042, 1263, 4561, 5364, 2767]\n",
            "['T R AE NG', 'K OW S', 'SH AO R', 'W AY D', 'D IH', 'V IY Z', 'B AW Z', 'B R AH SH T', 'N EY T', 'F Y UW M']\n",
            "\n",
            "['Cannot devise a torment, so it be']\n",
            "[4731, 6244, 843, 1657, 30, 2572, 580, 551, 2826, 74]\n",
            "['N AE L Z', 'T EY N T S', 'CH EY N', 'P AH L S', 'EH', 'DH EH R Z', 'L EH T', 'AH B', 'T AH F', 'M AH N']\n",
            "\n",
            "['The damsel put the pair without reply:']\n",
            "[2807, 3063, 3854, 2, 4962, 2527, 3694, 5033, 851, 74]\n",
            "['S AH G', 'S P ER S T', 'K R AE K', 'DH AH', 'S T R IH K', 'Z OW N', 'G AH T S', 'N AE G Z', 'R AA', 'M AH N']\n",
            "\n",
            "['Or that it hardens more and helps to bind']\n",
            "[2107, 6350, 843, 2674, 1728, 2483, 1841, 2257, 5474, 74]\n",
            "['B IH S', 'F AO P', 'CH EY N', 'N IH K S', 'K UW', 'M AY L', 'F AY N D Z', 'S IH K S', 'Y AE NG', 'M AH N']\n",
            "\n",
            "['And flowing waters, and the starry flame,']\n",
            "[4697, 1656, 1753, 3767, 4379, 4042, 5295, 6097, 2826, 74]\n",
            "['N AE P', 'K L AW', 'S IY L D', 'R IY L Z', 'P R AW Z', 'V IY Z', 'Y ER N', 'S K R EY P S', 'T AH F', 'M AH N']\n",
            "\n",
            "['The spoil or spoiler? this behold in me;']\n",
            "[2354, 3899, 843, 2505, 1637, 3808, 2312, 6555, 2826, 74]\n",
            "['F OW L D Z', 'F OW K S', 'CH EY N', 'V IH SH', 'V IH R', 'K L AE S', 'ER JH', 'K R IH SH', 'T AH F', 'M AH N']\n",
            "\n",
            "['And rode with them, and spake to none; the day']\n",
            "[4259, 6244, 3063, 4259, 3378, 4920, 1263, 4759, 3818, 74]\n",
            "['G R IY T S', 'T EY N T S', 'S P ER S T', 'G R IY T S', 'B R EY N Z', 'B R AA N Z D', 'B AW Z', 'S K R UW', 'F AY L Z', 'M AH N']\n",
            "\n",
            "['Of finest metal was her armour bright,']\n",
            "[2107, 3400, 298, 6633, 811, 5469, 224, 6533, 6250, 2236]\n",
            "['B IH S', 'F R EY M D', 'M AA', 'P L IH N TH', 'W AY F', 'M OW L D Z', 'R OW Z', 'S W IH SH', 'D AE F T', 'S T IH R']\n",
            "\n",
            "['The doleful city all around invest,']\n",
            "[4708, 262, 3368, 2781, 655, 2572, 3592, 4759, 2826, 74]\n",
            "['B IY F', 'B AA', 'K IH N Z', 'T IH P', 'T AW N', 'DH EH R Z', 'B R EY V Z', 'S K R UW', 'T AH F', 'M AH N']\n",
            "\n",
            "['Of crowded cities, was from passing tale']\n",
            "[5066, 389, 6454, 1506, 3378, 4042, 1263, 4759, 2721, 74]\n",
            "['K W EH N', 'V AY N', 'S K AA R P', 'S AH S', 'B R EY N Z', 'V IY Z', 'B AW Z', 'S K R UW', 'R AY P', 'M AH N']\n",
            "\n",
            "['An Arab fearless as the face of Truth']\n",
            "[6083, 3883, 334, 2829, 1209, 2572, 4605, 2769, 5320, 74]\n",
            "['SH ER D', 'N AY Z', 'SH AO R', 'W IH SH T', 'HH EH N S', 'DH EH R Z', 'L EY S T', 'F AY L', 'W IH K', 'M AH N']\n",
            "\n",
            "['It lightened toil, and took the edge from pain,']\n",
            "[2107, 3883, 843, 317, 655, 570, 1263, 5209, 3186, 74]\n",
            "['B IH S', 'N AY Z', 'CH EY N', 'D EH', 'T AW N', 'K AH N D', 'B AW Z', 'HH IH P', 'V EY G', 'M AH N']\n",
            "\n",
            "['That brought with it another civil war.']\n",
            "[5066, 6290, 2821, 317, 1921, 4334, 4323, 1718, 4118, 1039]\n",
            "['K W EH N', 'D AH K S', 'P EH L D', 'D EH', 'F L AH NG', 'AH D Z', 'P IH N Z', 'HH OW S T S', 'TH W AO R', 'SH EY P']\n",
            "\n",
            "['Apart from all, in pride of conscious strength,']\n",
            "[3960, 2161, 843, 2182, 3378, 2572, 1520, 1073, 2000, 74]\n",
            "['HH IY V D', 'F Y UW Z', 'CH EY N', 'P IH R S T', 'B R EY N Z', 'DH EH R Z', 'G ER D', 'D IH M', 'D AO G', 'M AH N']\n",
            "\n",
            "['And far and near throughout the land the men']\n",
            "[4259, 6409, 3063, 5550, 655, 536, 1263, 2769, 4536, 74]\n",
            "['G R IY T S', 'K OW S', 'S P ER S T', 'Z AA R', 'T AW N', 'M AY T', 'B AW Z', 'F AY L', 'P R AH T', 'M AH N']\n",
            "\n",
            "['Remembered--I. And, oh! a little while']\n",
            "[4731, 3293, 3063, 3766, 6406, 5527, 580, 3345, 2215, 74]\n",
            "['N AE L Z', 'L IY G', 'S P ER S T', 'CH OW K T', 'S P AA R K T', 'T Y UH R D', 'L EH T', 'S N IH R', 'T EH L Z', 'M AH N']\n",
            "\n",
            "['And clip his borders short, and drive his herds,']\n",
            "[6083, 6364, 1618, 1506, 3378, 1927, 3592, 4389, 4536, 1539]\n",
            "['SH ER D', 'K AO R K S', 'B ER S T', 'S AH S', 'B R EY N Z', 'B AY N D', 'B R EY V Z', 'P ER B', 'P R AH T', 'P AO']\n",
            "\n",
            "['And suffer me in anguish to depart']\n",
            "[500, 1656, 1324, 1506, 3378, 4920, 1331, 4759, 1583, 74]\n",
            "['SH IH NG', 'K L AW', 'S AH M Z', 'S AH S', 'B R EY N Z', 'B R AA N Z D', 'B AE NG K', 'S K R UW', 'V AY D Z', 'M AH N']\n",
            "\n",
            "['The king from sovereign peril saved his head,']\n",
            "[4731, 389, 3063, 2981, 387, 2572, 4605, 3253, 6250, 2960]\n",
            "['N AE L Z', 'V AY N', 'S P ER S T', 'S ER N D', 'D AH S T', 'DH EH R Z', 'L EY S T', 'B AE G', 'D AE F T', 'TH AY']\n",
            "\n",
            "['The point is turned; the twilight shadow fills']\n",
            "[1852, 2923, 334, 4907, 57, 4042, 1331, 3345, 2609, 4463]\n",
            "['T R AE NG', 'P L EH JH', 'SH AO R', 'HH AA G Z', 'S ER', 'V IY Z', 'B AE NG K', 'S N IH R', 'B IH G', 'TH R OW N D']\n",
            "\n",
            "['Arriving all confused among the rest']\n",
            "[4731, 2335, 1516, 2372, 4676, 4990, 580, 3345, 1583, 74]\n",
            "['N AE L Z', 'D EH N', 'V R AH N', 'S AH M P', 'F R AO D Z', 'K L UW S', 'L EH T', 'S N IH R', 'V AY D Z', 'M AH N']\n",
            "\n",
            "[0.50084317 0.49961692 0.49957383 ... 0.49873635 0.4999596  0.4996005 ]\n"
          ],
          "name": "stdout"
        }
      ]
    },
    {
      "metadata": {
        "id": "yyDGVtigW57f",
        "colab_type": "code",
        "outputId": "0c565763-0f66-4e2f-d59d-1b532a32af88",
        "colab": {
          "base_uri": "https://localhost:8080/",
          "height": 235
        }
      },
      "cell_type": "code",
      "source": [
        "categories = df_train.label.cat.categories.tolist()\n",
        "predict_logits = predicts.argmax(axis=1)\n",
        "print(\"Categorie: {0}\".format(categories))\n",
        "predict_labels = [categories[logit] for logit in predict_logits]\n",
        "predict_labels"
      ],
      "execution_count": 19,
      "outputs": [
        {
          "output_type": "error",
          "ename": "NameError",
          "evalue": "ignored",
          "traceback": [
            "\u001b[0;31m---------------------------------------------------------------------------\u001b[0m",
            "\u001b[0;31mNameError\u001b[0m                                 Traceback (most recent call last)",
            "\u001b[0;32m<ipython-input-19-7f6e6bf5580f>\u001b[0m in \u001b[0;36m<module>\u001b[0;34m()\u001b[0m\n\u001b[0;32m----> 1\u001b[0;31m \u001b[0mcategories\u001b[0m \u001b[0;34m=\u001b[0m \u001b[0mdf_train\u001b[0m\u001b[0;34m.\u001b[0m\u001b[0mlabel\u001b[0m\u001b[0;34m.\u001b[0m\u001b[0mcat\u001b[0m\u001b[0;34m.\u001b[0m\u001b[0mcategories\u001b[0m\u001b[0;34m.\u001b[0m\u001b[0mtolist\u001b[0m\u001b[0;34m(\u001b[0m\u001b[0;34m)\u001b[0m\u001b[0;34m\u001b[0m\u001b[0m\n\u001b[0m\u001b[1;32m      2\u001b[0m \u001b[0mpredict_logits\u001b[0m \u001b[0;34m=\u001b[0m \u001b[0mpredicts\u001b[0m\u001b[0;34m.\u001b[0m\u001b[0margmax\u001b[0m\u001b[0;34m(\u001b[0m\u001b[0maxis\u001b[0m\u001b[0;34m=\u001b[0m\u001b[0;36m1\u001b[0m\u001b[0;34m)\u001b[0m\u001b[0;34m\u001b[0m\u001b[0m\n\u001b[1;32m      3\u001b[0m \u001b[0mprint\u001b[0m\u001b[0;34m(\u001b[0m\u001b[0;34m\"Categorie: {0}\"\u001b[0m\u001b[0;34m.\u001b[0m\u001b[0mformat\u001b[0m\u001b[0;34m(\u001b[0m\u001b[0mcategories\u001b[0m\u001b[0;34m)\u001b[0m\u001b[0;34m)\u001b[0m\u001b[0;34m\u001b[0m\u001b[0m\n\u001b[1;32m      4\u001b[0m \u001b[0mpredict_labels\u001b[0m \u001b[0;34m=\u001b[0m \u001b[0;34m[\u001b[0m\u001b[0mcategories\u001b[0m\u001b[0;34m[\u001b[0m\u001b[0mlogit\u001b[0m\u001b[0;34m]\u001b[0m \u001b[0;32mfor\u001b[0m \u001b[0mlogit\u001b[0m \u001b[0;32min\u001b[0m \u001b[0mpredict_logits\u001b[0m\u001b[0;34m]\u001b[0m\u001b[0;34m\u001b[0m\u001b[0m\n\u001b[1;32m      5\u001b[0m \u001b[0mpredict_labels\u001b[0m\u001b[0;34m\u001b[0m\u001b[0m\n",
            "\u001b[0;31mNameError\u001b[0m: name 'df_train' is not defined"
          ]
        }
      ]
    },
    {
      "metadata": {
        "id": "hYhmukbSKpnp",
        "colab_type": "code",
        "colab": {}
      },
      "cell_type": "code",
      "source": [
        "\n",
        "os.remove('./model.h5')"
      ],
      "execution_count": 0,
      "outputs": []
    }
  ]
}