{
  "nbformat": 4,
  "nbformat_minor": 0,
  "metadata": {
    "colab": {
      "name": "Deep_Meter_Multi_syllables.ipynb",
      "version": "0.3.2",
      "provenance": [],
      "collapsed_sections": []
    },
    "kernelspec": {
      "display_name": "Python 3",
      "language": "python",
      "name": "python3"
    },
    "accelerator": "GPU"
  },
  "cells": [
    {
      "metadata": {
        "colab_type": "text",
        "id": "co7MV6sX7Xto"
      },
      "cell_type": "markdown",
      "source": [
        "# [Keras + Universal Sentence Encoder = Deep Meter] (https://www.dlology.com/blog/keras-meets-universal-sentence-encoder-transfer-learning-for-text-data/) "
      ]
    },
    {
      "metadata": {
        "colab_type": "text",
        "id": "eAVQGidpL8v5"
      },
      "cell_type": "markdown",
      "source": [
        "This notebook creates an autoencoder using the Universal Sentence Encoder. The autoencoder output is CMUdict syllables. The dataset is that subset of Allison Parrish's Project Gutenberg poetry archive which happens to scan in iambic pentameter.\n",
        "\n",
        "The notebook is based on Chengwei Zhang's example of wrapping the USE inside a larger tensorflow model saves to a Keras model (without save the USE itself in the TF model).\n",
        "\n",
        "The Universal Sentence Encoder makes getting sentence level embeddings as easy as it has historically been to lookup the embeddings for individual words. The sentence embeddings can then be trivially used to compute sentence level meaning similarity as well as to enable better performance on downstream classification tasks using less supervised training data.\n",
        "\n",
        "Since there are 10 one-hot values for 10 sets of 6k syllables, this is \"multi-label classification\"\n",
        "Changes for multi-label classification:\n",
        "sigmoid activation instead of softmax\n",
        "binary_crossentropy\n",
        "\n",
        "Text format is tab-separated, 2 columns: first text, second multi-level\n",
        "array of syllables:\n",
        "\n",
        "Multi-output version"
      ]
    },
    {
      "metadata": {
        "colab_type": "text",
        "id": "pOTzp8O36CyQ"
      },
      "cell_type": "markdown",
      "source": [
        "# Getting Started\n",
        "\n",
        "This section sets up the environment for access to the Universal Sentence Encoder on TF Hub and provides examples of applying the encoder to words, sentences, and paragraphs."
      ]
    },
    {
      "metadata": {
        "colab_type": "code",
        "id": "lVjNK8shFKOC",
        "colab": {
          "base_uri": "https://localhost:8080/",
          "height": 119
        },
        "outputId": "bfe72208-87cd-4429-ca7d-86003a4d4328"
      },
      "cell_type": "code",
      "source": [
        "# Install the latest Tensorflow version.\n",
        "!pip3 install --quiet \"tensorflow>=1.7\"\n",
        "# Install TF-Hub.\n",
        "!pip3 install --quiet tensorflow-hub\n",
        "!pip3 install pygtrie\n",
        "#%cd /content\n",
        "!git clone https://github.com/LanceNorskog/deep_meter || true\n",
        "%cd /content/deep_meter\n",
        "!git pull\n",
        "# could not figure out how to read gzipped files as text!\n",
        "!gunzip -qf blobs/*.gz || true\n",
        "!gunzip -qf prepped_data/*.gz || true"
      ],
      "execution_count": 1,
      "outputs": [
        {
          "output_type": "stream",
          "text": [
            "Requirement already satisfied: pygtrie in /usr/local/lib/python3.6/dist-packages (2.3)\n",
            "fatal: destination path 'deep_meter' already exists and is not an empty directory.\n",
            "/content/deep_meter\n",
            "Already up to date.\n",
            "gzip: blobs/*.gz: No such file or directory\n",
            "gzip: prepped_data/*.gz: No such file or directory\n"
          ],
          "name": "stdout"
        }
      ]
    },
    {
      "metadata": {
        "colab_type": "code",
        "id": "MSeY-MUQo2Ha",
        "colab": {
          "base_uri": "https://localhost:8080/",
          "height": 34
        },
        "outputId": "4c7cf4ea-8d86-4bda-f120-eb4a9114db33"
      },
      "cell_type": "code",
      "source": [
        "# boilerplate from base notebook\n",
        "import tensorflow as tf\n",
        "import tensorflow_hub as hub\n",
        "import matplotlib.pyplot as plt\n",
        "import numpy as np\n",
        "import os\n",
        "import pandas as pd\n",
        "import re\n",
        "import seaborn as sns\n",
        "import keras.layers as layers\n",
        "from keras.models import Model\n",
        "from keras import backend as K\n",
        "from keras.callbacks import EarlyStopping, ModelCheckpoint\n",
        "from tensorflow.keras.optimizers import Nadam, Adam\n",
        "import gc\n",
        "from google.colab import files\n",
        "from google.colab import drive\n",
        "\n",
        "import pickle\n",
        "np.random.seed(10)"
      ],
      "execution_count": 2,
      "outputs": [
        {
          "output_type": "stream",
          "text": [
            "Using TensorFlow backend.\n"
          ],
          "name": "stderr"
        }
      ]
    },
    {
      "metadata": {
        "colab_type": "code",
        "id": "feBc_8Y-pt6F",
        "colab": {}
      },
      "cell_type": "code",
      "source": [
        "# github deep_meter code\n",
        "import utils\n",
        "# should not need this to use utils.flatten but is true anyway?\n",
        "from itertools import chain, product\n",
        "import subprocess\n",
        "import syllables\n",
        "import decodesyllables\n",
        "import cmudict\n",
        "# misc for this notebook\n",
        "from ast import literal_eval\n",
        "\n",
        "import scipy\n",
        "\n"
      ],
      "execution_count": 0,
      "outputs": []
    },
    {
      "metadata": {
        "colab_type": "code",
        "id": "zwty8Z6mAkdV",
        "colab": {}
      },
      "cell_type": "code",
      "source": [
        "module_url = \"https://tfhub.dev/google/universal-sentence-encoder-large/3\" #@param [\"https://tfhub.dev/google/universal-sentence-encoder/2\", \"https://tfhub.dev/google/universal-sentence-encoder-large/3\"]"
      ],
      "execution_count": 0,
      "outputs": []
    },
    {
      "metadata": {
        "colab_type": "code",
        "id": "Q8F4LNGFqOiq",
        "colab": {}
      },
      "cell_type": "code",
      "source": [
        "# Import the Universal Sentence Encoder's TF Hub module\n",
        "#embed = hub.Module(module_url)\n",
        "#embed_size = embed.get_output_info_dict()['default'].get_shape()[1].value"
      ],
      "execution_count": 0,
      "outputs": []
    },
    {
      "metadata": {
        "colab_type": "code",
        "id": "FwAQNy1eMDkQ",
        "colab": {}
      },
      "cell_type": "code",
      "source": [
        "# read classified poetry lines: text tab [['syll', 'la', 'ble'], ...]\n",
        "# clip to only most common syllables with syllable manager\n",
        "# ['words', ...], [[[0,0,1,0], ...]]\n",
        "def get_data(filename, syll_mgr, num_symbols, max_lines=55000):\n",
        "    num_syllables = syll_mgr.get_size()      \n",
        "    lines = open(filename, 'r').read().splitlines()\n",
        "    num_lines = min(max_lines, len(lines))\n",
        "    text_lines = []\n",
        "    text_sylls = []\n",
        "    for i in range(0, len(lines)):\n",
        "      if i == num_lines:\n",
        "        break\n",
        "      parts = lines[i].split(\"\\t\")\n",
        "      label = utils.flatten(literal_eval(parts[1]))\n",
        "      if len(label) == num_symbols:\n",
        "        text_lines.append(str(parts[0]))\n",
        "        text_sylls.append(label)\n",
        "    num_lines = len(text_lines)\n",
        "    label_array = np.zeros((num_symbols, num_lines, num_syllables), dtype=np.int8)\n",
        "    for i in range(0, num_lines):\n",
        "      for j in range(num_symbols):\n",
        "        label_array[j][i][syll_mgr.get_encoding(text_sylls[i][j])] = 1\n",
        "\n",
        "    return (text_lines, label_array)\n"
      ],
      "execution_count": 0,
      "outputs": []
    },
    {
      "metadata": {
        "colab_type": "code",
        "id": "3HAtd4X5DayF",
        "colab": {}
      },
      "cell_type": "code",
      "source": [
        "# syllables in descending order of occurrence - 6k in gutenberg.iambic_pentameter, 15k total\n",
        "# clamp to most common 100 syllables while debugging- use NCE to get all syllables or interesting number\n",
        "# 98 + pause + wildcard\n",
        "# iambic pentameter\n",
        "num_symbols = 10\n",
        "#syll_mgr = syllables.syllables(num_syllables)\n",
        "syll_mgr = syllables.syllables()\n",
        "num_syllables = syll_mgr.get_size() \n",
        "syll_weights = {}\n",
        "counts = syll_mgr.get_counts()\n",
        "maxim = np.max(counts)\n",
        "for i in range(len(counts)):\n",
        "  if counts[i] > 0:\n",
        "    syll_weights[i] = 1/(counts[i]/maxim)\n",
        "  else:\n",
        "    syll_weights[i] = 0\n",
        "\n"
      ],
      "execution_count": 0,
      "outputs": []
    },
    {
      "metadata": {
        "id": "5s7nAFdswrFN",
        "colab_type": "code",
        "colab": {}
      },
      "cell_type": "code",
      "source": [
        ""
      ],
      "execution_count": 0,
      "outputs": []
    },
    {
      "metadata": {
        "colab_type": "code",
        "id": "eN9aqig-QpDZ",
        "colab": {
          "base_uri": "https://localhost:8080/",
          "height": 85
        },
        "outputId": "e9e52b4b-74bc-486f-8745-fab47556835d"
      },
      "cell_type": "code",
      "source": [
        "(train_text, train_label) = get_data('prepped_data/gutenberg.iambic_pentameter.train', syll_mgr, num_symbols)\n",
        "num_training = len(train_text)\n",
        "#train_text = train_text[0:100]\n",
        "#train_label = train_label[0:100]\n",
        "\n",
        "(test_text, test_label) = get_data('prepped_data/gutenberg.iambic_pentameter.test', syll_mgr, num_symbols)\n",
        "#test_text = test_text[0:100]\n",
        "#test_label = test_label[0:100]\n",
        "\n",
        "num_testing = len(test_text)\n",
        "print(len(train_text))\n",
        "print(len(test_text))\n",
        "print(train_label.shape)\n",
        "print(test_label.shape)"
      ],
      "execution_count": 8,
      "outputs": [
        {
          "output_type": "stream",
          "text": [
            "51638\n",
            "4200\n",
            "(10, 51638, 6635)\n",
            "(10, 4200, 6635)\n"
          ],
          "name": "stdout"
        }
      ]
    },
    {
      "metadata": {
        "colab_type": "text",
        "id": "Sf9A4Xl6J7c6"
      },
      "cell_type": "markdown",
      "source": [
        "## Embed training & test text"
      ]
    },
    {
      "metadata": {
        "id": "mbJCx9vzwrF9",
        "colab_type": "code",
        "colab": {
          "base_uri": "https://localhost:8080/",
          "height": 85
        },
        "outputId": "30e1b33f-e526-4c4c-b3ee-66cc522e61aa"
      },
      "cell_type": "code",
      "source": [
        "# Import the Universal Sentence Encoder's TF Hub module\n",
        "embed = hub.Module(module_url)\n",
        "# important?\n",
        "embed_size = embed.get_output_info_dict()['default'].get_shape()[1].value\n",
        "\n",
        "# Reduce logging output.\n",
        "tf.logging.set_verbosity(tf.logging.ERROR)\n",
        "print(type(train_text))\n",
        "#train_text_t = tf.convert_to_tensor(train_text, dtype='string', name='training_text')\n",
        "with tf.Session() as session:\n",
        "  session.run([tf.global_variables_initializer(), tf.tables_initializer()])\n",
        "  train_embeddings = session.run(embed(train_text))\n",
        "  test_embeddings = session.run(embed(test_text))\n",
        "train_text_d = np.array(train_embeddings)\n",
        "test_text_d = np.array(test_embeddings)\n",
        "print(train_text_d.shape)\n",
        "print(test_text_d.shape)\n",
        "# conserve space\n",
        "embed = None\n",
        "train_text = None\n",
        "train_embeddings = None"
      ],
      "execution_count": 9,
      "outputs": [
        {
          "output_type": "stream",
          "text": [
            "INFO:tensorflow:Using /tmp/tfhub_modules to cache modules.\n",
            "<class 'list'>\n",
            "(51638, 512)\n",
            "(4200, 512)\n"
          ],
          "name": "stdout"
        }
      ]
    },
    {
      "metadata": {
        "colab_type": "code",
        "id": "-mQUV_7dIm-9",
        "colab": {
          "base_uri": "https://localhost:8080/",
          "height": 34
        },
        "outputId": "74faf96d-c0b4-422d-e935-f9aa29a847e6"
      },
      "cell_type": "code",
      "source": [
        "print(test_text_d.shape)\n",
        "# slow\n",
        "num_epochs = 20\n",
        "adam_0001 = Adam(0.0005)\n",
        "adam_0001 = tf.contrib.opt.NadamOptimizer(0.0005)"
      ],
      "execution_count": 10,
      "outputs": [
        {
          "output_type": "stream",
          "text": [
            "(4200, 512)\n"
          ],
          "name": "stdout"
        }
      ]
    },
    {
      "metadata": {
        "colab_type": "text",
        "id": "qX2rBOuxDP1m"
      },
      "cell_type": "markdown",
      "source": [
        "## Assemble model"
      ]
    },
    {
      "metadata": {
        "colab_type": "code",
        "id": "t3fllZkVjXKV",
        "colab": {
          "base_uri": "https://localhost:8080/",
          "height": 578
        },
        "outputId": "0e4ba559-91c8-4c7c-9c1c-a61b0b8fa90e"
      },
      "cell_type": "code",
      "source": [
        "input_embeddings = layers.Input(shape=(512,), dtype=tf.float32, name='Input')\n",
        "dropout_input = layers.Dropout(0.5)(input_embeddings)\n",
        "dense = layers.Dense(1024, activation='relu', name='Convoluted')(dropout_input)\n",
        "dense = layers.Dropout(0.5)(input_embeddings)\n",
        "dense = layers.Dense(2048, activation='relu', name='Midway')(dense)\n",
        "dense = layers.Dropout(0.5)(input_embeddings)\n",
        "dense = layers.Dense(4096, activation='relu', name='Smooth')(dense)\n",
        "pred_array = []\n",
        "loss_array = []\n",
        "names_array = []\n",
        "for i in range(num_symbols):\n",
        "  name = 'Flatout'+str(i)\n",
        "  pred_array.append(layers.Dense(num_syllables, activation='softmax', name=name)(dense))\n",
        "  loss_array.append('categorical_crossentropy')\n",
        "  names_array.append(name)\n",
        "model = Model(inputs=input_embeddings, outputs=pred_array)\n",
        "model.compile(loss=loss_array, \n",
        "              optimizer=adam_0001, \n",
        "              metrics=['categorical_accuracy'])\n",
        "model.summary()"
      ],
      "execution_count": 11,
      "outputs": [
        {
          "output_type": "stream",
          "text": [
            "__________________________________________________________________________________________________\n",
            "Layer (type)                    Output Shape         Param #     Connected to                     \n",
            "==================================================================================================\n",
            "Input (InputLayer)              (None, 512)          0                                            \n",
            "__________________________________________________________________________________________________\n",
            "dropout_3 (Dropout)             (None, 512)          0           Input[0][0]                      \n",
            "__________________________________________________________________________________________________\n",
            "Smooth (Dense)                  (None, 4096)         2101248     dropout_3[0][0]                  \n",
            "__________________________________________________________________________________________________\n",
            "Flatout0 (Dense)                (None, 6635)         27183595    Smooth[0][0]                     \n",
            "__________________________________________________________________________________________________\n",
            "Flatout1 (Dense)                (None, 6635)         27183595    Smooth[0][0]                     \n",
            "__________________________________________________________________________________________________\n",
            "Flatout2 (Dense)                (None, 6635)         27183595    Smooth[0][0]                     \n",
            "__________________________________________________________________________________________________\n",
            "Flatout3 (Dense)                (None, 6635)         27183595    Smooth[0][0]                     \n",
            "__________________________________________________________________________________________________\n",
            "Flatout4 (Dense)                (None, 6635)         27183595    Smooth[0][0]                     \n",
            "__________________________________________________________________________________________________\n",
            "Flatout5 (Dense)                (None, 6635)         27183595    Smooth[0][0]                     \n",
            "__________________________________________________________________________________________________\n",
            "Flatout6 (Dense)                (None, 6635)         27183595    Smooth[0][0]                     \n",
            "__________________________________________________________________________________________________\n",
            "Flatout7 (Dense)                (None, 6635)         27183595    Smooth[0][0]                     \n",
            "__________________________________________________________________________________________________\n",
            "Flatout8 (Dense)                (None, 6635)         27183595    Smooth[0][0]                     \n",
            "__________________________________________________________________________________________________\n",
            "Flatout9 (Dense)                (None, 6635)         27183595    Smooth[0][0]                     \n",
            "==================================================================================================\n",
            "Total params: 273,937,198\n",
            "Trainable params: 273,937,198\n",
            "Non-trainable params: 0\n",
            "__________________________________________________________________________________________________\n"
          ],
          "name": "stdout"
        }
      ]
    },
    {
      "metadata": {
        "colab_type": "text",
        "id": "bqcRy_JWXe0u"
      },
      "cell_type": "markdown",
      "source": [
        "## Train Keras model and save weights\n",
        "This only trains and save our Keras layers not the embed module' weights."
      ]
    },
    {
      "metadata": {
        "colab_type": "code",
        "id": "_stfC_7VFhS8",
        "colab": {
          "base_uri": "https://localhost:8080/",
          "height": 68
        },
        "outputId": "2af4da81-432d-44e4-fd88-7e411b99112c"
      },
      "cell_type": "code",
      "source": [
        "use_saved_model=True\n",
        "history = None\n",
        "print(train_label.shape)\n",
        "if not use_saved_model or not os.path.exists('./model_syllables.h5'):\n",
        "  with tf.Session() as session:\n",
        "    K.set_session(session)\n",
        "    session.run(tf.global_variables_initializer())\n",
        "    session.run(tf.tables_initializer())\n",
        "    train_labels = []\n",
        "    test_labels = []\n",
        "    for i in range(num_symbols):\n",
        "        train_labels.append(np.array(train_label[i]))\n",
        "        test_labels.append(np.array(test_label[i]))\n",
        "    history = model.fit(train_text_d, \n",
        "            train_labels,\n",
        "            validation_data=(test_text_d, test_labels),\n",
        "            epochs=num_epochs,\n",
        "            #callbacks = [EarlyStopping(patience=2)],\n",
        "            batch_size=32,\n",
        "            class_weight=syll_weights,\n",
        "            verbose=2\n",
        "            )\n",
        "    model.save_weights('./model_syllables.h5')\n"
      ],
      "execution_count": 0,
      "outputs": [
        {
          "output_type": "stream",
          "text": [
            "(10, 51638, 6635)\n",
            "Train on 51638 samples, validate on 4200 samples\n",
            "Epoch 1/20\n"
          ],
          "name": "stdout"
        }
      ]
    },
    {
      "metadata": {
        "colab_type": "code",
        "id": "UW1CiBhnXnxa",
        "colab": {
          "base_uri": "https://localhost:8080/",
          "height": 51
        },
        "outputId": "b0b75e74-4af8-40bb-ceaf-986a325a0e92"
      },
      "cell_type": "code",
      "source": [
        "!ls -alh | grep model_syllables.h5\n",
        "drive.mount('/content/gdrive')\n",
        "#!ls /content/gdrive/'My Drive'/'Colab Notebooks'\n",
        "\n",
        "!cp model_syllables.h5 /content/gdrive/My\\ Drive/Colab\\ Notebooks/model_syllables.h5"
      ],
      "execution_count": 13,
      "outputs": [
        {
          "output_type": "stream",
          "text": [
            "-rw-r--r-- 1 root root 1.1G Nov  8 07:19 model_syllables.h5\n",
            "Drive already mounted at /content/gdrive; to attempt to forcibly remount, call drive.mount(\"/content/gdrive\", force_remount=True).\n"
          ],
          "name": "stdout"
        }
      ]
    },
    {
      "metadata": {
        "id": "EAmr2oxhyo1D",
        "colab_type": "code",
        "colab": {}
      },
      "cell_type": "code",
      "source": [
        "if history != None:\n",
        "  # summarize history for accuracy\n",
        "  plt.plot(history.history['loss'])\n",
        "  #plt.plot(history.history['val_loss'])\n",
        "  plt.title('model loss')\n",
        "  plt.ylabel('loss')\n",
        "  plt.xlabel('epoch')\n",
        "  plt.legend(['train', 'test'], loc='upper left')\n",
        "  plt.show()"
      ],
      "execution_count": 0,
      "outputs": []
    },
    {
      "metadata": {
        "id": "OWoyYNWgyqS5",
        "colab_type": "code",
        "colab": {}
      },
      "cell_type": "code",
      "source": [
        "#if history != None:\n",
        "  # summarize history for accuracy\n",
        "  #plt.plot(history.history['acc'])\n",
        "  #plt.plot(history.history['val_acc'])\n",
        "  #plt.title('model accuracy')\n",
        "  #plt.ylabel('accuracy')\n",
        "  #plt.xlabel('epoch')\n",
        "  #plt.legend(['train', 'test'], loc='upper left')\n",
        "  #plt.show()"
      ],
      "execution_count": 0,
      "outputs": []
    },
    {
      "metadata": {
        "colab_type": "text",
        "id": "nQux6qLdXabG"
      },
      "cell_type": "markdown",
      "source": [
        "## Make predictions"
      ]
    },
    {
      "metadata": {
        "colab_type": "code",
        "id": "fSDxetlfUEiD",
        "colab": {
          "base_uri": "https://localhost:8080/",
          "height": 51
        },
        "outputId": "4e5170a0-5745-478e-d8de-8b2b5eb39410"
      },
      "cell_type": "code",
      "source": [
        "\n",
        "#new_text = np.array(new_text, dtype=object)[:, np.newaxis]\n",
        "with tf.Session() as session:\n",
        "  K.set_session(session)\n",
        "  session.run(tf.global_variables_initializer())\n",
        "  session.run(tf.tables_initializer())\n",
        "  model.load_weights('./model_syllables.h5')  \n",
        "  predicts = model.predict(test_text_d, batch_size=32)\n",
        "\n",
        "print(len(predicts))\n",
        "print(predicts[0].shape)\n",
        "with open(\"./predictions_syllables.pkl\", \"wb\") as f:\n",
        "  pickle.dump(predicts, f)"
      ],
      "execution_count": 16,
      "outputs": [
        {
          "output_type": "stream",
          "text": [
            "10\n",
            "(4200, 6635)\n"
          ],
          "name": "stdout"
        }
      ]
    },
    {
      "metadata": {
        "id": "t3m7j_t1y8Wv",
        "colab_type": "code",
        "colab": {
          "base_uri": "https://localhost:8080/",
          "height": 34
        },
        "outputId": "ecad5bbd-0a90-46eb-c5d1-d2dae50371a6"
      },
      "cell_type": "code",
      "source": [
        "# load pre-saved predictions\n",
        "!cp /content/gdrive/My\\ Drive/Colab\\ Notebooks/predictions.pkl ./predictions.pkl \n",
        "with open(\"./predictions_syllables.pkl\", \"rb\") as f:\n",
        "    predicts = pickle.load(f)\n",
        "print(\"Number of predictions: \" + str(len(predicts[0])))"
      ],
      "execution_count": 17,
      "outputs": [
        {
          "output_type": "stream",
          "text": [
            "Number of predictions: 4200\n"
          ],
          "name": "stdout"
        }
      ]
    },
    {
      "metadata": {
        "colab_type": "code",
        "id": "xaR0d5VPU23Z",
        "colab": {
          "base_uri": "https://localhost:8080/",
          "height": 34
        },
        "outputId": "5b9730a8-4a75-48b8-be2f-b3a04dece9da"
      },
      "cell_type": "code",
      "source": [
        "num_tests = len(predicts[0])\n",
        "num_tests = min(5, len(predicts[0]))\n",
        "# Collect possible syllables from each output model\n",
        "# [num_lines][num_symbols][N > 0.8]\n",
        "index_arrays = [[]] * num_tests\n",
        "for j in range(num_tests):\n",
        "    index_arrays[j] = [[]] * num_symbols\n",
        "    for i in range(num_symbols):\n",
        "      index_arrays[j][i] = []\n",
        "      \n",
        "# index into each possible syllable and score\n",
        "for i in range(num_symbols):\n",
        "  for j in range(num_tests):\n",
        "    for k in range(num_syllables):\n",
        "      if predicts[i][j][k] > 0.5:\n",
        "        #print(\"i, j {0},{1}, -> {2}\".format(i,j,k))\n",
        "        index_arrays[j][i].append(k)\n",
        "\n",
        "print(index_arrays[0])"
      ],
      "execution_count": 18,
      "outputs": [
        {
          "output_type": "stream",
          "text": [
            "[[], [], [], [], [], [], [], [], [], []]\n"
          ],
          "name": "stdout"
        }
      ]
    },
    {
      "metadata": {
        "id": "kcjSndW8KX0d",
        "colab_type": "code",
        "colab": {}
      },
      "cell_type": "code",
      "source": [
        "decoder = decodesyllables.Decoder(cmudict.CMUDict())\n",
        "for i in range(0,num_tests):\n",
        "  alist = []\n",
        "  slist = []\n",
        "  for index_list in product(*index_arrays[i]):\n",
        "    print(index_list)\n",
        "\n",
        "  if len(slist) == 0:\n",
        "    continue\n",
        "  stotals = [1.0] * len(slist)\n",
        "  for i in range(len(slist)):\n",
        "    stotals[i] = decodewords.sum_scores(alist[i], slist[i])\n",
        "  topindex = np.argsort(stotals)[0]\n",
        "  print(\"Top score = {0}\".format(stotals[topindex]))\n",
        "  atest = alist[topindex]\n",
        "  stest = slist[topindex]\n",
        "  alist = None\n",
        "  slist = None\n",
        "  print(arpabet_arrays[i])\n",
        "  trylist = []\n",
        "  allok = True\n",
        "  for sublist in atest:\n",
        "    if len(sublist) == 0:\n",
        "      allok = False\n",
        "  if allok:\n",
        "    for s in decoder.decode_sentence(atest, 12):\n",
        "      print(s)\n"
      ],
      "execution_count": 0,
      "outputs": []
    },
    {
      "metadata": {
        "colab_type": "code",
        "id": "yyDGVtigW57f",
        "colab": {
          "base_uri": "https://localhost:8080/",
          "height": 231
        },
        "outputId": "9a6881be-f8c6-4d0a-cf1c-60a3ac9547a8"
      },
      "cell_type": "code",
      "source": [
        "categories = df_train.label.cat.categories.tolist()\n",
        "predict_logits = predicts.argmax(axis=1)\n",
        "print(\"Categorie: {0}\".format(categories))\n",
        "predict_labels = [categories[logit] for logit in predict_logits]\n",
        "predict_labels"
      ],
      "execution_count": 20,
      "outputs": [
        {
          "output_type": "error",
          "ename": "NameError",
          "evalue": "ignored",
          "traceback": [
            "\u001b[0;31m---------------------------------------------------------------------------\u001b[0m",
            "\u001b[0;31mNameError\u001b[0m                                 Traceback (most recent call last)",
            "\u001b[0;32m<ipython-input-20-7f6e6bf5580f>\u001b[0m in \u001b[0;36m<module>\u001b[0;34m()\u001b[0m\n\u001b[0;32m----> 1\u001b[0;31m \u001b[0mcategories\u001b[0m \u001b[0;34m=\u001b[0m \u001b[0mdf_train\u001b[0m\u001b[0;34m.\u001b[0m\u001b[0mlabel\u001b[0m\u001b[0;34m.\u001b[0m\u001b[0mcat\u001b[0m\u001b[0;34m.\u001b[0m\u001b[0mcategories\u001b[0m\u001b[0;34m.\u001b[0m\u001b[0mtolist\u001b[0m\u001b[0;34m(\u001b[0m\u001b[0;34m)\u001b[0m\u001b[0;34m\u001b[0m\u001b[0m\n\u001b[0m\u001b[1;32m      2\u001b[0m \u001b[0mpredict_logits\u001b[0m \u001b[0;34m=\u001b[0m \u001b[0mpredicts\u001b[0m\u001b[0;34m.\u001b[0m\u001b[0margmax\u001b[0m\u001b[0;34m(\u001b[0m\u001b[0maxis\u001b[0m\u001b[0;34m=\u001b[0m\u001b[0;36m1\u001b[0m\u001b[0;34m)\u001b[0m\u001b[0;34m\u001b[0m\u001b[0m\n\u001b[1;32m      3\u001b[0m \u001b[0mprint\u001b[0m\u001b[0;34m(\u001b[0m\u001b[0;34m\"Categorie: {0}\"\u001b[0m\u001b[0;34m.\u001b[0m\u001b[0mformat\u001b[0m\u001b[0;34m(\u001b[0m\u001b[0mcategories\u001b[0m\u001b[0;34m)\u001b[0m\u001b[0;34m)\u001b[0m\u001b[0;34m\u001b[0m\u001b[0m\n\u001b[1;32m      4\u001b[0m \u001b[0mpredict_labels\u001b[0m \u001b[0;34m=\u001b[0m \u001b[0;34m[\u001b[0m\u001b[0mcategories\u001b[0m\u001b[0;34m[\u001b[0m\u001b[0mlogit\u001b[0m\u001b[0;34m]\u001b[0m \u001b[0;32mfor\u001b[0m \u001b[0mlogit\u001b[0m \u001b[0;32min\u001b[0m \u001b[0mpredict_logits\u001b[0m\u001b[0;34m]\u001b[0m\u001b[0;34m\u001b[0m\u001b[0m\n\u001b[1;32m      5\u001b[0m \u001b[0mpredict_labels\u001b[0m\u001b[0;34m\u001b[0m\u001b[0m\n",
            "\u001b[0;31mNameError\u001b[0m: name 'df_train' is not defined"
          ]
        }
      ]
    },
    {
      "metadata": {
        "colab_type": "code",
        "id": "hYhmukbSKpnp",
        "colab": {}
      },
      "cell_type": "code",
      "source": [
        "\n",
        "os.remove('./model_syllables.h5')"
      ],
      "execution_count": 0,
      "outputs": []
    },
    {
      "metadata": {
        "id": "pbH87mEcOKgA",
        "colab_type": "code",
        "colab": {}
      },
      "cell_type": "code",
      "source": [
        "os.remove('./predictions_syllables.pkl')"
      ],
      "execution_count": 0,
      "outputs": []
    }
  ]
}