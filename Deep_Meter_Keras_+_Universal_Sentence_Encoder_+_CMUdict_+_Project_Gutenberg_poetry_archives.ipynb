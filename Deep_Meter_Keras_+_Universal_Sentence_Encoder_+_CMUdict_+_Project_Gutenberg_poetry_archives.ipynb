{
  "nbformat": 4,
  "nbformat_minor": 0,
  "metadata": {
    "colab": {
      "name": "Deep Meter: Keras + Universal Sentence Encoder + CMUdict + Project Gutenberg poetry archives",
      "version": "0.3.2",
      "provenance": [],
      "collapsed_sections": []
    },
    "kernelspec": {
      "name": "python3",
      "display_name": "Python 3"
    },
    "accelerator": "GPU"
  },
  "cells": [
    {
      "metadata": {
        "id": "co7MV6sX7Xto",
        "colab_type": "text"
      },
      "cell_type": "markdown",
      "source": [
        "# [Keras + Universal Sentence Encoder = Deep Meter](https://www.dlology.com/blog/keras-meets-universal-sentence-encoder-transfer-learning-for-text-data/) "
      ]
    },
    {
      "metadata": {
        "id": "eAVQGidpL8v5",
        "colab_type": "text"
      },
      "cell_type": "markdown",
      "source": [
        "This notebook creates an autoencoder using the Universal Sentence Encoder. The autoencoder output is CMUdict syllables. The dataset is that subset of Allison Parrish's Project Gutenberg poetry archive which happens to scan in iambic pentameter.\n",
        "\n",
        "The notebook is based on Chengwei Zhang's example of wrapping the USE inside a larger tensorflow model saves to a Keras model (without save the USE itself in the TF model).\n",
        "\n",
        "The Universal Sentence Encoder makes getting sentence level embeddings as easy as it has historically been to lookup the embeddings for individual words. The sentence embeddings can then be trivially used to compute sentence level meaning similarity as well as to enable better performance on downstream classification tasks using less supervised training data.\n",
        "\n",
        "Since there are 10 one-hot values for 10 sets of 6k syllables, this is \"multi-label classification\"\n",
        "Changes for multi-label classification:\n",
        "sigmoid activation instead of softmax\n",
        "binary_crossentropy\n",
        "\n",
        "Text format is tab-separated, 2 columns: first text, second multi-level\n",
        "array of syllables:\n"
      ]
    },
    {
      "metadata": {
        "id": "pOTzp8O36CyQ",
        "colab_type": "text"
      },
      "cell_type": "markdown",
      "source": [
        "# Getting Started\n",
        "\n",
        "This section sets up the environment for access to the Universal Sentence Encoder on TF Hub and provides examples of applying the encoder to words, sentences, and paragraphs."
      ]
    },
    {
      "metadata": {
        "id": "lVjNK8shFKOC",
        "colab_type": "code",
        "outputId": "8b69ae1b-e853-41da-c04b-7c9f719c32fd",
        "colab": {
          "base_uri": "https://localhost:8080/",
          "height": 208
        }
      },
      "cell_type": "code",
      "source": [
        "# Install the latest Tensorflow version.\n",
        "!pip3 install --quiet \"tensorflow>=1.7\"\n",
        "# Install TF-Hub.\n",
        "!pip3 install --quiet tensorflow-hub\n",
        "%cd /content\n",
        "!git clone https://github.com/LanceNorskog/deep_meter || true\n",
        "%cd deep_meter\n",
        "!git pull\n",
        "# could not figure out how to read gzipped files as text!\n",
        "!gunzip -qf blobs/*.gz || true\n",
        "!gunzip -qf prepped_data/*.gz || true"
      ],
      "execution_count": 1,
      "outputs": [
        {
          "output_type": "stream",
          "text": [
            "/content\n",
            "Cloning into 'deep_meter'...\n",
            "remote: Enumerating objects: 9, done.\u001b[K\n",
            "remote: Counting objects: 100% (9/9), done.\u001b[K\n",
            "remote: Compressing objects: 100% (7/7), done.\u001b[K\n",
            "remote: Total 252 (delta 3), reused 7 (delta 2), pack-reused 243\u001b[K\n",
            "Receiving objects: 100% (252/252), 20.77 MiB | 7.46 MiB/s, done.\n",
            "Resolving deltas: 100% (134/134), done.\n",
            "/content/deep_meter\n",
            "Already up to date.\n",
            "gzip: blobs/*.gz: No such file or directory\n"
          ],
          "name": "stdout"
        }
      ]
    },
    {
      "metadata": {
        "id": "MSeY-MUQo2Ha",
        "colab_type": "code",
        "outputId": "577523c5-eb47-49d8-9b46-50d5a64c5202",
        "colab": {
          "base_uri": "https://localhost:8080/",
          "height": 34
        }
      },
      "cell_type": "code",
      "source": [
        "# boilerplate from base notebook\n",
        "import tensorflow as tf\n",
        "import tensorflow_hub as hub\n",
        "import matplotlib.pyplot as plt\n",
        "import numpy as np\n",
        "import os\n",
        "import pandas as pd\n",
        "import re\n",
        "import seaborn as sns\n",
        "import keras.layers as layers\n",
        "from keras.models import Model\n",
        "from keras import backend as K\n",
        "from keras.callbacks import EarlyStopping, ModelCheckpoint\n",
        "from tensorflow.keras.optimizers import Nadam, Adam\n",
        "np.random.seed(10)"
      ],
      "execution_count": 2,
      "outputs": [
        {
          "output_type": "stream",
          "text": [
            "Using TensorFlow backend.\n"
          ],
          "name": "stderr"
        }
      ]
    },
    {
      "metadata": {
        "id": "feBc_8Y-pt6F",
        "colab_type": "code",
        "colab": {}
      },
      "cell_type": "code",
      "source": [
        "# github deep_meter code\n",
        "import utils\n",
        "# should not need this to use utils.flatten but is true anyway?\n",
        "from itertools import chain\n",
        "import subprocess\n",
        "import syllables\n",
        "# misc for this notebook\n",
        "from ast import literal_eval\n",
        "\n",
        "import scipy\n",
        "\n"
      ],
      "execution_count": 0,
      "outputs": []
    },
    {
      "metadata": {
        "id": "zwty8Z6mAkdV",
        "colab_type": "code",
        "colab": {}
      },
      "cell_type": "code",
      "source": [
        "module_url = \"https://tfhub.dev/google/universal-sentence-encoder-large/3\" #@param [\"https://tfhub.dev/google/universal-sentence-encoder/2\", \"https://tfhub.dev/google/universal-sentence-encoder-large/3\"]"
      ],
      "execution_count": 0,
      "outputs": []
    },
    {
      "metadata": {
        "id": "Q8F4LNGFqOiq",
        "colab_type": "code",
        "outputId": "dbc1418e-ea6b-429f-e6ce-3c76223088de",
        "colab": {
          "base_uri": "https://localhost:8080/",
          "height": 69
        }
      },
      "cell_type": "code",
      "source": [
        "# Import the Universal Sentence Encoder's TF Hub module\n",
        "embed = hub.Module(module_url)\n",
        "embed_size = embed.get_output_info_dict()['default'].get_shape()[1].value"
      ],
      "execution_count": 5,
      "outputs": [
        {
          "output_type": "stream",
          "text": [
            "INFO:tensorflow:Using /tmp/tfhub_modules to cache modules.\n",
            "INFO:tensorflow:Downloading TF-Hub Module 'https://tfhub.dev/google/universal-sentence-encoder-large/3'.\n",
            "INFO:tensorflow:Downloaded TF-Hub Module 'https://tfhub.dev/google/universal-sentence-encoder-large/3'.\n"
          ],
          "name": "stdout"
        }
      ]
    },
    {
      "metadata": {
        "id": "FwAQNy1eMDkQ",
        "colab_type": "code",
        "colab": {}
      },
      "cell_type": "code",
      "source": [
        "# read classified poetry lines: text tab [['syll', 'la', 'ble'], ...]\n",
        "# clip to only most common syllables with syllable manager\n",
        "def get_data(filename, syll_mgr, num_symbols):\n",
        "    lines = open(filename, 'r').read().splitlines()\n",
        "    text_lines = []\n",
        "    enc_array = []\n",
        "    num_syllables = syll_mgr.get_size()\n",
        "    for i in range(0, len(lines)):\n",
        "      parts = lines[i].split(\"\\t\")\n",
        "      label = utils.flatten(literal_eval(parts[1]))\n",
        "      if len(label) != num_symbols:\n",
        "        continue\n",
        "      enc = np.zeros((num_symbols * syll_mgr.get_size()), dtype=np.int8)\n",
        "      for j in range(num_symbols):\n",
        "        enc[num_syllables * j + syll_mgr.get_encoding(label[j])] = 1\n",
        "      text_lines.append([parts[0]])\n",
        "      enc_array.append(enc)\n",
        "\n",
        "    lines = None\n",
        "    return (np.array(text_lines), np.array(enc_array))\n"
      ],
      "execution_count": 0,
      "outputs": []
    },
    {
      "metadata": {
        "id": "3HAtd4X5DayF",
        "colab_type": "code",
        "colab": {}
      },
      "cell_type": "code",
      "source": [
        "# syllables in descending order of occurrence - 6k in gutenberg.iambic_pentameter, 15k total\n",
        "# clamp to most common 100 syllables while debugging- use NCE to get all syllables or interesting number\n",
        "# 98 + pause + wildcard\n",
        "# iambic pentameter\n",
        "num_symbols = 10\n",
        "#syll_mgr = syllables.syllables(num_syllables)\n",
        "syll_mgr = syllables.syllables()\n",
        "num_syllables = syll_mgr.get_size() \n",
        "syll_weights = {}\n",
        "counts = syll_mgr.get_counts()\n",
        "maxim = np.max(counts)\n",
        "for t in range(10):\n",
        "  for i in range(len(counts)):\n",
        "    if counts[i] > 0:\n",
        "      syll_weights[t * len(counts) + i] = 1/(counts[i]/maxim)\n",
        "    else:\n",
        "      syll_weights[t * len(counts) + i] = 0\n",
        "    "
      ],
      "execution_count": 0,
      "outputs": []
    },
    {
      "metadata": {
        "id": "eN9aqig-QpDZ",
        "colab_type": "code",
        "colab": {
          "base_uri": "https://localhost:8080/",
          "height": 52
        },
        "outputId": "7a51d41b-f3b3-4cb6-fddf-08ef6d00b043"
      },
      "cell_type": "code",
      "source": [
        "print(syll_weights[15])\n",
        "(train_text, train_label) = get_data('prepped_data/gutenberg.iambic_pentameter.train', syll_mgr, num_symbols)\n",
        "num_training = len(train_text)\n",
        "#train_text = train_text[0:10000]\n",
        "#train_label = train_label[0:10000]\n",
        "\n",
        "(test_text, test_label) = get_data('prepped_data/gutenberg.iambic_pentameter.test', syll_mgr, num_symbols)\n",
        "num_testing = len(test_text)\n",
        "train_label.shape\n"
      ],
      "execution_count": 8,
      "outputs": [
        {
          "output_type": "stream",
          "text": [
            "11.88058472308009\n"
          ],
          "name": "stdout"
        },
        {
          "output_type": "execute_result",
          "data": {
            "text/plain": [
              "(58498, 66350)"
            ]
          },
          "metadata": {
            "tags": []
          },
          "execution_count": 8
        }
      ]
    },
    {
      "metadata": {
        "id": "-mQUV_7dIm-9",
        "colab_type": "code",
        "outputId": "de4c1556-bea6-477c-d37f-a7dd2449c176",
        "colab": {
          "base_uri": "https://localhost:8080/",
          "height": 34
        }
      },
      "cell_type": "code",
      "source": [
        "\n",
        "# slow\n",
        "num_epochs = 50\n",
        "adam_lr = 0.001\n",
        "adam_opt = Adam(lr=adam_lr)\n",
        "nadam_opt = tf.contrib.opt.NadamOptimizer(adam_lr)\n",
        "print(type(adam_opt))"
      ],
      "execution_count": 9,
      "outputs": [
        {
          "output_type": "stream",
          "text": [
            "<class 'tensorflow.python.keras.optimizers.Adam'>\n"
          ],
          "name": "stdout"
        }
      ]
    },
    {
      "metadata": {
        "id": "rp5plHeF_3Tq",
        "colab_type": "code",
        "colab": {}
      },
      "cell_type": "code",
      "source": [
        "# weighted binary crossentropy?\n"
      ],
      "execution_count": 0,
      "outputs": []
    },
    {
      "metadata": {
        "id": "Sf9A4Xl6J7c6",
        "colab_type": "text"
      },
      "cell_type": "markdown",
      "source": [
        "## Wrap embed module in a Lambda layer\n",
        "Explicitly cast the input as a string"
      ]
    },
    {
      "metadata": {
        "id": "PRD3fWgJjOrP",
        "colab_type": "code",
        "colab": {}
      },
      "cell_type": "code",
      "source": [
        "def UniversalEmbedding(x):\n",
        "    return embed(tf.squeeze(tf.cast(x, tf.string)), signature=\"default\", as_dict=True)[\"default\"]\n"
      ],
      "execution_count": 0,
      "outputs": []
    },
    {
      "metadata": {
        "id": "qX2rBOuxDP1m",
        "colab_type": "text"
      },
      "cell_type": "markdown",
      "source": [
        "## Assemble model"
      ]
    },
    {
      "metadata": {
        "id": "pAhiR4BlW7wg",
        "colab_type": "code",
        "colab": {}
      },
      "cell_type": "code",
      "source": [
        "def create_weighted_binary_crossentropy(zero_weight, one_weight):\n",
        "\n",
        "    def weighted_binary_crossentropy(y_true, y_pred):\n",
        "\n",
        "        # Original binary crossentropy (see losses.py):\n",
        "        # K.mean(K.binary_crossentropy(y_true, y_pred), axis=-1)\n",
        "\n",
        "        # Calculate the binary crossentropy\n",
        "        b_ce = K.binary_crossentropy(y_true, y_pred)\n",
        "\n",
        "        # Apply the weights\n",
        "        weight_vector = y_true * one_weight + (1. - y_true) * zero_weight\n",
        "        weighted_b_ce = weight_vector * b_ce\n",
        "\n",
        "        # Return the mean error\n",
        "        return K.mean(weighted_b_ce)\n",
        "\n",
        "    return weighted_binary_crossentropy\n",
        "  \n",
        "custom_binary_crossentropy = create_weighted_binary_crossentropy(1/(np.sqrt(num_syllables)), 1 - 1/np.sqrt(num_syllables))"
      ],
      "execution_count": 0,
      "outputs": []
    },
    {
      "metadata": {
        "id": "nlvllPbgzCzT",
        "colab_type": "code",
        "colab": {}
      },
      "cell_type": "code",
      "source": [
        "POS_WEIGHT=10\n",
        "def weighted_binary_crossentropy2(target, output):\n",
        "    \"\"\"\n",
        "    Weighted binary crossentropy between an output tensor \n",
        "    and a target tensor. POS_WEIGHT is used as a multiplier \n",
        "    for the positive targets.\n",
        "\n",
        "    Combination of the following functions:\n",
        "    * keras.losses.binary_crossentropy\n",
        "    * keras.backend.tensorflow_backend.binary_crossentropy\n",
        "    * tf.nn.weighted_cross_entropy_with_logits\n",
        "    \"\"\"\n",
        "    # transform back to logits\n",
        "    _epsilon = tfb._to_tensor(tfb.epsilon(), output.dtype.base_dtype)\n",
        "    output = tf.clip_by_value(output, _epsilon, 1 - _epsilon)\n",
        "    output = tf.log(output / (1 - output))\n",
        "    # compute weighted loss\n",
        "    loss = tf.nn.weighted_cross_entropy_with_logits(targets=target,\n",
        "                                                    logits=output,\n",
        "                                                    pos_weight=POS_WEIGHT)\n",
        "    return tf.reduce_mean(loss, axis=-1)\n"
      ],
      "execution_count": 0,
      "outputs": []
    },
    {
      "metadata": {
        "id": "A7W8yULDzZOZ",
        "colab_type": "code",
        "colab": {}
      },
      "cell_type": "code",
      "source": [
        "def hamming_loss(y_true, y_pred):\n",
        "  return K.mean(y_true*(1-y_pred)+(1-y_true)*y_pred)"
      ],
      "execution_count": 0,
      "outputs": []
    },
    {
      "metadata": {
        "id": "t3fllZkVjXKV",
        "colab_type": "code",
        "outputId": "1888b86c-3cc4-4d19-a9b6-4fb995c4869a",
        "colab": {
          "base_uri": "https://localhost:8080/",
          "height": 330
        }
      },
      "cell_type": "code",
      "source": [
        "output_activation='sigmoid'\n",
        "# changed accuracy from 'choose your own accuracy'\n",
        "input_text = layers.Input(shape=(1,), dtype=tf.string)\n",
        "embedding = layers.Lambda(UniversalEmbedding, output_shape=(embed_size,), name='TF-Hub')(input_text)\n",
        "embedding = layers.Dropout(0.1)(embedding)\n",
        "dense = layers.Dense(1024, activation='relu', name='Convoluted')(embedding)\n",
        "#dense = layers.Dropout(0.5)(dense)\n",
        "#dense = layers.Dense(2048, activation='relu', name='Medium')(dense)\n",
        "#dense = layers.Dropout(0.5)(dense)\n",
        "#dense = layers.Dense(4096, activation='relu', name='Smooth')(dense)\n",
        "pred = layers.Dense(num_symbols * num_syllables, activation=output_activation, name='Flatout')(dense)\n",
        "model = Model(inputs=[input_text], outputs=pred)\n",
        "model.compile(loss=custom_binary_crossentropy, \n",
        "              optimizer=nadam_opt, \n",
        "              metrics=['categorical_crossentropy']\n",
        "             )\n",
        "model.summary()"
      ],
      "execution_count": 24,
      "outputs": [
        {
          "output_type": "stream",
          "text": [
            "INFO:tensorflow:Saver not created because there are no variables in the graph to restore\n",
            "_________________________________________________________________\n",
            "Layer (type)                 Output Shape              Param #   \n",
            "=================================================================\n",
            "input_2 (InputLayer)         (None, 1)                 0         \n",
            "_________________________________________________________________\n",
            "TF-Hub (Lambda)              (None, 512)               0         \n",
            "_________________________________________________________________\n",
            "dropout_2 (Dropout)          (None, 512)               0         \n",
            "_________________________________________________________________\n",
            "Convoluted (Dense)           (None, 1024)              525312    \n",
            "_________________________________________________________________\n",
            "Flatout (Dense)              (None, 66350)             68008750  \n",
            "=================================================================\n",
            "Total params: 68,534,062\n",
            "Trainable params: 68,534,062\n",
            "Non-trainable params: 0\n",
            "_________________________________________________________________\n"
          ],
          "name": "stdout"
        }
      ]
    },
    {
      "metadata": {
        "id": "bqcRy_JWXe0u",
        "colab_type": "text"
      },
      "cell_type": "markdown",
      "source": [
        "## Train Keras model and save weights\n",
        "This only trains and save our Keras layers not the embed module' weights."
      ]
    },
    {
      "metadata": {
        "id": "_stfC_7VFhS8",
        "colab_type": "code",
        "outputId": "2b8814f1-ee67-4afd-ed7a-214280ceed82",
        "colab": {
          "base_uri": "https://localhost:8080/",
          "height": 156
        }
      },
      "cell_type": "code",
      "source": [
        "use_saved_model=False\n",
        "if not use_saved_model or not os.path.exists('./model.h5'):\n",
        "  with tf.Session() as session:\n",
        "    K.set_session(session)\n",
        "    session.run(tf.global_variables_initializer())\n",
        "    session.run(tf.tables_initializer())\n",
        "    history = model.fit(train_text, \n",
        "            train_label,\n",
        "            validation_data=(test_text, test_label),\n",
        "            epochs=num_epochs,\n",
        "            callbacks = [EarlyStopping(patience=5)],\n",
        "            batch_size=32,\n",
        "            verbose=2\n",
        "            ,class_weight=syll_weights\n",
        "    )\n",
        "    model.save_weights('./model.h5')\n"
      ],
      "execution_count": 0,
      "outputs": [
        {
          "output_type": "stream",
          "text": [
            "Train on 58498 samples, validate on 4200 samples\n",
            "Epoch 1/50\n",
            " - 154s - loss: 0.0103 - categorical_crossentropy: 85.2406 - val_loss: 3.8945e-04 - val_categorical_crossentropy: 81.4413\n",
            "Epoch 2/50\n",
            " - 150s - loss: 0.0076 - categorical_crossentropy: 79.0229 - val_loss: 3.5140e-04 - val_categorical_crossentropy: 78.3123\n",
            "Epoch 3/50\n",
            " - 150s - loss: 0.0065 - categorical_crossentropy: 74.9549 - val_loss: 3.2851e-04 - val_categorical_crossentropy: 76.2410\n",
            "Epoch 4/50\n"
          ],
          "name": "stdout"
        }
      ]
    },
    {
      "metadata": {
        "id": "UW1CiBhnXnxa",
        "colab_type": "code",
        "outputId": "f229f052-6aa3-4551-8222-f9ed5568775e",
        "colab": {
          "base_uri": "https://localhost:8080/",
          "height": 34
        }
      },
      "cell_type": "code",
      "source": [
        "!ls -alh | grep model.h5"
      ],
      "execution_count": 15,
      "outputs": [
        {
          "output_type": "stream",
          "text": [
            "-rw-r--r-- 1 root root 262M Oct 31 01:49 model.h5\n"
          ],
          "name": "stdout"
        }
      ]
    },
    {
      "metadata": {
        "id": "nQux6qLdXabG",
        "colab_type": "text"
      },
      "cell_type": "markdown",
      "source": [
        "## Make predictions"
      ]
    },
    {
      "metadata": {
        "id": "fSDxetlfUEiD",
        "colab_type": "code",
        "colab": {}
      },
      "cell_type": "code",
      "source": [
        "\n",
        "#new_text = np.array(new_text, dtype=object)[:, np.newaxis]\n",
        "with tf.Session() as session:\n",
        "  K.set_session(session)\n",
        "  session.run(tf.global_variables_initializer())\n",
        "  session.run(tf.tables_initializer())\n",
        "  model.load_weights('./model.h5')  \n",
        "  predicts = model.predict(test_text, batch_size=32)"
      ],
      "execution_count": 0,
      "outputs": []
    },
    {
      "metadata": {
        "id": "U9V5JOWGq4Cd",
        "colab_type": "code",
        "outputId": "4fc1b714-5c34-4d42-d356-f043eb852e1b",
        "colab": {
          "base_uri": "https://localhost:8080/",
          "height": 86
        }
      },
      "cell_type": "code",
      "source": [
        "first = predicts[0]\n",
        "max_d = -1000000\n",
        "min_d = 1000000\n",
        "max_i = 0\n",
        "min_i = 0\n",
        "for i in range(len(predicts) - 1):\n",
        "  v = predicts[i]\n",
        "  d = scipy.spatial.distance.cosine(v, first)\n",
        "  if max_d < d:\n",
        "    max_d = d\n",
        "    max_i = i\n",
        "  if min_d > d:\n",
        "    min_d = d\n",
        "    min_i = i\n",
        "print(\"Min and max distances: {0} and {1}\".format(min_d, max_d))\n",
        "print(test_text[max_i])\n",
        "syll_mgr.interpret2(predicts[max_i])"
      ],
      "execution_count": 17,
      "outputs": [
        {
          "output_type": "stream",
          "text": [
            "Min and max distances: 9.000109205681284e-07 and 0.6183236302713405\n",
            "['For he can say to others, _I was there!_']\n",
            "[7, 26, 26, 26, 26, 26, 26, 26, 26, 26]\n",
            "['IH N', 'HH IH M', 'HH IH M', 'HH IH M', 'HH IH M', 'HH IH M', 'HH IH M', 'HH IH M', 'HH IH M', 'HH IH M']\n"
          ],
          "name": "stdout"
        }
      ]
    },
    {
      "metadata": {
        "id": "xaR0d5VPU23Z",
        "colab_type": "code",
        "outputId": "d4dad098-40c9-4016-e041-f5aaf1ce2d81",
        "colab": {
          "base_uri": "https://localhost:8080/",
          "height": 6269
        }
      },
      "cell_type": "code",
      "source": [
        "for i in range(10,100):\n",
        "  print(test_text[i])\n",
        "  syll_mgr.interpret2(predicts[i])\n",
        "  print('')"
      ],
      "execution_count": 18,
      "outputs": [
        {
          "output_type": "stream",
          "text": [
            "['Of humble seeming: and, behind them all,']\n",
            "[7, 286, 15, 193, 3, 350, 3, 294, 58, 1735]\n",
            "['IH N', 'M AH NG', 'L IY', 'V EH', 'AE N D', 'M OW S T', 'AE N D', 'G R EY T', 'DH EH M', 'M AY R']\n",
            "\n",
            "['Behind his head upon the shoulders lay,']\n",
            "[4, 195, 8, 786, 43, 786, 8, 786, 8, 68]\n",
            "['AH', 'B AH V', 'HH IH Z', 'SH OW L', 'W IH', 'SH OW L', 'HH IH Z', 'SH OW L', 'HH IH Z', 'L OW']\n",
            "\n",
            "['Discover countries, with a kindred heart']\n",
            "[4, 94, 5, 94, 5, 94, 179, 111, 179, 77]\n",
            "['AH', 'N EY', 'AH V', 'N EY', 'AH V', 'N EY', 'SH AH N Z', 'W ER L D', 'SH AH N Z', 'L AH V']\n",
            "\n",
            "['Was open in his praise, and plaudits rose']\n",
            "[21, 213, 8, 228, 26, 113, 25, 113, 8, 26]\n",
            "['R IH', 'T EH N', 'HH IH Z', 'L AH', 'HH IH M', 'HH AA R T', 'W AA Z', 'HH AA R T', 'HH IH Z', 'HH IH M']\n",
            "\n",
            "['A spear the hero bore of wondrous strength,']\n",
            "[4, 502, 4, 616, 100, 3, 2, 616, 1002, 767]\n",
            "['AH', 'AE K', 'AH', 'S AO R D', 'M ER', 'AE N D', 'DH AH', 'S AO R D', 'L IH S', 'S P IH R']\n",
            "\n",
            "['Were things indifferent to the Shepherds thoughts.']\n",
            "[10, 84, 18, 374, 25, 25, 25, 18, 51, 58]\n",
            "['DH AE T', 'DH EH R', 'AO R', 'HH ER D', 'W AA Z', 'W AA Z', 'W AA Z', 'AO R', 'W ER', 'DH EH M']\n",
            "\n",
            "['That to the young supplies a guiding light,']\n",
            "[3, 286, 2, 151, 2, 5, 2, 225, 2, 865]\n",
            "['AE N D', 'M AH NG', 'DH AH', 'M IH', 'DH AH', 'AH V', 'DH AH', 'HH EH', 'DH AH', 'B R IH NG']\n",
            "\n",
            "['Of Greeks a mighty army, all in vain;']\n",
            "[5, 20, 2, 135, 2, 128, 2, 981, 5, 755]\n",
            "['AH V', 'AO L', 'DH AH', 'B AE', 'DH AH', 'N OW', 'DH AH', 'G R IY K S', 'AH V', 'S T R AY F']\n",
            "\n",
            "['Into the mighty vision passing--there,']\n",
            "[7, 287, 2, 151, 2, 272, 2, 122, 13, 115]\n",
            "['IH N', 'N UW', 'DH AH', 'M IH', 'DH AH', 'G L AO', 'DH AH', 'M AY', 'B IH', 'AY Z']\n",
            "\n",
            "['Them in his anger, whom his anger saves']\n",
            "[2, 4, 10, 357, 8, 357, 2, 305, 8, 755]\n",
            "['DH AH', 'AH', 'DH AE T', 'AE NG', 'HH IH Z', 'AE NG', 'DH AH', 'HH UW', 'HH IH Z', 'S T R AY F']\n",
            "\n",
            "['And in the soul within the sense began']\n",
            "[3, 138, 25, 10, 164, 139, 2, 7, 2, 126]\n",
            "['AE N D', 'S OW', 'W AA Z', 'DH AE T', 'N AH L', 'DH IH N', 'DH AH', 'IH N', 'DH AH', 'S OW L']\n",
            "\n",
            "['For Daphnis reigns above, and deals from thence']\n",
            "[7, 34, 2, 34, 2, 37, 2, 6, 17, 938]\n",
            "['IH N', 'AH N', 'DH AH', 'AH N', 'DH AH', 'IY', 'DH AH', 'T UW', 'D IH', 'TH R AO NG']\n",
            "\n",
            "['For one that looked with such a captains mien:']\n",
            "[11, 146, 2, 213, 7, 392, 2, 25, 108, 798]\n",
            "['F AO R', 'S AH M', 'DH AH', 'T EH N', 'IH N', 'F IH', 'DH AH', 'W AA Z', 'B ER', 'B OW L D']\n",
            "\n",
            "['Of thought between her fingers and her brain,']\n",
            "[7, 257, 12, 124, 12, 45, 12, 216, 12, 257]\n",
            "['IH N', 'M AY N D', 'HH ER', 'L EY', 'HH ER', 'AY', 'HH ER', 'HH Y UW', 'HH ER', 'M AY N D']\n",
            "\n",
            "['And still the red sedan of rank appeals,']\n",
            "[3, 105, 4, 142, 2, 6, 2, 5, 2, 373]\n",
            "['AE N D', 'EH N', 'AH', 'R EH', 'DH AH', 'T UW', 'DH AH', 'AH V', 'DH AH', 'P L EY N']\n",
            "\n",
            "['With this eternal silence;--more a god,']\n",
            "[3, 299, 4, 204, 289, 63, 2, 143, 4, 389]\n",
            "['AE N D', 'HH OW', 'AH', 'S P IH', 'R AH T', 'M AO R', 'DH AH', 'G AA D', 'AH', 'V AY N']\n",
            "\n",
            "['Forgot, nutritious, grateful to the taste,']\n",
            "[3, 346, 181, 1267, 2, 63, 2, 239, 98, 2337]\n",
            "['AE N D', 'S W IY T', 'SH AH S', 'T EY S T', 'DH AH', 'M AO R', 'DH AH', 'B EH', 'P AH L', 'IY T']\n",
            "\n",
            "['Of full perfection prompt his daring dream,']\n",
            "[8, 287, 533, 3, 8, 185, 8, 418, 8, 190]\n",
            "['HH IH Z', 'N UW', 'K W AH L', 'AE N D', 'HH IH Z', 'M AE', 'HH IH Z', 'F AE N', 'HH IH Z', 'OW N']\n",
            "\n",
            "['And all the spaces of the midnight town']\n",
            "[3, 35, 2, 151, 323, 20, 2, 5, 2, 20]\n",
            "['AE N D', 'AA N', 'DH AH', 'M IH', 'Z AH N D', 'AO L', 'DH AH', 'AH V', 'DH AH', 'AO L']\n",
            "\n",
            "['The sandbar sings in moonlit veils of foam.']\n",
            "[2, 109, 103, 125, 16, 507, 2, 283, 2, 334]\n",
            "['DH AH', 'S AY', 'M IH NG', 'W AO', 'V ER', 'F L OW', 'DH AH', 'M Y UW', 'DH AH', 'SH AO R']\n",
            "\n",
            "['And darkness settled on the outer world.']\n",
            "[3, 123, 25, 196, 5, 196, 25, 111, 2, 147]\n",
            "['AE N D', 'N AW', 'W AA Z', 'D AA R K', 'AH V', 'D AA R K', 'W AA Z', 'W ER L D', 'DH AH', 'ER TH']\n",
            "\n",
            "['Or castle, high embattled on the point']\n",
            "[3, 30, 2, 232, 2, 167, 2, 18, 2, 373]\n",
            "['AE N D', 'EH', 'DH AH', 'K AA', 'DH AH', 'W EH R', 'DH AH', 'AO R', 'DH AH', 'P L EY N']\n",
            "\n",
            "['The each with All in one, sublime design?']\n",
            "[4, 99, 3, 3, 5, 3, 2, 3, 206, 302]\n",
            "['AH', 'W AH N', 'AE N D', 'AE N D', 'AH V', 'AE N D', 'DH AH', 'AE N D', 'IH M', 'M EY K']\n",
            "\n",
            "['The curving prow, the tall and stately mast,']\n",
            "[2, 195, 156, 21, 2, 195, 2, 21, 13, 373]\n",
            "['DH AH', 'B AH V', 'W ER D', 'R IH', 'DH AH', 'B AH V', 'DH AH', 'R IH', 'B IH', 'P L EY N']\n",
            "\n",
            "['And bids anew the martial thunder rise.']\n",
            "[3, 123, 2, 1203, 4, 116, 2, 116, 4, 327]\n",
            "['AE N D', 'N AW', 'DH AH', 'K W IH K', 'AH', 'N AH', 'DH AH', 'N AH', 'AH', 'T ER N']\n",
            "\n",
            "['And hearing harlot muttered twice or thrice,']\n",
            "[3, 43, 15, 374, 487, 109, 2, 12, 4, 156]\n",
            "['AE N D', 'W IH', 'L IY', 'HH ER D', 'T ER D', 'S AY', 'DH AH', 'HH ER', 'AH', 'W ER D']\n",
            "\n",
            "['That evening passed with music, chat, and song,']\n",
            "[3, 109, 25, 374, 25, 283, 415, 25, 3, 726]\n",
            "['AE N D', 'S AY', 'W AA Z', 'HH ER D', 'W AA Z', 'M Y UW', 'Z IH K', 'W AA Z', 'AE N D', 'B R AO T']\n",
            "\n",
            "['With childlike pleasure at the blooming sun;']\n",
            "[9, 346, 4, 654, 146, 3, 2, 5, 2, 67]\n",
            "['W IH DH', 'S W IY T', 'AH', 'D AA R', 'S AH M', 'AE N D', 'DH AH', 'AH V', 'DH AH', 'L AY T']\n",
            "\n",
            "['And send her back with gentle words to earth']\n",
            "[3, 471, 12, 12, 12, 296, 12, 12, 12, 12]\n",
            "['AE N D', 'G IH V', 'HH ER', 'HH ER', 'HH ER', 'SH IY', 'HH ER', 'HH ER', 'HH ER', 'HH ER']\n",
            "\n",
            "['With glowing eyes and pale, unsmiling face,']\n",
            "[3, 174, 9, 654, 32, 115, 5, 115, 3, 115]\n",
            "['AE N D', 'F EY S', 'W IH DH', 'D AA R', 'T AH L', 'AY Z', 'AH V', 'AY Z', 'AE N D', 'AY Z']\n",
            "\n",
            "['Its beauties first? That she will show to me']\n",
            "[4, 77, 12, 12, 38, 63, 12, 418, 12, 29]\n",
            "['AH', 'L AH V', 'HH ER', 'HH ER', 'T IY', 'M AO R', 'HH ER', 'F AE N', 'HH ER', 'B IY']\n",
            "\n",
            "['A man is likewise counsel for himself,']\n",
            "[2, 79, 54, 79, 8, 79, 2, 388, 8, 79]\n",
            "['DH AH', 'M AE N', 'P ER', 'M AE N', 'HH IH Z', 'M AE N', 'DH AH', 'R AY T', 'HH IH Z', 'M AE N']\n",
            "\n",
            "['And awful, mighty eyes that cowed and held']\n",
            "[3, 390, 15, 390, 47, 390, 3, 115, 58, 115]\n",
            "['AE N D', 'HH AO', 'L IY', 'HH AO', 'F AH L', 'HH AO', 'AE N D', 'AY Z', 'DH EH M', 'AY Z']\n",
            "\n",
            "['Of thoughts revolved, his final sentence chose']\n",
            "[7, 208, 25, 156, 8, 208, 25, 25, 18, 516]\n",
            "['IH N', 'W AH T', 'W AA Z', 'W ER D', 'HH IH Z', 'W AH T', 'W AA Z', 'W AA Z', 'AO R', 'S EH D']\n",
            "\n",
            "['His head, his shoulders, and his knees embraced;']\n",
            "[8, 159, 8, 786, 8, 425, 8, 786, 8, 425]\n",
            "['HH IH Z', 'HH EH D', 'HH IH Z', 'SH OW L', 'HH IH Z', 'B AE K', 'HH IH Z', 'SH OW L', 'HH IH Z', 'B AE K']\n",
            "\n",
            "['And came into the vale in little space,']\n",
            "[3, 123, 2, 184, 43, 139, 25, 5, 88, 347]\n",
            "['AE N D', 'N AW', 'DH AH', 'N IY TH', 'W IH', 'DH IH N', 'W AA Z', 'AH V', 'D IH D', 'D IY P']\n",
            "\n",
            "['In forest wild, in thicket, brake, or den;']\n",
            "[7, 78, 18, 18, 18, 18, 18, 18, 18, 318]\n",
            "['IH N', 'F ER', 'AO R', 'AO R', 'AO R', 'AO R', 'AO R', 'AO R', 'AO R', 'W UH D']\n",
            "\n",
            "['In spite of changes. Look for me until']\n",
            "[21, 202, 6, 3, 3, 327, 2, 166, 13, 123]\n",
            "['R IH', 'T AY M', 'T UW', 'AE N D', 'AE N D', 'T ER N', 'DH AH', 'HH IH R', 'B IH', 'N AW']\n",
            "\n",
            "['The parchment of the future, it were vain--']\n",
            "[2, 287, 25, 321, 25, 160, 25, 453, 25, 287]\n",
            "['DH AH', 'N UW', 'W AA Z', 'G AA', 'W AA Z', 'M EY D', 'W AA Z', 'HH AE D', 'W AA Z', 'N UW']\n",
            "\n",
            "['The spirits of the Seasons seem to stand.']\n",
            "[2, 286, 2, 5, 2, 63, 2, 20, 2, 202]\n",
            "['DH AH', 'M AH NG', 'DH AH', 'AH V', 'DH AH', 'M AO R', 'DH AH', 'AO L', 'DH AH', 'T AY M']\n",
            "\n",
            "['For lo! his passion, but an art of craft,']\n",
            "[4, 497, 41, 97, 41, 185, 8, 497, 8, 594]\n",
            "['AH', 'W ER K', 'SH AH N', 'P AE', 'SH AH N', 'M AE', 'HH IH Z', 'W ER K', 'HH IH Z', 'AA R T']\n",
            "\n",
            "['Is due, and not to war, intrepid still']\n",
            "[19, 30, 11, 142, 21, 135, 2, 30, 17, 254]\n",
            "['IH Z', 'EH', 'F AO R', 'R EH', 'R IH', 'B AE', 'DH AH', 'EH', 'D IH', 'Y EH T']\n",
            "\n",
            "['Or sleeping, walk a restless world of dreams.']\n",
            "[3, 463, 4, 539, 5, 463, 2, 463, 50, 463]\n",
            "['AE N D', 'S L IY P', 'AH', 'D R IY M', 'AH V', 'S L IY P', 'DH AH', 'S L IY P', 'N IH NG', 'S L IY P']\n",
            "\n",
            "['Of teaching school, a school of Czechs and Poles']\n",
            "[9, 93, 2, 42, 233, 3, 2, 5, 2, 2261]\n",
            "['W IH DH', 'S IH', 'DH AH', 'K AH N', 'T R IY', 'AE N D', 'DH AH', 'AH V', 'DH AH', 'S K UW L']\n",
            "\n",
            "['And drops of blood bedew the conscious lawn;']\n",
            "[3, 43, 2, 35, 152, 390, 2, 3, 2, 408]\n",
            "['AE N D', 'W IH', 'DH AH', 'AA N', 'S AH Z', 'HH AO', 'DH AH', 'AE N D', 'DH AH', 'G R AW N D']\n",
            "\n",
            "['From daylight till the evening, wet or fine,']\n",
            "[7, 208, 18, 385, 18, 610, 2, 65, 18, 76]\n",
            "['IH N', 'W AH T', 'AO R', 'S P R IH NG', 'AO R', 'IY V', 'DH AH', 'S AH N', 'AO R', 'D EY']\n",
            "\n",
            "['A doom that ever poised itself to fall,']\n",
            "[2, 43, 36, 5, 4, 105, 2, 121, 4, 1181]\n",
            "['DH AH', 'W IH', 'IH T S', 'AH V', 'AH', 'EH N', 'DH AH', 'TH R UW', 'AH', 'D UW M']\n",
            "\n",
            "['Of wailing women pierce the vaulted skies.']\n",
            "[7, 109, 12, 225, 2, 43, 2, 321, 2, 665]\n",
            "['IH N', 'S AY', 'HH ER', 'HH EH', 'DH AH', 'W IH', 'DH AH', 'G AA', 'DH AH', 'F R EY']\n",
            "\n",
            "['To happy havens under all the sky,']\n",
            "[7, 6, 4, 188, 2, 67, 2, 215, 2, 67]\n",
            "['IH N', 'T UW', 'AH', 'JH OY', 'DH AH', 'L AY T', 'DH AH', 'L AE N D', 'DH AH', 'L AY T']\n",
            "\n",
            "['In purple clusters hangs the vines increase,']\n",
            "[2, 912, 98, 2186, 576, 577, 2, 44, 98, 577]\n",
            "['DH AH', 'Y EH', 'P AH L', 'K L AH', 'JH AH Z', 'G R IY N', 'DH AH', 'AA R', 'P AH L', 'G R IY N']\n",
            "\n",
            "['A shepherd meeting thee, the oar surveys,']\n",
            "[2, 512, 2, 735, 2, 18, 2, 6, 2, 1237]\n",
            "['DH AH', 'G AE', 'DH AH', 'K AE P', 'DH AH', 'AO R', 'DH AH', 'T UW', 'DH AH', 'G AY D']\n",
            "\n",
            "['The printed passion of the dream remains:--']\n",
            "[2, 287, 55, 539, 55, 5, 2, 150, 34, 355]\n",
            "['DH AH', 'N UW', 'IH', 'D R IY M', 'IH', 'AH V', 'DH AH', 'S T IH L', 'AH N', 'P AE S T']\n",
            "\n",
            "['And piecemeal shares and maims the felon round.']\n",
            "[3, 15, 100, 1331, 2, 6, 2, 3, 28, 1008]\n",
            "['AE N D', 'L IY', 'M ER', 'B AE NG K', 'DH AH', 'T UW', 'DH AH', 'AE N D', 'ER', 'S EH L']\n",
            "\n",
            "['A happy nation, and a happy king.']\n",
            "[2, 273, 5, 188, 2, 3, 2, 113, 3, 451]\n",
            "['DH AH', 'P IY S', 'AH V', 'JH OY', 'DH AH', 'AE N D', 'DH AH', 'HH AA R T', 'AE N D', 'S T EY T']\n",
            "\n",
            "['And Miscreator, makes and helps along']\n",
            "[3, 63, 2, 497, 31, 63, 31, 693, 2, 670]\n",
            "['AE N D', 'M AO R', 'DH AH', 'W ER K', 'DH ER', 'M AO R', 'DH ER', 'HH AE V', 'DH AH', 'P EH R']\n",
            "\n",
            "['The dashing waters when the air is still']\n",
            "[2, 139, 2, 21, 10, 125, 2, 125, 2, 187]\n",
            "['DH AH', 'DH IH N', 'DH AH', 'R IH', 'DH AE T', 'W AO', 'DH AH', 'W AO', 'DH AH', 'EH R']\n",
            "\n",
            "['And still its ice the freezing silence kept:']\n",
            "[3, 30, 36, 142, 411, 11, 78, 150, 4, 150]\n",
            "['AE N D', 'EH', 'IH T S', 'R EH', 'L AH N S', 'F AO R', 'F ER', 'S T IH L', 'AH', 'S T IH L']\n",
            "\n",
            "['That shrink in misty mournfulness from sight,']\n",
            "[7, 151, 2, 151, 4, 196, 2, 3, 2, 45]\n",
            "['IH N', 'M IH', 'DH AH', 'M IH', 'AH', 'D AA R K', 'DH AH', 'AE N D', 'DH AH', 'AY']\n",
            "\n",
            "['And secret seeds of envy, lay behind;']\n",
            "[3, 6, 2, 151, 599, 402, 2, 321, 2, 115]\n",
            "['AE N D', 'T UW', 'DH AH', 'M IH', 'S T ER Z', 'R UW', 'DH AH', 'G AA', 'DH AH', 'AY Z']\n",
            "\n",
            "['Of trees and crack of branches, common things,']\n",
            "[5, 94, 348, 545, 3, 3, 3, 3, 3, 233]\n",
            "['AH V', 'N EY', 'CH ER Z', 'T R IY Z', 'AE N D', 'AE N D', 'AE N D', 'AE N D', 'AE N D', 'T R IY']\n",
            "\n",
            "['And pious tribute at her altars pay:']\n",
            "[3, 12, 404, 321, 12, 35, 12, 321, 404, 460]\n",
            "['AE N D', 'HH ER', 'K R AH D', 'G AA', 'HH ER', 'AA N', 'HH ER', 'G AA', 'K R AH D', 'L AO R D']\n",
            "\n",
            "['Courageous, and refreshed for future toil,']\n",
            "[21, 287, 533, 124, 47, 243, 206, 6, 105, 993]\n",
            "['R IH', 'N UW', 'K W AH L', 'L EY', 'F AH L', 'S AH CH', 'IH M', 'T UW', 'EH N', 'R AO T']\n",
            "\n",
            "['Upon the wall and windows blots of gilt.']\n",
            "[7, 139, 2, 124, 2, 139, 2, 225, 2, 984]\n",
            "['IH N', 'DH IH N', 'DH AH', 'L EY', 'DH AH', 'DH IH N', 'DH AH', 'HH EH', 'DH AH', 'HH AO L']\n",
            "\n",
            "['And lay upon the threshold like a log.']\n",
            "[3, 35, 4, 680, 2, 5, 2, 5, 2, 67]\n",
            "['AE N D', 'AA N', 'AH', 'F AO R TH', 'DH AH', 'AH V', 'DH AH', 'AH V', 'DH AH', 'L AY T']\n",
            "\n",
            "['In synod unbenign; and taught the fixed']\n",
            "[21, 285, 2, 285, 2, 5, 2, 110, 2, 440]\n",
            "['R IH', 'P R AA', 'DH AH', 'P R AA', 'DH AH', 'AH V', 'DH AH', 'HH IY', 'DH AH', 'G OW']\n",
            "\n",
            "['And left him to his rest.  An end of Love.']\n",
            "[3, 368, 8, 228, 26, 368, 26, 26, 8, 26]\n",
            "['AE N D', 'L EH F T', 'HH IH Z', 'L AH', 'HH IH M', 'L EH F T', 'HH IH M', 'HH IH M', 'HH IH Z', 'HH IH M']\n",
            "\n",
            "['And human hearts and minds to show it by,']\n",
            "[3, 608, 10, 750, 10, 216, 2, 216, 58, 750]\n",
            "['AE N D', 'DH OW Z', 'DH AE T', 'HH AA R T S', 'DH AE T', 'HH Y UW', 'DH AH', 'HH Y UW', 'DH EH M', 'HH AA R T S']\n",
            "\n",
            "['The outward struggle and the inward strife.']\n",
            "[2, 309, 5, 3, 2, 1014, 206, 3, 200, 755]\n",
            "['DH AH', 'AA N D', 'AH V', 'AE N D', 'DH AH', 'S T R AH', 'IH M', 'AE N D', 'Z IH NG', 'S T R AY F']\n",
            "\n",
            "['His arms and bosom, seem to melt away.']\n",
            "[8, 507, 15, 44, 3, 604, 64, 20, 4, 115]\n",
            "['HH IH Z', 'F L OW', 'L IY', 'AA R', 'AE N D', 'F AE', 'B AH L', 'AO L', 'AH', 'AY Z']\n",
            "\n",
            "['And noise, and tumult rises from the crowd.']\n",
            "[3, 374, 15, 336, 152, 263, 2, 680, 2, 336]\n",
            "['AE N D', 'HH ER D', 'L IY', 'S AW N D', 'S AH Z', 'AW N D', 'DH AH', 'F AO R TH', 'DH AH', 'S AW N D']\n",
            "\n",
            "['Cannot devise a torment, so it be']\n",
            "[82, 104, 27, 204, 82, 243, 19, 467, 19, 1837]\n",
            "['IH F', 'N AA T', 'DH IH S', 'S P IH', 'IH F', 'S AH CH', 'IH Z', 'SH AE L', 'IH Z', 'D Y UH R']\n",
            "\n",
            "['The damsel put the pair without reply:']\n",
            "[2, 173, 12, 3, 58, 12, 12, 58, 12, 160]\n",
            "['DH AH', 'G EH N', 'HH ER', 'AE N D', 'DH EH M', 'HH ER', 'HH ER', 'DH EH M', 'HH ER', 'M EY D']\n",
            "\n",
            "['Or that it hardens more and helps to bind']\n",
            "[3, 471, 22, 587, 43, 436, 22, 75, 2, 1009]\n",
            "['AE N D', 'G IH V', 'IH T', 'S T R AO NG', 'W IH', 'V AY', 'IH T', 'N IY', 'DH AH', 'M UW V']\n",
            "\n",
            "['And flowing waters, and the starry flame,']\n",
            "[3, 507, 2, 21, 5, 3, 2, 125, 2, 67]\n",
            "['AE N D', 'F L OW', 'DH AH', 'R IH', 'AH V', 'AE N D', 'DH AH', 'W AO', 'DH AH', 'L AY T']\n",
            "\n",
            "['The spoil or spoiler? this behold in me;']\n",
            "[2, 19, 10, 5, 2, 5, 2, 5, 19, 160]\n",
            "['DH AH', 'IH Z', 'DH AE T', 'AH V', 'DH AH', 'AH V', 'DH AH', 'AH V', 'IH Z', 'M EY D']\n",
            "\n",
            "['And rode with them, and spake to none; the day']\n",
            "[3, 35, 4, 328, 2, 51, 2, 370, 58, 637]\n",
            "['AE N D', 'AA N', 'AH', 'HH EH L D', 'DH AH', 'W ER', 'DH AH', 'DH EY', 'DH EH M', 'L EY D']\n",
            "\n",
            "['Of finest metal was her armour bright,']\n",
            "[7, 170, 12, 241, 12, 25, 25, 394, 12, 170]\n",
            "['IH N', 'W AO R', 'HH ER', 'W EH', 'HH ER', 'W AA Z', 'W AA Z', 'B UH', 'HH ER', 'W AO R']\n",
            "\n",
            "['The doleful city all around invest,']\n",
            "[2, 285, 2, 285, 38, 6, 2, 6, 38, 865]\n",
            "['DH AH', 'P R AA', 'DH AH', 'P R AA', 'T IY', 'T UW', 'DH AH', 'T UW', 'T IY', 'B R IH NG']\n",
            "\n",
            "['Of crowded cities, was from passing tale']\n",
            "[2, 1171, 25, 151, 38, 127, 25, 25, 51, 331]\n",
            "['DH AH', 'T R AE', 'W AA Z', 'M IH', 'T IY', 'P IY', 'W AA Z', 'W AA Z', 'W ER', 'K EY M']\n",
            "\n",
            "['An Arab fearless as the face of Truth']\n",
            "[2, 309, 47, 124, 293, 127, 2, 220, 431, 111]\n",
            "['DH AH', 'AA N D', 'F AH L', 'L EY', 'R ER', 'P IY', 'DH AH', 'AA', 'S T IH K', 'W ER L D']\n",
            "\n",
            "['It lightened toil, and took the edge from pain,']\n",
            "[9, 1148, 25, 587, 528, 160, 2, 281, 25, 755]\n",
            "['W IH DH', 'OW Z', 'W AA Z', 'S T R AO NG', 'S T AH D', 'M EY D', 'DH AH', 'V EY N', 'W AA Z', 'S T R AY F']\n",
            "\n",
            "['That brought with it another civil war.']\n",
            "[3, 123, 2, 170, 102, 3, 25, 88, 2, 755]\n",
            "['AE N D', 'N AW', 'DH AH', 'W AO R', 'D AH D', 'AE N D', 'W AA Z', 'D IH D', 'DH AH', 'S T R AY F']\n",
            "\n",
            "['Apart from all, in pride of conscious strength,']\n",
            "[7, 476, 2, 587, 43, 587, 206, 476, 6, 257]\n",
            "['IH N', 'S T R EH NG K TH', 'DH AH', 'S T R AO NG', 'W IH', 'S T R AO NG', 'IH M', 'S T R EH NG K TH', 'T UW', 'M AY N D']\n",
            "\n",
            "['And far and near throughout the land the men']\n",
            "[3, 84, 2, 286, 2, 158, 2, 219, 2, 158]\n",
            "['AE N D', 'DH EH R', 'DH AH', 'M AH NG', 'DH AH', 'M EH N', 'DH AH', 'F AA R', 'DH AH', 'M EH N']\n",
            "\n",
            "['Remembered--I. And, oh! a little while']\n",
            "[4, 246, 21, 116, 31, 63, 31, 166, 59, 202]\n",
            "['AH', 'M OW', 'R IH', 'N AH', 'DH ER', 'M AO R', 'DH ER', 'HH IH R', 'D IH NG', 'T AY M']\n",
            "\n",
            "['And clip his borders short, and drive his herds,']\n",
            "[3, 15, 58, 6, 2, 6, 8, 15, 8, 215]\n",
            "['AE N D', 'L IY', 'DH EH M', 'T UW', 'DH AH', 'T UW', 'HH IH Z', 'L IY', 'HH IH Z', 'L AE N D']\n",
            "\n",
            "['And suffer me in anguish to depart']\n",
            "[3, 6, 6, 142, 47, 173, 4, 105, 4, 1837]\n",
            "['AE N D', 'T UW', 'T UW', 'R EH', 'F AH L', 'G EH N', 'AH', 'EH N', 'AH', 'D Y UH R']\n",
            "\n",
            "['The king from sovereign peril saved his head,']\n",
            "[2, 170, 2, 160, 2, 25, 25, 72, 8, 72]\n",
            "['DH AH', 'W AO R', 'DH AH', 'M EY D', 'DH AH', 'W AA Z', 'W AA Z', 'K IH NG', 'HH IH Z', 'K IH NG']\n",
            "\n",
            "['The point is turned; the twilight shadow fills']\n",
            "[3, 123, 36, 256, 570, 1140, 2, 150, 19, 45]\n",
            "['AE N D', 'N AW', 'IH T S', 'SH AE', 'K AH N D', 'K L OW', 'DH AH', 'S T IH L', 'IH Z', 'AY']\n",
            "\n",
            "['Arriving all confused among the rest']\n",
            "[4, 287, 101, 3, 31, 99, 31, 166, 13, 670]\n",
            "['AH', 'N UW', 'S IH NG', 'AE N D', 'DH ER', 'W AH N', 'DH ER', 'HH IH R', 'B IH', 'P EH R']\n",
            "\n"
          ],
          "name": "stdout"
        }
      ]
    },
    {
      "metadata": {
        "id": "yyDGVtigW57f",
        "colab_type": "code",
        "outputId": "dce945ef-f52e-47c2-cd91-81bcd2e46701",
        "colab": {
          "base_uri": "https://localhost:8080/",
          "height": 235
        }
      },
      "cell_type": "code",
      "source": [
        "categories = df_train.label.cat.categories.tolist()\n",
        "predict_logits = predicts.argmax(axis=1)\n",
        "print(\"Categorie: {0}\".format(categories))\n",
        "predict_labels = [categories[logit] for logit in predict_logits]\n",
        "predict_labels"
      ],
      "execution_count": 19,
      "outputs": [
        {
          "output_type": "error",
          "ename": "NameError",
          "evalue": "ignored",
          "traceback": [
            "\u001b[0;31m---------------------------------------------------------------------------\u001b[0m",
            "\u001b[0;31mNameError\u001b[0m                                 Traceback (most recent call last)",
            "\u001b[0;32m<ipython-input-19-7f6e6bf5580f>\u001b[0m in \u001b[0;36m<module>\u001b[0;34m()\u001b[0m\n\u001b[0;32m----> 1\u001b[0;31m \u001b[0mcategories\u001b[0m \u001b[0;34m=\u001b[0m \u001b[0mdf_train\u001b[0m\u001b[0;34m.\u001b[0m\u001b[0mlabel\u001b[0m\u001b[0;34m.\u001b[0m\u001b[0mcat\u001b[0m\u001b[0;34m.\u001b[0m\u001b[0mcategories\u001b[0m\u001b[0;34m.\u001b[0m\u001b[0mtolist\u001b[0m\u001b[0;34m(\u001b[0m\u001b[0;34m)\u001b[0m\u001b[0;34m\u001b[0m\u001b[0m\n\u001b[0m\u001b[1;32m      2\u001b[0m \u001b[0mpredict_logits\u001b[0m \u001b[0;34m=\u001b[0m \u001b[0mpredicts\u001b[0m\u001b[0;34m.\u001b[0m\u001b[0margmax\u001b[0m\u001b[0;34m(\u001b[0m\u001b[0maxis\u001b[0m\u001b[0;34m=\u001b[0m\u001b[0;36m1\u001b[0m\u001b[0;34m)\u001b[0m\u001b[0;34m\u001b[0m\u001b[0m\n\u001b[1;32m      3\u001b[0m \u001b[0mprint\u001b[0m\u001b[0;34m(\u001b[0m\u001b[0;34m\"Categorie: {0}\"\u001b[0m\u001b[0;34m.\u001b[0m\u001b[0mformat\u001b[0m\u001b[0;34m(\u001b[0m\u001b[0mcategories\u001b[0m\u001b[0;34m)\u001b[0m\u001b[0;34m)\u001b[0m\u001b[0;34m\u001b[0m\u001b[0m\n\u001b[1;32m      4\u001b[0m \u001b[0mpredict_labels\u001b[0m \u001b[0;34m=\u001b[0m \u001b[0;34m[\u001b[0m\u001b[0mcategories\u001b[0m\u001b[0;34m[\u001b[0m\u001b[0mlogit\u001b[0m\u001b[0;34m]\u001b[0m \u001b[0;32mfor\u001b[0m \u001b[0mlogit\u001b[0m \u001b[0;32min\u001b[0m \u001b[0mpredict_logits\u001b[0m\u001b[0;34m]\u001b[0m\u001b[0;34m\u001b[0m\u001b[0m\n\u001b[1;32m      5\u001b[0m \u001b[0mpredict_labels\u001b[0m\u001b[0;34m\u001b[0m\u001b[0m\n",
            "\u001b[0;31mNameError\u001b[0m: name 'df_train' is not defined"
          ]
        }
      ]
    },
    {
      "metadata": {
        "id": "hYhmukbSKpnp",
        "colab_type": "code",
        "colab": {}
      },
      "cell_type": "code",
      "source": [
        "\n",
        "os.remove('./model.h5')"
      ],
      "execution_count": 0,
      "outputs": []
    }
  ]
}