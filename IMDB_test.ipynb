{
  "nbformat": 4,
  "nbformat_minor": 0,
  "metadata": {
    "colab": {
      "name": "IMDB test.ipynb",
      "version": "0.3.2",
      "provenance": [],
      "collapsed_sections": []
    },
    "kernelspec": {
      "name": "python3",
      "display_name": "Python 3"
    },
    "accelerator": "GPU"
  },
  "cells": [
    {
      "cell_type": "code",
      "metadata": {
        "id": "u6ffyQDaP4ot",
        "colab_type": "code",
        "outputId": "06bb35d2-b0ad-4c19-8508-5b50c1a556c1",
        "colab": {
          "base_uri": "https://localhost:8080/",
          "height": 2277
        }
      },
      "source": [
        "!pip install numpy==1.16.1\n",
        "!pip install keras==2.1.2\n",
        "\n",
        "from __future__ import print_function\n",
        "import numpy as np\n",
        "import tensorflow as tf\n",
        "import keras.backend as K\n",
        "import matplotlib.pyplot as plt\n",
        "\n",
        "from keras.preprocessing import sequence\n",
        "from keras.models import Sequential\n",
        "from keras.layers import Dense, Dropout, Embedding, LSTM, CuDNNLSTM, Bidirectional\n",
        "from keras.datasets import imdb\n",
        "\n",
        "def get_lstm(size, return_sequences=True):\n",
        "    return CuDNNLSTM(size, return_sequences=return_sequences)\n",
        "\n",
        "max_features = 20000\n",
        "# cut texts after this number of words\n",
        "# (among top max_features most common words)\n",
        "maxlen = 100\n",
        "batch_size = 32\n",
        "\n",
        "print('Loading data...')\n",
        "(x_train, y_train), (x_test, y_test) = imdb.load_data(num_words=max_features)\n",
        "x_val = x_test[0:len(x_test)//2]\n",
        "y_val = x_test[0:len(y_test)//2]\n",
        "x_test = x_test[len(x_test)//2 : ]\n",
        "y_test = x_test[len(y_test)//2 : ]\n",
        "print(len(x_train), 'train sequences')\n",
        "print(len(x_test), 'test sequences')\n",
        "print(len(x_val), 'validation sequences')\n",
        "\n",
        "def compress(x, y):\n",
        "    xout = []\n",
        "    yout = []\n",
        "    for i in range(len(x)):\n",
        "        if x[i][0] != 0:\n",
        "            xout.append(x[i])\n",
        "            yout.append(y[i])\n",
        "    xa = np.array(xout)\n",
        "    print(xa.shape)\n",
        "    return np.array(xout), np.array(yout)\n",
        "\n",
        "print('Pad sequences (samples x time)')\n",
        "x_train = sequence.pad_sequences(x_train, maxlen=maxlen)\n",
        "x_test = sequence.pad_sequences(x_test, maxlen=maxlen)\n",
        "x_val = sequence.pad_sequences(x_val, maxlen=maxlen)\n",
        "#y_train = np.array(y_train)\n",
        "#y_test = np.array(y_test)\n",
        "y_train = np.expand_dims(np.array(x_train), -1)\n",
        "y_test = np.expand_dims(np.array(x_test), -1)\n",
        "y_val = np.expand_dims(np.array(x_val), -1)\n",
        "(x_train, y_train) = compress(x_train, y_train)\n",
        "(x_test, y_test) = compress(x_test, y_test)\n",
        "(x_val, y_val) = compress(x_val, y_val)\n",
        "print('x_train shape:', x_train.shape)\n",
        "print('x_test shape:', x_test.shape)\n",
        "print('x_val shape:', x_val.shape)\n",
        "print('y_train shape:', y_train.shape)\n",
        "print('y_test shape:', y_test.shape)\n",
        "print('y_val shape:', y_val.shape)\n",
        "\n",
        "def sparse_categorical_accuracy(y_true, y_pred):\n",
        "    # reshape in case it's in shape (num_samples, 1) instead of (num_samples,)\n",
        "    if K.ndim(y_true) == K.ndim(y_pred):\n",
        "        y_true = K.squeeze(y_true, -1)\n",
        "    # convert dense predictions to labels\n",
        "    y_pred_labels = K.argmax(y_pred, axis=-1)\n",
        "    y_pred_labels = K.cast(y_pred_labels, K.floatx())\n",
        "    return K.cast(K.equal(y_true, y_pred_labels), K.floatx())\n",
        "\n",
        "def sparse_categorical_accuracy_per_sequence(y_true, y_pred):\n",
        "    # reshape in case it's in shape (num_samples, 1) instead of (num_samples,)\n",
        "    if K.ndim(y_true) == K.ndim(y_pred):\n",
        "        y_true = K.squeeze(y_true, -1)\n",
        "    # convert dense predictions to labels\n",
        "    y_pred_labels = K.argmax(y_pred, axis=-1)\n",
        "    y_pred_labels = K.cast(y_pred_labels, K.floatx())\n",
        "    return K.min(K.cast(K.equal(y_true, y_pred_labels), K.floatx()), axis=-1)\n",
        "\n",
        "def sparse_categorical_accuracy(y_true, y_pred):\n",
        "    # reshape in case it's in shape (num_samples, 1) instead of (num_samples,)\n",
        "    if K.ndim(y_true) == K.ndim(y_pred):\n",
        "        y_true = K.squeeze(y_true, -1)\n",
        "    # convert dense predictions to labels\n",
        "    y_pred_labels = K.argmax(y_pred, axis=-1)\n",
        "    y_pred_labels = K.cast(y_pred_labels, K.floatx())\n",
        "    return K.cast(K.equal(y_true, y_pred_labels), K.floatx())\n",
        "\n",
        "def sparse_categorical_accuracy_per_sequence(y_true, y_pred):\n",
        "    # reshape in case it's in shape (num_samples, 1) instead of (num_samples,)\n",
        "    if K.ndim(y_true) == K.ndim(y_pred):\n",
        "        y_true = K.squeeze(y_true, -1)\n",
        "    # convert dense predictions to labels\n",
        "    y_pred_labels = K.argmax(y_pred, axis=-1)\n",
        "    y_pred_labels = K.cast(y_pred_labels, K.floatx())\n",
        "    return K.min(K.cast(K.equal(y_true, y_pred_labels), K.floatx()), axis=-1)\n",
        "\n",
        "def sparse_top_k_categorical_accuracy(y_true, y_pred, k=5):\n",
        "    # If the shape of y_true is (num_samples, 1), flatten to (num_samples,)\n",
        "    return K.cast(K.in_top_k(y_pred, K.cast(K.flatten(y_true), 'int32'), k),\n",
        "                  K.floatx())\n",
        "\n",
        "def sparse_top_k_categorical_accuracy_per_sequence(y_true, y_pred, k=5):\n",
        "    # If the shape of y_true is (num_samples, 1), flatten to (num_samples,)\n",
        "    return K.cast(K.in_top_k(y_pred, K.cast(K.flatten(y_true), 'int32'), k),\n",
        "                  K.floatx())\n",
        "\n",
        "def sparse(y_true, y_pred):\n",
        "    return sparse_categorical_accuracy(y_true, y_pred)\n",
        "def sequence(y_true, y_pred):\n",
        "    return sparse_categorical_accuracy_per_sequence(y_true, y_pred)\n",
        "def sparse_k(y_true, y_pred):\n",
        "    return sparse_top_k_categorical_accuracy(y_true, y_pred)\n",
        "def sequence_k(y_true, y_pred):\n",
        "    return sparse_categorical_accuracy_top_k_per_sequence(y_true, y_pred)\n",
        "\n",
        "def test_top_k_categorical_accuracy():\n",
        "    y_pred = K.variable(np.array([[0.3, 0.2, 0.1], [0.1, 0.2, 0.7]]))\n",
        "    y_true = K.variable(np.array([[0, 1, 0], [1, 0, 0]]))\n",
        "    success_result = K.eval(metrics.top_k_categorical_accuracy(y_true, y_pred,\n",
        "                                                               k=3))\n",
        "    assert np.mean(success_result) == 1\n",
        "    partial_result = K.eval(metrics.top_k_categorical_accuracy(y_true, y_pred,\n",
        "                                                               k=2))\n",
        "    assert np.mean(partial_result) == 0.5\n",
        "    failure_result = K.eval(metrics.top_k_categorical_accuracy(y_true, y_pred,\n",
        "                                                               k=1))\n",
        "    assert np.mean(failure_result) == 0\n",
        "\n",
        "\n",
        "units=16\n",
        "\n",
        "model = Sequential()\n",
        "model.add(Embedding(max_features, units*2, input_length=maxlen))\n",
        "model.add(Bidirectional(get_lstm(units, return_sequences=True)))\n",
        "model.add(Dropout(0.5))\n",
        "model.add(Dense(max_features, activation='softmax'))\n",
        "\n",
        "# try using different optimizers and different optimizer configs\n",
        "model.compile('adam', 'sparse_categorical_crossentropy', metrics=[sparse, sequence])\n",
        "model.summary()\n",
        "\n",
        "print('Train...')\n",
        "history = None\n",
        "history = model.fit(x_train, y_train,\n",
        "          batch_size=batch_size,\n",
        "          epochs=30,\n",
        "          verbose=2,\n",
        "          validation_data=[x_test, y_test])"
      ],
      "execution_count": 1,
      "outputs": [
        {
          "output_type": "stream",
          "text": [
            "Requirement already satisfied: numpy==1.16.1 in /usr/local/lib/python3.6/dist-packages (1.16.1)\n",
            "Requirement already satisfied: keras==2.1.2 in /usr/local/lib/python3.6/dist-packages (2.1.2)\n",
            "Requirement already satisfied: numpy>=1.9.1 in /usr/local/lib/python3.6/dist-packages (from keras==2.1.2) (1.16.1)\n",
            "Requirement already satisfied: scipy>=0.14 in /usr/local/lib/python3.6/dist-packages (from keras==2.1.2) (1.3.0)\n",
            "Requirement already satisfied: six>=1.9.0 in /usr/local/lib/python3.6/dist-packages (from keras==2.1.2) (1.12.0)\n",
            "Requirement already satisfied: pyyaml in /usr/local/lib/python3.6/dist-packages (from keras==2.1.2) (3.13)\n"
          ],
          "name": "stdout"
        },
        {
          "output_type": "stream",
          "text": [
            "Using TensorFlow backend.\n"
          ],
          "name": "stderr"
        },
        {
          "output_type": "stream",
          "text": [
            "Loading data...\n",
            "25000 train sequences\n",
            "12500 test sequences\n",
            "12500 validation sequences\n",
            "Pad sequences (samples x time)\n"
          ],
          "name": "stdout"
        },
        {
          "output_type": "stream",
          "text": [
            "WARNING: Logging before flag parsing goes to stderr.\n",
            "W0619 21:27:01.368257 140490570119040 deprecation_wrapper.py:119] From /usr/local/lib/python3.6/dist-packages/keras/backend/tensorflow_backend.py:64: The name tf.get_default_graph is deprecated. Please use tf.compat.v1.get_default_graph instead.\n",
            "\n",
            "W0619 21:27:01.383125 140490570119040 deprecation_wrapper.py:119] From /usr/local/lib/python3.6/dist-packages/keras/backend/tensorflow_backend.py:497: The name tf.placeholder is deprecated. Please use tf.compat.v1.placeholder instead.\n",
            "\n",
            "W0619 21:27:01.387421 140490570119040 deprecation_wrapper.py:119] From /usr/local/lib/python3.6/dist-packages/keras/backend/tensorflow_backend.py:3636: The name tf.random_uniform is deprecated. Please use tf.random.uniform instead.\n",
            "\n"
          ],
          "name": "stderr"
        },
        {
          "output_type": "stream",
          "text": [
            "(22227, 100)\n",
            "(11012, 100)\n",
            "(11025, 100)\n",
            "x_train shape: (22227, 100)\n",
            "x_test shape: (11012, 100)\n",
            "x_val shape: (11025, 100)\n",
            "y_train shape: (22227, 100, 1)\n",
            "y_test shape: (11012, 100, 1)\n",
            "y_val shape: (11025, 100, 1)\n"
          ],
          "name": "stdout"
        },
        {
          "output_type": "stream",
          "text": [
            "W0619 21:27:02.226286 140490570119040 deprecation.py:506] From /usr/local/lib/python3.6/dist-packages/keras/backend/tensorflow_backend.py:1247: calling reduce_sum_v1 (from tensorflow.python.ops.math_ops) with keep_dims is deprecated and will be removed in a future version.\n",
            "Instructions for updating:\n",
            "keep_dims is deprecated, use keepdims instead\n",
            "W0619 21:27:02.422053 140490570119040 deprecation.py:506] From /usr/local/lib/python3.6/dist-packages/keras/backend/tensorflow_backend.py:3019: calling dropout (from tensorflow.python.ops.nn_ops) with keep_prob is deprecated and will be removed in a future version.\n",
            "Instructions for updating:\n",
            "Please use `rate` instead of `keep_prob`. Rate should be set to `rate = 1 - keep_prob`.\n",
            "W0619 21:27:02.458566 140490570119040 deprecation.py:506] From /usr/local/lib/python3.6/dist-packages/keras/backend/tensorflow_backend.py:1213: calling reduce_max_v1 (from tensorflow.python.ops.math_ops) with keep_dims is deprecated and will be removed in a future version.\n",
            "Instructions for updating:\n",
            "keep_dims is deprecated, use keepdims instead\n",
            "W0619 21:27:02.465406 140490570119040 deprecation_wrapper.py:119] From /usr/local/lib/python3.6/dist-packages/keras/optimizers.py:711: The name tf.train.Optimizer is deprecated. Please use tf.compat.v1.train.Optimizer instead.\n",
            "\n",
            "W0619 21:27:02.485378 140490570119040 deprecation_wrapper.py:119] From /usr/local/lib/python3.6/dist-packages/keras/backend/tensorflow_backend.py:2915: The name tf.log is deprecated. Please use tf.math.log instead.\n",
            "\n",
            "W0619 21:27:02.511855 140490570119040 deprecation.py:506] From /usr/local/lib/python3.6/dist-packages/keras/backend/tensorflow_backend.py:1230: calling reduce_min_v1 (from tensorflow.python.ops.math_ops) with keep_dims is deprecated and will be removed in a future version.\n",
            "Instructions for updating:\n",
            "keep_dims is deprecated, use keepdims instead\n",
            "W0619 21:27:02.580248 140490570119040 deprecation.py:323] From /usr/local/lib/python3.6/dist-packages/tensorflow/python/ops/math_grad.py:1250: add_dispatch_support.<locals>.wrapper (from tensorflow.python.ops.array_ops) is deprecated and will be removed in a future version.\n",
            "Instructions for updating:\n",
            "Use tf.where in 2.0, which has the same broadcast rule as np.where\n"
          ],
          "name": "stderr"
        },
        {
          "output_type": "stream",
          "text": [
            "_________________________________________________________________\n",
            "Layer (type)                 Output Shape              Param #   \n",
            "=================================================================\n",
            "embedding_1 (Embedding)      (None, 100, 32)           640000    \n",
            "_________________________________________________________________\n",
            "bidirectional_1 (Bidirection (None, 100, 32)           6400      \n",
            "_________________________________________________________________\n",
            "dropout_1 (Dropout)          (None, 100, 32)           0         \n",
            "_________________________________________________________________\n",
            "dense_1 (Dense)              (None, 100, 20000)        660000    \n",
            "=================================================================\n",
            "Total params: 1,306,400\n",
            "Trainable params: 1,306,400\n",
            "Non-trainable params: 0\n",
            "_________________________________________________________________\n",
            "Train...\n"
          ],
          "name": "stdout"
        },
        {
          "output_type": "stream",
          "text": [
            "W0619 21:27:02.965644 140490570119040 deprecation_wrapper.py:119] From /usr/local/lib/python3.6/dist-packages/keras/backend/tensorflow_backend.py:958: The name tf.assign_add is deprecated. Please use tf.compat.v1.assign_add instead.\n",
            "\n",
            "W0619 21:27:02.979163 140490570119040 deprecation.py:506] From /usr/local/lib/python3.6/dist-packages/keras/backend/tensorflow_backend.py:680: calling Constant.__init__ (from tensorflow.python.ops.init_ops) with dtype is deprecated and will be removed in a future version.\n",
            "Instructions for updating:\n",
            "Call initializer instance with the dtype argument instead of passing it to the constructor\n"
          ],
          "name": "stderr"
        },
        {
          "output_type": "stream",
          "text": [
            "Train on 22227 samples, validate on 11012 samples\n",
            "Epoch 1/30\n",
            " - 105s - loss: 6.7257 - sparse: 0.0514 - sequence: 0.0000e+00 - val_loss: 6.0533 - val_sparse: 0.0552 - val_sequence: 0.0000e+00\n",
            "Epoch 2/30\n",
            " - 102s - loss: 5.9447 - sparse: 0.0548 - sequence: 0.0000e+00 - val_loss: 5.6575 - val_sparse: 0.0552 - val_sequence: 0.0000e+00\n",
            "Epoch 3/30\n",
            " - 102s - loss: 5.5278 - sparse: 0.0649 - sequence: 0.0000e+00 - val_loss: 5.1200 - val_sparse: 0.1167 - val_sequence: 0.0000e+00\n",
            "Epoch 4/30\n",
            " - 102s - loss: 5.0858 - sparse: 0.0947 - sequence: 0.0000e+00 - val_loss: 4.6250 - val_sparse: 0.1886 - val_sequence: 0.0000e+00\n",
            "Epoch 5/30\n",
            " - 102s - loss: 4.6219 - sparse: 0.1353 - sequence: 0.0000e+00 - val_loss: 4.0007 - val_sparse: 0.2747 - val_sequence: 0.0000e+00\n",
            "Epoch 6/30\n",
            " - 102s - loss: 4.2079 - sparse: 0.1780 - sequence: 0.0000e+00 - val_loss: 3.5236 - val_sparse: 0.3588 - val_sequence: 0.0000e+00\n",
            "Epoch 7/30\n",
            " - 102s - loss: 3.7759 - sparse: 0.2510 - sequence: 0.0000e+00 - val_loss: 2.8598 - val_sparse: 0.5558 - val_sequence: 0.0000e+00\n",
            "Epoch 8/30\n",
            " - 102s - loss: 3.2915 - sparse: 0.3582 - sequence: 0.0000e+00 - val_loss: 2.3753 - val_sparse: 0.6730 - val_sequence: 0.0000e+00\n",
            "Epoch 9/30\n",
            " - 102s - loss: 2.9639 - sparse: 0.4197 - sequence: 0.0000e+00 - val_loss: 2.0283 - val_sparse: 0.7325 - val_sequence: 0.0000e+00\n",
            "Epoch 10/30\n",
            " - 102s - loss: 2.7113 - sparse: 0.4624 - sequence: 0.0000e+00 - val_loss: 1.7597 - val_sparse: 0.7843 - val_sequence: 0.0000e+00\n",
            "Epoch 11/30\n",
            " - 102s - loss: 2.5229 - sparse: 0.4907 - sequence: 0.0000e+00 - val_loss: 1.5485 - val_sparse: 0.8142 - val_sequence: 0.0000e+00\n",
            "Epoch 12/30\n",
            " - 102s - loss: 2.3466 - sparse: 0.5226 - sequence: 0.0000e+00 - val_loss: 1.3712 - val_sparse: 0.8409 - val_sequence: 0.0000e+00\n",
            "Epoch 13/30\n",
            " - 102s - loss: 2.2138 - sparse: 0.5433 - sequence: 0.0000e+00 - val_loss: 1.2292 - val_sparse: 0.8573 - val_sequence: 0.0000e+00\n",
            "Epoch 14/30\n",
            " - 102s - loss: 2.0976 - sparse: 0.5635 - sequence: 0.0000e+00 - val_loss: 1.1135 - val_sparse: 0.8721 - val_sequence: 0.0000e+00\n",
            "Epoch 15/30\n",
            " - 102s - loss: 1.9931 - sparse: 0.5828 - sequence: 0.0000e+00 - val_loss: 1.0158 - val_sparse: 0.8854 - val_sequence: 9.0810e-05\n",
            "Epoch 16/30\n",
            " - 102s - loss: 1.9078 - sparse: 0.5959 - sequence: 0.0000e+00 - val_loss: 0.9312 - val_sparse: 0.8973 - val_sequence: 5.4486e-04\n",
            "Epoch 17/30\n",
            " - 102s - loss: 1.8343 - sparse: 0.6079 - sequence: 0.0000e+00 - val_loss: 0.8596 - val_sparse: 0.9059 - val_sequence: 0.0013\n",
            "Epoch 18/30\n",
            " - 102s - loss: 1.7653 - sparse: 0.6204 - sequence: 0.0000e+00 - val_loss: 0.7961 - val_sparse: 0.9153 - val_sequence: 0.0022\n",
            "Epoch 19/30\n",
            " - 102s - loss: 1.7032 - sparse: 0.6323 - sequence: 0.0000e+00 - val_loss: 0.7413 - val_sparse: 0.9228 - val_sequence: 0.0040\n",
            "Epoch 20/30\n",
            " - 102s - loss: 1.6464 - sparse: 0.6424 - sequence: 0.0000e+00 - val_loss: 0.6931 - val_sparse: 0.9258 - val_sequence: 0.0047\n",
            "Epoch 21/30\n",
            " - 102s - loss: 1.5960 - sparse: 0.6512 - sequence: 0.0000e+00 - val_loss: 0.6515 - val_sparse: 0.9320 - val_sequence: 0.0077\n",
            "Epoch 22/30\n",
            " - 102s - loss: 1.5515 - sparse: 0.6594 - sequence: 0.0000e+00 - val_loss: 0.6153 - val_sparse: 0.9352 - val_sequence: 0.0092\n",
            "Epoch 23/30\n",
            " - 102s - loss: 1.5121 - sparse: 0.6668 - sequence: 0.0000e+00 - val_loss: 0.5836 - val_sparse: 0.9388 - val_sequence: 0.0122\n",
            "Epoch 24/30\n",
            " - 102s - loss: 1.4734 - sparse: 0.6745 - sequence: 0.0000e+00 - val_loss: 0.5547 - val_sparse: 0.9422 - val_sequence: 0.0140\n",
            "Epoch 25/30\n",
            " - 102s - loss: 1.4380 - sparse: 0.6817 - sequence: 0.0000e+00 - val_loss: 0.5276 - val_sparse: 0.9452 - val_sequence: 0.0174\n",
            "Epoch 26/30\n",
            " - 102s - loss: 1.4042 - sparse: 0.6883 - sequence: 0.0000e+00 - val_loss: 0.5030 - val_sparse: 0.9476 - val_sequence: 0.0204\n",
            "Epoch 27/30\n",
            " - 102s - loss: 1.3740 - sparse: 0.6941 - sequence: 0.0000e+00 - val_loss: 0.4809 - val_sparse: 0.9515 - val_sequence: 0.0274\n",
            "Epoch 28/30\n",
            " - 102s - loss: 1.3444 - sparse: 0.7002 - sequence: 0.0000e+00 - val_loss: 0.4603 - val_sparse: 0.9539 - val_sequence: 0.0308\n",
            "Epoch 29/30\n",
            " - 102s - loss: 1.3198 - sparse: 0.7047 - sequence: 0.0000e+00 - val_loss: 0.4402 - val_sparse: 0.9573 - val_sequence: 0.0414\n",
            "Epoch 30/30\n",
            " - 102s - loss: 1.2960 - sparse: 0.7095 - sequence: 0.0000e+00 - val_loss: 0.4231 - val_sparse: 0.9593 - val_sequence: 0.0453\n"
          ],
          "name": "stdout"
        }
      ]
    },
    {
      "cell_type": "code",
      "metadata": {
        "id": "sHy1cTDVP_XZ",
        "colab_type": "code",
        "colab": {
          "base_uri": "https://localhost:8080/",
          "height": 295
        },
        "outputId": "a5f2a766-d38e-4524-883e-3548d3f8e9c7"
      },
      "source": [
        "\n",
        "if history != None:\n",
        "  # summarize history for accuracy\n",
        "  plt.plot(history.history['sparse'])\n",
        "  plt.plot(history.history['val_sparse'])\n",
        "  plt.title('model accuracy')\n",
        "  plt.ylabel('sparse_categorical_accuracy')\n",
        "  plt.xlabel('epoch')\n",
        "  plt.legend(['train', 'test'], loc='upper left')\n",
        "  plt.show()"
      ],
      "execution_count": 2,
      "outputs": [
        {
          "output_type": "display_data",
          "data": {
            "image/png": "[encoded data removed]",
            "text/plain": [
              "<Figure size 432x288 with 1 Axes>"
            ]
          },
          "metadata": {
            "tags": []
          }
        }
      ]
    },
    {
      "cell_type": "code",
      "metadata": {
        "id": "-6ZR0kc7X-tm",
        "colab_type": "code",
        "colab": {
          "base_uri": "https://localhost:8080/",
          "height": 347
        },
        "outputId": "c05a6de3-cffc-4081-bc32-b399d507401f"
      },
      "source": [
        "short = x_val[0:100]\n",
        "\n",
        "if True:\n",
        "#with tf.Session() as session:\n",
        "#  K.set_session(session)\n",
        "#  session.run(tf.global_variables_initializer())\n",
        "#  session.run(tf.tables_initializer())\n",
        "  #model.load_weights('./model.h5')  \n",
        "  eval = model.evaluate(x_val, y_val)\n",
        "  print('model.evaluate on val holdout: ' ,model.metrics_names, eval)\n",
        "  print('history: ', history)\n",
        "  predicts = model.predict(short, batch_size=32)\n",
        "  print('shape: {}'.format(predicts.shape))\n",
        "\n",
        "print(len(predicts[0]))\n",
        "print(len(predicts[0][0]))\n",
        "print(predicts[0])"
      ],
      "execution_count": 3,
      "outputs": [
        {
          "output_type": "stream",
          "text": [
            "11025/11025 [==============================] - 20s 2ms/step\n",
            "model.evaluate on val holdout:  ['loss', 'sparse', 'sequence'] [0.4216869519762441, 0.9597560077513697, 0.04417233560124492]\n",
            "history:  <keras.callbacks.History object at 0x7fc625786a58>\n",
            "shape: (100, 100, 20000)\n",
            "100\n",
            "20000\n",
            "[[1.0213755e-18 2.1669586e-18 2.4100757e-13 ... 7.5307121e-21\n",
            "  1.7676047e-22 1.2392732e-25]\n",
            " [8.1977246e-12 3.7876737e-09 1.3391892e-06 ... 1.0526842e-09\n",
            "  4.5809236e-14 1.0058988e-09]\n",
            " [1.1759797e-10 1.3913035e-08 8.1781621e-09 ... 4.9446470e-08\n",
            "  3.4127712e-08 1.0619011e-09]\n",
            " ...\n",
            " [9.2855955e-16 2.0520503e-17 2.8446085e-13 ... 5.0007432e-17\n",
            "  3.7405610e-15 1.1881861e-21]\n",
            " [7.8344126e-21 1.9702042e-18 7.7574420e-15 ... 3.4856338e-22\n",
            "  5.8134182e-25 1.3493316e-24]\n",
            " [2.5707738e-09 4.2684383e-07 2.1300134e-03 ... 1.3003063e-07\n",
            "  1.7719579e-09 5.0279020e-08]]\n"
          ],
          "name": "stdout"
        }
      ]
    },
    {
      "cell_type": "code",
      "metadata": {
        "id": "kFy2tfyIYOtY",
        "colab_type": "code",
        "colab": {
          "base_uri": "https://localhost:8080/",
          "height": 52
        },
        "outputId": "bc459c5a-8ccd-4e8c-81c4-a6b3356bddbe"
      },
      "source": [
        "def maxindx(pred):\n",
        "    maxi=-1\n",
        "    maxv=-1.0\n",
        "    for x in range(len(pred)):\n",
        "        if pred[x] > maxv:\n",
        "            maxv = pred[x]\n",
        "            maxi = x\n",
        "    return (maxi, maxv)\n",
        "\n",
        "def match(data, prediction):\n",
        "    good = 0\n",
        "    total = 0\n",
        "    for i in range(len(data)):\n",
        "       # if data[i] < 0.000001:\n",
        "       #     break\n",
        "        if data[i] == np.argmax(prediction[i]):\n",
        "            good += 1\n",
        "        total += 1\n",
        "    #print('{}, {}'.format(good, total))\n",
        "    if (total == 0):\n",
        "        return 0\n",
        "    return good / total\n",
        "\n",
        "good = 0.0\n",
        "total = 0\n",
        "for n in range(len(short)):\n",
        "    #print(short[n][0:5])\n",
        "    if short[n][0] != 0 or True:\n",
        "        check = match(short[n], predicts[n])\n",
        "        if check > 0.9999:\n",
        "            good += 1\n",
        "    total += 1\n",
        "\n",
        "print('Score: ', good / total)\n",
        "print('values: ', maxindx(predicts[0][0]))"
      ],
      "execution_count": 4,
      "outputs": [
        {
          "output_type": "stream",
          "text": [
            "Score:  0.02\n",
            "values:  (6, 0.9999993)\n"
          ],
          "name": "stdout"
        }
      ]
    },
    {
      "cell_type": "code",
      "metadata": {
        "id": "XNWVxMyKd3P8",
        "colab_type": "code",
        "colab": {}
      },
      "source": [
        ""
      ],
      "execution_count": 0,
      "outputs": []
    }
  ]
}