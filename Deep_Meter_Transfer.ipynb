{
  "nbformat": 4,
  "nbformat_minor": 0,
  "metadata": {
    "colab": {
      "name": "Deep_Meter_Transfer.ipynb",
      "version": "0.3.2",
      "provenance": [],
      "collapsed_sections": []
    },
    "kernelspec": {
      "name": "python3",
      "display_name": "Python 3"
    },
    "accelerator": "GPU"
  },
  "cells": [
    {
      "metadata": {
        "colab_type": "text",
        "id": "co7MV6sX7Xto"
      },
      "cell_type": "markdown",
      "source": [
        "# [Keras + Universal Sentence Encoder = Deep Meter] (https://www.dlology.com/blog/keras-meets-universal-sentence-encoder-transfer-learning-for-text-data/) "
      ]
    },
    {
      "metadata": {
        "colab_type": "text",
        "id": "eAVQGidpL8v5"
      },
      "cell_type": "markdown",
      "source": [
        "This notebook creates an autoencoder using the Universal Sentence Encoder. The autoencoder output is CMUdict syllables. The dataset is that subset of Allison Parrish's Project Gutenberg poetry archive which happens to scan in iambic pentameter.\n",
        "\n",
        "The notebook is based on Chengwei Zhang's example of wrapping the USE inside a larger tensorflow model saves to a Keras model (without save the USE itself in the TF model).\n",
        "\n",
        "The Universal Sentence Encoder makes getting sentence level embeddings as easy as it has historically been to lookup the embeddings for individual words. The sentence embeddings can then be trivially used to compute sentence level meaning similarity as well as to enable better performance on downstream classification tasks using less supervised training data.\n",
        "\n",
        "Since there are 10 one-hot values for 10 sets of 6k syllables, this is \"multi-label classification\"\n",
        "Changes for multi-label classification:\n",
        "sigmoid activation instead of softmax\n",
        "binary_crossentropy\n",
        "\n",
        "Text format is tab-separated, 2 columns: first text, second multi-level\n",
        "array of syllables:\n",
        "\n",
        "Output to one multi-label set of syllables. Used to train Human & Lizard levels how to output to syllables."
      ]
    },
    {
      "metadata": {
        "colab_type": "text",
        "id": "pOTzp8O36CyQ"
      },
      "cell_type": "markdown",
      "source": [
        "# Getting Started\n",
        "\n",
        "This section sets up the environment for access to the Universal Sentence Encoder on TF Hub and provides examples of applying the encoder to words, sentences, and paragraphs."
      ]
    },
    {
      "metadata": {
        "colab_type": "code",
        "id": "lVjNK8shFKOC",
        "outputId": "988a1045-5b10-404f-e5d8-ac17c6bd45b9",
        "colab": {
          "base_uri": "https://localhost:8080/",
          "height": 646
        }
      },
      "cell_type": "code",
      "source": [
        "# Install the latest Tensorflow version.\n",
        "#!pip3 install --quiet \"tensorflow>=1.7\"\n",
        "# Install TF-Hub.\n",
        "#!pip3 install --quiet tensorflow-hub\n",
        "#%cd /content\n",
        "!git clone https://github.com/LanceNorskog/deep_meter || true\n",
        "%cd /content/deep_meter\n",
        "!pip -q install -r requirements.txt\n",
        "!git pull\n",
        "# could not figure out how to read gzipped files as text!\n",
        "!gunzip -qf blobs/*.gz || true\n",
        "!gunzip -qf prepped_data/*.gz || true\n",
        "# Need to scramble this with awk\n",
        "AWK=\"awk '{print((rand()*1000000),\\\"\\\\t\\\",$0)}'\"\n",
        "CUT=\"cut -f2\"\n",
        "SPLIT=\"split -l20000 -a 5\"\n",
        "SHUFFLE=AWK + '|' + CUT + '|' + 'sort|' + SPLIT\n",
        "#!echo abc | $AWK\n",
        "#!mkdir -p /content/full_raw /content/full_data; rm -f /content/full_raw/* /content/full_data/*\n",
        "#!cd /content/full_raw; cut -f1 < /content/deep_meter/blobs/gutenberg-poetry-v001.csv | $SHUFFLE \n",
        "!ls -sh /content/full_data"
      ],
      "execution_count": 1,
      "outputs": [
        {
          "output_type": "stream",
          "text": [
            "fatal: destination path 'deep_meter' already exists and is not an empty directory.\n",
            "/content/deep_meter\n",
            "Already up to date.\n",
            "gzip: blobs/*.gz: No such file or directory\n",
            "gzip: prepped_data/*.gz: No such file or directory\n",
            "total 306M\n",
            "2.0M xaaaaa.pk\t2.0M xaaabf.pk\t2.0M xaaack.pk\t2.0M xaaadp.pk\t2.1M xaaaeu.pk\n",
            "2.0M xaaaab.pk\t2.1M xaaabg.pk\t2.0M xaaacl.pk\t2.1M xaaadq.pk\t2.1M xaaaev.pk\n",
            "2.0M xaaaac.pk\t2.0M xaaabh.pk\t2.0M xaaacm.pk\t2.0M xaaadr.pk\t2.1M xaaaew.pk\n",
            "2.0M xaaaad.pk\t2.0M xaaabi.pk\t2.0M xaaacn.pk\t2.0M xaaads.pk\t2.0M xaaaex.pk\n",
            "2.0M xaaaae.pk\t2.0M xaaabj.pk\t2.0M xaaaco.pk\t2.0M xaaadt.pk\t2.0M xaaaey.pk\n",
            "2.0M xaaaaf.pk\t2.1M xaaabk.pk\t2.0M xaaacp.pk\t2.0M xaaadu.pk\t2.0M xaaaez.pk\n",
            "2.0M xaaaag.pk\t2.0M xaaabl.pk\t2.0M xaaacq.pk\t2.0M xaaadv.pk\t2.0M xaaafa.pk\n",
            "2.0M xaaaah.pk\t2.0M xaaabm.pk\t2.0M xaaacr.pk\t2.0M xaaadw.pk\t2.0M xaaafb.pk\n",
            "2.0M xaaaai.pk\t2.0M xaaabn.pk\t2.0M xaaacs.pk\t2.0M xaaadx.pk\t2.0M xaaafc.pk\n",
            "2.0M xaaaaj.pk\t2.0M xaaabo.pk\t2.0M xaaact.pk\t2.0M xaaady.pk\t2.0M xaaafd.pk\n",
            "2.0M xaaaak.pk\t2.0M xaaabp.pk\t2.0M xaaacu.pk\t2.0M xaaadz.pk\t2.2M xaaafe.pk\n",
            "2.0M xaaaal.pk\t2.0M xaaabq.pk\t2.0M xaaacv.pk\t2.1M xaaaea.pk\t2.0M xaaaff.pk\n",
            "2.0M xaaaam.pk\t2.0M xaaabr.pk\t2.0M xaaacw.pk\t2.0M xaaaeb.pk\t2.0M xaaafg.pk\n",
            "2.0M xaaaan.pk\t2.0M xaaabs.pk\t2.0M xaaacx.pk\t2.0M xaaaec.pk\t2.0M xaaafh.pk\n",
            "2.0M xaaaao.pk\t2.0M xaaabt.pk\t2.1M xaaacy.pk\t2.0M xaaaed.pk\t2.0M xaaafi.pk\n",
            "2.0M xaaaap.pk\t2.0M xaaabu.pk\t2.0M xaaacz.pk\t2.0M xaaaee.pk\t2.0M xaaafj.pk\n",
            "2.0M xaaaaq.pk\t2.0M xaaabv.pk\t2.0M xaaada.pk\t2.1M xaaaef.pk\t2.0M xaaafk.pk\n",
            "2.1M xaaaar.pk\t2.0M xaaabw.pk\t2.0M xaaadb.pk\t2.0M xaaaeg.pk\t2.0M xaaafl.pk\n",
            "2.0M xaaaas.pk\t2.0M xaaabx.pk\t2.0M xaaadc.pk\t2.0M xaaaeh.pk\t2.1M xaaafm.pk\n",
            "2.0M xaaaat.pk\t2.0M xaaaby.pk\t2.1M xaaadd.pk\t2.1M xaaaei.pk\t2.0M xaaafn.pk\n",
            "2.0M xaaaau.pk\t2.0M xaaabz.pk\t2.0M xaaade.pk\t2.1M xaaaej.pk\t2.1M xaaafo.pk\n",
            "2.0M xaaaav.pk\t2.1M xaaaca.pk\t2.0M xaaadf.pk\t2.0M xaaaek.pk\t2.1M xaaafp.pk\n",
            "2.0M xaaaaw.pk\t2.0M xaaacb.pk\t2.0M xaaadg.pk\t2.1M xaaael.pk\t2.1M xaaafq.pk\n",
            "2.0M xaaaax.pk\t2.0M xaaacc.pk\t2.0M xaaadh.pk\t2.1M xaaaem.pk\t2.0M xaaafr.pk\n",
            "2.0M xaaaay.pk\t2.0M xaaacd.pk\t2.0M xaaadi.pk\t2.1M xaaaen.pk\t2.0M xaaafs.pk\n",
            "2.0M xaaaaz.pk\t2.0M xaaace.pk\t2.0M xaaadj.pk\t2.1M xaaaeo.pk\t2.0M xaaaft.pk\n",
            "2.0M xaaaba.pk\t2.0M xaaacf.pk\t2.0M xaaadk.pk\t2.1M xaaaep.pk\t2.0M xaaafu.pk\n",
            "2.0M xaaabb.pk\t2.0M xaaacg.pk\t2.0M xaaadl.pk\t2.1M xaaaeq.pk\t2.1M xaaafv.pk\n",
            "2.0M xaaabc.pk\t2.0M xaaach.pk\t2.0M xaaadm.pk\t2.1M xaaaer.pk\t2.0M xaaafw.pk\n",
            "2.0M xaaabd.pk\t2.0M xaaaci.pk\t2.0M xaaadn.pk\t2.0M xaaaes.pk\t2.0M xaaafx.pk\n",
            "2.1M xaaabe.pk\t2.0M xaaacj.pk\t2.1M xaaado.pk\t2.1M xaaaet.pk\t512K xaaafy.pk\n"
          ],
          "name": "stdout"
        }
      ]
    },
    {
      "metadata": {
        "colab_type": "code",
        "id": "MSeY-MUQo2Ha",
        "outputId": "b2f46028-e8a7-412b-f561-d1dd1f899877",
        "colab": {
          "base_uri": "https://localhost:8080/",
          "height": 34
        }
      },
      "cell_type": "code",
      "source": [
        "# boilerplate from base notebook\n",
        "import tensorflow as tf\n",
        "import tensorflow_hub as hub\n",
        "import matplotlib.pyplot as plt\n",
        "import numpy as np\n",
        "import os\n",
        "import pandas as pd\n",
        "import re\n",
        "import seaborn as sns\n",
        "import keras.layers as layers\n",
        "from keras.callbacks import ModelCheckpoint\n",
        "from keras.models import Model\n",
        "from keras import backend as K\n",
        "from keras.callbacks import EarlyStopping, ModelCheckpoint\n",
        "from tensorflow.keras.optimizers import Nadam, Adam\n",
        "import gc\n",
        "from google.colab import files\n",
        "from google.colab import drive\n",
        "\n",
        "import pickle\n",
        "np.random.seed(10)"
      ],
      "execution_count": 2,
      "outputs": [
        {
          "output_type": "stream",
          "text": [
            "Using TensorFlow backend.\n"
          ],
          "name": "stderr"
        }
      ]
    },
    {
      "metadata": {
        "id": "OXC-OmZvR_K-",
        "colab_type": "code",
        "outputId": "3d054dfa-a418-47b5-cb03-b4820c2b1e10",
        "colab": {
          "base_uri": "https://localhost:8080/",
          "height": 34
        }
      },
      "cell_type": "code",
      "source": [
        "drive.mount('/content/gdrive')"
      ],
      "execution_count": 3,
      "outputs": [
        {
          "output_type": "stream",
          "text": [
            "Drive already mounted at /content/gdrive; to attempt to forcibly remount, call drive.mount(\"/content/gdrive\", force_remount=True).\n"
          ],
          "name": "stdout"
        }
      ]
    },
    {
      "metadata": {
        "colab_type": "code",
        "id": "feBc_8Y-pt6F",
        "colab": {}
      },
      "cell_type": "code",
      "source": [
        "# github deep_meter code\n",
        "import utils\n",
        "# should not need this to use utils.flatten but is true anyway?\n",
        "from itertools import chain\n",
        "import subprocess\n",
        "import syllables\n",
        "import cmudict\n",
        "import decodesyllables\n",
        "import languagemodel\n",
        "import embed_mgr\n",
        "#import readprepped\n",
        "import transfer_mgr\n",
        "import caching_generator\n",
        "from simple_beam_search import beam_search_decoder, x_beam_search_decoder, word_beam_search_decoder\n",
        "# misc for this notebook\n",
        "from ast import literal_eval"
      ],
      "execution_count": 0,
      "outputs": []
    },
    {
      "metadata": {
        "id": "2FZaiDWJ9uPJ",
        "colab_type": "code",
        "colab": {}
      },
      "cell_type": "code",
      "source": [
        "# read classified poetry lines: text tab [['syll', 'la', 'ble'], ...]\n",
        "# clip to only most common syllables with syllable manager\n",
        "# encode labels to one multi-label vector\n",
        "def get_data(filename, syll_mgr, max_lines=100000000):\n",
        "    lines = open(filename, 'r').read().splitlines()\n",
        "    text_lines = []\n",
        "    enc_array = []\n",
        "    num_syllables = syll_mgr.get_size()\n",
        "    lines = lines[:max_lines]\n",
        "    for i in range(0, len(lines)):\n",
        "      parts = lines[i].split(\"\\t\")\n",
        "      label = utils.flatten(literal_eval(parts[1]))\n",
        "      if len(label) != num_symbols:\n",
        "        continue\n",
        "      enc = np.zeros((syll_mgr.get_size()), dtype=np.int8)\n",
        "      for j in range(num_symbols):\n",
        "        enc[syll_mgr.get_encoding(label[j])] = 1\n",
        "      text_lines.append([parts[0]])\n",
        "      enc_array.append(enc)\n",
        "\n",
        "    lines = None\n",
        "    return (np.array(text_lines), np.array(enc_array))\n"
      ],
      "execution_count": 0,
      "outputs": []
    },
    {
      "metadata": {
        "colab_type": "code",
        "id": "3HAtd4X5DayF",
        "colab": {}
      },
      "cell_type": "code",
      "source": [
        "# syllables in descending order of occurrence - 6k in gutenberg.iambic_pentameter, 15k total\n",
        "# clamp to most common 100 syllables while debugging- use NCE to get all syllables or interesting number\n",
        "# 98 + pause + wildcard\n",
        "# iambic pentameter\n",
        "num_symbols = 10\n",
        "#syll_mgr = syllables.syllables(num_syllables)\n",
        "syll_mgr = syllables.syllables()\n",
        "num_syllables = syll_mgr.get_size() "
      ],
      "execution_count": 0,
      "outputs": []
    },
    {
      "metadata": {
        "colab_type": "code",
        "id": "eN9aqig-QpDZ",
        "outputId": "fa0d17ed-bfed-4ce6-c459-f1834996bd76",
        "colab": {
          "base_uri": "https://localhost:8080/",
          "height": 51
        }
      },
      "cell_type": "code",
      "source": [
        "(test_text, test_label) = get_data('prepped_data/gutenberg.iambic_pentameter.test', syll_mgr, max_lines=4500)\n",
        "num_tests = len(test_text)\n",
        "print(len(test_text))\n",
        "print(test_label.shape)"
      ],
      "execution_count": 7,
      "outputs": [
        {
          "output_type": "stream",
          "text": [
            "4200\n",
            "(4200, 6635)\n"
          ],
          "name": "stdout"
        }
      ]
    },
    {
      "metadata": {
        "colab_type": "text",
        "id": "Sf9A4Xl6J7c6"
      },
      "cell_type": "markdown",
      "source": [
        "## Embed training & test text"
      ]
    },
    {
      "metadata": {
        "colab_type": "code",
        "id": "-mQUV_7dIm-9",
        "colab": {}
      },
      "cell_type": "code",
      "source": [
        "# slow\n",
        "num_epochs = 50\n",
        "adam_0001 = Adam(0.0001)\n",
        "adam_0001 = tf.contrib.opt.NadamOptimizer(0.0003)"
      ],
      "execution_count": 0,
      "outputs": []
    },
    {
      "metadata": {
        "colab_type": "text",
        "id": "qX2rBOuxDP1m"
      },
      "cell_type": "markdown",
      "source": [
        "## Assemble model"
      ]
    },
    {
      "metadata": {
        "id": "gdwGWV4XQRiF",
        "colab_type": "code",
        "outputId": "d994516a-2aae-42f1-c4b0-79f6213129f8",
        "colab": {
          "base_uri": "https://localhost:8080/",
          "height": 408
        }
      },
      "cell_type": "code",
      "source": [
        "use_mgr = embed_mgr.use_mgr()\n",
        "(embed, embed_size) = use_mgr.load_use()\n",
        "model = transfer_mgr.new_transfer_model(embed, embed_size, num_symbols, num_syllables, optimizer=adam_0001, dropout=0.5)\n",
        "model.summary()\n"
      ],
      "execution_count": 9,
      "outputs": [
        {
          "output_type": "stream",
          "text": [
            "_________________________________________________________________\n",
            "Layer (type)                 Output Shape              Param #   \n",
            "=================================================================\n",
            "input_1 (InputLayer)         (None, 1)                 0         \n",
            "_________________________________________________________________\n",
            "USE (Lambda)                 (None, 512)               0         \n",
            "_________________________________________________________________\n",
            "dropout_1 (Dropout)          (None, 512)               0         \n",
            "_________________________________________________________________\n",
            "Human (Dense)                (None, 1024)              525312    \n",
            "_________________________________________________________________\n",
            "dropout_2 (Dropout)          (None, 1024)              0         \n",
            "_________________________________________________________________\n",
            "Chimp (Dense)                (None, 2048)              2099200   \n",
            "_________________________________________________________________\n",
            "dropout_3 (Dropout)          (None, 2048)              0         \n",
            "_________________________________________________________________\n",
            "Onehot (Dense)               (None, 6635)              13595115  \n",
            "=================================================================\n",
            "Total params: 16,219,627\n",
            "Trainable params: 16,219,627\n",
            "Non-trainable params: 0\n",
            "_________________________________________________________________\n"
          ],
          "name": "stdout"
        }
      ]
    },
    {
      "metadata": {
        "id": "3NZsWecRWERX",
        "colab_type": "code",
        "colab": {}
      },
      "cell_type": "code",
      "source": [
        "training_generator = caching_generator.DataGenerator(max_files=1000)\n",
        "checkpointer = transfer_mgr.create_model_checkpoint('/content/gdrive/My Drive/Colab Notebooks', 'model_transfer-{epoch:02d}')\n",
        "#model_backup = transfer_mgr.create_model_copy_function('.', '/content/gdrive/My Drive/Colab Notebooks', 'model_transfer')"
      ],
      "execution_count": 0,
      "outputs": []
    },
    {
      "metadata": {
        "colab_type": "text",
        "id": "bqcRy_JWXe0u"
      },
      "cell_type": "markdown",
      "source": [
        "## Train Keras model and save weights\n",
        "This only trains and save our Keras layers not the embed module' weights."
      ]
    },
    {
      "metadata": {
        "colab_type": "code",
        "id": "_stfC_7VFhS8",
        "outputId": "88d9f43e-c333-47b3-ecec-6aed8bce0656",
        "colab": {
          "base_uri": "https://localhost:8080/",
          "height": 9265
        }
      },
      "cell_type": "code",
      "source": [
        "use_saved_model=True\n",
        "\n",
        "history = None\n",
        "with tf.Session() as session:\n",
        "    K.set_session(session)\n",
        "    (latest, epo) = transfer_mgr.find_best_model('/content/gdrive/My Drive/Colab Notebooks', 'model_transfer')\n",
        "    session.run(tf.global_variables_initializer())\n",
        "    session.run(tf.tables_initializer())\n",
        "    if latest != None and use_saved_model:\n",
        "        print('Loading weights from: {}'.format('./' + latest))\n",
        "        model.load_weights('./' + latest)\n",
        "        print('Starting at epoch {}'.format(epo))\n",
        "    else:\n",
        "        epo = 0\n",
        "    \n",
        "    history = model.fit_generator(generator=training_generator,\n",
        "                                  validation_data=(test_text, test_label),\n",
        "                                  #steps_per_epoch=2,\n",
        "                                  verbose=2,\n",
        "                                  epochs=num_epochs,\n",
        "                                  initial_epoch=epo,\n",
        "                                  callbacks=[checkpointer], #, model_callback],\n",
        "                                  use_multiprocessing=True,\n",
        "                                  workers=6\n",
        "                                 )\n",
        "    transfer_mgr.save_transfer_model(model)"
      ],
      "execution_count": 11,
      "outputs": [
        {
          "output_type": "stream",
          "text": [
            "Loading weights from: ./model_transfer-12.h5\n",
            "Starting at epoch 12\n",
            "Epoch 13/50\n",
            "index[1]: Text, Label shapes: (20000,) , (20000, 6635)\n",
            "index[0]: Text, Label shapes: (20000,) , (20000, 6635)\n",
            "index[7]: Text, Label shapes: (20000,) , (20000, 6635)\n",
            "index[6]: Text, Label shapes: (20000,) , (20000, 6635)\n",
            "index[5]: Text, Label shapes: (20000,) , (20000, 6635)\n",
            "index[9]: Text, Label shapes: (20000,) , (20000, 6635)\n",
            "index[2]: Text, Label shapes: (20000,) , (20000, 6635)\n",
            "index[4]: Text, Label shapes: (20000,) , (20000, 6635)\n",
            "index[3]: Text, Label shapes: (20000,) , (20000, 6635)\n",
            "index[8]: Text, Label shapes: (20000,) , (20000, 6635)\n",
            "index[5]: Text, Label shapes: (20000,) , (20000, 6635)\n",
            "index[8]: Text, Label shapes: (20000,) , (20000, 6635)\n",
            "index[3]: Text, Label shapes: (20000,) , (20000, 6635)\n",
            "index[2]: Text, Label shapes: (20000,) , (20000, 6635)\n",
            "index[6]: Text, Label shapes: (20000,) , (20000, 6635)\n",
            "index[4]: Text, Label shapes: (20000,) , (20000, 6635)\n",
            "index[9]: Text, Label shapes: (20000,) , (20000, 6635)\n",
            "index[0]: Text, Label shapes: (20000,) , (20000, 6635)\n",
            "index[1]: Text, Label shapes: (20000,) , (20000, 6635)\n",
            "index[7]: Text, Label shapes: (20000,) , (20000, 6635)\n",
            " - 115s - loss: 0.0075 - binary_crossentropy: 0.0075 - val_loss: 0.0080 - val_binary_crossentropy: 0.0080\n",
            "\n",
            "Epoch 00013: val_loss improved from inf to 0.00804, saving model to /content/gdrive/My Drive/Colab Notebooks/model_transfer-13.h5\n",
            "Epoch 14/50\n",
            "index[9]: Text, Label shapes: (20000,) , (20000, 6635)\n",
            "index[5]: Text, Label shapes: (20000,) , (20000, 6635)\n",
            "index[2]: Text, Label shapes: (20000,) , (20000, 6635)\n",
            "index[0]: Text, Label shapes: (20000,) , (20000, 6635)\n",
            "index[7]: Text, Label shapes: (20000,) , (20000, 6635)\n",
            "index[1]: Text, Label shapes: (20000,) , (20000, 6635)\n",
            "index[6]: Text, Label shapes: (20000,) , (20000, 6635)\n",
            "index[8]: Text, Label shapes: (20000,) , (20000, 6635)\n",
            "index[4]: Text, Label shapes: (20000,) , (20000, 6635)\n",
            "index[3]: Text, Label shapes: (20000,) , (20000, 6635)\n",
            " - 104s - loss: 0.0072 - binary_crossentropy: 0.0072 - val_loss: 0.0079 - val_binary_crossentropy: 0.0079\n",
            "\n",
            "Epoch 00014: val_loss improved from 0.00804 to 0.00789, saving model to /content/gdrive/My Drive/Colab Notebooks/model_transfer-14.h5\n",
            "Epoch 15/50\n",
            "index[1]: Text, Label shapes: (20000,) , (20000, 6635)\n",
            "index[0]: Text, Label shapes: (20000,) , (20000, 6635)\n",
            "index[3]: Text, Label shapes: (20000,) , (20000, 6635)\n",
            "index[9]: Text, Label shapes: (20000,) , (20000, 6635)\n",
            "index[4]: Text, Label shapes: (20000,) , (20000, 6635)\n",
            "index[7]: Text, Label shapes: (20000,) , (20000, 6635)\n",
            "index[6]: Text, Label shapes: (20000,) , (20000, 6635)\n",
            "index[5]: Text, Label shapes: (20000,) , (20000, 6635)\n",
            "index[8]: Text, Label shapes: (20000,) , (20000, 6635)\n",
            "index[2]: Text, Label shapes: (20000,) , (20000, 6635)\n",
            " - 105s - loss: 0.0071 - binary_crossentropy: 0.0071 - val_loss: 0.0078 - val_binary_crossentropy: 0.0078\n",
            "\n",
            "Epoch 00015: val_loss improved from 0.00789 to 0.00782, saving model to /content/gdrive/My Drive/Colab Notebooks/model_transfer-15.h5\n",
            "Epoch 16/50\n",
            "index[0]: Text, Label shapes: (20000,) , (20000, 6635)\n",
            "index[4]: Text, Label shapes: (20000,) , (20000, 6635)\n",
            "index[7]: Text, Label shapes: (20000,) , (20000, 6635)\n",
            "index[5]: Text, Label shapes: (20000,) , (20000, 6635)\n",
            "index[2]: Text, Label shapes: (20000,) , (20000, 6635)\n",
            "index[1]: Text, Label shapes: (20000,) , (20000, 6635)\n",
            "index[8]: Text, Label shapes: (20000,) , (20000, 6635)\n",
            "index[3]: Text, Label shapes: (20000,) , (20000, 6635)\n",
            "index[9]: Text, Label shapes: (20000,) , (20000, 6635)\n",
            "index[6]: Text, Label shapes: (20000,) , (20000, 6635)\n",
            " - 107s - loss: 0.0070 - binary_crossentropy: 0.0070 - val_loss: 0.0078 - val_binary_crossentropy: 0.0078\n",
            "\n",
            "Epoch 00016: val_loss improved from 0.00782 to 0.00781, saving model to /content/gdrive/My Drive/Colab Notebooks/model_transfer-16.h5\n",
            "Epoch 17/50\n",
            "index[0]: Text, Label shapes: (20000,) , (20000, 6635)\n",
            "index[2]: Text, Label shapes: (20000,) , (20000, 6635)\n",
            "index[7]: Text, Label shapes: (20000,) , (20000, 6635)\n",
            "index[6]: Text, Label shapes: (20000,) , (20000, 6635)\n",
            "index[1]: Text, Label shapes: (20000,) , (20000, 6635)\n",
            "index[4]: Text, Label shapes: (20000,) , (20000, 6635)\n",
            "index[9]: Text, Label shapes: (20000,) , (20000, 6635)\n",
            "index[8]: Text, Label shapes: (20000,) , (20000, 6635)\n",
            "index[3]: Text, Label shapes: (20000,) , (20000, 6635)\n",
            "index[5]: Text, Label shapes: (20000,) , (20000, 6635)\n",
            " - 106s - loss: 0.0070 - binary_crossentropy: 0.0070 - val_loss: 0.0078 - val_binary_crossentropy: 0.0078\n",
            "\n",
            "Epoch 00017: val_loss improved from 0.00781 to 0.00775, saving model to /content/gdrive/My Drive/Colab Notebooks/model_transfer-17.h5\n",
            "Epoch 18/50\n",
            "index[1]: Text, Label shapes: (20000,) , (20000, 6635)\n",
            "index[6]: Text, Label shapes: (20000,) , (20000, 6635)\n",
            "index[4]: Text, Label shapes: (20000,) , (20000, 6635)\n",
            "index[3]: Text, Label shapes: (20000,) , (20000, 6635)\n",
            "index[5]: Text, Label shapes: (20000,) , (20000, 6635)\n",
            "index[9]: Text, Label shapes: (20000,) , (20000, 6635)\n",
            "index[8]: Text, Label shapes: (20000,) , (20000, 6635)\n",
            "index[7]: Text, Label shapes: (20000,) , (20000, 6635)\n",
            "index[2]: Text, Label shapes: (20000,) , (20000, 6635)\n",
            "index[0]: Text, Label shapes: (20000,) , (20000, 6635)\n",
            " - 105s - loss: 0.0069 - binary_crossentropy: 0.0069 - val_loss: 0.0078 - val_binary_crossentropy: 0.0078\n",
            "\n",
            "Epoch 00018: val_loss did not improve from 0.00775\n",
            "Epoch 19/50\n",
            "index[1]: Text, Label shapes: (20000,) , (20000, 6635)\n",
            "index[6]: Text, Label shapes: (20000,) , (20000, 6635)\n",
            "index[7]: Text, Label shapes: (20000,) , (20000, 6635)\n",
            "index[2]: Text, Label shapes: (20000,) , (20000, 6635)\n",
            "index[3]: Text, Label shapes: (20000,) , (20000, 6635)\n",
            "index[0]: Text, Label shapes: (20000,) , (20000, 6635)\n",
            "index[5]: Text, Label shapes: (20000,) , (20000, 6635)\n",
            "index[9]: Text, Label shapes: (20000,) , (20000, 6635)\n",
            "index[4]: Text, Label shapes: (20000,) , (20000, 6635)\n",
            "index[8]: Text, Label shapes: (20000,) , (20000, 6635)\n",
            " - 108s - loss: 0.0069 - binary_crossentropy: 0.0069 - val_loss: 0.0078 - val_binary_crossentropy: 0.0078\n",
            "\n",
            "Epoch 00019: val_loss did not improve from 0.00775\n",
            "Epoch 20/50\n",
            "index[5]: Text, Label shapes: (20000,) , (20000, 6635)\n",
            "index[9]: Text, Label shapes: (20000,) , (20000, 6635)\n",
            "index[6]: Text, Label shapes: (20000,) , (20000, 6635)\n",
            "index[4]: Text, Label shapes: (20000,) , (20000, 6635)\n",
            "index[3]: Text, Label shapes: (20000,) , (20000, 6635)\n",
            "index[8]: Text, Label shapes: (20000,) , (20000, 6635)\n",
            "index[1]: Text, Label shapes: (20000,) , (20000, 6635)\n",
            "index[7]: Text, Label shapes: (20000,) , (20000, 6635)\n",
            "index[2]: Text, Label shapes: (20000,) , (20000, 6635)\n",
            "index[0]: Text, Label shapes: (20000,) , (20000, 6635)\n",
            " - 108s - loss: 0.0069 - binary_crossentropy: 0.0069 - val_loss: 0.0078 - val_binary_crossentropy: 0.0078\n",
            "\n",
            "Epoch 00020: val_loss did not improve from 0.00775\n",
            "Epoch 21/50\n",
            "index[8]: Text, Label shapes: (20000,) , (20000, 6635)\n",
            "index[0]: Text, Label shapes: (20000,) , (20000, 6635)\n",
            "index[4]: Text, Label shapes: (20000,) , (20000, 6635)\n",
            "index[3]: Text, Label shapes: (20000,) , (20000, 6635)\n",
            "index[7]: Text, Label shapes: (20000,) , (20000, 6635)\n",
            "index[1]: Text, Label shapes: (20000,) , (20000, 6635)\n",
            "index[2]: Text, Label shapes: (20000,) , (20000, 6635)\n",
            "index[5]: Text, Label shapes: (20000,) , (20000, 6635)\n",
            "index[9]: Text, Label shapes: (20000,) , (20000, 6635)\n",
            "index[6]: Text, Label shapes: (20000,) , (20000, 6635)\n",
            " - 105s - loss: 0.0069 - binary_crossentropy: 0.0069 - val_loss: 0.0078 - val_binary_crossentropy: 0.0078\n",
            "\n",
            "Epoch 00021: val_loss did not improve from 0.00775\n",
            "Epoch 22/50\n",
            "index[8]: Text, Label shapes: (20000,) , (20000, 6635)\n",
            "index[0]: Text, Label shapes: (20000,) , (20000, 6635)\n",
            "index[6]: Text, Label shapes: (20000,) , (20000, 6635)\n",
            "index[3]: Text, Label shapes: (20000,) , (20000, 6635)\n",
            "index[9]: Text, Label shapes: (20000,) , (20000, 6635)\n",
            "index[4]: Text, Label shapes: (20000,) , (20000, 6635)\n",
            "index[2]: Text, Label shapes: (20000,) , (20000, 6635)\n",
            "index[7]: Text, Label shapes: (20000,) , (20000, 6635)\n",
            "index[1]: Text, Label shapes: (20000,) , (20000, 6635)\n",
            "index[5]: Text, Label shapes: (20000,) , (20000, 6635)\n",
            " - 106s - loss: 0.0069 - binary_crossentropy: 0.0069 - val_loss: 0.0078 - val_binary_crossentropy: 0.0078\n",
            "\n",
            "Epoch 00022: val_loss improved from 0.00775 to 0.00775, saving model to /content/gdrive/My Drive/Colab Notebooks/model_transfer-22.h5\n",
            "Epoch 23/50\n",
            "index[3]: Text, Label shapes: (20000,) , (20000, 6635)\n",
            "index[8]: Text, Label shapes: (20000,) , (20000, 6635)\n",
            "index[2]: Text, Label shapes: (20000,) , (20000, 6635)\n",
            "index[9]: Text, Label shapes: (20000,) , (20000, 6635)\n",
            "index[7]: Text, Label shapes: (20000,) , (20000, 6635)\n",
            "index[6]: Text, Label shapes: (20000,) , (20000, 6635)\n",
            "index[0]: Text, Label shapes: (20000,) , (20000, 6635)\n",
            "index[5]: Text, Label shapes: (20000,) , (20000, 6635)\n",
            "index[4]: Text, Label shapes: (20000,) , (20000, 6635)\n",
            "index[1]: Text, Label shapes: (20000,) , (20000, 6635)\n",
            " - 108s - loss: 0.0069 - binary_crossentropy: 0.0069 - val_loss: 0.0078 - val_binary_crossentropy: 0.0078\n",
            "\n",
            "Epoch 00023: val_loss did not improve from 0.00775\n",
            "Epoch 24/50\n",
            "index[5]: Text, Label shapes: (20000,) , (20000, 6635)\n",
            "index[8]: Text, Label shapes: (20000,) , (20000, 6635)\n",
            "index[4]: Text, Label shapes: (20000,) , (20000, 6635)\n",
            "index[2]: Text, Label shapes: (20000,) , (20000, 6635)\n",
            "index[9]: Text, Label shapes: (20000,) , (20000, 6635)\n",
            "index[1]: Text, Label shapes: (20000,) , (20000, 6635)\n",
            "index[6]: Text, Label shapes: (20000,) , (20000, 6635)\n",
            "index[3]: Text, Label shapes: (20000,) , (20000, 6635)\n",
            "index[7]: Text, Label shapes: (20000,) , (20000, 6635)\n",
            "index[0]: Text, Label shapes: (20000,) , (20000, 6635)\n",
            " - 105s - loss: 0.0068 - binary_crossentropy: 0.0068 - val_loss: 0.0078 - val_binary_crossentropy: 0.0078\n",
            "\n",
            "Epoch 00024: val_loss did not improve from 0.00775\n",
            "Epoch 25/50\n",
            "index[4]: Text, Label shapes: (20000,) , (20000, 6635)\n",
            "index[0]: Text, Label shapes: (20000,) , (20000, 6635)\n",
            "index[6]: Text, Label shapes: (20000,) , (20000, 6635)\n",
            "index[8]: Text, Label shapes: (20000,) , (20000, 6635)\n",
            "index[2]: Text, Label shapes: (20000,) , (20000, 6635)\n",
            "index[5]: Text, Label shapes: (20000,) , (20000, 6635)\n",
            "index[9]: Text, Label shapes: (20000,) , (20000, 6635)\n",
            "index[7]: Text, Label shapes: (20000,) , (20000, 6635)\n",
            "index[3]: Text, Label shapes: (20000,) , (20000, 6635)\n",
            "index[1]: Text, Label shapes: (20000,) , (20000, 6635)\n",
            " - 106s - loss: 0.0068 - binary_crossentropy: 0.0068 - val_loss: 0.0078 - val_binary_crossentropy: 0.0078\n",
            "\n",
            "Epoch 00025: val_loss did not improve from 0.00775\n",
            "Epoch 26/50\n",
            "index[8]: Text, Label shapes: (20000,) , (20000, 6635)\n",
            "index[1]: Text, Label shapes: (20000,) , (20000, 6635)\n",
            "index[4]: Text, Label shapes: (20000,) , (20000, 6635)\n",
            "index[7]: Text, Label shapes: (20000,) , (20000, 6635)\n",
            "index[6]: Text, Label shapes: (20000,) , (20000, 6635)\n",
            "index[0]: Text, Label shapes: (20000,) , (20000, 6635)\n",
            "index[9]: Text, Label shapes: (20000,) , (20000, 6635)\n",
            "index[5]: Text, Label shapes: (20000,) , (20000, 6635)\n",
            "index[2]: Text, Label shapes: (20000,) , (20000, 6635)\n",
            "index[3]: Text, Label shapes: (20000,) , (20000, 6635)\n",
            " - 108s - loss: 0.0068 - binary_crossentropy: 0.0068 - val_loss: 0.0078 - val_binary_crossentropy: 0.0078\n",
            "\n",
            "Epoch 00026: val_loss did not improve from 0.00775\n",
            "Epoch 27/50\n",
            "index[9]: Text, Label shapes: (20000,) , (20000, 6635)\n",
            "index[0]: Text, Label shapes: (20000,) , (20000, 6635)\n",
            "index[8]: Text, Label shapes: (20000,) , (20000, 6635)\n",
            "index[7]: Text, Label shapes: (20000,) , (20000, 6635)\n",
            "index[4]: Text, Label shapes: (20000,) , (20000, 6635)\n",
            "index[6]: Text, Label shapes: (20000,) , (20000, 6635)\n",
            "index[1]: Text, Label shapes: (20000,) , (20000, 6635)\n",
            "index[3]: Text, Label shapes: (20000,) , (20000, 6635)\n",
            "index[2]: Text, Label shapes: (20000,) , (20000, 6635)\n",
            "index[5]: Text, Label shapes: (20000,) , (20000, 6635)\n",
            " - 107s - loss: 0.0068 - binary_crossentropy: 0.0068 - val_loss: 0.0078 - val_binary_crossentropy: 0.0078\n",
            "\n",
            "Epoch 00027: val_loss did not improve from 0.00775\n",
            "Epoch 28/50\n",
            "index[8]: Text, Label shapes: (20000,) , (20000, 6635)\n",
            "index[6]: Text, Label shapes: (20000,) , (20000, 6635)\n",
            "index[1]: Text, Label shapes: (20000,) , (20000, 6635)\n",
            "index[0]: Text, Label shapes: (20000,) , (20000, 6635)\n",
            "index[7]: Text, Label shapes: (20000,) , (20000, 6635)\n",
            "index[3]: Text, Label shapes: (20000,) , (20000, 6635)\n",
            "index[4]: Text, Label shapes: (20000,) , (20000, 6635)\n",
            "index[5]: Text, Label shapes: (20000,) , (20000, 6635)\n",
            "index[9]: Text, Label shapes: (20000,) , (20000, 6635)\n",
            "index[2]: Text, Label shapes: (20000,) , (20000, 6635)\n",
            " - 108s - loss: 0.0068 - binary_crossentropy: 0.0068 - val_loss: 0.0078 - val_binary_crossentropy: 0.0078\n",
            "\n",
            "Epoch 00028: val_loss did not improve from 0.00775\n",
            "Epoch 29/50\n",
            "index[9]: Text, Label shapes: (20000,) , (20000, 6635)\n",
            "index[4]: Text, Label shapes: (20000,) , (20000, 6635)\n",
            "index[2]: Text, Label shapes: (20000,) , (20000, 6635)\n",
            "index[0]: Text, Label shapes: (20000,) , (20000, 6635)\n",
            "index[8]: Text, Label shapes: (20000,) , (20000, 6635)\n",
            "index[5]: Text, Label shapes: (20000,) , (20000, 6635)\n",
            "index[7]: Text, Label shapes: (20000,) , (20000, 6635)\n",
            "index[6]: Text, Label shapes: (20000,) , (20000, 6635)\n",
            "index[3]: Text, Label shapes: (20000,) , (20000, 6635)\n",
            "index[1]: Text, Label shapes: (20000,) , (20000, 6635)\n",
            " - 104s - loss: 0.0068 - binary_crossentropy: 0.0068 - val_loss: 0.0078 - val_binary_crossentropy: 0.0078\n",
            "\n",
            "Epoch 00029: val_loss did not improve from 0.00775\n",
            "Epoch 30/50\n",
            "index[0]: Text, Label shapes: (20000,) , (20000, 6635)\n",
            "index[1]: Text, Label shapes: (20000,) , (20000, 6635)\n",
            "index[4]: Text, Label shapes: (20000,) , (20000, 6635)\n",
            "index[6]: Text, Label shapes: (20000,) , (20000, 6635)\n",
            "index[2]: Text, Label shapes: (20000,) , (20000, 6635)\n",
            "index[8]: Text, Label shapes: (20000,) , (20000, 6635)\n",
            "index[7]: Text, Label shapes: (20000,) , (20000, 6635)\n",
            "index[9]: Text, Label shapes: (20000,) , (20000, 6635)\n",
            "index[3]: Text, Label shapes: (20000,) , (20000, 6635)\n",
            "index[5]: Text, Label shapes: (20000,) , (20000, 6635)\n",
            " - 107s - loss: 0.0068 - binary_crossentropy: 0.0068 - val_loss: 0.0078 - val_binary_crossentropy: 0.0078\n",
            "\n",
            "Epoch 00030: val_loss did not improve from 0.00775\n",
            "Epoch 31/50\n",
            "index[5]: Text, Label shapes: (20000,) , (20000, 6635)\n",
            "index[6]: Text, Label shapes: (20000,) , (20000, 6635)\n",
            "index[7]: Text, Label shapes: (20000,) , (20000, 6635)\n",
            "index[4]: Text, Label shapes: (20000,) , (20000, 6635)\n",
            "index[8]: Text, Label shapes: (20000,) , (20000, 6635)\n",
            "index[1]: Text, Label shapes: (20000,) , (20000, 6635)\n",
            "index[9]: Text, Label shapes: (20000,) , (20000, 6635)\n",
            "index[3]: Text, Label shapes: (20000,) , (20000, 6635)\n",
            "index[2]: Text, Label shapes: (20000,) , (20000, 6635)\n",
            "index[0]: Text, Label shapes: (20000,) , (20000, 6635)\n",
            " - 108s - loss: 0.0068 - binary_crossentropy: 0.0068 - val_loss: 0.0078 - val_binary_crossentropy: 0.0078\n",
            "\n",
            "Epoch 00031: val_loss did not improve from 0.00775\n",
            "Epoch 32/50\n",
            "index[9]: Text, Label shapes: (20000,) , (20000, 6635)\n",
            "index[7]: Text, Label shapes: (20000,) , (20000, 6635)\n",
            "index[4]: Text, Label shapes: (20000,) , (20000, 6635)\n",
            "index[2]: Text, Label shapes: (20000,) , (20000, 6635)\n",
            "index[1]: Text, Label shapes: (20000,) , (20000, 6635)\n",
            "index[0]: Text, Label shapes: (20000,) , (20000, 6635)\n",
            "index[3]: Text, Label shapes: (20000,) , (20000, 6635)\n",
            "index[5]: Text, Label shapes: (20000,) , (20000, 6635)\n",
            "index[6]: Text, Label shapes: (20000,) , (20000, 6635)\n",
            "index[8]: Text, Label shapes: (20000,) , (20000, 6635)\n",
            " - 108s - loss: 0.0068 - binary_crossentropy: 0.0068 - val_loss: 0.0078 - val_binary_crossentropy: 0.0078\n",
            "\n",
            "Epoch 00032: val_loss did not improve from 0.00775\n",
            "Epoch 33/50\n",
            "index[1]: Text, Label shapes: (20000,) , (20000, 6635)\n",
            "index[7]: Text, Label shapes: (20000,) , (20000, 6635)\n",
            "index[4]: Text, Label shapes: (20000,) , (20000, 6635)\n",
            "index[8]: Text, Label shapes: (20000,) , (20000, 6635)\n",
            "index[5]: Text, Label shapes: (20000,) , (20000, 6635)\n",
            "index[6]: Text, Label shapes: (20000,) , (20000, 6635)\n",
            "index[9]: Text, Label shapes: (20000,) , (20000, 6635)\n",
            "index[0]: Text, Label shapes: (20000,) , (20000, 6635)\n",
            "index[3]: Text, Label shapes: (20000,) , (20000, 6635)\n",
            "index[2]: Text, Label shapes: (20000,) , (20000, 6635)\n",
            " - 106s - loss: 0.0068 - binary_crossentropy: 0.0068 - val_loss: 0.0078 - val_binary_crossentropy: 0.0078\n",
            "\n",
            "Epoch 00033: val_loss did not improve from 0.00775\n",
            "Epoch 34/50\n",
            "index[2]: Text, Label shapes: (20000,) , (20000, 6635)\n",
            "index[6]: Text, Label shapes: (20000,) , (20000, 6635)\n",
            "index[4]: Text, Label shapes: (20000,) , (20000, 6635)\n",
            "index[7]: Text, Label shapes: (20000,) , (20000, 6635)\n",
            "index[9]: Text, Label shapes: (20000,) , (20000, 6635)\n",
            "index[3]: Text, Label shapes: (20000,) , (20000, 6635)\n",
            "index[1]: Text, Label shapes: (20000,) , (20000, 6635)\n",
            "index[0]: Text, Label shapes: (20000,) , (20000, 6635)\n",
            "index[5]: Text, Label shapes: (20000,) , (20000, 6635)\n",
            "index[8]: Text, Label shapes: (20000,) , (20000, 6635)\n",
            " - 106s - loss: 0.0068 - binary_crossentropy: 0.0068 - val_loss: 0.0078 - val_binary_crossentropy: 0.0078\n",
            "\n",
            "Epoch 00034: val_loss did not improve from 0.00775\n",
            "Epoch 35/50\n",
            "index[3]: Text, Label shapes: (20000,) , (20000, 6635)\n",
            "index[2]: Text, Label shapes: (20000,) , (20000, 6635)\n",
            "index[7]: Text, Label shapes: (20000,) , (20000, 6635)\n",
            "index[1]: Text, Label shapes: (20000,) , (20000, 6635)\n",
            "index[5]: Text, Label shapes: (20000,) , (20000, 6635)\n",
            "index[8]: Text, Label shapes: (20000,) , (20000, 6635)\n",
            "index[0]: Text, Label shapes: (20000,) , (20000, 6635)\n",
            "index[4]: Text, Label shapes: (20000,) , (20000, 6635)\n",
            "index[9]: Text, Label shapes: (20000,) , (20000, 6635)\n",
            "index[6]: Text, Label shapes: (20000,) , (20000, 6635)\n",
            " - 108s - loss: 0.0067 - binary_crossentropy: 0.0067 - val_loss: 0.0078 - val_binary_crossentropy: 0.0078\n",
            "\n",
            "Epoch 00035: val_loss improved from 0.00775 to 0.00775, saving model to /content/gdrive/My Drive/Colab Notebooks/model_transfer-35.h5\n",
            "Epoch 36/50\n",
            "index[8]: Text, Label shapes: (20000,) , (20000, 6635)\n",
            "index[6]: Text, Label shapes: (20000,) , (20000, 6635)\n",
            "index[5]: Text, Label shapes: (20000,) , (20000, 6635)\n",
            "index[3]: Text, Label shapes: (20000,) , (20000, 6635)\n",
            "index[4]: Text, Label shapes: (20000,) , (20000, 6635)\n",
            "index[9]: Text, Label shapes: (20000,) , (20000, 6635)\n",
            "index[7]: Text, Label shapes: (20000,) , (20000, 6635)\n",
            "index[1]: Text, Label shapes: (20000,) , (20000, 6635)\n",
            "index[0]: Text, Label shapes: (20000,) , (20000, 6635)\n",
            "index[2]: Text, Label shapes: (20000,) , (20000, 6635)\n",
            " - 106s - loss: 0.0067 - binary_crossentropy: 0.0067 - val_loss: 0.0077 - val_binary_crossentropy: 0.0077\n",
            "\n",
            "Epoch 00036: val_loss improved from 0.00775 to 0.00773, saving model to /content/gdrive/My Drive/Colab Notebooks/model_transfer-36.h5\n",
            "Epoch 37/50\n",
            "index[8]: Text, Label shapes: (20000,) , (20000, 6635)\n",
            "index[6]: Text, Label shapes: (20000,) , (20000, 6635)\n",
            "index[2]: Text, Label shapes: (20000,) , (20000, 6635)\n",
            "index[7]: Text, Label shapes: (20000,) , (20000, 6635)\n",
            "index[9]: Text, Label shapes: (20000,) , (20000, 6635)\n",
            "index[1]: Text, Label shapes: (20000,) , (20000, 6635)\n",
            "index[5]: Text, Label shapes: (20000,) , (20000, 6635)\n",
            "index[0]: Text, Label shapes: (20000,) , (20000, 6635)\n",
            "index[4]: Text, Label shapes: (20000,) , (20000, 6635)\n",
            "index[3]: Text, Label shapes: (20000,) , (20000, 6635)\n",
            " - 107s - loss: 0.0067 - binary_crossentropy: 0.0067 - val_loss: 0.0078 - val_binary_crossentropy: 0.0078\n",
            "\n",
            "Epoch 00037: val_loss did not improve from 0.00773\n",
            "Epoch 38/50\n",
            "index[1]: Text, Label shapes: (20000,) , (20000, 6635)\n",
            "index[2]: Text, Label shapes: (20000,) , (20000, 6635)\n",
            "index[3]: Text, Label shapes: (20000,) , (20000, 6635)\n",
            "index[8]: Text, Label shapes: (20000,) , (20000, 6635)\n",
            "index[7]: Text, Label shapes: (20000,) , (20000, 6635)\n",
            "index[5]: Text, Label shapes: (20000,) , (20000, 6635)\n",
            "index[0]: Text, Label shapes: (20000,) , (20000, 6635)\n",
            "index[4]: Text, Label shapes: (20000,) , (20000, 6635)\n",
            "index[6]: Text, Label shapes: (20000,) , (20000, 6635)\n",
            "index[9]: Text, Label shapes: (20000,) , (20000, 6635)\n",
            " - 108s - loss: 0.0067 - binary_crossentropy: 0.0067 - val_loss: 0.0078 - val_binary_crossentropy: 0.0078\n",
            "\n",
            "Epoch 00038: val_loss did not improve from 0.00773\n",
            "Epoch 39/50\n",
            "index[8]: Text, Label shapes: (20000,) , (20000, 6635)\n",
            "index[6]: Text, Label shapes: (20000,) , (20000, 6635)\n",
            "index[4]: Text, Label shapes: (20000,) , (20000, 6635)\n",
            "index[5]: Text, Label shapes: (20000,) , (20000, 6635)\n",
            "index[3]: Text, Label shapes: (20000,) , (20000, 6635)\n",
            "index[1]: Text, Label shapes: (20000,) , (20000, 6635)\n",
            "index[9]: Text, Label shapes: (20000,) , (20000, 6635)\n",
            "index[2]: Text, Label shapes: (20000,) , (20000, 6635)\n",
            "index[7]: Text, Label shapes: (20000,) , (20000, 6635)\n",
            "index[0]: Text, Label shapes: (20000,) , (20000, 6635)\n",
            " - 107s - loss: 0.0067 - binary_crossentropy: 0.0067 - val_loss: 0.0077 - val_binary_crossentropy: 0.0077\n",
            "\n",
            "Epoch 00039: val_loss improved from 0.00773 to 0.00772, saving model to /content/gdrive/My Drive/Colab Notebooks/model_transfer-39.h5\n",
            "Epoch 40/50\n",
            "index[4]: Text, Label shapes: (20000,) , (20000, 6635)\n",
            "index[6]: Text, Label shapes: (20000,) , (20000, 6635)\n",
            "index[5]: Text, Label shapes: (20000,) , (20000, 6635)\n",
            "index[3]: Text, Label shapes: (20000,) , (20000, 6635)\n",
            "index[9]: Text, Label shapes: (20000,) , (20000, 6635)\n",
            "index[8]: Text, Label shapes: (20000,) , (20000, 6635)\n",
            "index[1]: Text, Label shapes: (20000,) , (20000, 6635)\n",
            "index[0]: Text, Label shapes: (20000,) , (20000, 6635)\n",
            "index[7]: Text, Label shapes: (20000,) , (20000, 6635)\n",
            "index[2]: Text, Label shapes: (20000,) , (20000, 6635)\n",
            " - 108s - loss: 0.0067 - binary_crossentropy: 0.0067 - val_loss: 0.0077 - val_binary_crossentropy: 0.0077\n",
            "\n",
            "Epoch 00040: val_loss did not improve from 0.00772\n",
            "Epoch 41/50\n",
            "index[4]: Text, Label shapes: (20000,) , (20000, 6635)\n",
            "index[2]: Text, Label shapes: (20000,) , (20000, 6635)\n",
            "index[5]: Text, Label shapes: (20000,) , (20000, 6635)\n",
            "index[6]: Text, Label shapes: (20000,) , (20000, 6635)\n",
            "index[3]: Text, Label shapes: (20000,) , (20000, 6635)\n",
            "index[7]: Text, Label shapes: (20000,) , (20000, 6635)\n",
            "index[9]: Text, Label shapes: (20000,) , (20000, 6635)\n",
            "index[1]: Text, Label shapes: (20000,) , (20000, 6635)\n",
            "index[0]: Text, Label shapes: (20000,) , (20000, 6635)\n",
            "index[8]: Text, Label shapes: (20000,) , (20000, 6635)\n",
            " - 107s - loss: 0.0067 - binary_crossentropy: 0.0067 - val_loss: 0.0077 - val_binary_crossentropy: 0.0077\n",
            "\n",
            "Epoch 00041: val_loss improved from 0.00772 to 0.00770, saving model to /content/gdrive/My Drive/Colab Notebooks/model_transfer-41.h5\n",
            "Epoch 42/50\n",
            "index[1]: Text, Label shapes: (20000,) , (20000, 6635)\n",
            "index[2]: Text, Label shapes: (20000,) , (20000, 6635)\n",
            "index[3]: Text, Label shapes: (20000,) , (20000, 6635)\n",
            "index[0]: Text, Label shapes: (20000,) , (20000, 6635)\n",
            "index[4]: Text, Label shapes: (20000,) , (20000, 6635)\n",
            "index[5]: Text, Label shapes: (20000,) , (20000, 6635)\n",
            "index[9]: Text, Label shapes: (20000,) , (20000, 6635)\n",
            "index[7]: Text, Label shapes: (20000,) , (20000, 6635)\n",
            "index[6]: Text, Label shapes: (20000,) , (20000, 6635)\n",
            "index[8]: Text, Label shapes: (20000,) , (20000, 6635)\n",
            " - 106s - loss: 0.0067 - binary_crossentropy: 0.0067 - val_loss: 0.0077 - val_binary_crossentropy: 0.0077\n",
            "\n",
            "Epoch 00042: val_loss improved from 0.00770 to 0.00769, saving model to /content/gdrive/My Drive/Colab Notebooks/model_transfer-42.h5\n",
            "Epoch 43/50\n",
            "index[4]: Text, Label shapes: (20000,) , (20000, 6635)\n",
            "index[8]: Text, Label shapes: (20000,) , (20000, 6635)\n",
            "index[1]: Text, Label shapes: (20000,) , (20000, 6635)\n",
            "index[6]: Text, Label shapes: (20000,) , (20000, 6635)\n",
            "index[7]: Text, Label shapes: (20000,) , (20000, 6635)\n",
            "index[3]: Text, Label shapes: (20000,) , (20000, 6635)\n",
            "index[2]: Text, Label shapes: (20000,) , (20000, 6635)\n",
            "index[9]: Text, Label shapes: (20000,) , (20000, 6635)\n",
            "index[0]: Text, Label shapes: (20000,) , (20000, 6635)\n",
            "index[5]: Text, Label shapes: (20000,) , (20000, 6635)\n",
            " - 107s - loss: 0.0066 - binary_crossentropy: 0.0066 - val_loss: 0.0077 - val_binary_crossentropy: 0.0077\n",
            "\n",
            "Epoch 00043: val_loss improved from 0.00769 to 0.00766, saving model to /content/gdrive/My Drive/Colab Notebooks/model_transfer-43.h5\n",
            "Epoch 44/50\n",
            "index[6]: Text, Label shapes: (20000,) , (20000, 6635)\n",
            "index[4]: Text, Label shapes: (20000,) , (20000, 6635)\n",
            "index[8]: Text, Label shapes: (20000,) , (20000, 6635)\n",
            "index[3]: Text, Label shapes: (20000,) , (20000, 6635)\n",
            "index[7]: Text, Label shapes: (20000,) , (20000, 6635)\n",
            "index[0]: Text, Label shapes: (20000,) , (20000, 6635)\n",
            "index[2]: Text, Label shapes: (20000,) , (20000, 6635)\n",
            "index[1]: Text, Label shapes: (20000,) , (20000, 6635)\n",
            "index[9]: Text, Label shapes: (20000,) , (20000, 6635)\n",
            "index[5]: Text, Label shapes: (20000,) , (20000, 6635)\n",
            " - 106s - loss: 0.0066 - binary_crossentropy: 0.0066 - val_loss: 0.0076 - val_binary_crossentropy: 0.0076\n",
            "\n",
            "Epoch 00044: val_loss improved from 0.00766 to 0.00763, saving model to /content/gdrive/My Drive/Colab Notebooks/model_transfer-44.h5\n",
            "Epoch 45/50\n",
            "index[9]: Text, Label shapes: (20000,) , (20000, 6635)\n",
            "index[5]: Text, Label shapes: (20000,) , (20000, 6635)\n",
            "index[6]: Text, Label shapes: (20000,) , (20000, 6635)\n",
            "index[1]: Text, Label shapes: (20000,) , (20000, 6635)\n",
            "index[0]: Text, Label shapes: (20000,) , (20000, 6635)\n",
            "index[4]: Text, Label shapes: (20000,) , (20000, 6635)\n",
            "index[2]: Text, Label shapes: (20000,) , (20000, 6635)\n",
            "index[7]: Text, Label shapes: (20000,) , (20000, 6635)\n",
            "index[8]: Text, Label shapes: (20000,) , (20000, 6635)\n",
            "index[3]: Text, Label shapes: (20000,) , (20000, 6635)\n",
            " - 106s - loss: 0.0066 - binary_crossentropy: 0.0066 - val_loss: 0.0076 - val_binary_crossentropy: 0.0076\n",
            "\n",
            "Epoch 00045: val_loss improved from 0.00763 to 0.00760, saving model to /content/gdrive/My Drive/Colab Notebooks/model_transfer-45.h5\n",
            "Epoch 46/50\n",
            "index[0]: Text, Label shapes: (20000,) , (20000, 6635)\n",
            "index[7]: Text, Label shapes: (20000,) , (20000, 6635)\n",
            "index[3]: Text, Label shapes: (20000,) , (20000, 6635)\n",
            "index[8]: Text, Label shapes: (20000,) , (20000, 6635)\n",
            "index[9]: Text, Label shapes: (20000,) , (20000, 6635)\n",
            "index[6]: Text, Label shapes: (20000,) , (20000, 6635)\n",
            "index[5]: Text, Label shapes: (20000,) , (20000, 6635)\n",
            "index[2]: Text, Label shapes: (20000,) , (20000, 6635)\n",
            "index[1]: Text, Label shapes: (20000,) , (20000, 6635)\n",
            "index[4]: Text, Label shapes: (20000,) , (20000, 6635)\n",
            " - 108s - loss: 0.0066 - binary_crossentropy: 0.0066 - val_loss: 0.0076 - val_binary_crossentropy: 0.0076\n",
            "\n",
            "Epoch 00046: val_loss improved from 0.00760 to 0.00759, saving model to /content/gdrive/My Drive/Colab Notebooks/model_transfer-46.h5\n",
            "Epoch 47/50\n",
            "index[1]: Text, Label shapes: (20000,) , (20000, 6635)\n",
            "index[4]: Text, Label shapes: (20000,) , (20000, 6635)\n",
            "index[7]: Text, Label shapes: (20000,) , (20000, 6635)\n",
            "index[6]: Text, Label shapes: (20000,) , (20000, 6635)\n",
            "index[5]: Text, Label shapes: (20000,) , (20000, 6635)\n",
            "index[2]: Text, Label shapes: (20000,) , (20000, 6635)\n",
            "index[3]: Text, Label shapes: (20000,) , (20000, 6635)\n",
            "index[0]: Text, Label shapes: (20000,) , (20000, 6635)\n",
            "index[9]: Text, Label shapes: (20000,) , (20000, 6635)\n",
            "index[8]: Text, Label shapes: (20000,) , (20000, 6635)\n",
            " - 107s - loss: 0.0066 - binary_crossentropy: 0.0066 - val_loss: 0.0076 - val_binary_crossentropy: 0.0076\n",
            "\n",
            "Epoch 00047: val_loss improved from 0.00759 to 0.00757, saving model to /content/gdrive/My Drive/Colab Notebooks/model_transfer-47.h5\n",
            "Epoch 48/50\n",
            "index[1]: Text, Label shapes: (20000,) , (20000, 6635)\n",
            "index[2]: Text, Label shapes: (20000,) , (20000, 6635)\n",
            "index[6]: Text, Label shapes: (20000,) , (20000, 6635)\n",
            "index[9]: Text, Label shapes: (20000,) , (20000, 6635)\n",
            "index[8]: Text, Label shapes: (20000,) , (20000, 6635)\n",
            "index[7]: Text, Label shapes: (20000,) , (20000, 6635)\n",
            "index[0]: Text, Label shapes: (20000,) , (20000, 6635)\n",
            "index[5]: Text, Label shapes: (20000,) , (20000, 6635)\n",
            "index[4]: Text, Label shapes: (20000,) , (20000, 6635)\n",
            "index[3]: Text, Label shapes: (20000,) , (20000, 6635)\n",
            " - 106s - loss: 0.0066 - binary_crossentropy: 0.0066 - val_loss: 0.0076 - val_binary_crossentropy: 0.0076\n",
            "\n",
            "Epoch 00048: val_loss improved from 0.00757 to 0.00756, saving model to /content/gdrive/My Drive/Colab Notebooks/model_transfer-48.h5\n",
            "Epoch 49/50\n",
            "index[7]: Text, Label shapes: (20000,) , (20000, 6635)\n",
            "index[2]: Text, Label shapes: (20000,) , (20000, 6635)\n",
            "index[8]: Text, Label shapes: (20000,) , (20000, 6635)\n",
            "index[1]: Text, Label shapes: (20000,) , (20000, 6635)\n",
            "index[3]: Text, Label shapes: (20000,) , (20000, 6635)\n",
            "index[0]: Text, Label shapes: (20000,) , (20000, 6635)\n",
            "index[4]: Text, Label shapes: (20000,) , (20000, 6635)\n",
            "index[9]: Text, Label shapes: (20000,) , (20000, 6635)\n",
            "index[6]: Text, Label shapes: (20000,) , (20000, 6635)\n",
            "index[5]: Text, Label shapes: (20000,) , (20000, 6635)\n",
            " - 108s - loss: 0.0065 - binary_crossentropy: 0.0065 - val_loss: 0.0076 - val_binary_crossentropy: 0.0076\n",
            "\n",
            "Epoch 00049: val_loss improved from 0.00756 to 0.00755, saving model to /content/gdrive/My Drive/Colab Notebooks/model_transfer-49.h5\n",
            "Epoch 50/50\n",
            "index[1]: Text, Label shapes: (20000,) , (20000, 6635)\n",
            "index[0]: Text, Label shapes: (20000,) , (20000, 6635)\n",
            "index[8]: Text, Label shapes: (20000,) , (20000, 6635)\n",
            "index[7]: Text, Label shapes: (20000,) , (20000, 6635)\n",
            "index[5]: Text, Label shapes: (20000,) , (20000, 6635)\n",
            "index[6]: Text, Label shapes: (20000,) , (20000, 6635)\n",
            "index[4]: Text, Label shapes: (20000,) , (20000, 6635)\n",
            "index[9]: Text, Label shapes: (20000,) , (20000, 6635)\n",
            "index[2]: Text, Label shapes: (20000,) , (20000, 6635)\n",
            "index[3]: Text, Label shapes: (20000,) , (20000, 6635)\n",
            " - 106s - loss: 0.0065 - binary_crossentropy: 0.0065 - val_loss: 0.0075 - val_binary_crossentropy: 0.0075\n",
            "\n",
            "Epoch 00050: val_loss improved from 0.00755 to 0.00752, saving model to /content/gdrive/My Drive/Colab Notebooks/model_transfer-50.h5\n"
          ],
          "name": "stdout"
        }
      ]
    },
    {
      "metadata": {
        "colab_type": "code",
        "id": "UW1CiBhnXnxa",
        "colab": {
          "base_uri": "https://localhost:8080/",
          "height": 34
        },
        "outputId": "fe3978b3-cc79-48ac-ef65-7c92f0339763"
      },
      "cell_type": "code",
      "source": [
        "!ls -alh | grep model_transfer.h5\n",
        "#!ls /content/gdrive/'My Drive'/'Colab Notebooks'\n",
        "\n",
        "!cp model_transfer.h5 /content/gdrive/My\\ Drive/Colab\\ Notebooks/model_transfer.h5"
      ],
      "execution_count": 12,
      "outputs": [
        {
          "output_type": "stream",
          "text": [
            "-rw-r--r-- 1 root root  62M Dec  4 08:13 model_transfer.h5\n"
          ],
          "name": "stdout"
        }
      ]
    },
    {
      "metadata": {
        "id": "EAmr2oxhyo1D",
        "colab_type": "code",
        "colab": {
          "base_uri": "https://localhost:8080/",
          "height": 376
        },
        "outputId": "5c58f196-9c80-470c-e11d-c4cf8d230a99"
      },
      "cell_type": "code",
      "source": [
        "if history != None:\n",
        "  # summarize history for accuracy\n",
        "  plt.plot(history.history['loss'])\n",
        "  plt.plot(history.history['val_loss'])\n",
        "  plt.title('model loss')\n",
        "  plt.ylabel('loss')\n",
        "  plt.xlabel('epoch')\n",
        "  plt.legend(['train', 'test'], loc='upper left')\n",
        "  plt.show()"
      ],
      "execution_count": 13,
      "outputs": [
        {
          "output_type": "display_data",
          "data": {
            "image/png": "[encoded data removed]",
            "text/plain": [
              "<matplotlib.figure.Figure at 0x7fe4f28fcf28>"
            ]
          },
          "metadata": {
            "tags": []
          }
        }
      ]
    },
    {
      "metadata": {
        "id": "OWoyYNWgyqS5",
        "colab_type": "code",
        "colab": {
          "base_uri": "https://localhost:8080/",
          "height": 376
        },
        "outputId": "51451391-c62d-47ba-d40f-909c68540c7e"
      },
      "cell_type": "code",
      "source": [
        "if history != None:\n",
        "  # summarize history for accuracy\n",
        "  plt.plot(history.history['binary_crossentropy'])\n",
        "  plt.plot(history.history['val_binary_crossentropy'])\n",
        "  plt.title('model accuracy')\n",
        "  plt.ylabel('accuracy')\n",
        "  plt.xlabel('epoch')\n",
        "  plt.legend(['train', 'test'], loc='upper left')\n",
        "  plt.show()"
      ],
      "execution_count": 14,
      "outputs": [
        {
          "output_type": "display_data",
          "data": {
            "image/png": "[encoded data removed]",
            "text/plain": [
              "<matplotlib.figure.Figure at 0x7fe4f28fce10>"
            ]
          },
          "metadata": {
            "tags": []
          }
        }
      ]
    },
    {
      "metadata": {
        "colab_type": "text",
        "id": "nQux6qLdXabG"
      },
      "cell_type": "markdown",
      "source": [
        "## Make predictions"
      ]
    },
    {
      "metadata": {
        "id": "TGZ91kZah3pa",
        "colab_type": "code",
        "colab": {}
      },
      "cell_type": "code",
      "source": [
        "decoder = decodesyllables.Decoder(cmudict.CMUDict())\n",
        "lm = languagemodel.SyllableModel()\n",
        "lm.loadModel()\n"
      ],
      "execution_count": 0,
      "outputs": []
    },
    {
      "metadata": {
        "colab_type": "code",
        "id": "fSDxetlfUEiD",
        "colab": {
          "base_uri": "https://localhost:8080/",
          "height": 197
        },
        "outputId": "04b0c734-d414-4e65-d4b4-3a8ed129eb61"
      },
      "cell_type": "code",
      "source": [
        "history = None\n",
        "#new_text = np.array(new_text, dtype=object)[:, np.newaxis]\n",
        "with tf.Session() as session:\n",
        "  K.set_session(session)\n",
        "  session.run(tf.global_variables_initializer())\n",
        "  session.run(tf.tables_initializer())\n",
        "  model.load_weights('./model_transfer.h5')  \n",
        "  predicts = model.predict(test_text_d, batch_size=32)\n"
      ],
      "execution_count": 16,
      "outputs": [
        {
          "output_type": "error",
          "ename": "NameError",
          "evalue": "ignored",
          "traceback": [
            "\u001b[0;31m---------------------------------------------------------------------------\u001b[0m",
            "\u001b[0;31mNameError\u001b[0m                                 Traceback (most recent call last)",
            "\u001b[0;32m<ipython-input-16-7dd003bacc30>\u001b[0m in \u001b[0;36m<module>\u001b[0;34m()\u001b[0m\n\u001b[1;32m      6\u001b[0m   \u001b[0msession\u001b[0m\u001b[0;34m.\u001b[0m\u001b[0mrun\u001b[0m\u001b[0;34m(\u001b[0m\u001b[0mtf\u001b[0m\u001b[0;34m.\u001b[0m\u001b[0mtables_initializer\u001b[0m\u001b[0;34m(\u001b[0m\u001b[0;34m)\u001b[0m\u001b[0;34m)\u001b[0m\u001b[0;34m\u001b[0m\u001b[0;34m\u001b[0m\u001b[0m\n\u001b[1;32m      7\u001b[0m   \u001b[0mmodel\u001b[0m\u001b[0;34m.\u001b[0m\u001b[0mload_weights\u001b[0m\u001b[0;34m(\u001b[0m\u001b[0;34m'./model_transfer.h5'\u001b[0m\u001b[0;34m)\u001b[0m\u001b[0;34m\u001b[0m\u001b[0;34m\u001b[0m\u001b[0m\n\u001b[0;32m----> 8\u001b[0;31m   \u001b[0mpredicts\u001b[0m \u001b[0;34m=\u001b[0m \u001b[0mmodel\u001b[0m\u001b[0;34m.\u001b[0m\u001b[0mpredict\u001b[0m\u001b[0;34m(\u001b[0m\u001b[0mtest_text_d\u001b[0m\u001b[0;34m,\u001b[0m \u001b[0mbatch_size\u001b[0m\u001b[0;34m=\u001b[0m\u001b[0;36m32\u001b[0m\u001b[0;34m)\u001b[0m\u001b[0;34m\u001b[0m\u001b[0;34m\u001b[0m\u001b[0m\n\u001b[0m",
            "\u001b[0;31mNameError\u001b[0m: name 'test_text_d' is not defined"
          ]
        }
      ]
    },
    {
      "metadata": {
        "id": "trZyvUKUM8rb",
        "colab_type": "code",
        "colab": {}
      },
      "cell_type": "code",
      "source": [
        "max_variants = 50\n",
        "max_predicts = 50\n",
        "num_tests = min(max_predicts, len(predicts[0]))\n",
        "for i in range(num_symbols):\n",
        "  predicts[i] = predicts[i][0:num_tests]\n"
      ],
      "execution_count": 0,
      "outputs": []
    },
    {
      "metadata": {
        "id": "BqNHah3blAiF",
        "colab_type": "code",
        "colab": {}
      },
      "cell_type": "code",
      "source": [
        "# Count # of probs > 0.5\n",
        "sum = {5:0, 4:0, 3:0, 2:0, 1:0}\n",
        "count = 0\n",
        "for v in np.nditer(np.reshape(predicts, len(predicts)*len(predicts[0])*len(predicts[0][0]))):\n",
        "    count += 1\n",
        "    if v > 0.5:\n",
        "        sum[5] += 1\n",
        "    if v > 0.4:\n",
        "        sum[4] += 1\n",
        "    if v > 0.3:\n",
        "        sum[3] += 1\n",
        "    if v > 0.2:\n",
        "        sum[2] += 1\n",
        "    if v > 0.1:\n",
        "        sum[1] += 1\n",
        "print(\"{} out of {} active values\".format(sum, count))"
      ],
      "execution_count": 0,
      "outputs": []
    },
    {
      "metadata": {
        "id": "kcjSndW8KX0d",
        "colab_type": "code",
        "colab": {}
      },
      "cell_type": "code",
      "source": [
        "for j in range(num_tests):\n",
        "  print(\"Predicting sentence: \" + test_text[j])\n",
        "  data = [[]] * num_symbols\n",
        "  for i in range(num_symbols):\n",
        "    data[i] = predicts[i][j]\n",
        "  #beams = word_beam_search_decoder(data, max_variants, lm)\n",
        "  beams = beam_search_decoder(data, max_variants, minProb=0.01)\n",
        "  #print(\"Beam[0]: {}\".format(beams[0]))\n",
        "  beams.reverse()\n",
        "  #print(\"Beams shape: {}\".format(np.array(beams).shape))\n",
        "  for k in range(0, 10):\n",
        "    if k >= len(beams):\n",
        "        break\n",
        "    #    if k == 0:\n",
        "    #        print(\"Score[{0}]: {1} \".format(k, beams[k][1]))\n",
        "    #print(\"Indexes[{0}]: {1}\".format(k, beams[k][0]))\n",
        "    syll_set = [''] * num_symbols\n",
        "    for i in range(num_symbols):\n",
        "      syll_set[i] = syll_mgr.get_syllable(beams[k][0][i])\n",
        "    #print(\"Syllables: {}\".format(syll_set))\n",
        "    count = 0\n",
        "    for s in decoder.decode_sentence(syll_set):\n",
        "      print(s)\n",
        "      count += 1\n",
        "      if count == 4:\n",
        "        break\n",
        " "
      ],
      "execution_count": 0,
      "outputs": []
    },
    {
      "metadata": {
        "colab_type": "code",
        "id": "yyDGVtigW57f",
        "colab": {}
      },
      "cell_type": "code",
      "source": [
        "junk don't run"
      ],
      "execution_count": 0,
      "outputs": []
    },
    {
      "metadata": {
        "colab_type": "code",
        "id": "hYhmukbSKpnp",
        "colab": {}
      },
      "cell_type": "code",
      "source": [
        "\n",
        "os.remove('./model_transfer.h5')"
      ],
      "execution_count": 0,
      "outputs": []
    }
  ]
}