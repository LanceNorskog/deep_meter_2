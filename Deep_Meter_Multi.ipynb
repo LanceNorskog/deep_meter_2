{
  "nbformat": 4,
  "nbformat_minor": 0,
  "metadata": {
    "colab": {
      "name": "Deep_Meter_Multi.ipynb",
      "version": "0.3.2",
      "provenance": [],
      "collapsed_sections": []
    },
    "kernelspec": {
      "display_name": "Python 3",
      "language": "python",
      "name": "python3"
    },
    "accelerator": "GPU"
  },
  "cells": [
    {
      "metadata": {
        "colab_type": "text",
        "id": "co7MV6sX7Xto"
      },
      "cell_type": "markdown",
      "source": [
        "# [Keras + Universal Sentence Encoder = Deep Meter] (https://www.dlology.com/blog/keras-meets-universal-sentence-encoder-transfer-learning-for-text-data/) "
      ]
    },
    {
      "metadata": {
        "colab_type": "text",
        "id": "eAVQGidpL8v5"
      },
      "cell_type": "markdown",
      "source": [
        "This notebook creates an autoencoder using the Universal Sentence Encoder. The autoencoder output is CMUdict syllables. The dataset is that subset of Allison Parrish's Project Gutenberg poetry archive which happens to scan in iambic pentameter.\n",
        "\n",
        "The notebook is based on Chengwei Zhang's example of wrapping the USE inside a larger tensorflow model saves to a Keras model (without save the USE itself in the TF model).\n",
        "\n",
        "The Universal Sentence Encoder makes getting sentence level embeddings as easy as it has historically been to lookup the embeddings for individual words. The sentence embeddings can then be trivially used to compute sentence level meaning similarity as well as to enable better performance on downstream classification tasks using less supervised training data.\n",
        "\n",
        "Since there are 10 one-hot values for 10 sets of 6k syllables, this is \"multi-label classification\"\n",
        "Changes for multi-label classification:\n",
        "sigmoid activation instead of softmax\n",
        "binary_crossentropy\n",
        "\n",
        "Text format is tab-separated, 2 columns: first text, second multi-level\n",
        "array of syllables:\n",
        "\n",
        "Multi-output version"
      ]
    },
    {
      "metadata": {
        "colab_type": "text",
        "id": "pOTzp8O36CyQ"
      },
      "cell_type": "markdown",
      "source": [
        "# Getting Started\n",
        "\n",
        "This section sets up the environment for access to the Universal Sentence Encoder on TF Hub and provides examples of applying the encoder to words, sentences, and paragraphs."
      ]
    },
    {
      "metadata": {
        "colab_type": "code",
        "id": "lVjNK8shFKOC",
        "outputId": "4a4260a8-555c-4397-c220-4e4a917a90dd",
        "colab": {
          "base_uri": "https://localhost:8080/",
          "height": 104
        }
      },
      "cell_type": "code",
      "source": [
        "# Install the latest Tensorflow version.\n",
        "#!pip3 install --quiet \"tensorflow>=1.7\"\n",
        "# Install TF-Hub.\n",
        "#!pip3 install --quiet tensorflow-hub\n",
        "#%cd /content\n",
        "!git clone https://github.com/LanceNorskog/deep_meter || true\n",
        "%cd /content/deep_meter\n",
        "!git pull\n",
        "# could not figure out how to read gzipped files as text!\n",
        "!gunzip -qf blobs/*.gz || true\n",
        "!gunzip -qf prepped_data/*.gz || true"
      ],
      "execution_count": 1,
      "outputs": [
        {
          "output_type": "stream",
          "text": [
            "fatal: destination path 'deep_meter' already exists and is not an empty directory.\n",
            "/content/deep_meter\n",
            "Already up to date.\n",
            "gzip: blobs/*.gz: No such file or directory\n",
            "gzip: prepped_data/*.gz: No such file or directory\n"
          ],
          "name": "stdout"
        }
      ]
    },
    {
      "metadata": {
        "colab_type": "code",
        "id": "MSeY-MUQo2Ha",
        "colab": {
          "base_uri": "https://localhost:8080/",
          "height": 34
        },
        "outputId": "d1116dac-ceae-4809-e791-0bfb02bc60b0"
      },
      "cell_type": "code",
      "source": [
        "# boilerplate from base notebook\n",
        "import tensorflow as tf\n",
        "import tensorflow_hub as hub\n",
        "import matplotlib.pyplot as plt\n",
        "import numpy as np\n",
        "import os\n",
        "import pandas as pd\n",
        "import re\n",
        "import seaborn as sns\n",
        "import keras.layers as layers\n",
        "from keras.models import Model\n",
        "from keras import backend as K\n",
        "from keras.callbacks import EarlyStopping, ModelCheckpoint\n",
        "from tensorflow.keras.optimizers import Nadam, Adam\n",
        "np.random.seed(10)"
      ],
      "execution_count": 2,
      "outputs": [
        {
          "output_type": "stream",
          "text": [
            "Using TensorFlow backend.\n"
          ],
          "name": "stderr"
        }
      ]
    },
    {
      "metadata": {
        "colab_type": "code",
        "id": "feBc_8Y-pt6F",
        "colab": {}
      },
      "cell_type": "code",
      "source": [
        "# github deep_meter code\n",
        "import utils\n",
        "# should not need this to use utils.flatten but is true anyway?\n",
        "from itertools import chain\n",
        "import subprocess\n",
        "import syllables\n",
        "# misc for this notebook\n",
        "from ast import literal_eval\n",
        "\n",
        "import scipy\n",
        "\n"
      ],
      "execution_count": 0,
      "outputs": []
    },
    {
      "metadata": {
        "colab_type": "code",
        "id": "zwty8Z6mAkdV",
        "colab": {}
      },
      "cell_type": "code",
      "source": [
        "module_url = \"https://tfhub.dev/google/universal-sentence-encoder-large/3\" #@param [\"https://tfhub.dev/google/universal-sentence-encoder/2\", \"https://tfhub.dev/google/universal-sentence-encoder-large/3\"]"
      ],
      "execution_count": 0,
      "outputs": []
    },
    {
      "metadata": {
        "colab_type": "code",
        "id": "Q8F4LNGFqOiq",
        "colab": {}
      },
      "cell_type": "code",
      "source": [
        "# Import the Universal Sentence Encoder's TF Hub module\n",
        "#embed = hub.Module(module_url)\n",
        "#embed_size = embed.get_output_info_dict()['default'].get_shape()[1].value"
      ],
      "execution_count": 0,
      "outputs": []
    },
    {
      "metadata": {
        "colab_type": "code",
        "id": "FwAQNy1eMDkQ",
        "colab": {}
      },
      "cell_type": "code",
      "source": [
        "# read classified poetry lines: text tab [['syll', 'la', 'ble'], ...]\n",
        "# clip to only most common syllables with syllable manager\n",
        "# ['words', ...], [[[0,0,1,0], ...]]\n",
        "def get_data(filename, syll_mgr, num_symbols):\n",
        "    num_syllables = syll_mgr.get_size()      \n",
        "    lines = open(filename, 'r').read().splitlines()\n",
        "    num_lines = len(lines)\n",
        "    #num_lines = 4200\n",
        "    text_lines = []\n",
        "    text_sylls = []\n",
        "    for i in range(0, num_lines):\n",
        "      parts = lines[i].split(\"\\t\")\n",
        "      label = utils.flatten(literal_eval(parts[1]))\n",
        "      if len(label) == num_symbols:\n",
        "        text_lines.append(str(parts[0]))\n",
        "        text_sylls.append(label)\n",
        "    num_lines = len(text_lines)\n",
        "    label_array = np.zeros((num_symbols, num_lines, num_syllables), dtype=np.int8)\n",
        "    for i in range(0, num_lines):\n",
        "      for j in range(num_symbols):\n",
        "        label_array[j][i][syll_mgr.get_encoding(text_sylls[i][j])] = 1\n",
        "\n",
        "    return (text_lines, label_array)\n"
      ],
      "execution_count": 0,
      "outputs": []
    },
    {
      "metadata": {
        "colab_type": "code",
        "id": "3HAtd4X5DayF",
        "colab": {}
      },
      "cell_type": "code",
      "source": [
        "# syllables in descending order of occurrence - 6k in gutenberg.iambic_pentameter, 15k total\n",
        "# clamp to most common 100 syllables while debugging- use NCE to get all syllables or interesting number\n",
        "# 98 + pause + wildcard\n",
        "# iambic pentameter\n",
        "num_symbols = 10\n",
        "#syll_mgr = syllables.syllables(num_syllables)\n",
        "syll_mgr = syllables.syllables()\n",
        "num_syllables = syll_mgr.get_size() \n",
        "\n"
      ],
      "execution_count": 0,
      "outputs": []
    },
    {
      "metadata": {
        "id": "5s7nAFdswrFN",
        "colab_type": "code",
        "colab": {}
      },
      "cell_type": "code",
      "source": [
        ""
      ],
      "execution_count": 0,
      "outputs": []
    },
    {
      "metadata": {
        "colab_type": "code",
        "id": "eN9aqig-QpDZ",
        "outputId": "4439d985-51dc-4653-a3a6-35f64c3eb66e",
        "colab": {
          "base_uri": "https://localhost:8080/",
          "height": 86
        }
      },
      "cell_type": "code",
      "source": [
        "(train_text, train_label) = get_data('prepped_data/gutenberg.iambic_pentameter.train', syll_mgr, num_symbols)\n",
        "num_training = len(train_text)\n",
        "#train_text = train_text[0:100]\n",
        "#train_label = train_label[0:100]\n",
        "\n",
        "(test_text, test_label) = get_data('prepped_data/gutenberg.iambic_pentameter.test', syll_mgr, num_symbols)\n",
        "#test_text = test_text[0:100]\n",
        "#test_label = test_label[0:100]\n",
        "\n",
        "num_testing = len(test_text)\n",
        "print(len(train_text))\n",
        "print(len(test_text))\n",
        "print(train_label.shape)\n",
        "print(test_label.shape)"
      ],
      "execution_count": 24,
      "outputs": [
        {
          "output_type": "stream",
          "text": [
            "3975\n",
            "3943\n",
            "(10, 3975, 6635)\n",
            "(10, 3943, 6635)\n"
          ],
          "name": "stdout"
        }
      ]
    },
    {
      "metadata": {
        "colab_type": "text",
        "id": "Sf9A4Xl6J7c6"
      },
      "cell_type": "markdown",
      "source": [
        "## Embed training & test text"
      ]
    },
    {
      "metadata": {
        "id": "mbJCx9vzwrF9",
        "colab_type": "code",
        "colab": {
          "base_uri": "https://localhost:8080/",
          "height": 86
        },
        "outputId": "0ea59628-2b4f-4cfe-8514-6d639e257d49"
      },
      "cell_type": "code",
      "source": [
        "# Import the Universal Sentence Encoder's TF Hub module\n",
        "embed = hub.Module(module_url)\n",
        "# important?\n",
        "embed_size = embed.get_output_info_dict()['default'].get_shape()[1].value\n",
        "\n",
        "# Reduce logging output.\n",
        "tf.logging.set_verbosity(tf.logging.ERROR)\n",
        "print(type(train_text))\n",
        "#train_text_t = tf.convert_to_tensor(train_text, dtype='string', name='training_text')\n",
        "with tf.Session() as session:\n",
        "  session.run([tf.global_variables_initializer(), tf.tables_initializer()])\n",
        "  train_embeddings = session.run(embed(train_text))\n",
        "  test_embeddings = session.run(embed(test_text))\n",
        "train_text_d = np.array(train_embeddings)\n",
        "test_text_d = np.array(test_embeddings)\n",
        "print(train_text_d.shape)\n",
        "print(test_text_d.shape)\n",
        "# conserve space\n",
        "embed = None\n",
        "train_text = None\n",
        "train_embeddings = None"
      ],
      "execution_count": 25,
      "outputs": [
        {
          "output_type": "stream",
          "text": [
            "<class 'list'>\n",
            "[ 0.05363204  0.07069162 -0.00749868]\n",
            "(3975, 512)\n",
            "(3943, 512)\n"
          ],
          "name": "stdout"
        }
      ]
    },
    {
      "metadata": {
        "colab_type": "code",
        "id": "-mQUV_7dIm-9",
        "colab": {
          "base_uri": "https://localhost:8080/",
          "height": 34
        },
        "outputId": "90316dee-152e-4887-8dd0-d3e909e271cf"
      },
      "cell_type": "code",
      "source": [
        "print(test_text_d.shape)\n",
        "# slow\n",
        "num_epochs = 40\n",
        "adam_0001 = Adam(0.0001)\n",
        "adam_0001 = tf.contrib.opt.NadamOptimizer(0.0001)"
      ],
      "execution_count": 26,
      "outputs": [
        {
          "output_type": "stream",
          "text": [
            "(3943, 512)\n"
          ],
          "name": "stdout"
        }
      ]
    },
    {
      "metadata": {
        "colab_type": "text",
        "id": "qX2rBOuxDP1m"
      },
      "cell_type": "markdown",
      "source": [
        "## Assemble model"
      ]
    },
    {
      "metadata": {
        "colab_type": "code",
        "id": "t3fllZkVjXKV",
        "outputId": "549ed053-2850-4b2b-9481-bd75bd51f0a5",
        "colab": {
          "base_uri": "https://localhost:8080/",
          "height": 590
        }
      },
      "cell_type": "code",
      "source": [
        "input_embeddings = layers.Input(shape=(512,), dtype=tf.float32, name='Input')\n",
        "dropout_input = layers.Dropout(0.2)(input_embeddings)\n",
        "dense = layers.Dense(768, activation='relu', name='Convoluted')(dropout_input)\n",
        "pred_array = []\n",
        "loss_array = []\n",
        "names_array = []\n",
        "for i in range(num_symbols):\n",
        "  name = 'Flatout'+str(i)\n",
        "  pred_array.append(layers.Dense(num_syllables, activation='softmax', name=name)(dense))\n",
        "  loss_array.append('categorical_crossentropy')\n",
        "  names_array.append(name)\n",
        "model = Model(inputs=input_embeddings, outputs=pred_array)\n",
        "model.compile(loss=loss_array, \n",
        "              optimizer=adam_0001, \n",
        "              metrics=['categorical_accuracy'])\n",
        "model.summary()"
      ],
      "execution_count": 27,
      "outputs": [
        {
          "output_type": "stream",
          "text": [
            "__________________________________________________________________________________________________\n",
            "Layer (type)                    Output Shape         Param #     Connected to                     \n",
            "==================================================================================================\n",
            "Input (InputLayer)              (None, 512)          0                                            \n",
            "__________________________________________________________________________________________________\n",
            "dropout_2 (Dropout)             (None, 512)          0           Input[0][0]                      \n",
            "__________________________________________________________________________________________________\n",
            "Convoluted (Dense)              (None, 768)          393984      dropout_2[0][0]                  \n",
            "__________________________________________________________________________________________________\n",
            "Flatout0 (Dense)                (None, 6635)         5102315     Convoluted[0][0]                 \n",
            "__________________________________________________________________________________________________\n",
            "Flatout1 (Dense)                (None, 6635)         5102315     Convoluted[0][0]                 \n",
            "__________________________________________________________________________________________________\n",
            "Flatout2 (Dense)                (None, 6635)         5102315     Convoluted[0][0]                 \n",
            "__________________________________________________________________________________________________\n",
            "Flatout3 (Dense)                (None, 6635)         5102315     Convoluted[0][0]                 \n",
            "__________________________________________________________________________________________________\n",
            "Flatout4 (Dense)                (None, 6635)         5102315     Convoluted[0][0]                 \n",
            "__________________________________________________________________________________________________\n",
            "Flatout5 (Dense)                (None, 6635)         5102315     Convoluted[0][0]                 \n",
            "__________________________________________________________________________________________________\n",
            "Flatout6 (Dense)                (None, 6635)         5102315     Convoluted[0][0]                 \n",
            "__________________________________________________________________________________________________\n",
            "Flatout7 (Dense)                (None, 6635)         5102315     Convoluted[0][0]                 \n",
            "__________________________________________________________________________________________________\n",
            "Flatout8 (Dense)                (None, 6635)         5102315     Convoluted[0][0]                 \n",
            "__________________________________________________________________________________________________\n",
            "Flatout9 (Dense)                (None, 6635)         5102315     Convoluted[0][0]                 \n",
            "==================================================================================================\n",
            "Total params: 51,417,134\n",
            "Trainable params: 51,417,134\n",
            "Non-trainable params: 0\n",
            "__________________________________________________________________________________________________\n"
          ],
          "name": "stdout"
        }
      ]
    },
    {
      "metadata": {
        "colab_type": "text",
        "id": "bqcRy_JWXe0u"
      },
      "cell_type": "markdown",
      "source": [
        "## Train Keras model and save weights\n",
        "This only trains and save our Keras layers not the embed module' weights."
      ]
    },
    {
      "metadata": {
        "colab_type": "code",
        "id": "_stfC_7VFhS8",
        "outputId": "c321c535-3b2a-4bfe-ed2c-7fb0f3b4cb7c",
        "colab": {
          "base_uri": "https://localhost:8080/",
          "height": 159
        }
      },
      "cell_type": "code",
      "source": [
        "use_saved_model=False\n",
        "\n",
        "print(train_label.shape)\n",
        "if not use_saved_model or not os.path.exists('./model.h5'):\n",
        "  with tf.Session() as session:\n",
        "    K.set_session(session)\n",
        "    session.run(tf.global_variables_initializer())\n",
        "    session.run(tf.tables_initializer())\n",
        "    train_labels = []\n",
        "    test_labels = []\n",
        "    for i in range(num_symbols):\n",
        "        train_labels.append(np.array(train_label[i]))\n",
        "        test_labels.append(np.array(test_label[i]))\n",
        "    history = model.fit(train_text_d, \n",
        "            train_labels,\n",
        "            #validation_data=(test_text_d, test_labels),\n",
        "            epochs=num_epochs,\n",
        "            callbacks = [EarlyStopping(patience=2)],\n",
        "            batch_size=32,\n",
        "            verbose=2)\n",
        "    model.save_weights('./model.h5')\n"
      ],
      "execution_count": 28,
      "outputs": [
        {
          "output_type": "stream",
          "text": [
            "(10, 3975, 6635)\n",
            "Epoch 1/2\n",
            " - 19s - loss: 83.9290 - Flatout0_loss: 8.0308 - Flatout1_loss: 8.5786 - Flatout2_loss: 8.2678 - Flatout3_loss: 8.5763 - Flatout4_loss: 8.2961 - Flatout5_loss: 8.5288 - Flatout6_loss: 8.2544 - Flatout7_loss: 8.5430 - Flatout8_loss: 8.2648 - Flatout9_loss: 8.5885 - Flatout0_categorical_accuracy: 0.2226 - Flatout1_categorical_accuracy: 0.0091 - Flatout2_categorical_accuracy: 0.1165 - Flatout3_categorical_accuracy: 0.0103 - Flatout4_categorical_accuracy: 0.0546 - Flatout5_categorical_accuracy: 0.0259 - Flatout6_categorical_accuracy: 0.1190 - Flatout7_categorical_accuracy: 0.0257 - Flatout8_categorical_accuracy: 0.1001 - Flatout9_categorical_accuracy: 0.0050\n",
            "Epoch 2/2\n"
          ],
          "name": "stdout"
        },
        {
          "output_type": "stream",
          "text": [
            "/usr/local/lib/python3.6/dist-packages/keras/callbacks.py:526: RuntimeWarning: Early stopping conditioned on metric `val_loss` which is not available. Available metrics are: loss,Flatout0_loss,Flatout1_loss,Flatout2_loss,Flatout3_loss,Flatout4_loss,Flatout5_loss,Flatout6_loss,Flatout7_loss,Flatout8_loss,Flatout9_loss,Flatout0_categorical_accuracy,Flatout1_categorical_accuracy,Flatout2_categorical_accuracy,Flatout3_categorical_accuracy,Flatout4_categorical_accuracy,Flatout5_categorical_accuracy,Flatout6_categorical_accuracy,Flatout7_categorical_accuracy,Flatout8_categorical_accuracy,Flatout9_categorical_accuracy\n",
            "  (self.monitor, ','.join(list(logs.keys()))), RuntimeWarning\n"
          ],
          "name": "stderr"
        },
        {
          "output_type": "stream",
          "text": [
            " - 9s - loss: 60.6846 - Flatout0_loss: 3.7953 - Flatout1_loss: 7.1661 - Flatout2_loss: 5.4188 - Flatout3_loss: 7.1444 - Flatout4_loss: 5.5014 - Flatout5_loss: 6.8688 - Flatout6_loss: 5.2603 - Flatout7_loss: 6.9558 - Flatout8_loss: 5.3482 - Flatout9_loss: 7.2254 - Flatout0_categorical_accuracy: 0.2136 - Flatout1_categorical_accuracy: 0.0171 - Flatout2_categorical_accuracy: 0.1374 - Flatout3_categorical_accuracy: 0.0138 - Flatout4_categorical_accuracy: 0.1192 - Flatout5_categorical_accuracy: 0.0357 - Flatout6_categorical_accuracy: 0.1560 - Flatout7_categorical_accuracy: 0.0317 - Flatout8_categorical_accuracy: 0.1228 - Flatout9_categorical_accuracy: 0.0078\n"
          ],
          "name": "stdout"
        }
      ]
    },
    {
      "metadata": {
        "colab_type": "code",
        "id": "UW1CiBhnXnxa",
        "outputId": "f2fe6a4e-d45f-4d11-aa32-d963465b29ca",
        "colab": {
          "base_uri": "https://localhost:8080/",
          "height": 34
        }
      },
      "cell_type": "code",
      "source": [
        "!ls -alh | grep model.h5"
      ],
      "execution_count": 29,
      "outputs": [
        {
          "output_type": "stream",
          "text": [
            "-rw-r--r-- 1 root root 197M Oct 31 16:40 model.h5\n"
          ],
          "name": "stdout"
        }
      ]
    },
    {
      "metadata": {
        "colab_type": "text",
        "id": "nQux6qLdXabG"
      },
      "cell_type": "markdown",
      "source": [
        "## Make predictions"
      ]
    },
    {
      "metadata": {
        "colab_type": "code",
        "id": "fSDxetlfUEiD",
        "colab": {
          "base_uri": "https://localhost:8080/",
          "height": 52
        },
        "outputId": "d9458507-db63-4690-d75d-ab6ede087e9d"
      },
      "cell_type": "code",
      "source": [
        "\n",
        "#new_text = np.array(new_text, dtype=object)[:, np.newaxis]\n",
        "with tf.Session() as session:\n",
        "  K.set_session(session)\n",
        "  session.run(tf.global_variables_initializer())\n",
        "  session.run(tf.tables_initializer())\n",
        "  model.load_weights('./model.h5')  \n",
        "  predicts = model.predict(test_text_d, batch_size=32)\n",
        "\n",
        "print(len(predicts))\n",
        "print(predicts[0].shape)"
      ],
      "execution_count": 31,
      "outputs": [
        {
          "output_type": "stream",
          "text": [
            "10\n",
            "(3943, 6635)\n"
          ],
          "name": "stdout"
        }
      ]
    },
    {
      "metadata": {
        "colab_type": "code",
        "id": "U9V5JOWGq4Cd",
        "outputId": "f110d191-9db0-42fb-c19b-a81cf5c52bb7",
        "colab": {
          "base_uri": "https://localhost:8080/",
          "height": 477
        }
      },
      "cell_type": "code",
      "source": [
        "first = predicts[0]\n",
        "max_d = -1000000\n",
        "min_d = 1000000\n",
        "max_i = 0\n",
        "min_i = 0\n",
        "for i in range(len(predicts) - 1):\n",
        "  v = predicts[i]\n",
        "  d = scipy.spatial.distance.cosine(v, first)\n",
        "  if max_d < d:\n",
        "    max_d = d\n",
        "    max_i = i\n",
        "  if min_d > d:\n",
        "    min_d = d\n",
        "    min_i = i\n",
        "print(\"Min and max distances: {0} and {1}\".format(min_d, max_d))\n",
        "print(test_text[max_i])\n",
        "syll_mgr.interpret2(predicts[max_i])"
      ],
      "execution_count": 32,
      "outputs": [
        {
          "output_type": "error",
          "ename": "ValueError",
          "evalue": "ignored",
          "traceback": [
            "\u001b[0;31m---------------------------------------------------------------------------\u001b[0m",
            "\u001b[0;31mValueError\u001b[0m                                Traceback (most recent call last)",
            "\u001b[0;32m<ipython-input-32-0917c57ef517>\u001b[0m in \u001b[0;36m<module>\u001b[0;34m()\u001b[0m\n\u001b[1;32m      6\u001b[0m \u001b[0;32mfor\u001b[0m \u001b[0mi\u001b[0m \u001b[0;32min\u001b[0m \u001b[0mrange\u001b[0m\u001b[0;34m(\u001b[0m\u001b[0mlen\u001b[0m\u001b[0;34m(\u001b[0m\u001b[0mpredicts\u001b[0m\u001b[0;34m)\u001b[0m \u001b[0;34m-\u001b[0m \u001b[0;36m1\u001b[0m\u001b[0;34m)\u001b[0m\u001b[0;34m:\u001b[0m\u001b[0;34m\u001b[0m\u001b[0m\n\u001b[1;32m      7\u001b[0m   \u001b[0mv\u001b[0m \u001b[0;34m=\u001b[0m \u001b[0mpredicts\u001b[0m\u001b[0;34m[\u001b[0m\u001b[0mi\u001b[0m\u001b[0;34m]\u001b[0m\u001b[0;34m\u001b[0m\u001b[0m\n\u001b[0;32m----> 8\u001b[0;31m   \u001b[0md\u001b[0m \u001b[0;34m=\u001b[0m \u001b[0mscipy\u001b[0m\u001b[0;34m.\u001b[0m\u001b[0mspatial\u001b[0m\u001b[0;34m.\u001b[0m\u001b[0mdistance\u001b[0m\u001b[0;34m.\u001b[0m\u001b[0mcosine\u001b[0m\u001b[0;34m(\u001b[0m\u001b[0mv\u001b[0m\u001b[0;34m,\u001b[0m \u001b[0mfirst\u001b[0m\u001b[0;34m)\u001b[0m\u001b[0;34m\u001b[0m\u001b[0m\n\u001b[0m\u001b[1;32m      9\u001b[0m   \u001b[0;32mif\u001b[0m \u001b[0mmax_d\u001b[0m \u001b[0;34m<\u001b[0m \u001b[0md\u001b[0m\u001b[0;34m:\u001b[0m\u001b[0;34m\u001b[0m\u001b[0m\n\u001b[1;32m     10\u001b[0m     \u001b[0mmax_d\u001b[0m \u001b[0;34m=\u001b[0m \u001b[0md\u001b[0m\u001b[0;34m\u001b[0m\u001b[0m\n",
            "\u001b[0;32m/usr/local/lib/python3.6/dist-packages/scipy/spatial/distance.py\u001b[0m in \u001b[0;36mcosine\u001b[0;34m(u, v)\u001b[0m\n\u001b[1;32m    501\u001b[0m \u001b[0;34m\u001b[0m\u001b[0m\n\u001b[1;32m    502\u001b[0m     \"\"\"\n\u001b[0;32m--> 503\u001b[0;31m     \u001b[0mu\u001b[0m \u001b[0;34m=\u001b[0m \u001b[0m_validate_vector\u001b[0m\u001b[0;34m(\u001b[0m\u001b[0mu\u001b[0m\u001b[0;34m)\u001b[0m\u001b[0;34m\u001b[0m\u001b[0m\n\u001b[0m\u001b[1;32m    504\u001b[0m     \u001b[0mv\u001b[0m \u001b[0;34m=\u001b[0m \u001b[0m_validate_vector\u001b[0m\u001b[0;34m(\u001b[0m\u001b[0mv\u001b[0m\u001b[0;34m)\u001b[0m\u001b[0;34m\u001b[0m\u001b[0m\n\u001b[1;32m    505\u001b[0m     \u001b[0mdist\u001b[0m \u001b[0;34m=\u001b[0m \u001b[0;36m1.0\u001b[0m \u001b[0;34m-\u001b[0m \u001b[0mnp\u001b[0m\u001b[0;34m.\u001b[0m\u001b[0mdot\u001b[0m\u001b[0;34m(\u001b[0m\u001b[0mu\u001b[0m\u001b[0;34m,\u001b[0m \u001b[0mv\u001b[0m\u001b[0;34m)\u001b[0m \u001b[0;34m/\u001b[0m \u001b[0;34m(\u001b[0m\u001b[0mnorm\u001b[0m\u001b[0;34m(\u001b[0m\u001b[0mu\u001b[0m\u001b[0;34m)\u001b[0m \u001b[0;34m*\u001b[0m \u001b[0mnorm\u001b[0m\u001b[0;34m(\u001b[0m\u001b[0mv\u001b[0m\u001b[0;34m)\u001b[0m\u001b[0;34m)\u001b[0m\u001b[0;34m\u001b[0m\u001b[0m\n",
            "\u001b[0;32m/usr/local/lib/python3.6/dist-packages/scipy/spatial/distance.py\u001b[0m in \u001b[0;36m_validate_vector\u001b[0;34m(u, dtype)\u001b[0m\n\u001b[1;32m    231\u001b[0m     \u001b[0mu\u001b[0m \u001b[0;34m=\u001b[0m \u001b[0mnp\u001b[0m\u001b[0;34m.\u001b[0m\u001b[0matleast_1d\u001b[0m\u001b[0;34m(\u001b[0m\u001b[0mu\u001b[0m\u001b[0;34m)\u001b[0m\u001b[0;34m\u001b[0m\u001b[0m\n\u001b[1;32m    232\u001b[0m     \u001b[0;32mif\u001b[0m \u001b[0mu\u001b[0m\u001b[0;34m.\u001b[0m\u001b[0mndim\u001b[0m \u001b[0;34m>\u001b[0m \u001b[0;36m1\u001b[0m\u001b[0;34m:\u001b[0m\u001b[0;34m\u001b[0m\u001b[0m\n\u001b[0;32m--> 233\u001b[0;31m         \u001b[0;32mraise\u001b[0m \u001b[0mValueError\u001b[0m\u001b[0;34m(\u001b[0m\u001b[0;34m\"Input vector should be 1-D.\"\u001b[0m\u001b[0;34m)\u001b[0m\u001b[0;34m\u001b[0m\u001b[0m\n\u001b[0m\u001b[1;32m    234\u001b[0m     \u001b[0;32mreturn\u001b[0m \u001b[0mu\u001b[0m\u001b[0;34m\u001b[0m\u001b[0m\n\u001b[1;32m    235\u001b[0m \u001b[0;34m\u001b[0m\u001b[0m\n",
            "\u001b[0;31mValueError\u001b[0m: Input vector should be 1-D."
          ]
        }
      ]
    },
    {
      "metadata": {
        "colab_type": "code",
        "id": "xaR0d5VPU23Z",
        "outputId": "60605fba-6cff-4471-902f-cb5e437f4b8a",
        "colab": {
          "base_uri": "https://localhost:8080/",
          "height": 6269
        }
      },
      "cell_type": "code",
      "source": [
        "for i in range(10,100):\n",
        "  print(test_text[i])\n",
        "  #syll_mgr.interpret2(predicts[i])\n",
        "  pred = []\n",
        "  for j in range(num_symbols):\n",
        "    pred.append(predicts[j][i])\n",
        "  syll_mgr.interpret2(utils.flatten(pred))\n",
        "  print('')"
      ],
      "execution_count": 34,
      "outputs": [
        {
          "output_type": "stream",
          "text": [
            "Of humble seeming: and, behind them all,\n",
            "[3, 20, 2, 5, 2, 5, 2, 5, 2, 76]\n",
            "['AE N D', 'AO L', 'DH AH', 'AH V', 'DH AH', 'AH V', 'DH AH', 'AH V', 'DH AH', 'D EY']\n",
            "\n",
            "Behind his head upon the shoulders lay,\n",
            "[3, 20, 2, 5, 2, 3, 2, 5, 2, 107]\n",
            "['AE N D', 'AO L', 'DH AH', 'AH V', 'DH AH', 'AE N D', 'DH AH', 'AH V', 'DH AH', 'N AY T']\n",
            "\n",
            "Discover countries, with a kindred heart\n",
            "[3, 20, 2, 5, 2, 5, 2, 5, 2, 76]\n",
            "['AE N D', 'AO L', 'DH AH', 'AH V', 'DH AH', 'AH V', 'DH AH', 'AH V', 'DH AH', 'D EY']\n",
            "\n",
            "Was open in his praise, and plaudits rose\n",
            "[3, 20, 2, 5, 2, 3, 2, 5, 2, 76]\n",
            "['AE N D', 'AO L', 'DH AH', 'AH V', 'DH AH', 'AE N D', 'DH AH', 'AH V', 'DH AH', 'D EY']\n",
            "\n",
            "A spear the hero bore of wondrous strength,\n",
            "[3, 20, 2, 5, 2, 3, 2, 5, 2, 76]\n",
            "['AE N D', 'AO L', 'DH AH', 'AH V', 'DH AH', 'AE N D', 'DH AH', 'AH V', 'DH AH', 'D EY']\n",
            "\n",
            "Were things indifferent to the Shepherds thoughts.\n",
            "[3, 20, 2, 5, 2, 5, 2, 5, 2, 62]\n",
            "['AE N D', 'AO L', 'DH AH', 'AH V', 'DH AH', 'AH V', 'DH AH', 'AH V', 'DH AH', 'W EY']\n",
            "\n",
            "That to the young supplies a guiding light,\n",
            "[3, 20, 2, 5, 2, 3, 2, 5, 2, 107]\n",
            "['AE N D', 'AO L', 'DH AH', 'AH V', 'DH AH', 'AE N D', 'DH AH', 'AH V', 'DH AH', 'N AY T']\n",
            "\n",
            "Of Greeks a mighty army, all in vain;\n",
            "[3, 20, 2, 5, 2, 3, 2, 5, 2, 76]\n",
            "['AE N D', 'AO L', 'DH AH', 'AH V', 'DH AH', 'AE N D', 'DH AH', 'AH V', 'DH AH', 'D EY']\n",
            "\n",
            "Into the mighty vision passing--there,\n",
            "[3, 20, 2, 5, 2, 5, 2, 5, 2, 76]\n",
            "['AE N D', 'AO L', 'DH AH', 'AH V', 'DH AH', 'AH V', 'DH AH', 'AH V', 'DH AH', 'D EY']\n",
            "\n",
            "Them in his anger, whom his anger saves\n",
            "[3, 20, 2, 5, 2, 3, 2, 5, 2, 107]\n",
            "['AE N D', 'AO L', 'DH AH', 'AH V', 'DH AH', 'AE N D', 'DH AH', 'AH V', 'DH AH', 'N AY T']\n",
            "\n",
            "And in the soul within the sense began\n",
            "[3, 20, 2, 5, 2, 3, 2, 5, 2, 76]\n",
            "['AE N D', 'AO L', 'DH AH', 'AH V', 'DH AH', 'AE N D', 'DH AH', 'AH V', 'DH AH', 'D EY']\n",
            "\n",
            "For Daphnis reigns above, and deals from thence\n",
            "[3, 20, 2, 5, 2, 3, 2, 5, 2, 76]\n",
            "['AE N D', 'AO L', 'DH AH', 'AH V', 'DH AH', 'AE N D', 'DH AH', 'AH V', 'DH AH', 'D EY']\n",
            "\n",
            "For one that looked with such a captains mien:\n",
            "[3, 20, 2, 5, 2, 3, 2, 5, 2, 107]\n",
            "['AE N D', 'AO L', 'DH AH', 'AH V', 'DH AH', 'AE N D', 'DH AH', 'AH V', 'DH AH', 'N AY T']\n",
            "\n",
            "Of thought between her fingers and her brain,\n",
            "[3, 20, 2, 5, 2, 5, 2, 5, 2, 76]\n",
            "['AE N D', 'AO L', 'DH AH', 'AH V', 'DH AH', 'AH V', 'DH AH', 'AH V', 'DH AH', 'D EY']\n",
            "\n",
            "And still the red sedan of rank appeals,\n",
            "[3, 20, 2, 5, 2, 3, 2, 5, 2, 76]\n",
            "['AE N D', 'AO L', 'DH AH', 'AH V', 'DH AH', 'AE N D', 'DH AH', 'AH V', 'DH AH', 'D EY']\n",
            "\n",
            "With this eternal silence;--more a god,\n",
            "[3, 20, 2, 7, 2, 5, 2, 5, 2, 76]\n",
            "['AE N D', 'AO L', 'DH AH', 'IH N', 'DH AH', 'AH V', 'DH AH', 'AH V', 'DH AH', 'D EY']\n",
            "\n",
            "Forgot, nutritious, grateful to the taste,\n",
            "[3, 20, 2, 5, 2, 3, 2, 5, 2, 76]\n",
            "['AE N D', 'AO L', 'DH AH', 'AH V', 'DH AH', 'AE N D', 'DH AH', 'AH V', 'DH AH', 'D EY']\n",
            "\n",
            "Of full perfection prompt his daring dream,\n",
            "[3, 20, 2, 5, 2, 3, 2, 5, 2, 107]\n",
            "['AE N D', 'AO L', 'DH AH', 'AH V', 'DH AH', 'AE N D', 'DH AH', 'AH V', 'DH AH', 'N AY T']\n",
            "\n",
            "And all the spaces of the midnight town\n",
            "[3, 20, 2, 5, 2, 3, 2, 5, 2, 107]\n",
            "['AE N D', 'AO L', 'DH AH', 'AH V', 'DH AH', 'AE N D', 'DH AH', 'AH V', 'DH AH', 'N AY T']\n",
            "\n",
            "The sandbar sings in moonlit veils of foam.\n",
            "[3, 20, 2, 5, 2, 3, 2, 5, 2, 107]\n",
            "['AE N D', 'AO L', 'DH AH', 'AH V', 'DH AH', 'AE N D', 'DH AH', 'AH V', 'DH AH', 'N AY T']\n",
            "\n",
            "And darkness settled on the outer world.\n",
            "[3, 20, 2, 5, 2, 5, 2, 5, 2, 76]\n",
            "['AE N D', 'AO L', 'DH AH', 'AH V', 'DH AH', 'AH V', 'DH AH', 'AH V', 'DH AH', 'D EY']\n",
            "\n",
            "Or castle, high embattled on the point\n",
            "[3, 20, 2, 5, 2, 3, 2, 5, 2, 76]\n",
            "['AE N D', 'AO L', 'DH AH', 'AH V', 'DH AH', 'AE N D', 'DH AH', 'AH V', 'DH AH', 'D EY']\n",
            "\n",
            "The each with All in one, sublime design?\n",
            "[3, 20, 2, 5, 2, 3, 2, 5, 2, 76]\n",
            "['AE N D', 'AO L', 'DH AH', 'AH V', 'DH AH', 'AE N D', 'DH AH', 'AH V', 'DH AH', 'D EY']\n",
            "\n",
            "The curving prow, the tall and stately mast,\n",
            "[3, 20, 2, 5, 2, 3, 2, 5, 2, 76]\n",
            "['AE N D', 'AO L', 'DH AH', 'AH V', 'DH AH', 'AE N D', 'DH AH', 'AH V', 'DH AH', 'D EY']\n",
            "\n",
            "And bids anew the martial thunder rise.\n",
            "[3, 20, 2, 5, 2, 5, 2, 5, 2, 107]\n",
            "['AE N D', 'AO L', 'DH AH', 'AH V', 'DH AH', 'AH V', 'DH AH', 'AH V', 'DH AH', 'N AY T']\n",
            "\n",
            "And hearing harlot muttered twice or thrice,\n",
            "[3, 20, 2, 5, 2, 3, 2, 5, 2, 76]\n",
            "['AE N D', 'AO L', 'DH AH', 'AH V', 'DH AH', 'AE N D', 'DH AH', 'AH V', 'DH AH', 'D EY']\n",
            "\n",
            "That evening passed with music, chat, and song,\n",
            "[3, 20, 2, 5, 2, 3, 2, 5, 2, 107]\n",
            "['AE N D', 'AO L', 'DH AH', 'AH V', 'DH AH', 'AE N D', 'DH AH', 'AH V', 'DH AH', 'N AY T']\n",
            "\n",
            "With childlike pleasure at the blooming sun;\n",
            "[3, 20, 2, 5, 2, 3, 2, 5, 2, 107]\n",
            "['AE N D', 'AO L', 'DH AH', 'AH V', 'DH AH', 'AE N D', 'DH AH', 'AH V', 'DH AH', 'N AY T']\n",
            "\n",
            "And send her back with gentle words to earth\n",
            "[3, 20, 2, 5, 2, 3, 2, 5, 2, 107]\n",
            "['AE N D', 'AO L', 'DH AH', 'AH V', 'DH AH', 'AE N D', 'DH AH', 'AH V', 'DH AH', 'N AY T']\n",
            "\n",
            "With glowing eyes and pale, unsmiling face,\n",
            "[3, 20, 2, 7, 2, 3, 2, 5, 2, 107]\n",
            "['AE N D', 'AO L', 'DH AH', 'IH N', 'DH AH', 'AE N D', 'DH AH', 'AH V', 'DH AH', 'N AY T']\n",
            "\n",
            "Its beauties first? That she will show to me\n",
            "[3, 20, 2, 5, 2, 3, 2, 5, 2, 107]\n",
            "['AE N D', 'AO L', 'DH AH', 'AH V', 'DH AH', 'AE N D', 'DH AH', 'AH V', 'DH AH', 'N AY T']\n",
            "\n",
            "A man is likewise counsel for himself,\n",
            "[3, 20, 2, 5, 2, 3, 2, 5, 2, 76]\n",
            "['AE N D', 'AO L', 'DH AH', 'AH V', 'DH AH', 'AE N D', 'DH AH', 'AH V', 'DH AH', 'D EY']\n",
            "\n",
            "And awful, mighty eyes that cowed and held\n",
            "[3, 20, 2, 5, 2, 3, 2, 5, 2, 107]\n",
            "['AE N D', 'AO L', 'DH AH', 'AH V', 'DH AH', 'AE N D', 'DH AH', 'AH V', 'DH AH', 'N AY T']\n",
            "\n",
            "Of thoughts revolved, his final sentence chose\n",
            "[3, 20, 2, 5, 2, 3, 2, 5, 2, 76]\n",
            "['AE N D', 'AO L', 'DH AH', 'AH V', 'DH AH', 'AE N D', 'DH AH', 'AH V', 'DH AH', 'D EY']\n",
            "\n",
            "His head, his shoulders, and his knees embraced;\n",
            "[3, 20, 2, 5, 2, 3, 2, 5, 2, 107]\n",
            "['AE N D', 'AO L', 'DH AH', 'AH V', 'DH AH', 'AE N D', 'DH AH', 'AH V', 'DH AH', 'N AY T']\n",
            "\n",
            "And came into the vale in little space,\n",
            "[3, 20, 2, 5, 2, 3, 2, 5, 2, 107]\n",
            "['AE N D', 'AO L', 'DH AH', 'AH V', 'DH AH', 'AE N D', 'DH AH', 'AH V', 'DH AH', 'N AY T']\n",
            "\n",
            "In forest wild, in thicket, brake, or den;\n",
            "[3, 20, 2, 5, 2, 3, 2, 5, 2, 107]\n",
            "['AE N D', 'AO L', 'DH AH', 'AH V', 'DH AH', 'AE N D', 'DH AH', 'AH V', 'DH AH', 'N AY T']\n",
            "\n",
            "In spite of changes. Look for me until\n",
            "[3, 20, 2, 5, 2, 5, 2, 5, 2, 76]\n",
            "['AE N D', 'AO L', 'DH AH', 'AH V', 'DH AH', 'AH V', 'DH AH', 'AH V', 'DH AH', 'D EY']\n",
            "\n",
            "The parchment of the future, it were vain--\n",
            "[3, 20, 2, 5, 2, 3, 2, 5, 2, 62]\n",
            "['AE N D', 'AO L', 'DH AH', 'AH V', 'DH AH', 'AE N D', 'DH AH', 'AH V', 'DH AH', 'W EY']\n",
            "\n",
            "The spirits of the Seasons seem to stand.\n",
            "[3, 20, 2, 5, 2, 3, 2, 5, 2, 76]\n",
            "['AE N D', 'AO L', 'DH AH', 'AH V', 'DH AH', 'AE N D', 'DH AH', 'AH V', 'DH AH', 'D EY']\n",
            "\n",
            "For lo! his passion, but an art of craft,\n",
            "[3, 20, 2, 5, 2, 3, 2, 5, 2, 76]\n",
            "['AE N D', 'AO L', 'DH AH', 'AH V', 'DH AH', 'AE N D', 'DH AH', 'AH V', 'DH AH', 'D EY']\n",
            "\n",
            "Is due, and not to war, intrepid still\n",
            "[3, 20, 2, 5, 2, 5, 2, 5, 2, 76]\n",
            "['AE N D', 'AO L', 'DH AH', 'AH V', 'DH AH', 'AH V', 'DH AH', 'AH V', 'DH AH', 'D EY']\n",
            "\n",
            "Or sleeping, walk a restless world of dreams.\n",
            "[3, 20, 2, 5, 2, 3, 2, 5, 2, 107]\n",
            "['AE N D', 'AO L', 'DH AH', 'AH V', 'DH AH', 'AE N D', 'DH AH', 'AH V', 'DH AH', 'N AY T']\n",
            "\n",
            "Of teaching school, a school of Czechs and Poles\n",
            "[3, 20, 2, 5, 2, 3, 2, 5, 2, 107]\n",
            "['AE N D', 'AO L', 'DH AH', 'AH V', 'DH AH', 'AE N D', 'DH AH', 'AH V', 'DH AH', 'N AY T']\n",
            "\n",
            "And drops of blood bedew the conscious lawn;\n",
            "[3, 20, 2, 5, 2, 3, 2, 5, 2, 107]\n",
            "['AE N D', 'AO L', 'DH AH', 'AH V', 'DH AH', 'AE N D', 'DH AH', 'AH V', 'DH AH', 'N AY T']\n",
            "\n",
            "From daylight till the evening, wet or fine,\n",
            "[3, 20, 2, 5, 2, 3, 2, 5, 2, 107]\n",
            "['AE N D', 'AO L', 'DH AH', 'AH V', 'DH AH', 'AE N D', 'DH AH', 'AH V', 'DH AH', 'N AY T']\n",
            "\n",
            "A doom that ever poised itself to fall,\n",
            "[3, 20, 2, 5, 2, 3, 2, 5, 2, 76]\n",
            "['AE N D', 'AO L', 'DH AH', 'AH V', 'DH AH', 'AE N D', 'DH AH', 'AH V', 'DH AH', 'D EY']\n",
            "\n",
            "Of wailing women pierce the vaulted skies.\n",
            "[3, 20, 2, 5, 2, 3, 2, 5, 2, 76]\n",
            "['AE N D', 'AO L', 'DH AH', 'AH V', 'DH AH', 'AE N D', 'DH AH', 'AH V', 'DH AH', 'D EY']\n",
            "\n",
            "To happy havens under all the sky,\n",
            "[3, 20, 2, 5, 2, 3, 2, 5, 2, 76]\n",
            "['AE N D', 'AO L', 'DH AH', 'AH V', 'DH AH', 'AE N D', 'DH AH', 'AH V', 'DH AH', 'D EY']\n",
            "\n",
            "In purple clusters hangs the vines increase,\n",
            "[3, 20, 2, 5, 2, 3, 2, 5, 2, 62]\n",
            "['AE N D', 'AO L', 'DH AH', 'AH V', 'DH AH', 'AE N D', 'DH AH', 'AH V', 'DH AH', 'W EY']\n",
            "\n",
            "A shepherd meeting thee, the oar surveys,\n",
            "[3, 20, 2, 5, 2, 3, 2, 5, 2, 107]\n",
            "['AE N D', 'AO L', 'DH AH', 'AH V', 'DH AH', 'AE N D', 'DH AH', 'AH V', 'DH AH', 'N AY T']\n",
            "\n",
            "The printed passion of the dream remains:--\n",
            "[3, 20, 2, 5, 2, 3, 2, 5, 2, 76]\n",
            "['AE N D', 'AO L', 'DH AH', 'AH V', 'DH AH', 'AE N D', 'DH AH', 'AH V', 'DH AH', 'D EY']\n",
            "\n",
            "And piecemeal shares and maims the felon round.\n",
            "[3, 20, 2, 5, 2, 3, 2, 5, 2, 107]\n",
            "['AE N D', 'AO L', 'DH AH', 'AH V', 'DH AH', 'AE N D', 'DH AH', 'AH V', 'DH AH', 'N AY T']\n",
            "\n",
            "A happy nation, and a happy king.\n",
            "[3, 20, 2, 5, 2, 3, 2, 5, 2, 107]\n",
            "['AE N D', 'AO L', 'DH AH', 'AH V', 'DH AH', 'AE N D', 'DH AH', 'AH V', 'DH AH', 'N AY T']\n",
            "\n",
            "And Miscreator, makes and helps along\n",
            "[3, 20, 2, 5, 2, 3, 2, 5, 2, 107]\n",
            "['AE N D', 'AO L', 'DH AH', 'AH V', 'DH AH', 'AE N D', 'DH AH', 'AH V', 'DH AH', 'N AY T']\n",
            "\n",
            "The dashing waters when the air is still\n",
            "[3, 20, 2, 5, 2, 5, 2, 5, 2, 76]\n",
            "['AE N D', 'AO L', 'DH AH', 'AH V', 'DH AH', 'AH V', 'DH AH', 'AH V', 'DH AH', 'D EY']\n",
            "\n",
            "And still its ice the freezing silence kept:\n",
            "[3, 20, 2, 5, 2, 5, 2, 5, 2, 107]\n",
            "['AE N D', 'AO L', 'DH AH', 'AH V', 'DH AH', 'AH V', 'DH AH', 'AH V', 'DH AH', 'N AY T']\n",
            "\n",
            "That shrink in misty mournfulness from sight,\n",
            "[3, 20, 2, 5, 2, 3, 2, 5, 2, 62]\n",
            "['AE N D', 'AO L', 'DH AH', 'AH V', 'DH AH', 'AE N D', 'DH AH', 'AH V', 'DH AH', 'W EY']\n",
            "\n",
            "And secret seeds of envy, lay behind;\n",
            "[3, 20, 2, 5, 2, 3, 2, 5, 2, 76]\n",
            "['AE N D', 'AO L', 'DH AH', 'AH V', 'DH AH', 'AE N D', 'DH AH', 'AH V', 'DH AH', 'D EY']\n",
            "\n",
            "Of trees and crack of branches, common things,\n",
            "[3, 20, 2, 5, 2, 3, 2, 5, 2, 76]\n",
            "['AE N D', 'AO L', 'DH AH', 'AH V', 'DH AH', 'AE N D', 'DH AH', 'AH V', 'DH AH', 'D EY']\n",
            "\n",
            "And pious tribute at her altars pay:\n",
            "[3, 20, 2, 5, 2, 3, 2, 5, 2, 76]\n",
            "['AE N D', 'AO L', 'DH AH', 'AH V', 'DH AH', 'AE N D', 'DH AH', 'AH V', 'DH AH', 'D EY']\n",
            "\n",
            "Courageous, and refreshed for future toil,\n",
            "[3, 20, 2, 5, 2, 3, 2, 5, 2, 76]\n",
            "['AE N D', 'AO L', 'DH AH', 'AH V', 'DH AH', 'AE N D', 'DH AH', 'AH V', 'DH AH', 'D EY']\n",
            "\n",
            "Upon the wall and windows blots of gilt.\n",
            "[3, 20, 2, 5, 2, 3, 2, 5, 2, 76]\n",
            "['AE N D', 'AO L', 'DH AH', 'AH V', 'DH AH', 'AE N D', 'DH AH', 'AH V', 'DH AH', 'D EY']\n",
            "\n",
            "And lay upon the threshold like a log.\n",
            "[3, 20, 2, 5, 2, 3, 2, 5, 2, 76]\n",
            "['AE N D', 'AO L', 'DH AH', 'AH V', 'DH AH', 'AE N D', 'DH AH', 'AH V', 'DH AH', 'D EY']\n",
            "\n",
            "In synod unbenign; and taught the fixed\n",
            "[3, 20, 2, 5, 2, 3, 2, 5, 2, 76]\n",
            "['AE N D', 'AO L', 'DH AH', 'AH V', 'DH AH', 'AE N D', 'DH AH', 'AH V', 'DH AH', 'D EY']\n",
            "\n",
            "And left him to his rest.  An end of Love.\n",
            "[3, 20, 2, 5, 2, 3, 2, 5, 2, 107]\n",
            "['AE N D', 'AO L', 'DH AH', 'AH V', 'DH AH', 'AE N D', 'DH AH', 'AH V', 'DH AH', 'N AY T']\n",
            "\n",
            "And human hearts and minds to show it by,\n",
            "[3, 20, 2, 5, 2, 3, 2, 5, 2, 107]\n",
            "['AE N D', 'AO L', 'DH AH', 'AH V', 'DH AH', 'AE N D', 'DH AH', 'AH V', 'DH AH', 'N AY T']\n",
            "\n",
            "The outward struggle and the inward strife.\n",
            "[3, 20, 2, 5, 2, 5, 2, 5, 2, 76]\n",
            "['AE N D', 'AO L', 'DH AH', 'AH V', 'DH AH', 'AH V', 'DH AH', 'AH V', 'DH AH', 'D EY']\n",
            "\n",
            "His arms and bosom, seem to melt away.\n",
            "[3, 20, 2, 5, 2, 3, 2, 5, 2, 107]\n",
            "['AE N D', 'AO L', 'DH AH', 'AH V', 'DH AH', 'AE N D', 'DH AH', 'AH V', 'DH AH', 'N AY T']\n",
            "\n",
            "And noise, and tumult rises from the crowd.\n",
            "[3, 20, 2, 5, 2, 3, 2, 5, 2, 107]\n",
            "['AE N D', 'AO L', 'DH AH', 'AH V', 'DH AH', 'AE N D', 'DH AH', 'AH V', 'DH AH', 'N AY T']\n",
            "\n",
            "Cannot devise a torment, so it be\n",
            "[3, 20, 2, 5, 2, 3, 2, 5, 2, 76]\n",
            "['AE N D', 'AO L', 'DH AH', 'AH V', 'DH AH', 'AE N D', 'DH AH', 'AH V', 'DH AH', 'D EY']\n",
            "\n",
            "The damsel put the pair without reply:\n",
            "[3, 20, 2, 5, 2, 3, 2, 5, 2, 107]\n",
            "['AE N D', 'AO L', 'DH AH', 'AH V', 'DH AH', 'AE N D', 'DH AH', 'AH V', 'DH AH', 'N AY T']\n",
            "\n",
            "Or that it hardens more and helps to bind\n",
            "[3, 20, 2, 5, 2, 5, 2, 5, 2, 76]\n",
            "['AE N D', 'AO L', 'DH AH', 'AH V', 'DH AH', 'AH V', 'DH AH', 'AH V', 'DH AH', 'D EY']\n",
            "\n",
            "And flowing waters, and the starry flame,\n",
            "[3, 20, 2, 5, 2, 3, 2, 5, 2, 107]\n",
            "['AE N D', 'AO L', 'DH AH', 'AH V', 'DH AH', 'AE N D', 'DH AH', 'AH V', 'DH AH', 'N AY T']\n",
            "\n",
            "The spoil or spoiler? this behold in me;\n",
            "[3, 20, 2, 5, 2, 3, 2, 5, 2, 76]\n",
            "['AE N D', 'AO L', 'DH AH', 'AH V', 'DH AH', 'AE N D', 'DH AH', 'AH V', 'DH AH', 'D EY']\n",
            "\n",
            "And rode with them, and spake to none; the day\n",
            "[3, 20, 2, 5, 2, 3, 2, 5, 2, 76]\n",
            "['AE N D', 'AO L', 'DH AH', 'AH V', 'DH AH', 'AE N D', 'DH AH', 'AH V', 'DH AH', 'D EY']\n",
            "\n",
            "Of finest metal was her armour bright,\n",
            "[3, 20, 2, 5, 2, 3, 2, 5, 2, 107]\n",
            "['AE N D', 'AO L', 'DH AH', 'AH V', 'DH AH', 'AE N D', 'DH AH', 'AH V', 'DH AH', 'N AY T']\n",
            "\n",
            "The doleful city all around invest,\n",
            "[3, 20, 2, 5, 2, 3, 2, 5, 2, 76]\n",
            "['AE N D', 'AO L', 'DH AH', 'AH V', 'DH AH', 'AE N D', 'DH AH', 'AH V', 'DH AH', 'D EY']\n",
            "\n",
            "Of crowded cities, was from passing tale\n",
            "[3, 20, 2, 5, 2, 5, 2, 5, 2, 76]\n",
            "['AE N D', 'AO L', 'DH AH', 'AH V', 'DH AH', 'AH V', 'DH AH', 'AH V', 'DH AH', 'D EY']\n",
            "\n",
            "An Arab fearless as the face of Truth\n",
            "[3, 20, 2, 5, 2, 3, 2, 5, 2, 76]\n",
            "['AE N D', 'AO L', 'DH AH', 'AH V', 'DH AH', 'AE N D', 'DH AH', 'AH V', 'DH AH', 'D EY']\n",
            "\n",
            "It lightened toil, and took the edge from pain,\n",
            "[3, 20, 2, 5, 2, 3, 2, 5, 2, 76]\n",
            "['AE N D', 'AO L', 'DH AH', 'AH V', 'DH AH', 'AE N D', 'DH AH', 'AH V', 'DH AH', 'D EY']\n",
            "\n",
            "That brought with it another civil war.\n",
            "[3, 20, 2, 5, 2, 5, 2, 5, 2, 76]\n",
            "['AE N D', 'AO L', 'DH AH', 'AH V', 'DH AH', 'AH V', 'DH AH', 'AH V', 'DH AH', 'D EY']\n",
            "\n",
            "Apart from all, in pride of conscious strength,\n",
            "[3, 20, 2, 5, 2, 5, 2, 5, 2, 76]\n",
            "['AE N D', 'AO L', 'DH AH', 'AH V', 'DH AH', 'AH V', 'DH AH', 'AH V', 'DH AH', 'D EY']\n",
            "\n",
            "And far and near throughout the land the men\n",
            "[3, 20, 2, 5, 2, 3, 2, 5, 2, 107]\n",
            "['AE N D', 'AO L', 'DH AH', 'AH V', 'DH AH', 'AE N D', 'DH AH', 'AH V', 'DH AH', 'N AY T']\n",
            "\n",
            "Remembered--I. And, oh! a little while\n",
            "[3, 20, 2, 7, 2, 3, 2, 5, 2, 107]\n",
            "['AE N D', 'AO L', 'DH AH', 'IH N', 'DH AH', 'AE N D', 'DH AH', 'AH V', 'DH AH', 'N AY T']\n",
            "\n",
            "And clip his borders short, and drive his herds,\n",
            "[3, 20, 2, 5, 2, 3, 2, 5, 2, 107]\n",
            "['AE N D', 'AO L', 'DH AH', 'AH V', 'DH AH', 'AE N D', 'DH AH', 'AH V', 'DH AH', 'N AY T']\n",
            "\n",
            "And suffer me in anguish to depart\n",
            "[3, 20, 2, 5, 2, 3, 2, 5, 2, 76]\n",
            "['AE N D', 'AO L', 'DH AH', 'AH V', 'DH AH', 'AE N D', 'DH AH', 'AH V', 'DH AH', 'D EY']\n",
            "\n",
            "The king from sovereign peril saved his head,\n",
            "[3, 20, 2, 5, 2, 3, 2, 5, 2, 107]\n",
            "['AE N D', 'AO L', 'DH AH', 'AH V', 'DH AH', 'AE N D', 'DH AH', 'AH V', 'DH AH', 'N AY T']\n",
            "\n",
            "The point is turned; the twilight shadow fills\n",
            "[3, 20, 2, 5, 2, 3, 2, 5, 2, 107]\n",
            "['AE N D', 'AO L', 'DH AH', 'AH V', 'DH AH', 'AE N D', 'DH AH', 'AH V', 'DH AH', 'N AY T']\n",
            "\n",
            "Arriving all confused among the rest\n",
            "[3, 20, 2, 5, 2, 3, 2, 5, 2, 76]\n",
            "['AE N D', 'AO L', 'DH AH', 'AH V', 'DH AH', 'AE N D', 'DH AH', 'AH V', 'DH AH', 'D EY']\n",
            "\n"
          ],
          "name": "stdout"
        }
      ]
    },
    {
      "metadata": {
        "colab_type": "code",
        "id": "yyDGVtigW57f",
        "colab": {}
      },
      "cell_type": "code",
      "source": [
        "categories = df_train.label.cat.categories.tolist()\n",
        "predict_logits = predicts.argmax(axis=1)\n",
        "print(\"Categorie: {0}\".format(categories))\n",
        "predict_labels = [categories[logit] for logit in predict_logits]\n",
        "predict_labels"
      ],
      "execution_count": 0,
      "outputs": []
    },
    {
      "metadata": {
        "colab_type": "code",
        "id": "hYhmukbSKpnp",
        "colab": {}
      },
      "cell_type": "code",
      "source": [
        "\n",
        "os.remove('./model.h5')"
      ],
      "execution_count": 0,
      "outputs": []
    }
  ]
}